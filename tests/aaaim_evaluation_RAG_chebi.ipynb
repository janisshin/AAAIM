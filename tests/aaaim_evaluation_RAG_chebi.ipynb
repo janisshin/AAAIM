{
 "cells": [
  {
   "cell_type": "markdown",
   "metadata": {},
   "source": [
    "# AAAIM Evaluation Test\n",
    "\n",
    "This notebook tests both single model evaluation and batch evaluation of multiple models."
   ]
  },
  {
   "cell_type": "code",
   "execution_count": 1,
   "metadata": {},
   "outputs": [
    {
     "data": {
      "text/html": [
       "<script type=\"text/javascript\" id=\"colomoto-setup-2528537\" class=\"to-be-removed\">\n",
       "        if (typeof Jupyter != 'undefined') {\n",
       "            \n",
       "function detect_import(cell, module) {\n",
       "    var code = cell.get_text();\n",
       "    code = code.replace(/\\\\\\n/g, \"\");\n",
       "    var lines = code.split(\"\\n\");\n",
       "    var r_simple = new RegExp(\"^(\"+module+\")$\");\n",
       "    var r_alias = new RegExp(\"^\"+module+\"\\\\s+as\\\\s+(\\\\w+)$\");\n",
       "    for (var i = 0; i < lines.length; ++i) {\n",
       "        if (/^import\\s/.test(lines[i])) {\n",
       "            code = lines[i].substr(7);\n",
       "            var parts = code.split(\",\")\n",
       "            for (var j = 0; j < parts.length; ++j) {\n",
       "                code = parts[j].trim();\n",
       "                var m = code.match(r_simple);\n",
       "                if (!m) {\n",
       "                    m = code.match(r_alias);\n",
       "                }\n",
       "                if (m) {\n",
       "                    return m[1];\n",
       "                }\n",
       "            }\n",
       "        }\n",
       "    }\n",
       "    return module;\n",
       "}\n",
       "\n",
       "function colomoto_replace_call(cell, orig, dest, args, comment=false) {\n",
       "    var call_regexp = new RegExp(\"\\\\.\"+orig.replace(\".\",\"\\\\.\")+\"\\\\(\");\n",
       "    var call_replacer = new RegExp(\"\\\\.\"+orig.replace(\".\",\"\\\\.\")\n",
       "                    + \"\\\\(\\\\s*([^\\\\)]*)?\\\\)\");\n",
       "    var code = cell.get_text();\n",
       "    var lines = code.split(\"\\n\");\n",
       "    if (args) {\n",
       "        var strargs = \", \"+args.join(\", \");\n",
       "    } else {\n",
       "        var strargs = \"\";\n",
       "    }\n",
       "    for (var i = 0; i < lines.length; ++i) {\n",
       "        if (call_regexp.test(lines[i])) {\n",
       "            var code = \"\"\n",
       "            if (comment) {\n",
       "                code += \"#\"+lines[i]+\"\\n\";\n",
       "            }\n",
       "            code += lines[i].replace(call_replacer, \".\"+dest+\"($1\"+strargs+\")\")\n",
       "            lines[i] = code;\n",
       "        }\n",
       "    }\n",
       "    cell.set_text(code)\n",
       "}\n",
       "\n",
       "function colomoto_upload(Jupyter, ssid, input, py_callback_name, orig, dest) {\n",
       "\n",
       "    function callback(out_data) {\n",
       "        var cell_element = $(\"#\"+ssid).parents('.cell');\n",
       "        var cell_idx = Jupyter.notebook.get_cell_elements().index(cell_element);\n",
       "        var cell = Jupyter.notebook.get_cell(cell_idx);\n",
       "\n",
       "        var filename = out_data.content.text;\n",
       "\n",
       "        var code = cell.get_text();\n",
       "        code = code.replace(new RegExp(\"\\\\b\" + orig.replace('.', '\\\\.')\n",
       "                    + \"\\\\(\\\\s*((\\\\w+)=[^\\\\)]*)?\\\\)\"),\n",
       "                dest+\"(\\\"\"+filename+\"\\\",$1)\");\n",
       "        code = code.replace('\",)', '\")')\n",
       "        cell.set_text(code);\n",
       "\n",
       "        Jupyter.notebook.select(cell_idx);\n",
       "        Jupyter.notebook.execute_cell_and_select_below();\n",
       "    }\n",
       "\n",
       "    if (! (window.File && window.FileReader && window.FileList && window.Blob)) {\n",
       "        alert(\"Interactive file upload is not supported by your browser.\");\n",
       "        return;\n",
       "    }\n",
       "\n",
       "    input.disabled = true;\n",
       "    input.style.cursor = \"wait\";\n",
       "    input.parentElement.style.cursor = \"wait\";\n",
       "\n",
       "    var f = input.files[0];\n",
       "    var reader = new FileReader();\n",
       "    reader.onload = (function(f) {\n",
       "        return function (e) {\n",
       "            var obj = {\n",
       "                content: e.target.result,\n",
       "                name: f.name\n",
       "            };\n",
       "\n",
       "            //var pycb = py_callback_name+\"(\"+JSON.stringify(obj)+\")\"\n",
       "            // hack/workaround:\n",
       "            // it seems that Jupyter does not like very long lines\n",
       "            // so we split the data in chunks\n",
       "            var chunk_length = 100;\n",
       "            var pycb = \"__colomoto_upload_name = \" + JSON.stringify(obj.name) + \"\\n\";\n",
       "            pycb += \"__colomoto_upload_content = \\\\\\n\";\n",
       "            for (var i = 0; i < obj.content.length; i += chunk_length) {\n",
       "                pycb += \"\\\"\" + obj.content.substr(i, chunk_length)+\"\\\"\\\\\\n\"\n",
       "            }\n",
       "            pycb += \"\\n\"\n",
       "            pycb += py_callback_name+\"({'name':__colomoto_upload_name, 'content': __colomoto_upload_content})\\n\";\n",
       "            pycb += \"del __colomoto_upload_name, __colomoto_upload_content\"\n",
       "\n",
       "            IPython.notebook.kernel.execute(pycb, {iopub: {output: callback}});\n",
       "        };\n",
       "    })(f);\n",
       "    reader.readAsDataURL(f);\n",
       "}\n",
       "\n",
       "function resolve_function(tool_api, funcname) {\n",
       "    if (tool_api.hasOwnProperty(funcname)) {\n",
       "        return tool_api[funcname];\n",
       "    } else {\n",
       "        return window[funcname];\n",
       "    }\n",
       "}\n",
       "\n",
       "function colomoto_extension(Jupyter, ssid, name, menu, toolbar, tool_api) {\n",
       "\n",
       "    function insert_snippet_code(snippet) {\n",
       "        var cell = Jupyter.notebook.get_selected_cell();\n",
       "        Jupyter.notebook.edit_mode();\n",
       "        cell.code_mirror.replaceSelection(snippet, 'around');\n",
       "        //cell.focus_editor();\n",
       "    }\n",
       "\n",
       "    /**\n",
       "        from https://github.com/moble/jupyter_boilerplate/blob/master/main.js\n",
       "    */\n",
       "    function callback_insert_snippet (evt) {\n",
       "        // this (or event.currentTarget, see below) always refers to the DOM\n",
       "        // element the listener was attached to - see\n",
       "        // http://stackoverflow.com/questions/12077859\n",
       "        insert_snippet_code($(evt.currentTarget).data('snippet-code'));\n",
       "    }\n",
       "    function build_menu_element (menu_item_spec, direction) {\n",
       "        // Create the menu item html element\n",
       "        var element = $('<li/>');\n",
       "\n",
       "        if (typeof menu_item_spec == 'string') {\n",
       "            if (menu_item_spec != '---') {\n",
       "                return element.html(menu_item_spec)\n",
       "                        .addClass('ui-state-disabled')\n",
       "                        .attr({\"style\": \"padding:2px .4em\"})\n",
       "                       ;\n",
       "            }\n",
       "            return element.addClass('divider');\n",
       "        }\n",
       "\n",
       "        var a = $('<a/>')\n",
       "            .attr('href', '#')\n",
       "            .html(menu_item_spec.name)\n",
       "            .appendTo(element);\n",
       "        if (menu_item_spec.hasOwnProperty('snippet')) {\n",
       "            var snippet = menu_item_spec.snippet;\n",
       "            if (typeof snippet == 'string' || snippet instanceof String) {\n",
       "                snippet = [snippet];\n",
       "            }\n",
       "            a.attr({\n",
       "                'title' : \"\", // Do not remove this, even though it's empty!\n",
       "                'data-snippet-code' : snippet.join('\\n'),\n",
       "            })\n",
       "            .on('click', callback_insert_snippet)\n",
       "            .addClass('snippet');\n",
       "        }\n",
       "        else if (menu_item_spec.hasOwnProperty('internal-link')) {\n",
       "            a.attr('href', menu_item_spec['internal-link']);\n",
       "        }\n",
       "        else if (menu_item_spec.hasOwnProperty('external-link')) {\n",
       "            a.empty();\n",
       "            a.attr('href', menu_item_spec['external-link']);\n",
       "            a.attr({\n",
       "                'target' : '_blank',\n",
       "                'title' : 'Opens in a new window',\n",
       "            });\n",
       "            $('<i class=\"fa fa-external-link menu-icon pull-right\"/>').appendTo(a);\n",
       "            $('<span/>').html(menu_item_spec.name).appendTo(a);\n",
       "        }\n",
       "\n",
       "        if (menu_item_spec.hasOwnProperty('sub-menu')) {\n",
       "            element\n",
       "                .addClass('dropdown-submenu')\n",
       "                .toggleClass('dropdown-submenu-left', direction === 'left');\n",
       "            var sub_element = $('<ul class=\"dropdown-menu\"/>')\n",
       "                .toggleClass('dropdown-menu-compact', menu_item_spec.overlay === true) // For space-saving menus\n",
       "                .appendTo(element);\n",
       "\n",
       "            var new_direction = (menu_item_spec['sub-menu-direction'] === 'left') ? 'left' : 'right';\n",
       "            for (var j=0; j<menu_item_spec['sub-menu'].length; ++j) {\n",
       "                var sub_menu_item_spec = build_menu_element(menu_item_spec['sub-menu'][j], new_direction);\n",
       "                if(sub_menu_item_spec !== null) {\n",
       "                    sub_menu_item_spec.appendTo(sub_element);\n",
       "                }\n",
       "            }\n",
       "        }\n",
       "\n",
       "        return element;\n",
       "    }\n",
       "\n",
       "    function menu_setup (menu_item_specs, sibling, insert_before_sibling) {\n",
       "        for (var i=0; i<menu_item_specs.length; ++i) {\n",
       "            var menu_item_spec;\n",
       "            if (insert_before_sibling) {\n",
       "                menu_item_spec = menu_item_specs[i];\n",
       "            } else {\n",
       "                menu_item_spec = menu_item_specs[menu_item_specs.length-1-i];\n",
       "            }\n",
       "            var direction = (menu_item_spec['menu-direction'] == 'left') ? 'left' : 'right';\n",
       "            var menu_element = build_menu_element(menu_item_spec, direction);\n",
       "            // We need special properties if this item is in the navbar\n",
       "            if ($(sibling).parent().is('ul.nav.navbar-nav')) {\n",
       "                menu_element\n",
       "                    .addClass('dropdown')\n",
       "                    .removeClass('dropdown-submenu dropdown-submenu-left');\n",
       "                menu_element.children('a')\n",
       "                    .addClass('dropdown-toggle')\n",
       "                    .attr({\n",
       "                        'id': name+'_menu',\n",
       "                        'data-toggle' : 'dropdown',\n",
       "                        'aria-expanded' : 'false'\n",
       "                    });\n",
       "            }\n",
       "\n",
       "            // Insert the menu element into DOM\n",
       "            menu_element[insert_before_sibling ? 'insertBefore': 'insertAfter'](sibling);\n",
       "        }\n",
       "    }\n",
       "    /** end from */\n",
       "\n",
       "\n",
       "    function self_cleanup() {\n",
       "        var cell_element = $(\"script[class='to-be-removed']\").parents('.cell');\n",
       "        var cell_idx = Jupyter.notebook.get_cell_elements().index(cell_element);\n",
       "        var cell = Jupyter.notebook.get_cell(cell_idx);\n",
       "        var to_remove = -1;\n",
       "        for (var i = 0; i < cell.output_area.outputs.length; ++i) {\n",
       "            var oa = cell.output_area.outputs[i];\n",
       "            if (oa.output_type == \"display_data\"\n",
       "                && typeof oa.data[\"text/html\"] != 'undefined'\n",
       "                && oa.data[\"text/html\"].indexOf(' class=\"to-be-removed\"') >= 0) {\n",
       "                to_remove = i;\n",
       "                break;\n",
       "            }\n",
       "        }\n",
       "        if (to_remove == -1) {\n",
       "            console.log(\"cannot find toberemoved\");\n",
       "        } else {\n",
       "            cell.output_area.outputs.splice(to_remove, 1);\n",
       "        }\n",
       "    }\n",
       "\n",
       "    function toolbar_setup(actions) {\n",
       "        var buttons = [];\n",
       "        for (var i = 0; i < actions.length; ++i) {\n",
       "            var setup = actions[i].setup;\n",
       "            if (typeof setup.handler == 'string') {\n",
       "                setup.handler = resolve_function(tool_api, setup.handler);\n",
       "            }\n",
       "            buttons.push(Jupyter.actions.register(actions[i].setup,\n",
       "                actions[i].name, name));\n",
       "        }\n",
       "        $(\"#\"+name+\"-toolbar\").remove();\n",
       "        Jupyter.toolbar.add_buttons_group(buttons, name+\"-toolbar\");\n",
       "    }\n",
       "\n",
       "    function replace_menu_snippets(menu_spec, orig, dest) {\n",
       "        if (menu_spec.hasOwnProperty(\"snippet\")) {\n",
       "            var snippet = menu_spec.snippet;\n",
       "            if (typeof snippet == \"string\" || snippet instanceof String) {\n",
       "                menu_spec[\"snippet\"] = snippet.replace(orig, dest);\n",
       "            } else {\n",
       "                for (var i = 0; i < snippet.length; ++i) {\n",
       "                    menu_spec[\"snippet\"][i] = snippet[i].replace(orig, dest);\n",
       "                }\n",
       "            }\n",
       "        }\n",
       "        if (menu_spec.hasOwnProperty(\"sub-menu\")) {\n",
       "            for (var i = 0; i < menu_spec[\"sub-menu\"].length; ++i) {\n",
       "                replace_menu_snippets(menu_spec[\"sub-menu\"][i], orig, dest);\n",
       "            }\n",
       "        }\n",
       "    }\n",
       "\n",
       "    function load_ipython_extension() {\n",
       "\n",
       "        var mycellelt = $(\"#\"+ssid).parents('.cell');\n",
       "        var myidx = Jupyter.notebook.get_cell_elements().index(mycellelt);\n",
       "        var import_cell = Jupyter.notebook.get_cell(myidx);\n",
       "\n",
       "        var alias = detect_import(import_cell, name);\n",
       "        tool_api.module_alias = alias;\n",
       "        if (alias && alias != name) {\n",
       "            var orig = new RegExp(\"\\\\b\"+name+\"\\\\b\", \"g\");\n",
       "            replace_menu_snippets(menu, orig, alias);\n",
       "        }\n",
       "\n",
       "        if (toolbar) {\n",
       "            toolbar_setup(toolbar);\n",
       "        }\n",
       "\n",
       "        $(\"#\"+name+\"_menu\").parent().remove();\n",
       "        if (menu) {\n",
       "            menu_setup([menu], $(\"#help_menu\").parent(), true);\n",
       "        }\n",
       "\n",
       "        if (tool_api.hasOwnProperty(\"post_install_callback\")) {\n",
       "            tool_api.post_install_callback();\n",
       "        }\n",
       "\n",
       "        setTimeout(self_cleanup, 5000);\n",
       "    };\n",
       "\n",
       "    load_ipython_extension();\n",
       "}\n",
       "\n",
       "function resolve_toolbar_handlers(tool_api, toolbar_spec) {\n",
       "    for (var i = 0; i < toolbar_spec.length; ++i) {\n",
       "        func = resolve_function(tool_api, toolbar_spec[i][\"setup\"][\"handler\"]);\n",
       "        toolbar_spec[i][\"setup\"][\"handler\"] = func;\n",
       "    }\n",
       "    return toolbar_spec\n",
       "}\n",
       "\n",
       "\n",
       "    var biolqm_jsapi = { action_upload_model: function() {\n",
       "        var cell = Jupyter.notebook.get_selected_cell();\n",
       "        cell.set_text('lqm = '+biolqm_jsapi.module_alias+'.upload()');\n",
       "        cell.focus_editor();\n",
       "    } };\n",
       "    colomoto_extension(Jupyter, \"colomoto-setup-2528537\", \"biolqm\", {\"name\": \"bioLQM\", \"sub-menu\": [{\"name\": \"Upload model\", \"snippet\": [\"lqm = biolqm.upload()\"]}, {\"name\": \"Load model\", \"snippet\": [\"lqm = biolqm.load(\\\"model.sbml\\\")\"]}, \"---\", {\"name\": \"Export to file\", \"sub-menu\": [{\"name\": \"SBML-qual v1.0 (.sbml)\", \"snippet\": [\"biolqm.save(lqm, \\\"mymodel.sbml\\\", \\\"sbml\\\")\"]}, \"Functions formats\", {\"name\": \"BoolNet (.bnet)\", \"snippet\": [\"biolqm.save(lqm, \\\"mymodel.bnet\\\", \\\"bnet\\\")\"]}, {\"name\": \"BooleanNet (.booleannet)\", \"snippet\": [\"biolqm.save(lqm, \\\"mymodel.booleannet\\\", \\\"booleannet\\\")\"]}, {\"name\": \"BoolSim (.boolsim)\", \"snippet\": [\"biolqm.save(lqm, \\\"mymodel.boolsim\\\", \\\"boolsim\\\")\"]}, {\"name\": \"Raw Boolean functions (.boolfunctions)\", \"snippet\": [\"biolqm.save(lqm, \\\"mymodel.boolfunctions\\\", \\\"boolfunctions\\\")\"]}, {\"name\": \"Truth table (.tt)\", \"snippet\": [\"biolqm.save(lqm, \\\"mymodel.tt\\\", \\\"tt\\\")\"]}, \"Petri net formats\", {\"name\": \"APNN (.apnn)\", \"snippet\": [\"biolqm.save(lqm, \\\"mymodel.apnn\\\", \\\"apnn\\\")\"]}, {\"name\": \"INA (.ina)\", \"snippet\": [\"biolqm.save(lqm, \\\"mymodel.ina\\\", \\\"ina\\\")\"]}, {\"name\": \"PNML (.pnml)\", \"snippet\": [\"biolqm.save(lqm, \\\"mymodel.pnml\\\", \\\"pnml\\\")\"]}, \"Dedicated formats\", {\"name\": \"GINML (.ginml)\", \"snippet\": [\"biolqm.save(lqm, \\\"mymodel.ginml\\\", \\\"ginml\\\")\"]}, {\"name\": \"GNA non-xml (.gna)\", \"snippet\": [\"biolqm.save(lqm, \\\"mymodel.gna\\\", \\\"gna\\\")\"]}, {\"name\": \"MaBoSS (.bnd)\", \"snippet\": [\"biolqm.save(lqm, \\\"mymodel.bnd\\\", \\\"bnd\\\")\"]}, {\"name\": \"Pint (.an)\", \"snippet\": [\"biolqm.save(lqm, \\\"mymodel.an\\\", \\\"an\\\")\"]}]}, {\"name\": \"Convert to tool\", \"sub-menu\": [{\"name\": \"GINsim\", \"snippet\": [\"lrg = biolqm.to_ginsim(lqm)\"]}, {\"name\": \"MaBoSS\", \"snippet\": [\"masim = biolqm.to_maboss(lqm)\"]}, {\"name\": \"Pint\", \"snippet\": [\"an = biolqm.to_pint(lqm)\"]}]}, \"---\", {\"name\": \"Compute fixpoints\", \"snippet\": [\"fps = biolqm.fixpoints(lqm)\"]}, {\"name\": \"Compute trap spaces\", \"snippet\": [\"traps = biolqm.trapspace(lqm)\"]}, \"---\", {\"name\": \"Model modifications\", \"sub-menu\": [{\"name\": \"Perturbation\", \"snippet\": [\"lqm_mod = biolqm.perturbation(lqm, \\\"node%0\\\")\"]}, {\"name\": \"Booleanization\", \"snippet\": [\"lqm_bool = biolqm.booleanize(lqm)\"]}, {\"name\": \"Reduction\", \"snippet\": [\"lqm_red = biolqm.reduce(lqm, \\\"fixed,output,duplicate\\\")\"]}, {\"name\": \"Reversal\", \"snippet\": [\"lqm_rev = biolqm.reverse(lqm)\"]}, {\"name\": \"Sanitize\", \"snippet\": [\"lqm_san = biolqm.sanitize(lqm)\"]}]}, \"---\", {\"name\": \"Documentation\", \"external-link\": \"http://ginsim.naldi.info/biolqm/site/doc/index.html\"}]}, [{\"name\": \"upload\", \"setup\": {\"icon\": \"fa-upload\", \"help\": \"Upload model\", \"handler\": \"action_upload_model\"}}], biolqm_jsapi);\n",
       "     }</script><style type=\"text/css\">\n",
       "    #biolqm_menu {\n",
       "        color: #00007f;\n",
       "        background-color: white;\n",
       "    }\n",
       "    \n",
       "    div#biolqm-toolbar:before {\n",
       "        content: \"bioLQM\";\n",
       "        float: left;\n",
       "        margin-left: 1em;\n",
       "        margin-right: 1em;\n",
       "        margin-top: 0.2em;\n",
       "    }\n",
       "    div#biolqm-toolbar,\n",
       "    div#biolqm-toolbar button {\n",
       "        color: #00007f;\n",
       "    }\n",
       "    </style>"
      ],
      "text/plain": [
       "<IPython.core.display.HTML object>"
      ]
     },
     "metadata": {},
     "output_type": "display_data"
    },
    {
     "data": {
      "text/html": [
       "<script type=\"text/javascript\" id=\"colomoto-setup-5757060\" class=\"to-be-removed\">\n",
       "        if (typeof Jupyter != 'undefined') {\n",
       "            \n",
       "    var ginsim_jsapi = { action_upload_model: function() {\n",
       "        var cell = Jupyter.notebook.get_selected_cell();\n",
       "        cell.set_text('lrg = '+ginsim_jsapi.module_alias+'.upload()');\n",
       "        cell.focus_editor();\n",
       "    } };\n",
       "    colomoto_extension(Jupyter, \"colomoto-setup-5757060\", \"ginsim\", {\"name\": \"GINsim\", \"sub-menu\": [{\"name\": \"Upload model\", \"snippet\": [\"lrg = ginsim.upload()\"]}, {\"name\": \"Load model\", \"snippet\": [\"lrg = ginsim.load(\\\"model.zginml\\\")\"]}, \"---\", {\"name\": \"Export to file\", \"sub-menu\": [{\"name\": \"MaBoSS (.bnd, .cfg)\", \"snippet\": [\"ginsim.service(\\\"maboss\\\").export(lrg, \\\"mymodel.bnd\\\")\"]}]}, {\"name\": \"Convert to tool\", \"sub-menu\": [{\"name\": \"bioLQM\", \"snippet\": [\"lqm = ginsim.to_biolqm(lrg)\"]}, {\"name\": \"MaBoSS\", \"snippet\": [\"masim = ginsim.to_maboss(lrg)\"]}, {\"name\": \"NuSMV\", \"snippet\": [\"smv = ginsim.to_nusmv(lrg)\"]}, {\"name\": \"Pint\", \"snippet\": [\"an = ginsim.to_pint(lrg)\"]}]}, \"---\", {\"name\": \" Display regulatory graph\", \"snippet\": [\"ginsim.show(lrg)\"]}]}, [{\"name\": \"upload\", \"setup\": {\"icon\": \"fa-upload\", \"help\": \"Upload model\", \"handler\": \"action_upload_model\"}}], ginsim_jsapi);\n",
       "     }</script><style type=\"text/css\">\n",
       "    #ginsim_menu {\n",
       "        color: blue;\n",
       "        background-color: white;\n",
       "    }\n",
       "    \n",
       "    div#ginsim-toolbar:before {\n",
       "        content: \"GINsim\";\n",
       "        float: left;\n",
       "        margin-left: 1em;\n",
       "        margin-right: 1em;\n",
       "        margin-top: 0.2em;\n",
       "    }\n",
       "    div#ginsim-toolbar,\n",
       "    div#ginsim-toolbar button {\n",
       "        color: blue;\n",
       "    }\n",
       "    </style>"
      ],
      "text/plain": [
       "<IPython.core.display.HTML object>"
      ]
     },
     "metadata": {},
     "output_type": "display_data"
    }
   ],
   "source": [
    "import os\n",
    "import sys\n",
    "import pandas as pd\n",
    "import numpy as np\n",
    "from pathlib import Path\n",
    "import logging\n",
    "\n",
    "# Add the project root to the Python path\n",
    "project_root = Path().absolute().parent\n",
    "sys.path.insert(0, str(project_root))\n",
    "\n",
    "# Import AAAIM functions\n",
    "from core import annotate_model, curate_model\n",
    "from core.database_search import force_clear_chromadb, get_species_recommendations_rag\n",
    "from utils.evaluation import (\n",
    "    evaluate_single_model,\n",
    "    evaluate_models_in_folder,\n",
    "    print_evaluation_results,\n",
    "    compare_results,\n",
    "    process_saved_llm_responses\n",
    ")\n",
    "\n",
    "# Configure logging\n",
    "logging.basicConfig(level=logging.INFO, format='%(asctime)s - %(levelname)s - %(message)s')\n",
    "logger = logging.getLogger(__name__)\n",
    "\n",
    "# LLM configuration\n",
    "llm_model = \"Llama-3.3-70B-Instruct\"\n",
    "# llm_model = \"meta-llama/llama-3.3-70b-instruct:free\"\n",
    "# llm_model = \"meta-llama/llama-3.3-70b-instruct\"\n",
    "# llm_model = \"gpt-4.1-nano\"\n",
    "\n",
    "# Evaluation parameters\n",
    "max_entities_per_model = 10  # Limit entities per model for testing\n",
    "num_models_to_test = 5  # Number of models to test in batch evaluation\n",
    "\n",
    "# Entity and database configuration\n",
    "entity_type = \"chemical\"\n",
    "database = \"chebi\"\n",
    "\n",
    "output_dir = \"./results/\"  # Output directory for results"
   ]
  },
  {
   "cell_type": "markdown",
   "metadata": {},
   "source": [
    "### Test function"
   ]
  },
  {
   "cell_type": "code",
   "execution_count": 2,
   "metadata": {},
   "outputs": [
    {
     "name": "stdout",
     "output_type": "stream",
     "text": [
      "Testing RAG-based entity linking...\n",
      "==================================================\n",
      "INFO Anonymized telemetry enabled. See                     https://docs.trychroma.com/telemetry for more information.\n",
      "INFO Using sentence transformer all-MiniLM-L6-v2 model\n",
      "INFO Load pretrained SentenceTransformer: all-MiniLM-L6-v2\n",
      "INFO Using RAG embeddings from collection 'chebi_default_numonly' with default model\n"
     ]
    },
    {
     "data": {
      "application/vnd.jupyter.widget-view+json": {
       "model_id": "6be4d189215943afbfe09c392a8b2702",
       "version_major": 2,
       "version_minor": 0
      },
      "text/plain": [
       "Batches:   0%|          | 0/1 [00:00<?, ?it/s]"
      ]
     },
     "metadata": {},
     "output_type": "display_data"
    },
    {
     "data": {
      "application/vnd.jupyter.widget-view+json": {
       "model_id": "6eddd88c5006410cbb4ff536d95ea8bb",
       "version_major": 2,
       "version_minor": 0
      },
      "text/plain": [
       "Batches:   0%|          | 0/1 [00:00<?, ?it/s]"
      ]
     },
     "metadata": {},
     "output_type": "display_data"
    },
    {
     "data": {
      "application/vnd.jupyter.widget-view+json": {
       "model_id": "823296860bac4201941d73791d5a495a",
       "version_major": 2,
       "version_minor": 0
      },
      "text/plain": [
       "Batches:   0%|          | 0/1 [00:00<?, ?it/s]"
      ]
     },
     "metadata": {},
     "output_type": "display_data"
    },
    {
     "data": {
      "application/vnd.jupyter.widget-view+json": {
       "model_id": "ecdef24b38df46fb927c31fb34c9b29b",
       "version_major": 2,
       "version_minor": 0
      },
      "text/plain": [
       "Batches:   0%|          | 0/1 [00:00<?, ?it/s]"
      ]
     },
     "metadata": {},
     "output_type": "display_data"
    },
    {
     "data": {
      "application/vnd.jupyter.widget-view+json": {
       "model_id": "84ec36169adf4901ac7f4b3279289f9c",
       "version_major": 2,
       "version_minor": 0
      },
      "text/plain": [
       "Batches:   0%|          | 0/1 [00:00<?, ?it/s]"
      ]
     },
     "metadata": {},
     "output_type": "display_data"
    },
    {
     "data": {
      "application/vnd.jupyter.widget-view+json": {
       "model_id": "1dc55e71c1314f5bb14b1b42c5313c13",
       "version_major": 2,
       "version_minor": 0
      },
      "text/plain": [
       "Batches:   0%|          | 0/1 [00:00<?, ?it/s]"
      ]
     },
     "metadata": {},
     "output_type": "display_data"
    },
    {
     "data": {
      "application/vnd.jupyter.widget-view+json": {
       "model_id": "b82753a84c8c4cc7b813f932acd1945a",
       "version_major": 2,
       "version_minor": 0
      },
      "text/plain": [
       "Batches:   0%|          | 0/1 [00:00<?, ?it/s]"
      ]
     },
     "metadata": {},
     "output_type": "display_data"
    },
    {
     "data": {
      "application/vnd.jupyter.widget-view+json": {
       "model_id": "ea2eb5e0d5ed47fa997e9c89b4439fb9",
       "version_major": 2,
       "version_minor": 0
      },
      "text/plain": [
       "Batches:   0%|          | 0/1 [00:00<?, ?it/s]"
      ]
     },
     "metadata": {},
     "output_type": "display_data"
    },
    {
     "name": "stdout",
     "output_type": "stream",
     "text": [
      "\n",
      "Species: glucose\n",
      "Synonyms: ['glucose', 'dextrose', 'D-glucose']\n",
      "Candidates: ['4167', '42758', '17234']\n",
      "Names: ['glucose', 'glucose', 'glucose']\n",
      "Match scores (similarity): [1.0, 1.0, 1.0]\n",
      "\n",
      "Species: caffeine\n",
      "Synonyms: ['caffeine', '1,3,7-trimethylxanthine']\n",
      "Candidates: ['27732', '17395', '18123']\n",
      "Names: ['caffeine', 'caffeate', 'caffearine']\n",
      "Match scores (similarity): [1.0, 0.745, 0.687]\n",
      "\n",
      "Species: aspirin\n",
      "Synonyms: ['aspirin', 'acetylsalicylic acid', 'ASA']\n",
      "Candidates: ['15365', '182973', '233566']\n",
      "Names: ['aspirin', 'no-aspirin', 'aspirin softam']\n",
      "Match scores (similarity): [1.0, 0.856, 0.716]\n"
     ]
    }
   ],
   "source": [
    "# Test data - typical chemical species with synonyms\n",
    "species_ids = [\"glucose\", \"caffeine\", \"aspirin\"]\n",
    "synonyms_dict = {\n",
    "    \"glucose\": [\"glucose\", \"dextrose\", \"D-glucose\"],\n",
    "    \"caffeine\": [\"caffeine\", \"1,3,7-trimethylxanthine\"],\n",
    "    \"aspirin\": [\"aspirin\", \"acetylsalicylic acid\", \"ASA\"]\n",
    "}\n",
    "\n",
    "print(\"Testing RAG-based entity linking...\")\n",
    "print(\"=\"*50)\n",
    "\n",
    "try:\n",
    "    # Test RAG approach\n",
    "    rag_recommendations = get_species_recommendations_rag(\n",
    "        species_ids=species_ids,\n",
    "        synonyms_dict=synonyms_dict,\n",
    "        model_type=\"default\",\n",
    "        top_k=3\n",
    "    )\n",
    "    \n",
    "    for rec in rag_recommendations:\n",
    "        print(f\"\\nSpecies: {rec.id}\")\n",
    "        print(f\"Synonyms: {rec.synonyms}\")\n",
    "        print(f\"Candidates: {rec.candidates}\")\n",
    "        print(f\"Names: {rec.candidate_names}\")\n",
    "        print(f\"Match scores (similarity): {rec.match_score}\")\n",
    "        \n",
    "except Exception as e:\n",
    "    print(f\"RAG search failed: {e}\")"
   ]
  },
  {
   "cell_type": "markdown",
   "metadata": {},
   "source": [
    "## Annotating a new model with no or few existing annotations"
   ]
  },
  {
   "cell_type": "code",
   "execution_count": 3,
   "metadata": {},
   "outputs": [
    {
     "name": "stdout",
     "output_type": "stream",
     "text": [
      "✓ Test model found: 190_few_anno.xml\n"
     ]
    }
   ],
   "source": [
    "test_model_file = \"190_few_anno.xml\"\n",
    "# Check if test model exists\n",
    "if os.path.exists(test_model_file):\n",
    "    print(f\"✓ Test model found: {test_model_file}\")\n",
    "else:\n",
    "    print(f\"✗ Test model not found: {test_model_file}\")"
   ]
  },
  {
   "cell_type": "code",
   "execution_count": 4,
   "metadata": {},
   "outputs": [
    {
     "name": "stdout",
     "output_type": "stream",
     "text": [
      "INFO Starting annotation for model: 190_few_anno.xml\n",
      "INFO Using LLM model: Llama-3.3-70B-Instruct\n",
      "INFO Using method: rag for database search\n",
      "INFO Entity type: chemical, Database: chebi\n",
      "INFO >>>Step 1: Getting species from model...<<<\n",
      "INFO Found 11 species in model\n",
      "INFO Found 2 entities with existing annotations\n",
      "INFO Selected 10 entities for annotation\n",
      "INFO >>>Step 2: Extracting model context...<<<\n",
      "INFO Extracted context for model: Rodriguez-Caso2006_Polyamine_Metabolism\n",
      "INFO >>>Step 3: Querying LLM (Llama-3.3-70B-Instruct)...<<<\n",
      "INFO HTTP Request: POST https://api.llama.com/compat/v1/chat/completions \"HTTP/1.1 200 OK\"\n",
      "INFO LLM response received in 3.34s\n",
      "INFO Parsed synonyms for 10 entities\n",
      "INFO >>>Step 4: Searching chebi database...<<<\n"
     ]
    },
    {
     "data": {
      "application/vnd.jupyter.widget-view+json": {
       "model_id": "e670029fcac34c0eb22e4ca175769951",
       "version_major": 2,
       "version_minor": 0
      },
      "text/plain": [
       "Batches:   0%|          | 0/1 [00:00<?, ?it/s]"
      ]
     },
     "metadata": {},
     "output_type": "display_data"
    },
    {
     "data": {
      "application/vnd.jupyter.widget-view+json": {
       "model_id": "07e259f91db64cceb6584800c33501e4",
       "version_major": 2,
       "version_minor": 0
      },
      "text/plain": [
       "Batches:   0%|          | 0/1 [00:00<?, ?it/s]"
      ]
     },
     "metadata": {},
     "output_type": "display_data"
    },
    {
     "data": {
      "application/vnd.jupyter.widget-view+json": {
       "model_id": "4a154fca889c4f61bc6d882a3012cad3",
       "version_major": 2,
       "version_minor": 0
      },
      "text/plain": [
       "Batches:   0%|          | 0/1 [00:00<?, ?it/s]"
      ]
     },
     "metadata": {},
     "output_type": "display_data"
    },
    {
     "data": {
      "application/vnd.jupyter.widget-view+json": {
       "model_id": "0c53cd31467b49ee8eaeda46b7ca6d13",
       "version_major": 2,
       "version_minor": 0
      },
      "text/plain": [
       "Batches:   0%|          | 0/1 [00:00<?, ?it/s]"
      ]
     },
     "metadata": {},
     "output_type": "display_data"
    },
    {
     "data": {
      "application/vnd.jupyter.widget-view+json": {
       "model_id": "d48e1edb643b4f629c1b87b537866f99",
       "version_major": 2,
       "version_minor": 0
      },
      "text/plain": [
       "Batches:   0%|          | 0/1 [00:00<?, ?it/s]"
      ]
     },
     "metadata": {},
     "output_type": "display_data"
    },
    {
     "data": {
      "application/vnd.jupyter.widget-view+json": {
       "model_id": "dfb7fba3c35a48139587fab36a510a69",
       "version_major": 2,
       "version_minor": 0
      },
      "text/plain": [
       "Batches:   0%|          | 0/1 [00:00<?, ?it/s]"
      ]
     },
     "metadata": {},
     "output_type": "display_data"
    },
    {
     "data": {
      "application/vnd.jupyter.widget-view+json": {
       "model_id": "e100896dc92b45c69d8ae771fc99254b",
       "version_major": 2,
       "version_minor": 0
      },
      "text/plain": [
       "Batches:   0%|          | 0/1 [00:00<?, ?it/s]"
      ]
     },
     "metadata": {},
     "output_type": "display_data"
    },
    {
     "data": {
      "application/vnd.jupyter.widget-view+json": {
       "model_id": "7efee833c3424149bfc601ee1d9fbe0d",
       "version_major": 2,
       "version_minor": 0
      },
      "text/plain": [
       "Batches:   0%|          | 0/1 [00:00<?, ?it/s]"
      ]
     },
     "metadata": {},
     "output_type": "display_data"
    },
    {
     "data": {
      "application/vnd.jupyter.widget-view+json": {
       "model_id": "7d7206ab5b194d069f0997f155a943e3",
       "version_major": 2,
       "version_minor": 0
      },
      "text/plain": [
       "Batches:   0%|          | 0/1 [00:00<?, ?it/s]"
      ]
     },
     "metadata": {},
     "output_type": "display_data"
    },
    {
     "data": {
      "application/vnd.jupyter.widget-view+json": {
       "model_id": "f7a77910a83d42de89ebe3e58bb01ae6",
       "version_major": 2,
       "version_minor": 0
      },
      "text/plain": [
       "Batches:   0%|          | 0/1 [00:00<?, ?it/s]"
      ]
     },
     "metadata": {},
     "output_type": "display_data"
    },
    {
     "data": {
      "application/vnd.jupyter.widget-view+json": {
       "model_id": "8d6dcfb91fef4a2fb27d5e80fb6642a6",
       "version_major": 2,
       "version_minor": 0
      },
      "text/plain": [
       "Batches:   0%|          | 0/1 [00:00<?, ?it/s]"
      ]
     },
     "metadata": {},
     "output_type": "display_data"
    },
    {
     "data": {
      "application/vnd.jupyter.widget-view+json": {
       "model_id": "cb08a68db2de4ed29c05d7f7af60d5ea",
       "version_major": 2,
       "version_minor": 0
      },
      "text/plain": [
       "Batches:   0%|          | 0/1 [00:00<?, ?it/s]"
      ]
     },
     "metadata": {},
     "output_type": "display_data"
    },
    {
     "data": {
      "application/vnd.jupyter.widget-view+json": {
       "model_id": "9b6df349fd1d414b92e515c3f7d19125",
       "version_major": 2,
       "version_minor": 0
      },
      "text/plain": [
       "Batches:   0%|          | 0/1 [00:00<?, ?it/s]"
      ]
     },
     "metadata": {},
     "output_type": "display_data"
    },
    {
     "data": {
      "application/vnd.jupyter.widget-view+json": {
       "model_id": "c88048119afd414bae891f654fb95e80",
       "version_major": 2,
       "version_minor": 0
      },
      "text/plain": [
       "Batches:   0%|          | 0/1 [00:00<?, ?it/s]"
      ]
     },
     "metadata": {},
     "output_type": "display_data"
    },
    {
     "data": {
      "application/vnd.jupyter.widget-view+json": {
       "model_id": "be4cc2ffc9df41db8241213ce3031925",
       "version_major": 2,
       "version_minor": 0
      },
      "text/plain": [
       "Batches:   0%|          | 0/1 [00:00<?, ?it/s]"
      ]
     },
     "metadata": {},
     "output_type": "display_data"
    },
    {
     "data": {
      "application/vnd.jupyter.widget-view+json": {
       "model_id": "455ff060bead4174aebb9a0ff6f4bce5",
       "version_major": 2,
       "version_minor": 0
      },
      "text/plain": [
       "Batches:   0%|          | 0/1 [00:00<?, ?it/s]"
      ]
     },
     "metadata": {},
     "output_type": "display_data"
    },
    {
     "data": {
      "application/vnd.jupyter.widget-view+json": {
       "model_id": "1cd48669b4eb46c680f115a20f7f3266",
       "version_major": 2,
       "version_minor": 0
      },
      "text/plain": [
       "Batches:   0%|          | 0/1 [00:00<?, ?it/s]"
      ]
     },
     "metadata": {},
     "output_type": "display_data"
    },
    {
     "data": {
      "application/vnd.jupyter.widget-view+json": {
       "model_id": "aa185af05bb14f2fa24083dc0a7c8a5f",
       "version_major": 2,
       "version_minor": 0
      },
      "text/plain": [
       "Batches:   0%|          | 0/1 [00:00<?, ?it/s]"
      ]
     },
     "metadata": {},
     "output_type": "display_data"
    },
    {
     "data": {
      "application/vnd.jupyter.widget-view+json": {
       "model_id": "b0ac2e93d6024a438f68b2a0cdecb9ad",
       "version_major": 2,
       "version_minor": 0
      },
      "text/plain": [
       "Batches:   0%|          | 0/1 [00:00<?, ?it/s]"
      ]
     },
     "metadata": {},
     "output_type": "display_data"
    },
    {
     "data": {
      "application/vnd.jupyter.widget-view+json": {
       "model_id": "65ebd7cdb04240ec9c3b5c2fcb481356",
       "version_major": 2,
       "version_minor": 0
      },
      "text/plain": [
       "Batches:   0%|          | 0/1 [00:00<?, ?it/s]"
      ]
     },
     "metadata": {},
     "output_type": "display_data"
    },
    {
     "data": {
      "application/vnd.jupyter.widget-view+json": {
       "model_id": "fe5b828beb9f4935988df9cacb89df6b",
       "version_major": 2,
       "version_minor": 0
      },
      "text/plain": [
       "Batches:   0%|          | 0/1 [00:00<?, ?it/s]"
      ]
     },
     "metadata": {},
     "output_type": "display_data"
    },
    {
     "data": {
      "application/vnd.jupyter.widget-view+json": {
       "model_id": "b52d5bfe9dd64de7b9fc79cfbb7414cb",
       "version_major": 2,
       "version_minor": 0
      },
      "text/plain": [
       "Batches:   0%|          | 0/1 [00:00<?, ?it/s]"
      ]
     },
     "metadata": {},
     "output_type": "display_data"
    },
    {
     "data": {
      "application/vnd.jupyter.widget-view+json": {
       "model_id": "568336a93e954524a9707a29dfb52903",
       "version_major": 2,
       "version_minor": 0
      },
      "text/plain": [
       "Batches:   0%|          | 0/1 [00:00<?, ?it/s]"
      ]
     },
     "metadata": {},
     "output_type": "display_data"
    },
    {
     "data": {
      "application/vnd.jupyter.widget-view+json": {
       "model_id": "e4194ed0978f4c2699760287309c7369",
       "version_major": 2,
       "version_minor": 0
      },
      "text/plain": [
       "Batches:   0%|          | 0/1 [00:00<?, ?it/s]"
      ]
     },
     "metadata": {},
     "output_type": "display_data"
    },
    {
     "data": {
      "application/vnd.jupyter.widget-view+json": {
       "model_id": "3dacc795a32e49af923bb39ed68a2f18",
       "version_major": 2,
       "version_minor": 0
      },
      "text/plain": [
       "Batches:   0%|          | 0/1 [00:00<?, ?it/s]"
      ]
     },
     "metadata": {},
     "output_type": "display_data"
    },
    {
     "data": {
      "application/vnd.jupyter.widget-view+json": {
       "model_id": "4fa9ed8ba8144c5d89d73beeca760908",
       "version_major": 2,
       "version_minor": 0
      },
      "text/plain": [
       "Batches:   0%|          | 0/1 [00:00<?, ?it/s]"
      ]
     },
     "metadata": {},
     "output_type": "display_data"
    },
    {
     "data": {
      "application/vnd.jupyter.widget-view+json": {
       "model_id": "2eb0e81d876e4d6f9f0b6445fa7d8023",
       "version_major": 2,
       "version_minor": 0
      },
      "text/plain": [
       "Batches:   0%|          | 0/1 [00:00<?, ?it/s]"
      ]
     },
     "metadata": {},
     "output_type": "display_data"
    },
    {
     "data": {
      "application/vnd.jupyter.widget-view+json": {
       "model_id": "582defba13ef4c57ba87ed6affb3d20e",
       "version_major": 2,
       "version_minor": 0
      },
      "text/plain": [
       "Batches:   0%|          | 0/1 [00:00<?, ?it/s]"
      ]
     },
     "metadata": {},
     "output_type": "display_data"
    },
    {
     "data": {
      "application/vnd.jupyter.widget-view+json": {
       "model_id": "4cc9f5a4b6284587be107f9fdad70fb4",
       "version_major": 2,
       "version_minor": 0
      },
      "text/plain": [
       "Batches:   0%|          | 0/1 [00:00<?, ?it/s]"
      ]
     },
     "metadata": {},
     "output_type": "display_data"
    },
    {
     "data": {
      "application/vnd.jupyter.widget-view+json": {
       "model_id": "14b0c987a7aa44b89afbdd23dd1751e0",
       "version_major": 2,
       "version_minor": 0
      },
      "text/plain": [
       "Batches:   0%|          | 0/1 [00:00<?, ?it/s]"
      ]
     },
     "metadata": {},
     "output_type": "display_data"
    },
    {
     "name": "stdout",
     "output_type": "stream",
     "text": [
      "INFO Database search completed in 0.71s\n",
      "INFO >>>Step 5: Generating recommendation table...<<<\n",
      "INFO Annotation completed in 4.19s\n",
      "INFO Generated 50 recommendations\n"
     ]
    }
   ],
   "source": [
    "# Test with a single model\n",
    "recommendations_df, metrics = annotate_model(\n",
    "    model_file=test_model_file,\n",
    "    llm_model=llm_model,\n",
    "    method=\"rag\",\n",
    "    max_entities=max_entities_per_model,\n",
    "    entity_type=entity_type,\n",
    "    database=database\n",
    ")"
   ]
  },
  {
   "cell_type": "code",
   "execution_count": 5,
   "metadata": {},
   "outputs": [
    {
     "data": {
      "text/html": [
       "<div>\n",
       "<style scoped>\n",
       "    .dataframe tbody tr th:only-of-type {\n",
       "        vertical-align: middle;\n",
       "    }\n",
       "\n",
       "    .dataframe tbody tr th {\n",
       "        vertical-align: top;\n",
       "    }\n",
       "\n",
       "    .dataframe thead th {\n",
       "        text-align: right;\n",
       "    }\n",
       "</style>\n",
       "<table border=\"1\" class=\"dataframe\">\n",
       "  <thead>\n",
       "    <tr style=\"text-align: right;\">\n",
       "      <th></th>\n",
       "      <th>file</th>\n",
       "      <th>type</th>\n",
       "      <th>id</th>\n",
       "      <th>display_name</th>\n",
       "      <th>annotation</th>\n",
       "      <th>annotation_label</th>\n",
       "      <th>match_score</th>\n",
       "      <th>existing</th>\n",
       "      <th>update_annotation</th>\n",
       "    </tr>\n",
       "  </thead>\n",
       "  <tbody>\n",
       "    <tr>\n",
       "      <th>0</th>\n",
       "      <td>190_few_anno.xml</td>\n",
       "      <td>chemical</td>\n",
       "      <td>SAM</td>\n",
       "      <td>S-adenosyl-L-methionine</td>\n",
       "      <td>CHEBI:15414</td>\n",
       "      <td>s-adenosylmethionine</td>\n",
       "      <td>1.000</td>\n",
       "      <td>1</td>\n",
       "      <td>keep</td>\n",
       "    </tr>\n",
       "    <tr>\n",
       "      <th>1</th>\n",
       "      <td>190_few_anno.xml</td>\n",
       "      <td>chemical</td>\n",
       "      <td>SAM</td>\n",
       "      <td>S-adenosyl-L-methionine</td>\n",
       "      <td>CHEBI:67040</td>\n",
       "      <td>s-adenosylmethionine</td>\n",
       "      <td>1.000</td>\n",
       "      <td>0</td>\n",
       "      <td>ignore</td>\n",
       "    </tr>\n",
       "    <tr>\n",
       "      <th>2</th>\n",
       "      <td>190_few_anno.xml</td>\n",
       "      <td>chemical</td>\n",
       "      <td>SAM</td>\n",
       "      <td>S-adenosyl-L-methionine</td>\n",
       "      <td>CHEBI:33442</td>\n",
       "      <td>s-adenosylmethionine</td>\n",
       "      <td>1.000</td>\n",
       "      <td>0</td>\n",
       "      <td>ignore</td>\n",
       "    </tr>\n",
       "    <tr>\n",
       "      <th>3</th>\n",
       "      <td>190_few_anno.xml</td>\n",
       "      <td>chemical</td>\n",
       "      <td>SAM</td>\n",
       "      <td>S-adenosyl-L-methionine</td>\n",
       "      <td>CHEBI:15625</td>\n",
       "      <td>s-adenosylmethioninamine</td>\n",
       "      <td>0.926</td>\n",
       "      <td>0</td>\n",
       "      <td>ignore</td>\n",
       "    </tr>\n",
       "    <tr>\n",
       "      <th>4</th>\n",
       "      <td>190_few_anno.xml</td>\n",
       "      <td>chemical</td>\n",
       "      <td>SAM</td>\n",
       "      <td>S-adenosyl-L-methionine</td>\n",
       "      <td>CHEBI:57443</td>\n",
       "      <td>s-adenosylmethioninaminium</td>\n",
       "      <td>0.807</td>\n",
       "      <td>0</td>\n",
       "      <td>ignore</td>\n",
       "    </tr>\n",
       "    <tr>\n",
       "      <th>5</th>\n",
       "      <td>190_few_anno.xml</td>\n",
       "      <td>chemical</td>\n",
       "      <td>A</td>\n",
       "      <td>S-adenosylmethioninamine</td>\n",
       "      <td>CHEBI:15625</td>\n",
       "      <td>s-adenosylmethioninamine</td>\n",
       "      <td>1.000</td>\n",
       "      <td>1</td>\n",
       "      <td>keep</td>\n",
       "    </tr>\n",
       "    <tr>\n",
       "      <th>6</th>\n",
       "      <td>190_few_anno.xml</td>\n",
       "      <td>chemical</td>\n",
       "      <td>A</td>\n",
       "      <td>S-adenosylmethioninamine</td>\n",
       "      <td>CHEBI:33442</td>\n",
       "      <td>s-adenosylmethionine</td>\n",
       "      <td>0.926</td>\n",
       "      <td>0</td>\n",
       "      <td>ignore</td>\n",
       "    </tr>\n",
       "    <tr>\n",
       "      <th>7</th>\n",
       "      <td>190_few_anno.xml</td>\n",
       "      <td>chemical</td>\n",
       "      <td>A</td>\n",
       "      <td>S-adenosylmethioninamine</td>\n",
       "      <td>CHEBI:15414</td>\n",
       "      <td>s-adenosylmethionine</td>\n",
       "      <td>0.926</td>\n",
       "      <td>0</td>\n",
       "      <td>ignore</td>\n",
       "    </tr>\n",
       "    <tr>\n",
       "      <th>8</th>\n",
       "      <td>190_few_anno.xml</td>\n",
       "      <td>chemical</td>\n",
       "      <td>A</td>\n",
       "      <td>S-adenosylmethioninamine</td>\n",
       "      <td>CHEBI:67040</td>\n",
       "      <td>s-adenosylmethionine</td>\n",
       "      <td>0.926</td>\n",
       "      <td>0</td>\n",
       "      <td>ignore</td>\n",
       "    </tr>\n",
       "    <tr>\n",
       "      <th>9</th>\n",
       "      <td>190_few_anno.xml</td>\n",
       "      <td>chemical</td>\n",
       "      <td>A</td>\n",
       "      <td>S-adenosylmethioninamine</td>\n",
       "      <td>CHEBI:57443</td>\n",
       "      <td>s-adenosylmethioninaminium</td>\n",
       "      <td>0.907</td>\n",
       "      <td>0</td>\n",
       "      <td>ignore</td>\n",
       "    </tr>\n",
       "    <tr>\n",
       "      <th>10</th>\n",
       "      <td>190_few_anno.xml</td>\n",
       "      <td>chemical</td>\n",
       "      <td>P</td>\n",
       "      <td>Putrescine</td>\n",
       "      <td>CHEBI:17148</td>\n",
       "      <td>putrescine</td>\n",
       "      <td>1.000</td>\n",
       "      <td>0</td>\n",
       "      <td>add</td>\n",
       "    </tr>\n",
       "    <tr>\n",
       "      <th>11</th>\n",
       "      <td>190_few_anno.xml</td>\n",
       "      <td>chemical</td>\n",
       "      <td>P</td>\n",
       "      <td>Putrescine</td>\n",
       "      <td>CHEBI:326268</td>\n",
       "      <td>putrescine</td>\n",
       "      <td>1.000</td>\n",
       "      <td>0</td>\n",
       "      <td>ignore</td>\n",
       "    </tr>\n",
       "    <tr>\n",
       "      <th>12</th>\n",
       "      <td>190_few_anno.xml</td>\n",
       "      <td>chemical</td>\n",
       "      <td>P</td>\n",
       "      <td>Putrescine</td>\n",
       "      <td>CHEBI:26406</td>\n",
       "      <td>putrescines</td>\n",
       "      <td>0.912</td>\n",
       "      <td>0</td>\n",
       "      <td>ignore</td>\n",
       "    </tr>\n",
       "    <tr>\n",
       "      <th>13</th>\n",
       "      <td>190_few_anno.xml</td>\n",
       "      <td>chemical</td>\n",
       "      <td>P</td>\n",
       "      <td>Putrescine</td>\n",
       "      <td>CHEBI:201718</td>\n",
       "      <td>1,4-diaminobutane dihydrochloride</td>\n",
       "      <td>0.780</td>\n",
       "      <td>0</td>\n",
       "      <td>ignore</td>\n",
       "    </tr>\n",
       "    <tr>\n",
       "      <th>14</th>\n",
       "      <td>190_few_anno.xml</td>\n",
       "      <td>chemical</td>\n",
       "      <td>P</td>\n",
       "      <td>Putrescine</td>\n",
       "      <td>CHEBI:44736</td>\n",
       "      <td>1,4-diaminobutan-2-ol</td>\n",
       "      <td>0.712</td>\n",
       "      <td>0</td>\n",
       "      <td>ignore</td>\n",
       "    </tr>\n",
       "    <tr>\n",
       "      <th>15</th>\n",
       "      <td>190_few_anno.xml</td>\n",
       "      <td>chemical</td>\n",
       "      <td>S</td>\n",
       "      <td>Spermine</td>\n",
       "      <td>CHEBI:15746</td>\n",
       "      <td>spermine</td>\n",
       "      <td>1.000</td>\n",
       "      <td>0</td>\n",
       "      <td>add</td>\n",
       "    </tr>\n",
       "    <tr>\n",
       "      <th>16</th>\n",
       "      <td>190_few_anno.xml</td>\n",
       "      <td>chemical</td>\n",
       "      <td>S</td>\n",
       "      <td>Spermine</td>\n",
       "      <td>CHEBI:45725</td>\n",
       "      <td>spermine</td>\n",
       "      <td>1.000</td>\n",
       "      <td>0</td>\n",
       "      <td>ignore</td>\n",
       "    </tr>\n",
       "    <tr>\n",
       "      <th>17</th>\n",
       "      <td>190_few_anno.xml</td>\n",
       "      <td>chemical</td>\n",
       "      <td>S</td>\n",
       "      <td>Spermine</td>\n",
       "      <td>CHEBI:59564</td>\n",
       "      <td>spermidine</td>\n",
       "      <td>0.983</td>\n",
       "      <td>0</td>\n",
       "      <td>ignore</td>\n",
       "    </tr>\n",
       "    <tr>\n",
       "      <th>18</th>\n",
       "      <td>190_few_anno.xml</td>\n",
       "      <td>chemical</td>\n",
       "      <td>S</td>\n",
       "      <td>Spermine</td>\n",
       "      <td>CHEBI:39476</td>\n",
       "      <td>spermidine</td>\n",
       "      <td>0.864</td>\n",
       "      <td>0</td>\n",
       "      <td>ignore</td>\n",
       "    </tr>\n",
       "    <tr>\n",
       "      <th>19</th>\n",
       "      <td>190_few_anno.xml</td>\n",
       "      <td>chemical</td>\n",
       "      <td>S</td>\n",
       "      <td>Spermine</td>\n",
       "      <td>CHEBI:30348</td>\n",
       "      <td>spermatheridine</td>\n",
       "      <td>0.762</td>\n",
       "      <td>0</td>\n",
       "      <td>ignore</td>\n",
       "    </tr>\n",
       "    <tr>\n",
       "      <th>20</th>\n",
       "      <td>190_few_anno.xml</td>\n",
       "      <td>chemical</td>\n",
       "      <td>D</td>\n",
       "      <td>Spermidine</td>\n",
       "      <td>CHEBI:16610</td>\n",
       "      <td>spermidine</td>\n",
       "      <td>1.000</td>\n",
       "      <td>0</td>\n",
       "      <td>add</td>\n",
       "    </tr>\n",
       "    <tr>\n",
       "      <th>21</th>\n",
       "      <td>190_few_anno.xml</td>\n",
       "      <td>chemical</td>\n",
       "      <td>D</td>\n",
       "      <td>Spermidine</td>\n",
       "      <td>CHEBI:57834</td>\n",
       "      <td>spermidine</td>\n",
       "      <td>1.000</td>\n",
       "      <td>0</td>\n",
       "      <td>ignore</td>\n",
       "    </tr>\n",
       "    <tr>\n",
       "      <th>22</th>\n",
       "      <td>190_few_anno.xml</td>\n",
       "      <td>chemical</td>\n",
       "      <td>D</td>\n",
       "      <td>Spermidine</td>\n",
       "      <td>CHEBI:39476</td>\n",
       "      <td>spermine</td>\n",
       "      <td>0.769</td>\n",
       "      <td>0</td>\n",
       "      <td>ignore</td>\n",
       "    </tr>\n",
       "    <tr>\n",
       "      <th>23</th>\n",
       "      <td>190_few_anno.xml</td>\n",
       "      <td>chemical</td>\n",
       "      <td>D</td>\n",
       "      <td>Spermidine</td>\n",
       "      <td>CHEBI:64860</td>\n",
       "      <td>n,n'-bis(3-aminopropyl)ethylenediamine</td>\n",
       "      <td>0.741</td>\n",
       "      <td>0</td>\n",
       "      <td>ignore</td>\n",
       "    </tr>\n",
       "    <tr>\n",
       "      <th>24</th>\n",
       "      <td>190_few_anno.xml</td>\n",
       "      <td>chemical</td>\n",
       "      <td>D</td>\n",
       "      <td>Spermidine</td>\n",
       "      <td>CHEBI:16841</td>\n",
       "      <td>n-(3-aminopropyl)-1,5-pentanediamine</td>\n",
       "      <td>0.718</td>\n",
       "      <td>0</td>\n",
       "      <td>ignore</td>\n",
       "    </tr>\n",
       "    <tr>\n",
       "      <th>25</th>\n",
       "      <td>190_few_anno.xml</td>\n",
       "      <td>chemical</td>\n",
       "      <td>aS</td>\n",
       "      <td>N1-Acetylspermine</td>\n",
       "      <td>CHEBI:17312</td>\n",
       "      <td>n1-acetylspermine</td>\n",
       "      <td>1.000</td>\n",
       "      <td>0</td>\n",
       "      <td>add</td>\n",
       "    </tr>\n",
       "    <tr>\n",
       "      <th>26</th>\n",
       "      <td>190_few_anno.xml</td>\n",
       "      <td>chemical</td>\n",
       "      <td>aS</td>\n",
       "      <td>N1-Acetylspermine</td>\n",
       "      <td>CHEBI:22205</td>\n",
       "      <td>n(1)-acetylspermine</td>\n",
       "      <td>1.000</td>\n",
       "      <td>0</td>\n",
       "      <td>ignore</td>\n",
       "    </tr>\n",
       "    <tr>\n",
       "      <th>27</th>\n",
       "      <td>190_few_anno.xml</td>\n",
       "      <td>chemical</td>\n",
       "      <td>aS</td>\n",
       "      <td>N1-Acetylspermine</td>\n",
       "      <td>CHEBI:125358</td>\n",
       "      <td>n1,n12-diacetylspermine</td>\n",
       "      <td>0.731</td>\n",
       "      <td>0</td>\n",
       "      <td>ignore</td>\n",
       "    </tr>\n",
       "    <tr>\n",
       "      <th>28</th>\n",
       "      <td>190_few_anno.xml</td>\n",
       "      <td>chemical</td>\n",
       "      <td>aS</td>\n",
       "      <td>N1-Acetylspermine</td>\n",
       "      <td>CHEBI:58101</td>\n",
       "      <td>n-acetyloctopamine</td>\n",
       "      <td>0.726</td>\n",
       "      <td>0</td>\n",
       "      <td>ignore</td>\n",
       "    </tr>\n",
       "    <tr>\n",
       "      <th>29</th>\n",
       "      <td>190_few_anno.xml</td>\n",
       "      <td>chemical</td>\n",
       "      <td>aS</td>\n",
       "      <td>N1-Acetylspermine</td>\n",
       "      <td>CHEBI:73685</td>\n",
       "      <td>acetylspermine</td>\n",
       "      <td>0.691</td>\n",
       "      <td>0</td>\n",
       "      <td>ignore</td>\n",
       "    </tr>\n",
       "    <tr>\n",
       "      <th>30</th>\n",
       "      <td>190_few_anno.xml</td>\n",
       "      <td>chemical</td>\n",
       "      <td>aD</td>\n",
       "      <td>N1-Acetylspermidine</td>\n",
       "      <td>CHEBI:17927</td>\n",
       "      <td>n1-acetylspermidine</td>\n",
       "      <td>1.000</td>\n",
       "      <td>0</td>\n",
       "      <td>add</td>\n",
       "    </tr>\n",
       "    <tr>\n",
       "      <th>31</th>\n",
       "      <td>190_few_anno.xml</td>\n",
       "      <td>chemical</td>\n",
       "      <td>aD</td>\n",
       "      <td>N1-Acetylspermidine</td>\n",
       "      <td>CHEBI:22204</td>\n",
       "      <td>n1-acetyl,n8-succinylspermidine</td>\n",
       "      <td>1.000</td>\n",
       "      <td>0</td>\n",
       "      <td>ignore</td>\n",
       "    </tr>\n",
       "    <tr>\n",
       "      <th>32</th>\n",
       "      <td>190_few_anno.xml</td>\n",
       "      <td>chemical</td>\n",
       "      <td>aD</td>\n",
       "      <td>N1-Acetylspermidine</td>\n",
       "      <td>CHEBI:27911</td>\n",
       "      <td>n(1)-acetylspermidine</td>\n",
       "      <td>0.878</td>\n",
       "      <td>0</td>\n",
       "      <td>ignore</td>\n",
       "    </tr>\n",
       "    <tr>\n",
       "      <th>33</th>\n",
       "      <td>190_few_anno.xml</td>\n",
       "      <td>chemical</td>\n",
       "      <td>aD</td>\n",
       "      <td>N1-Acetylspermidine</td>\n",
       "      <td>CHEBI:16437</td>\n",
       "      <td>acetylspermidine</td>\n",
       "      <td>0.838</td>\n",
       "      <td>0</td>\n",
       "      <td>ignore</td>\n",
       "    </tr>\n",
       "    <tr>\n",
       "      <th>34</th>\n",
       "      <td>190_few_anno.xml</td>\n",
       "      <td>chemical</td>\n",
       "      <td>aD</td>\n",
       "      <td>N1-Acetylspermidine</td>\n",
       "      <td>CHEBI:195636</td>\n",
       "      <td>n8-acetylspermidine</td>\n",
       "      <td>0.830</td>\n",
       "      <td>0</td>\n",
       "      <td>ignore</td>\n",
       "    </tr>\n",
       "    <tr>\n",
       "      <th>35</th>\n",
       "      <td>190_few_anno.xml</td>\n",
       "      <td>chemical</td>\n",
       "      <td>Met</td>\n",
       "      <td>Methionine</td>\n",
       "      <td>CHEBI:16643</td>\n",
       "      <td>methionine</td>\n",
       "      <td>1.000</td>\n",
       "      <td>0</td>\n",
       "      <td>add</td>\n",
       "    </tr>\n",
       "    <tr>\n",
       "      <th>36</th>\n",
       "      <td>190_few_anno.xml</td>\n",
       "      <td>chemical</td>\n",
       "      <td>Met</td>\n",
       "      <td>Methionine</td>\n",
       "      <td>CHEBI:16811</td>\n",
       "      <td>methionine</td>\n",
       "      <td>1.000</td>\n",
       "      <td>0</td>\n",
       "      <td>ignore</td>\n",
       "    </tr>\n",
       "    <tr>\n",
       "      <th>37</th>\n",
       "      <td>190_few_anno.xml</td>\n",
       "      <td>chemical</td>\n",
       "      <td>Met</td>\n",
       "      <td>Methionine</td>\n",
       "      <td>CHEBI:64558</td>\n",
       "      <td>methionine</td>\n",
       "      <td>1.000</td>\n",
       "      <td>0</td>\n",
       "      <td>ignore</td>\n",
       "    </tr>\n",
       "    <tr>\n",
       "      <th>38</th>\n",
       "      <td>190_few_anno.xml</td>\n",
       "      <td>chemical</td>\n",
       "      <td>Met</td>\n",
       "      <td>Methionine</td>\n",
       "      <td>CHEBI:16044</td>\n",
       "      <td>methionyl-methionine</td>\n",
       "      <td>1.000</td>\n",
       "      <td>0</td>\n",
       "      <td>ignore</td>\n",
       "    </tr>\n",
       "    <tr>\n",
       "      <th>39</th>\n",
       "      <td>190_few_anno.xml</td>\n",
       "      <td>chemical</td>\n",
       "      <td>Met</td>\n",
       "      <td>Methionine</td>\n",
       "      <td>CHEBI:57844</td>\n",
       "      <td>l-methionine</td>\n",
       "      <td>1.000</td>\n",
       "      <td>0</td>\n",
       "      <td>ignore</td>\n",
       "    </tr>\n",
       "    <tr>\n",
       "      <th>40</th>\n",
       "      <td>190_few_anno.xml</td>\n",
       "      <td>chemical</td>\n",
       "      <td>ORN</td>\n",
       "      <td>L-Ornithine</td>\n",
       "      <td>CHEBI:18257</td>\n",
       "      <td>ornithine</td>\n",
       "      <td>1.000</td>\n",
       "      <td>0</td>\n",
       "      <td>add</td>\n",
       "    </tr>\n",
       "    <tr>\n",
       "      <th>41</th>\n",
       "      <td>190_few_anno.xml</td>\n",
       "      <td>chemical</td>\n",
       "      <td>ORN</td>\n",
       "      <td>L-Ornithine</td>\n",
       "      <td>CHEBI:44667</td>\n",
       "      <td>ornithine</td>\n",
       "      <td>1.000</td>\n",
       "      <td>0</td>\n",
       "      <td>ignore</td>\n",
       "    </tr>\n",
       "    <tr>\n",
       "      <th>42</th>\n",
       "      <td>190_few_anno.xml</td>\n",
       "      <td>chemical</td>\n",
       "      <td>ORN</td>\n",
       "      <td>L-Ornithine</td>\n",
       "      <td>CHEBI:15729</td>\n",
       "      <td>l-ornithine</td>\n",
       "      <td>1.000</td>\n",
       "      <td>0</td>\n",
       "      <td>ignore</td>\n",
       "    </tr>\n",
       "    <tr>\n",
       "      <th>43</th>\n",
       "      <td>190_few_anno.xml</td>\n",
       "      <td>chemical</td>\n",
       "      <td>ORN</td>\n",
       "      <td>L-Ornithine</td>\n",
       "      <td>CHEBI:46911</td>\n",
       "      <td>l-ornithine</td>\n",
       "      <td>1.000</td>\n",
       "      <td>0</td>\n",
       "      <td>ignore</td>\n",
       "    </tr>\n",
       "    <tr>\n",
       "      <th>44</th>\n",
       "      <td>190_few_anno.xml</td>\n",
       "      <td>chemical</td>\n",
       "      <td>ORN</td>\n",
       "      <td>L-Ornithine</td>\n",
       "      <td>CHEBI:28300</td>\n",
       "      <td>ornithine anion</td>\n",
       "      <td>0.872</td>\n",
       "      <td>0</td>\n",
       "      <td>ignore</td>\n",
       "    </tr>\n",
       "    <tr>\n",
       "      <th>45</th>\n",
       "      <td>190_few_anno.xml</td>\n",
       "      <td>chemical</td>\n",
       "      <td>AcCoA</td>\n",
       "      <td>Acetyl-CoA</td>\n",
       "      <td>CHEBI:15351</td>\n",
       "      <td>acetyl-coa</td>\n",
       "      <td>1.000</td>\n",
       "      <td>0</td>\n",
       "      <td>add</td>\n",
       "    </tr>\n",
       "    <tr>\n",
       "      <th>46</th>\n",
       "      <td>190_few_anno.xml</td>\n",
       "      <td>chemical</td>\n",
       "      <td>AcCoA</td>\n",
       "      <td>Acetyl-CoA</td>\n",
       "      <td>CHEBI:57288</td>\n",
       "      <td>acetyl-coa</td>\n",
       "      <td>1.000</td>\n",
       "      <td>0</td>\n",
       "      <td>ignore</td>\n",
       "    </tr>\n",
       "    <tr>\n",
       "      <th>47</th>\n",
       "      <td>190_few_anno.xml</td>\n",
       "      <td>chemical</td>\n",
       "      <td>AcCoA</td>\n",
       "      <td>Acetyl-CoA</td>\n",
       "      <td>CHEBI:57286</td>\n",
       "      <td>acetoacetyl-coa</td>\n",
       "      <td>0.835</td>\n",
       "      <td>0</td>\n",
       "      <td>ignore</td>\n",
       "    </tr>\n",
       "    <tr>\n",
       "      <th>48</th>\n",
       "      <td>190_few_anno.xml</td>\n",
       "      <td>chemical</td>\n",
       "      <td>AcCoA</td>\n",
       "      <td>Acetyl-CoA</td>\n",
       "      <td>CHEBI:180918</td>\n",
       "      <td>acetyl coenzyme a (acetyl-coa)</td>\n",
       "      <td>0.877</td>\n",
       "      <td>0</td>\n",
       "      <td>ignore</td>\n",
       "    </tr>\n",
       "    <tr>\n",
       "      <th>49</th>\n",
       "      <td>190_few_anno.xml</td>\n",
       "      <td>chemical</td>\n",
       "      <td>AcCoA</td>\n",
       "      <td>Acetyl-CoA</td>\n",
       "      <td>CHEBI:15345</td>\n",
       "      <td>acetoacetyl coenzyme a</td>\n",
       "      <td>0.876</td>\n",
       "      <td>0</td>\n",
       "      <td>ignore</td>\n",
       "    </tr>\n",
       "  </tbody>\n",
       "</table>\n",
       "</div>"
      ],
      "text/plain": [
       "                file      type     id              display_name    annotation  \\\n",
       "0   190_few_anno.xml  chemical    SAM   S-adenosyl-L-methionine   CHEBI:15414   \n",
       "1   190_few_anno.xml  chemical    SAM   S-adenosyl-L-methionine   CHEBI:67040   \n",
       "2   190_few_anno.xml  chemical    SAM   S-adenosyl-L-methionine   CHEBI:33442   \n",
       "3   190_few_anno.xml  chemical    SAM   S-adenosyl-L-methionine   CHEBI:15625   \n",
       "4   190_few_anno.xml  chemical    SAM   S-adenosyl-L-methionine   CHEBI:57443   \n",
       "5   190_few_anno.xml  chemical      A  S-adenosylmethioninamine   CHEBI:15625   \n",
       "6   190_few_anno.xml  chemical      A  S-adenosylmethioninamine   CHEBI:33442   \n",
       "7   190_few_anno.xml  chemical      A  S-adenosylmethioninamine   CHEBI:15414   \n",
       "8   190_few_anno.xml  chemical      A  S-adenosylmethioninamine   CHEBI:67040   \n",
       "9   190_few_anno.xml  chemical      A  S-adenosylmethioninamine   CHEBI:57443   \n",
       "10  190_few_anno.xml  chemical      P                Putrescine   CHEBI:17148   \n",
       "11  190_few_anno.xml  chemical      P                Putrescine  CHEBI:326268   \n",
       "12  190_few_anno.xml  chemical      P                Putrescine   CHEBI:26406   \n",
       "13  190_few_anno.xml  chemical      P                Putrescine  CHEBI:201718   \n",
       "14  190_few_anno.xml  chemical      P                Putrescine   CHEBI:44736   \n",
       "15  190_few_anno.xml  chemical      S                  Spermine   CHEBI:15746   \n",
       "16  190_few_anno.xml  chemical      S                  Spermine   CHEBI:45725   \n",
       "17  190_few_anno.xml  chemical      S                  Spermine   CHEBI:59564   \n",
       "18  190_few_anno.xml  chemical      S                  Spermine   CHEBI:39476   \n",
       "19  190_few_anno.xml  chemical      S                  Spermine   CHEBI:30348   \n",
       "20  190_few_anno.xml  chemical      D                Spermidine   CHEBI:16610   \n",
       "21  190_few_anno.xml  chemical      D                Spermidine   CHEBI:57834   \n",
       "22  190_few_anno.xml  chemical      D                Spermidine   CHEBI:39476   \n",
       "23  190_few_anno.xml  chemical      D                Spermidine   CHEBI:64860   \n",
       "24  190_few_anno.xml  chemical      D                Spermidine   CHEBI:16841   \n",
       "25  190_few_anno.xml  chemical     aS         N1-Acetylspermine   CHEBI:17312   \n",
       "26  190_few_anno.xml  chemical     aS         N1-Acetylspermine   CHEBI:22205   \n",
       "27  190_few_anno.xml  chemical     aS         N1-Acetylspermine  CHEBI:125358   \n",
       "28  190_few_anno.xml  chemical     aS         N1-Acetylspermine   CHEBI:58101   \n",
       "29  190_few_anno.xml  chemical     aS         N1-Acetylspermine   CHEBI:73685   \n",
       "30  190_few_anno.xml  chemical     aD       N1-Acetylspermidine   CHEBI:17927   \n",
       "31  190_few_anno.xml  chemical     aD       N1-Acetylspermidine   CHEBI:22204   \n",
       "32  190_few_anno.xml  chemical     aD       N1-Acetylspermidine   CHEBI:27911   \n",
       "33  190_few_anno.xml  chemical     aD       N1-Acetylspermidine   CHEBI:16437   \n",
       "34  190_few_anno.xml  chemical     aD       N1-Acetylspermidine  CHEBI:195636   \n",
       "35  190_few_anno.xml  chemical    Met                Methionine   CHEBI:16643   \n",
       "36  190_few_anno.xml  chemical    Met                Methionine   CHEBI:16811   \n",
       "37  190_few_anno.xml  chemical    Met                Methionine   CHEBI:64558   \n",
       "38  190_few_anno.xml  chemical    Met                Methionine   CHEBI:16044   \n",
       "39  190_few_anno.xml  chemical    Met                Methionine   CHEBI:57844   \n",
       "40  190_few_anno.xml  chemical    ORN               L-Ornithine   CHEBI:18257   \n",
       "41  190_few_anno.xml  chemical    ORN               L-Ornithine   CHEBI:44667   \n",
       "42  190_few_anno.xml  chemical    ORN               L-Ornithine   CHEBI:15729   \n",
       "43  190_few_anno.xml  chemical    ORN               L-Ornithine   CHEBI:46911   \n",
       "44  190_few_anno.xml  chemical    ORN               L-Ornithine   CHEBI:28300   \n",
       "45  190_few_anno.xml  chemical  AcCoA                Acetyl-CoA   CHEBI:15351   \n",
       "46  190_few_anno.xml  chemical  AcCoA                Acetyl-CoA   CHEBI:57288   \n",
       "47  190_few_anno.xml  chemical  AcCoA                Acetyl-CoA   CHEBI:57286   \n",
       "48  190_few_anno.xml  chemical  AcCoA                Acetyl-CoA  CHEBI:180918   \n",
       "49  190_few_anno.xml  chemical  AcCoA                Acetyl-CoA   CHEBI:15345   \n",
       "\n",
       "                          annotation_label  match_score  existing  \\\n",
       "0                     s-adenosylmethionine        1.000         1   \n",
       "1                     s-adenosylmethionine        1.000         0   \n",
       "2                     s-adenosylmethionine        1.000         0   \n",
       "3                 s-adenosylmethioninamine        0.926         0   \n",
       "4               s-adenosylmethioninaminium        0.807         0   \n",
       "5                 s-adenosylmethioninamine        1.000         1   \n",
       "6                     s-adenosylmethionine        0.926         0   \n",
       "7                     s-adenosylmethionine        0.926         0   \n",
       "8                     s-adenosylmethionine        0.926         0   \n",
       "9               s-adenosylmethioninaminium        0.907         0   \n",
       "10                              putrescine        1.000         0   \n",
       "11                              putrescine        1.000         0   \n",
       "12                             putrescines        0.912         0   \n",
       "13       1,4-diaminobutane dihydrochloride        0.780         0   \n",
       "14                   1,4-diaminobutan-2-ol        0.712         0   \n",
       "15                                spermine        1.000         0   \n",
       "16                                spermine        1.000         0   \n",
       "17                              spermidine        0.983         0   \n",
       "18                              spermidine        0.864         0   \n",
       "19                         spermatheridine        0.762         0   \n",
       "20                              spermidine        1.000         0   \n",
       "21                              spermidine        1.000         0   \n",
       "22                                spermine        0.769         0   \n",
       "23  n,n'-bis(3-aminopropyl)ethylenediamine        0.741         0   \n",
       "24    n-(3-aminopropyl)-1,5-pentanediamine        0.718         0   \n",
       "25                       n1-acetylspermine        1.000         0   \n",
       "26                     n(1)-acetylspermine        1.000         0   \n",
       "27                 n1,n12-diacetylspermine        0.731         0   \n",
       "28                      n-acetyloctopamine        0.726         0   \n",
       "29                          acetylspermine        0.691         0   \n",
       "30                     n1-acetylspermidine        1.000         0   \n",
       "31         n1-acetyl,n8-succinylspermidine        1.000         0   \n",
       "32                   n(1)-acetylspermidine        0.878         0   \n",
       "33                        acetylspermidine        0.838         0   \n",
       "34                     n8-acetylspermidine        0.830         0   \n",
       "35                              methionine        1.000         0   \n",
       "36                              methionine        1.000         0   \n",
       "37                              methionine        1.000         0   \n",
       "38                    methionyl-methionine        1.000         0   \n",
       "39                            l-methionine        1.000         0   \n",
       "40                               ornithine        1.000         0   \n",
       "41                               ornithine        1.000         0   \n",
       "42                             l-ornithine        1.000         0   \n",
       "43                             l-ornithine        1.000         0   \n",
       "44                         ornithine anion        0.872         0   \n",
       "45                              acetyl-coa        1.000         0   \n",
       "46                              acetyl-coa        1.000         0   \n",
       "47                         acetoacetyl-coa        0.835         0   \n",
       "48          acetyl coenzyme a (acetyl-coa)        0.877         0   \n",
       "49                  acetoacetyl coenzyme a        0.876         0   \n",
       "\n",
       "   update_annotation  \n",
       "0               keep  \n",
       "1             ignore  \n",
       "2             ignore  \n",
       "3             ignore  \n",
       "4             ignore  \n",
       "5               keep  \n",
       "6             ignore  \n",
       "7             ignore  \n",
       "8             ignore  \n",
       "9             ignore  \n",
       "10               add  \n",
       "11            ignore  \n",
       "12            ignore  \n",
       "13            ignore  \n",
       "14            ignore  \n",
       "15               add  \n",
       "16            ignore  \n",
       "17            ignore  \n",
       "18            ignore  \n",
       "19            ignore  \n",
       "20               add  \n",
       "21            ignore  \n",
       "22            ignore  \n",
       "23            ignore  \n",
       "24            ignore  \n",
       "25               add  \n",
       "26            ignore  \n",
       "27            ignore  \n",
       "28            ignore  \n",
       "29            ignore  \n",
       "30               add  \n",
       "31            ignore  \n",
       "32            ignore  \n",
       "33            ignore  \n",
       "34            ignore  \n",
       "35               add  \n",
       "36            ignore  \n",
       "37            ignore  \n",
       "38            ignore  \n",
       "39            ignore  \n",
       "40               add  \n",
       "41            ignore  \n",
       "42            ignore  \n",
       "43            ignore  \n",
       "44            ignore  \n",
       "45               add  \n",
       "46            ignore  \n",
       "47            ignore  \n",
       "48            ignore  \n",
       "49            ignore  "
      ]
     },
     "execution_count": 5,
     "metadata": {},
     "output_type": "execute_result"
    }
   ],
   "source": [
    "recommendations_df"
   ]
  },
  {
   "cell_type": "code",
   "execution_count": 6,
   "metadata": {},
   "outputs": [
    {
     "data": {
      "text/plain": [
       "{'total_entities': 11,\n",
       " 'entities_with_predictions': 10,\n",
       " 'annotation_rate': 0.9090909090909091,\n",
       " 'total_predictions': 50,\n",
       " 'matches': 2,\n",
       " 'accuracy': 1.0,\n",
       " 'total_time': 4.194497108459473,\n",
       " 'llm_time': 3.3385448455810547,\n",
       " 'search_time': 0.7138900756835938}"
      ]
     },
     "execution_count": 6,
     "metadata": {},
     "output_type": "execute_result"
    }
   ],
   "source": [
    "metrics"
   ]
  },
  {
   "cell_type": "markdown",
   "metadata": {},
   "source": [
    "## Curate a model with existing annotations\n",
    "\n",
    "Evaluation of a single model with existing annotations. \n",
    "Will only look at the species with existing annotations."
   ]
  },
  {
   "cell_type": "code",
   "execution_count": 2,
   "metadata": {},
   "outputs": [
    {
     "name": "stdout",
     "output_type": "stream",
     "text": [
      "✓ Test model found: test_models/BIOMD0000000190.xml\n"
     ]
    }
   ],
   "source": [
    "test_model_file = \"test_models/BIOMD0000000190.xml\"\n",
    "# Check if test model exists\n",
    "if os.path.exists(test_model_file):\n",
    "    print(f\"✓ Test model found: {test_model_file}\")\n",
    "else:\n",
    "    print(f\"✗ Test model not found: {test_model_file}\")"
   ]
  },
  {
   "cell_type": "code",
   "execution_count": 3,
   "metadata": {},
   "outputs": [
    {
     "name": "stdout",
     "output_type": "stream",
     "text": [
      "INFO Starting curation for model: test_models/BIOMD0000000190.xml\n",
      "INFO Using LLM model: Llama-3.3-70B-Instruct\n",
      "INFO Using method: rag for database search\n",
      "INFO Entity type: chemical, Database: chebi\n",
      "INFO >>>Step 1: Finding existing annotations...<<<\n",
      "INFO Found 11 entities with existing annotations\n",
      "INFO Selected 10 entities for curation\n",
      "INFO >>>Step 2: Extracting model context...<<<\n",
      "INFO Extracted context for model: Rodriguez-Caso2006_Polyamine_Metabolism\n",
      "INFO >>>Step 3: Querying LLM ({llm_model})...<<<\n",
      "INFO HTTP Request: POST https://api.llama.com/compat/v1/chat/completions \"HTTP/1.1 200 OK\"\n",
      "INFO LLM response received in 3.98s\n",
      "INFO Parsed synonyms for 10 entities\n",
      "INFO >>>Step 4: Searching chebi database...<<<\n",
      "INFO Anonymized telemetry enabled. See                     https://docs.trychroma.com/telemetry for more information.\n",
      "INFO Using sentence transformer all-MiniLM-L6-v2 model\n",
      "INFO Load pretrained SentenceTransformer: all-MiniLM-L6-v2\n",
      "INFO Using RAG embeddings from collection 'chebi_default_numonly' with default model\n"
     ]
    },
    {
     "data": {
      "application/vnd.jupyter.widget-view+json": {
       "model_id": "e430d39bec0149cfb0ef7e9eae7f84a2",
       "version_major": 2,
       "version_minor": 0
      },
      "text/plain": [
       "Batches:   0%|          | 0/1 [00:00<?, ?it/s]"
      ]
     },
     "metadata": {},
     "output_type": "display_data"
    },
    {
     "data": {
      "application/vnd.jupyter.widget-view+json": {
       "model_id": "5c2287c633924838aca4bb43c7aa4a25",
       "version_major": 2,
       "version_minor": 0
      },
      "text/plain": [
       "Batches:   0%|          | 0/1 [00:00<?, ?it/s]"
      ]
     },
     "metadata": {},
     "output_type": "display_data"
    },
    {
     "data": {
      "application/vnd.jupyter.widget-view+json": {
       "model_id": "83decd020a994501b8598942f5262d1f",
       "version_major": 2,
       "version_minor": 0
      },
      "text/plain": [
       "Batches:   0%|          | 0/1 [00:00<?, ?it/s]"
      ]
     },
     "metadata": {},
     "output_type": "display_data"
    },
    {
     "data": {
      "application/vnd.jupyter.widget-view+json": {
       "model_id": "46da1ad33ffa420ca2c58751756a6241",
       "version_major": 2,
       "version_minor": 0
      },
      "text/plain": [
       "Batches:   0%|          | 0/1 [00:00<?, ?it/s]"
      ]
     },
     "metadata": {},
     "output_type": "display_data"
    },
    {
     "data": {
      "application/vnd.jupyter.widget-view+json": {
       "model_id": "5c965a436e2d48a4a4a15f0bab47cc74",
       "version_major": 2,
       "version_minor": 0
      },
      "text/plain": [
       "Batches:   0%|          | 0/1 [00:00<?, ?it/s]"
      ]
     },
     "metadata": {},
     "output_type": "display_data"
    },
    {
     "data": {
      "application/vnd.jupyter.widget-view+json": {
       "model_id": "59cc26bae4cf4062b6a40d88ca88022e",
       "version_major": 2,
       "version_minor": 0
      },
      "text/plain": [
       "Batches:   0%|          | 0/1 [00:00<?, ?it/s]"
      ]
     },
     "metadata": {},
     "output_type": "display_data"
    },
    {
     "data": {
      "application/vnd.jupyter.widget-view+json": {
       "model_id": "57c7cf29704749ec9e6b1c247e58599c",
       "version_major": 2,
       "version_minor": 0
      },
      "text/plain": [
       "Batches:   0%|          | 0/1 [00:00<?, ?it/s]"
      ]
     },
     "metadata": {},
     "output_type": "display_data"
    },
    {
     "data": {
      "application/vnd.jupyter.widget-view+json": {
       "model_id": "763984a1f2b945d58213a8e1f8461161",
       "version_major": 2,
       "version_minor": 0
      },
      "text/plain": [
       "Batches:   0%|          | 0/1 [00:00<?, ?it/s]"
      ]
     },
     "metadata": {},
     "output_type": "display_data"
    },
    {
     "data": {
      "application/vnd.jupyter.widget-view+json": {
       "model_id": "d6ff03d529e0465599edbadf47233773",
       "version_major": 2,
       "version_minor": 0
      },
      "text/plain": [
       "Batches:   0%|          | 0/1 [00:00<?, ?it/s]"
      ]
     },
     "metadata": {},
     "output_type": "display_data"
    },
    {
     "data": {
      "application/vnd.jupyter.widget-view+json": {
       "model_id": "cff3af96a9204738a6b3dddc2c9ea4fa",
       "version_major": 2,
       "version_minor": 0
      },
      "text/plain": [
       "Batches:   0%|          | 0/1 [00:00<?, ?it/s]"
      ]
     },
     "metadata": {},
     "output_type": "display_data"
    },
    {
     "data": {
      "application/vnd.jupyter.widget-view+json": {
       "model_id": "73bd395df9b8438c98078116bc8c63d0",
       "version_major": 2,
       "version_minor": 0
      },
      "text/plain": [
       "Batches:   0%|          | 0/1 [00:00<?, ?it/s]"
      ]
     },
     "metadata": {},
     "output_type": "display_data"
    },
    {
     "data": {
      "application/vnd.jupyter.widget-view+json": {
       "model_id": "29a4d741b93446d3af942fb837ec20db",
       "version_major": 2,
       "version_minor": 0
      },
      "text/plain": [
       "Batches:   0%|          | 0/1 [00:00<?, ?it/s]"
      ]
     },
     "metadata": {},
     "output_type": "display_data"
    },
    {
     "data": {
      "application/vnd.jupyter.widget-view+json": {
       "model_id": "770ca5e4f7264921ae5ba63a54799ed5",
       "version_major": 2,
       "version_minor": 0
      },
      "text/plain": [
       "Batches:   0%|          | 0/1 [00:00<?, ?it/s]"
      ]
     },
     "metadata": {},
     "output_type": "display_data"
    },
    {
     "data": {
      "application/vnd.jupyter.widget-view+json": {
       "model_id": "35a908436a5441daad13949f62c4b776",
       "version_major": 2,
       "version_minor": 0
      },
      "text/plain": [
       "Batches:   0%|          | 0/1 [00:00<?, ?it/s]"
      ]
     },
     "metadata": {},
     "output_type": "display_data"
    },
    {
     "data": {
      "application/vnd.jupyter.widget-view+json": {
       "model_id": "f1e3a8825b5042b3831e869444c074b6",
       "version_major": 2,
       "version_minor": 0
      },
      "text/plain": [
       "Batches:   0%|          | 0/1 [00:00<?, ?it/s]"
      ]
     },
     "metadata": {},
     "output_type": "display_data"
    },
    {
     "data": {
      "application/vnd.jupyter.widget-view+json": {
       "model_id": "9c76f56738bf4057a6c1528eedc19b9c",
       "version_major": 2,
       "version_minor": 0
      },
      "text/plain": [
       "Batches:   0%|          | 0/1 [00:00<?, ?it/s]"
      ]
     },
     "metadata": {},
     "output_type": "display_data"
    },
    {
     "data": {
      "application/vnd.jupyter.widget-view+json": {
       "model_id": "7b1140d0f890411d8588280b5b4c5625",
       "version_major": 2,
       "version_minor": 0
      },
      "text/plain": [
       "Batches:   0%|          | 0/1 [00:00<?, ?it/s]"
      ]
     },
     "metadata": {},
     "output_type": "display_data"
    },
    {
     "data": {
      "application/vnd.jupyter.widget-view+json": {
       "model_id": "59e7b741729d4c009f85cd82d8acefff",
       "version_major": 2,
       "version_minor": 0
      },
      "text/plain": [
       "Batches:   0%|          | 0/1 [00:00<?, ?it/s]"
      ]
     },
     "metadata": {},
     "output_type": "display_data"
    },
    {
     "data": {
      "application/vnd.jupyter.widget-view+json": {
       "model_id": "ad2cd700027a4795877a66ab55ebd8bd",
       "version_major": 2,
       "version_minor": 0
      },
      "text/plain": [
       "Batches:   0%|          | 0/1 [00:00<?, ?it/s]"
      ]
     },
     "metadata": {},
     "output_type": "display_data"
    },
    {
     "data": {
      "application/vnd.jupyter.widget-view+json": {
       "model_id": "d8d7b636d71f4dc6af7f14b47c2ea971",
       "version_major": 2,
       "version_minor": 0
      },
      "text/plain": [
       "Batches:   0%|          | 0/1 [00:00<?, ?it/s]"
      ]
     },
     "metadata": {},
     "output_type": "display_data"
    },
    {
     "data": {
      "application/vnd.jupyter.widget-view+json": {
       "model_id": "47d31d8f49ed49b5a852d13adc3f7176",
       "version_major": 2,
       "version_minor": 0
      },
      "text/plain": [
       "Batches:   0%|          | 0/1 [00:00<?, ?it/s]"
      ]
     },
     "metadata": {},
     "output_type": "display_data"
    },
    {
     "data": {
      "application/vnd.jupyter.widget-view+json": {
       "model_id": "bebf16dabe654532964f662fff39fd75",
       "version_major": 2,
       "version_minor": 0
      },
      "text/plain": [
       "Batches:   0%|          | 0/1 [00:00<?, ?it/s]"
      ]
     },
     "metadata": {},
     "output_type": "display_data"
    },
    {
     "data": {
      "application/vnd.jupyter.widget-view+json": {
       "model_id": "4d3f3a287e3a4e40b6f4af669da65e38",
       "version_major": 2,
       "version_minor": 0
      },
      "text/plain": [
       "Batches:   0%|          | 0/1 [00:00<?, ?it/s]"
      ]
     },
     "metadata": {},
     "output_type": "display_data"
    },
    {
     "data": {
      "application/vnd.jupyter.widget-view+json": {
       "model_id": "b8fc5875785045978a7518547b59b67f",
       "version_major": 2,
       "version_minor": 0
      },
      "text/plain": [
       "Batches:   0%|          | 0/1 [00:00<?, ?it/s]"
      ]
     },
     "metadata": {},
     "output_type": "display_data"
    },
    {
     "data": {
      "application/vnd.jupyter.widget-view+json": {
       "model_id": "00ea031736314d81805b8ee10c3d470c",
       "version_major": 2,
       "version_minor": 0
      },
      "text/plain": [
       "Batches:   0%|          | 0/1 [00:00<?, ?it/s]"
      ]
     },
     "metadata": {},
     "output_type": "display_data"
    },
    {
     "data": {
      "application/vnd.jupyter.widget-view+json": {
       "model_id": "3386331ad8a0415bb89f290fe981a87b",
       "version_major": 2,
       "version_minor": 0
      },
      "text/plain": [
       "Batches:   0%|          | 0/1 [00:00<?, ?it/s]"
      ]
     },
     "metadata": {},
     "output_type": "display_data"
    },
    {
     "data": {
      "application/vnd.jupyter.widget-view+json": {
       "model_id": "97ebe00155a8482ca248dceffc6a768f",
       "version_major": 2,
       "version_minor": 0
      },
      "text/plain": [
       "Batches:   0%|          | 0/1 [00:00<?, ?it/s]"
      ]
     },
     "metadata": {},
     "output_type": "display_data"
    },
    {
     "data": {
      "application/vnd.jupyter.widget-view+json": {
       "model_id": "dc9e928d76f348eb82ef3d833ec8e1b0",
       "version_major": 2,
       "version_minor": 0
      },
      "text/plain": [
       "Batches:   0%|          | 0/1 [00:00<?, ?it/s]"
      ]
     },
     "metadata": {},
     "output_type": "display_data"
    },
    {
     "data": {
      "application/vnd.jupyter.widget-view+json": {
       "model_id": "3bd5ac39026d490caa86a55d2a0c1a09",
       "version_major": 2,
       "version_minor": 0
      },
      "text/plain": [
       "Batches:   0%|          | 0/1 [00:00<?, ?it/s]"
      ]
     },
     "metadata": {},
     "output_type": "display_data"
    },
    {
     "data": {
      "application/vnd.jupyter.widget-view+json": {
       "model_id": "9eac532948c64fd0a8282ac5a686a01b",
       "version_major": 2,
       "version_minor": 0
      },
      "text/plain": [
       "Batches:   0%|          | 0/1 [00:00<?, ?it/s]"
      ]
     },
     "metadata": {},
     "output_type": "display_data"
    },
    {
     "name": "stdout",
     "output_type": "stream",
     "text": [
      "INFO Database search completed in 6.65s\n",
      "INFO >>>Step 5: Generating recommendation table...<<<\n",
      "INFO Curation completed in 10.74s\n",
      "INFO Generated 50 recommendations\n"
     ]
    }
   ],
   "source": [
    "# Test with a single model\n",
    "recommendations_df, metrics = curate_model(\n",
    "    model_file=test_model_file,\n",
    "    llm_model=llm_model,\n",
    "    method=\"rag\",\n",
    "    max_entities=max_entities_per_model,\n",
    "    entity_type=entity_type,\n",
    "    database=database\n",
    ")"
   ]
  },
  {
   "cell_type": "code",
   "execution_count": 4,
   "metadata": {},
   "outputs": [
    {
     "data": {
      "text/plain": [
       "{'total_entities': 11,\n",
       " 'entities_with_predictions': 10,\n",
       " 'annotation_rate': 0.9090909090909091,\n",
       " 'total_predictions': 50,\n",
       " 'matches': 9,\n",
       " 'accuracy': 0.9,\n",
       " 'total_time': 10.740984678268433,\n",
       " 'llm_time': 3.9774041175842285,\n",
       " 'search_time': 6.647316932678223}"
      ]
     },
     "execution_count": 4,
     "metadata": {},
     "output_type": "execute_result"
    }
   ],
   "source": [
    "metrics"
   ]
  },
  {
   "cell_type": "code",
   "execution_count": 5,
   "metadata": {},
   "outputs": [
    {
     "data": {
      "text/html": [
       "<div>\n",
       "<style scoped>\n",
       "    .dataframe tbody tr th:only-of-type {\n",
       "        vertical-align: middle;\n",
       "    }\n",
       "\n",
       "    .dataframe tbody tr th {\n",
       "        vertical-align: top;\n",
       "    }\n",
       "\n",
       "    .dataframe thead th {\n",
       "        text-align: right;\n",
       "    }\n",
       "</style>\n",
       "<table border=\"1\" class=\"dataframe\">\n",
       "  <thead>\n",
       "    <tr style=\"text-align: right;\">\n",
       "      <th></th>\n",
       "      <th>file</th>\n",
       "      <th>type</th>\n",
       "      <th>id</th>\n",
       "      <th>display_name</th>\n",
       "      <th>annotation</th>\n",
       "      <th>annotation_label</th>\n",
       "      <th>match_score</th>\n",
       "      <th>existing</th>\n",
       "      <th>update_annotation</th>\n",
       "    </tr>\n",
       "  </thead>\n",
       "  <tbody>\n",
       "    <tr>\n",
       "      <th>0</th>\n",
       "      <td>BIOMD0000000190.xml</td>\n",
       "      <td>chemical</td>\n",
       "      <td>SAM</td>\n",
       "      <td>S-adenosyl-L-methionine</td>\n",
       "      <td>CHEBI:15414</td>\n",
       "      <td>s-adenosylmethionine</td>\n",
       "      <td>1.000</td>\n",
       "      <td>1</td>\n",
       "      <td>keep</td>\n",
       "    </tr>\n",
       "    <tr>\n",
       "      <th>1</th>\n",
       "      <td>BIOMD0000000190.xml</td>\n",
       "      <td>chemical</td>\n",
       "      <td>SAM</td>\n",
       "      <td>S-adenosyl-L-methionine</td>\n",
       "      <td>CHEBI:67040</td>\n",
       "      <td>s-adenosylmethionine</td>\n",
       "      <td>1.000</td>\n",
       "      <td>0</td>\n",
       "      <td>ignore</td>\n",
       "    </tr>\n",
       "    <tr>\n",
       "      <th>2</th>\n",
       "      <td>BIOMD0000000190.xml</td>\n",
       "      <td>chemical</td>\n",
       "      <td>SAM</td>\n",
       "      <td>S-adenosyl-L-methionine</td>\n",
       "      <td>CHEBI:33442</td>\n",
       "      <td>s-adenosylmethionine</td>\n",
       "      <td>1.000</td>\n",
       "      <td>0</td>\n",
       "      <td>ignore</td>\n",
       "    </tr>\n",
       "    <tr>\n",
       "      <th>3</th>\n",
       "      <td>BIOMD0000000190.xml</td>\n",
       "      <td>chemical</td>\n",
       "      <td>SAM</td>\n",
       "      <td>S-adenosyl-L-methionine</td>\n",
       "      <td>CHEBI:15625</td>\n",
       "      <td>s-adenosylmethioninamine</td>\n",
       "      <td>0.926</td>\n",
       "      <td>0</td>\n",
       "      <td>ignore</td>\n",
       "    </tr>\n",
       "    <tr>\n",
       "      <th>4</th>\n",
       "      <td>BIOMD0000000190.xml</td>\n",
       "      <td>chemical</td>\n",
       "      <td>SAM</td>\n",
       "      <td>S-adenosyl-L-methionine</td>\n",
       "      <td>CHEBI:57443</td>\n",
       "      <td>s-adenosylmethioninaminium</td>\n",
       "      <td>0.807</td>\n",
       "      <td>0</td>\n",
       "      <td>ignore</td>\n",
       "    </tr>\n",
       "    <tr>\n",
       "      <th>5</th>\n",
       "      <td>BIOMD0000000190.xml</td>\n",
       "      <td>chemical</td>\n",
       "      <td>A</td>\n",
       "      <td>S-adenosylmethioninamine</td>\n",
       "      <td>CHEBI:15625</td>\n",
       "      <td>decarboxylated s-adenosylmethionine</td>\n",
       "      <td>1.000</td>\n",
       "      <td>1</td>\n",
       "      <td>keep</td>\n",
       "    </tr>\n",
       "    <tr>\n",
       "      <th>6</th>\n",
       "      <td>BIOMD0000000190.xml</td>\n",
       "      <td>chemical</td>\n",
       "      <td>A</td>\n",
       "      <td>S-adenosylmethioninamine</td>\n",
       "      <td>CHEBI:67040</td>\n",
       "      <td>decarboxylated s-adenosylmethionine(2+)</td>\n",
       "      <td>0.926</td>\n",
       "      <td>0</td>\n",
       "      <td>ignore</td>\n",
       "    </tr>\n",
       "    <tr>\n",
       "      <th>7</th>\n",
       "      <td>BIOMD0000000190.xml</td>\n",
       "      <td>chemical</td>\n",
       "      <td>A</td>\n",
       "      <td>S-adenosylmethioninamine</td>\n",
       "      <td>CHEBI:33442</td>\n",
       "      <td>s-adenosylmethionine decarboxylase inhibitor</td>\n",
       "      <td>0.926</td>\n",
       "      <td>0</td>\n",
       "      <td>ignore</td>\n",
       "    </tr>\n",
       "    <tr>\n",
       "      <th>8</th>\n",
       "      <td>BIOMD0000000190.xml</td>\n",
       "      <td>chemical</td>\n",
       "      <td>A</td>\n",
       "      <td>S-adenosylmethioninamine</td>\n",
       "      <td>CHEBI:15414</td>\n",
       "      <td>s-adenosylmethionine</td>\n",
       "      <td>0.926</td>\n",
       "      <td>0</td>\n",
       "      <td>ignore</td>\n",
       "    </tr>\n",
       "    <tr>\n",
       "      <th>9</th>\n",
       "      <td>BIOMD0000000190.xml</td>\n",
       "      <td>chemical</td>\n",
       "      <td>A</td>\n",
       "      <td>S-adenosylmethioninamine</td>\n",
       "      <td>CHEBI:57443</td>\n",
       "      <td>s-adenosylmethionine</td>\n",
       "      <td>0.907</td>\n",
       "      <td>0</td>\n",
       "      <td>ignore</td>\n",
       "    </tr>\n",
       "    <tr>\n",
       "      <th>10</th>\n",
       "      <td>BIOMD0000000190.xml</td>\n",
       "      <td>chemical</td>\n",
       "      <td>P</td>\n",
       "      <td>Putrescine</td>\n",
       "      <td>CHEBI:17148</td>\n",
       "      <td>putrescine</td>\n",
       "      <td>1.000</td>\n",
       "      <td>1</td>\n",
       "      <td>keep</td>\n",
       "    </tr>\n",
       "    <tr>\n",
       "      <th>11</th>\n",
       "      <td>BIOMD0000000190.xml</td>\n",
       "      <td>chemical</td>\n",
       "      <td>P</td>\n",
       "      <td>Putrescine</td>\n",
       "      <td>CHEBI:326268</td>\n",
       "      <td>putrescine</td>\n",
       "      <td>1.000</td>\n",
       "      <td>0</td>\n",
       "      <td>ignore</td>\n",
       "    </tr>\n",
       "    <tr>\n",
       "      <th>12</th>\n",
       "      <td>BIOMD0000000190.xml</td>\n",
       "      <td>chemical</td>\n",
       "      <td>P</td>\n",
       "      <td>Putrescine</td>\n",
       "      <td>CHEBI:26406</td>\n",
       "      <td>putrescines</td>\n",
       "      <td>0.912</td>\n",
       "      <td>0</td>\n",
       "      <td>ignore</td>\n",
       "    </tr>\n",
       "    <tr>\n",
       "      <th>13</th>\n",
       "      <td>BIOMD0000000190.xml</td>\n",
       "      <td>chemical</td>\n",
       "      <td>P</td>\n",
       "      <td>Putrescine</td>\n",
       "      <td>CHEBI:201718</td>\n",
       "      <td>1,4-diaminobutane dihydrochloride</td>\n",
       "      <td>0.780</td>\n",
       "      <td>0</td>\n",
       "      <td>ignore</td>\n",
       "    </tr>\n",
       "    <tr>\n",
       "      <th>14</th>\n",
       "      <td>BIOMD0000000190.xml</td>\n",
       "      <td>chemical</td>\n",
       "      <td>P</td>\n",
       "      <td>Putrescine</td>\n",
       "      <td>CHEBI:44736</td>\n",
       "      <td>1,4-diaminobutan-2-ol</td>\n",
       "      <td>0.712</td>\n",
       "      <td>0</td>\n",
       "      <td>ignore</td>\n",
       "    </tr>\n",
       "    <tr>\n",
       "      <th>15</th>\n",
       "      <td>BIOMD0000000190.xml</td>\n",
       "      <td>chemical</td>\n",
       "      <td>S</td>\n",
       "      <td>Spermine</td>\n",
       "      <td>CHEBI:15746</td>\n",
       "      <td>spermine</td>\n",
       "      <td>1.000</td>\n",
       "      <td>1</td>\n",
       "      <td>keep</td>\n",
       "    </tr>\n",
       "    <tr>\n",
       "      <th>16</th>\n",
       "      <td>BIOMD0000000190.xml</td>\n",
       "      <td>chemical</td>\n",
       "      <td>S</td>\n",
       "      <td>Spermine</td>\n",
       "      <td>CHEBI:45725</td>\n",
       "      <td>spermine</td>\n",
       "      <td>1.000</td>\n",
       "      <td>0</td>\n",
       "      <td>ignore</td>\n",
       "    </tr>\n",
       "    <tr>\n",
       "      <th>17</th>\n",
       "      <td>BIOMD0000000190.xml</td>\n",
       "      <td>chemical</td>\n",
       "      <td>S</td>\n",
       "      <td>Spermine</td>\n",
       "      <td>CHEBI:59564</td>\n",
       "      <td>spermidine</td>\n",
       "      <td>0.983</td>\n",
       "      <td>0</td>\n",
       "      <td>ignore</td>\n",
       "    </tr>\n",
       "    <tr>\n",
       "      <th>18</th>\n",
       "      <td>BIOMD0000000190.xml</td>\n",
       "      <td>chemical</td>\n",
       "      <td>S</td>\n",
       "      <td>Spermine</td>\n",
       "      <td>CHEBI:39476</td>\n",
       "      <td>spermidine</td>\n",
       "      <td>0.864</td>\n",
       "      <td>0</td>\n",
       "      <td>ignore</td>\n",
       "    </tr>\n",
       "    <tr>\n",
       "      <th>19</th>\n",
       "      <td>BIOMD0000000190.xml</td>\n",
       "      <td>chemical</td>\n",
       "      <td>S</td>\n",
       "      <td>Spermine</td>\n",
       "      <td>CHEBI:30348</td>\n",
       "      <td>spermatheridine</td>\n",
       "      <td>0.762</td>\n",
       "      <td>0</td>\n",
       "      <td>ignore</td>\n",
       "    </tr>\n",
       "    <tr>\n",
       "      <th>20</th>\n",
       "      <td>BIOMD0000000190.xml</td>\n",
       "      <td>chemical</td>\n",
       "      <td>D</td>\n",
       "      <td>Spermidine</td>\n",
       "      <td>CHEBI:16610</td>\n",
       "      <td>spermidine</td>\n",
       "      <td>1.000</td>\n",
       "      <td>1</td>\n",
       "      <td>keep</td>\n",
       "    </tr>\n",
       "    <tr>\n",
       "      <th>21</th>\n",
       "      <td>BIOMD0000000190.xml</td>\n",
       "      <td>chemical</td>\n",
       "      <td>D</td>\n",
       "      <td>Spermidine</td>\n",
       "      <td>CHEBI:57834</td>\n",
       "      <td>spermidine</td>\n",
       "      <td>1.000</td>\n",
       "      <td>0</td>\n",
       "      <td>ignore</td>\n",
       "    </tr>\n",
       "    <tr>\n",
       "      <th>22</th>\n",
       "      <td>BIOMD0000000190.xml</td>\n",
       "      <td>chemical</td>\n",
       "      <td>D</td>\n",
       "      <td>Spermidine</td>\n",
       "      <td>CHEBI:39476</td>\n",
       "      <td>spermine</td>\n",
       "      <td>0.769</td>\n",
       "      <td>0</td>\n",
       "      <td>ignore</td>\n",
       "    </tr>\n",
       "    <tr>\n",
       "      <th>23</th>\n",
       "      <td>BIOMD0000000190.xml</td>\n",
       "      <td>chemical</td>\n",
       "      <td>D</td>\n",
       "      <td>Spermidine</td>\n",
       "      <td>CHEBI:64860</td>\n",
       "      <td>n,n'-bis(3-aminopropyl)ethylenediamine</td>\n",
       "      <td>0.741</td>\n",
       "      <td>0</td>\n",
       "      <td>ignore</td>\n",
       "    </tr>\n",
       "    <tr>\n",
       "      <th>24</th>\n",
       "      <td>BIOMD0000000190.xml</td>\n",
       "      <td>chemical</td>\n",
       "      <td>D</td>\n",
       "      <td>Spermidine</td>\n",
       "      <td>CHEBI:16841</td>\n",
       "      <td>n-(3-aminopropyl)-1,5-pentanediamine</td>\n",
       "      <td>0.718</td>\n",
       "      <td>0</td>\n",
       "      <td>ignore</td>\n",
       "    </tr>\n",
       "    <tr>\n",
       "      <th>25</th>\n",
       "      <td>BIOMD0000000190.xml</td>\n",
       "      <td>chemical</td>\n",
       "      <td>aS</td>\n",
       "      <td>N1-Acetylspermine</td>\n",
       "      <td>CHEBI:17312</td>\n",
       "      <td>n1-acetylspermine</td>\n",
       "      <td>1.000</td>\n",
       "      <td>1</td>\n",
       "      <td>keep</td>\n",
       "    </tr>\n",
       "    <tr>\n",
       "      <th>26</th>\n",
       "      <td>BIOMD0000000190.xml</td>\n",
       "      <td>chemical</td>\n",
       "      <td>aS</td>\n",
       "      <td>N1-Acetylspermine</td>\n",
       "      <td>CHEBI:58101</td>\n",
       "      <td>n(1)-acetylspermine</td>\n",
       "      <td>0.726</td>\n",
       "      <td>0</td>\n",
       "      <td>ignore</td>\n",
       "    </tr>\n",
       "    <tr>\n",
       "      <th>27</th>\n",
       "      <td>BIOMD0000000190.xml</td>\n",
       "      <td>chemical</td>\n",
       "      <td>aS</td>\n",
       "      <td>N1-Acetylspermine</td>\n",
       "      <td>CHEBI:28101</td>\n",
       "      <td>n1,n12-diacetylspermine</td>\n",
       "      <td>0.660</td>\n",
       "      <td>0</td>\n",
       "      <td>ignore</td>\n",
       "    </tr>\n",
       "    <tr>\n",
       "      <th>28</th>\n",
       "      <td>BIOMD0000000190.xml</td>\n",
       "      <td>chemical</td>\n",
       "      <td>aS</td>\n",
       "      <td>N1-Acetylspermine</td>\n",
       "      <td>CHEBI:125358</td>\n",
       "      <td>n-acetyloctopamine</td>\n",
       "      <td>0.635</td>\n",
       "      <td>0</td>\n",
       "      <td>ignore</td>\n",
       "    </tr>\n",
       "    <tr>\n",
       "      <th>29</th>\n",
       "      <td>BIOMD0000000190.xml</td>\n",
       "      <td>chemical</td>\n",
       "      <td>aS</td>\n",
       "      <td>N1-Acetylspermine</td>\n",
       "      <td>CHEBI:17927</td>\n",
       "      <td>n1-acetylspermidine</td>\n",
       "      <td>0.307</td>\n",
       "      <td>0</td>\n",
       "      <td>ignore</td>\n",
       "    </tr>\n",
       "    <tr>\n",
       "      <th>30</th>\n",
       "      <td>BIOMD0000000190.xml</td>\n",
       "      <td>chemical</td>\n",
       "      <td>aD</td>\n",
       "      <td>N1-Acetylspermidine</td>\n",
       "      <td>CHEBI:17927</td>\n",
       "      <td>n1-acetylspermidine</td>\n",
       "      <td>1.000</td>\n",
       "      <td>0</td>\n",
       "      <td>ignore</td>\n",
       "    </tr>\n",
       "    <tr>\n",
       "      <th>31</th>\n",
       "      <td>BIOMD0000000190.xml</td>\n",
       "      <td>chemical</td>\n",
       "      <td>aD</td>\n",
       "      <td>N1-Acetylspermidine</td>\n",
       "      <td>CHEBI:195636</td>\n",
       "      <td>n1-acetyl,n8-succinylspermidine</td>\n",
       "      <td>0.830</td>\n",
       "      <td>0</td>\n",
       "      <td>ignore</td>\n",
       "    </tr>\n",
       "    <tr>\n",
       "      <th>32</th>\n",
       "      <td>BIOMD0000000190.xml</td>\n",
       "      <td>chemical</td>\n",
       "      <td>aD</td>\n",
       "      <td>N1-Acetylspermidine</td>\n",
       "      <td>CHEBI:58324</td>\n",
       "      <td>n(1)-acetylspermidine</td>\n",
       "      <td>0.818</td>\n",
       "      <td>0</td>\n",
       "      <td>ignore</td>\n",
       "    </tr>\n",
       "    <tr>\n",
       "      <th>33</th>\n",
       "      <td>BIOMD0000000190.xml</td>\n",
       "      <td>chemical</td>\n",
       "      <td>aD</td>\n",
       "      <td>N1-Acetylspermidine</td>\n",
       "      <td>CHEBI:180913</td>\n",
       "      <td>n-(2-carboxyethyl)spermidine</td>\n",
       "      <td>0.627</td>\n",
       "      <td>0</td>\n",
       "      <td>ignore</td>\n",
       "    </tr>\n",
       "    <tr>\n",
       "      <th>34</th>\n",
       "      <td>BIOMD0000000190.xml</td>\n",
       "      <td>chemical</td>\n",
       "      <td>aD</td>\n",
       "      <td>N1-Acetylspermidine</td>\n",
       "      <td>CHEBI:17842</td>\n",
       "      <td>n1,n8-bis-(glutathionyl)spermidine</td>\n",
       "      <td>0.596</td>\n",
       "      <td>0</td>\n",
       "      <td>ignore</td>\n",
       "    </tr>\n",
       "    <tr>\n",
       "      <th>35</th>\n",
       "      <td>BIOMD0000000190.xml</td>\n",
       "      <td>chemical</td>\n",
       "      <td>Met</td>\n",
       "      <td>Methionine</td>\n",
       "      <td>CHEBI:16643</td>\n",
       "      <td>methionine</td>\n",
       "      <td>1.000</td>\n",
       "      <td>1</td>\n",
       "      <td>keep</td>\n",
       "    </tr>\n",
       "    <tr>\n",
       "      <th>36</th>\n",
       "      <td>BIOMD0000000190.xml</td>\n",
       "      <td>chemical</td>\n",
       "      <td>Met</td>\n",
       "      <td>Methionine</td>\n",
       "      <td>CHEBI:16811</td>\n",
       "      <td>methionine</td>\n",
       "      <td>1.000</td>\n",
       "      <td>0</td>\n",
       "      <td>ignore</td>\n",
       "    </tr>\n",
       "    <tr>\n",
       "      <th>37</th>\n",
       "      <td>BIOMD0000000190.xml</td>\n",
       "      <td>chemical</td>\n",
       "      <td>Met</td>\n",
       "      <td>Methionine</td>\n",
       "      <td>CHEBI:64558</td>\n",
       "      <td>methionine</td>\n",
       "      <td>1.000</td>\n",
       "      <td>0</td>\n",
       "      <td>ignore</td>\n",
       "    </tr>\n",
       "    <tr>\n",
       "      <th>38</th>\n",
       "      <td>BIOMD0000000190.xml</td>\n",
       "      <td>chemical</td>\n",
       "      <td>Met</td>\n",
       "      <td>Methionine</td>\n",
       "      <td>CHEBI:16044</td>\n",
       "      <td>methionyl-methionine</td>\n",
       "      <td>1.000</td>\n",
       "      <td>0</td>\n",
       "      <td>ignore</td>\n",
       "    </tr>\n",
       "    <tr>\n",
       "      <th>39</th>\n",
       "      <td>BIOMD0000000190.xml</td>\n",
       "      <td>chemical</td>\n",
       "      <td>Met</td>\n",
       "      <td>Methionine</td>\n",
       "      <td>CHEBI:57844</td>\n",
       "      <td>l-methionine</td>\n",
       "      <td>1.000</td>\n",
       "      <td>0</td>\n",
       "      <td>ignore</td>\n",
       "    </tr>\n",
       "    <tr>\n",
       "      <th>40</th>\n",
       "      <td>BIOMD0000000190.xml</td>\n",
       "      <td>chemical</td>\n",
       "      <td>ORN</td>\n",
       "      <td>L-Ornithine</td>\n",
       "      <td>CHEBI:18257</td>\n",
       "      <td>ornithine</td>\n",
       "      <td>1.000</td>\n",
       "      <td>0</td>\n",
       "      <td>ignore</td>\n",
       "    </tr>\n",
       "    <tr>\n",
       "      <th>41</th>\n",
       "      <td>BIOMD0000000190.xml</td>\n",
       "      <td>chemical</td>\n",
       "      <td>ORN</td>\n",
       "      <td>L-Ornithine</td>\n",
       "      <td>CHEBI:44667</td>\n",
       "      <td>ornithine</td>\n",
       "      <td>1.000</td>\n",
       "      <td>0</td>\n",
       "      <td>ignore</td>\n",
       "    </tr>\n",
       "    <tr>\n",
       "      <th>42</th>\n",
       "      <td>BIOMD0000000190.xml</td>\n",
       "      <td>chemical</td>\n",
       "      <td>ORN</td>\n",
       "      <td>L-Ornithine</td>\n",
       "      <td>CHEBI:15729</td>\n",
       "      <td>l-ornithine</td>\n",
       "      <td>1.000</td>\n",
       "      <td>1</td>\n",
       "      <td>keep</td>\n",
       "    </tr>\n",
       "    <tr>\n",
       "      <th>43</th>\n",
       "      <td>BIOMD0000000190.xml</td>\n",
       "      <td>chemical</td>\n",
       "      <td>ORN</td>\n",
       "      <td>L-Ornithine</td>\n",
       "      <td>CHEBI:46911</td>\n",
       "      <td>l-ornithine</td>\n",
       "      <td>1.000</td>\n",
       "      <td>0</td>\n",
       "      <td>ignore</td>\n",
       "    </tr>\n",
       "    <tr>\n",
       "      <th>44</th>\n",
       "      <td>BIOMD0000000190.xml</td>\n",
       "      <td>chemical</td>\n",
       "      <td>ORN</td>\n",
       "      <td>L-Ornithine</td>\n",
       "      <td>CHEBI:28300</td>\n",
       "      <td>ornithine anion</td>\n",
       "      <td>0.872</td>\n",
       "      <td>0</td>\n",
       "      <td>ignore</td>\n",
       "    </tr>\n",
       "    <tr>\n",
       "      <th>45</th>\n",
       "      <td>BIOMD0000000190.xml</td>\n",
       "      <td>chemical</td>\n",
       "      <td>AcCoA</td>\n",
       "      <td>Acetyl-CoA</td>\n",
       "      <td>CHEBI:15351</td>\n",
       "      <td>acetyl-coa</td>\n",
       "      <td>1.000</td>\n",
       "      <td>1</td>\n",
       "      <td>keep</td>\n",
       "    </tr>\n",
       "    <tr>\n",
       "      <th>46</th>\n",
       "      <td>BIOMD0000000190.xml</td>\n",
       "      <td>chemical</td>\n",
       "      <td>AcCoA</td>\n",
       "      <td>Acetyl-CoA</td>\n",
       "      <td>CHEBI:57288</td>\n",
       "      <td>acetyl-coa</td>\n",
       "      <td>1.000</td>\n",
       "      <td>0</td>\n",
       "      <td>ignore</td>\n",
       "    </tr>\n",
       "    <tr>\n",
       "      <th>47</th>\n",
       "      <td>BIOMD0000000190.xml</td>\n",
       "      <td>chemical</td>\n",
       "      <td>AcCoA</td>\n",
       "      <td>Acetyl-CoA</td>\n",
       "      <td>CHEBI:15346</td>\n",
       "      <td>acetoacetyl-coa</td>\n",
       "      <td>1.000</td>\n",
       "      <td>0</td>\n",
       "      <td>ignore</td>\n",
       "    </tr>\n",
       "    <tr>\n",
       "      <th>48</th>\n",
       "      <td>BIOMD0000000190.xml</td>\n",
       "      <td>chemical</td>\n",
       "      <td>AcCoA</td>\n",
       "      <td>Acetyl-CoA</td>\n",
       "      <td>CHEBI:180918</td>\n",
       "      <td>acetyl coenzyme a (acetyl-coa)</td>\n",
       "      <td>0.877</td>\n",
       "      <td>0</td>\n",
       "      <td>ignore</td>\n",
       "    </tr>\n",
       "    <tr>\n",
       "      <th>49</th>\n",
       "      <td>BIOMD0000000190.xml</td>\n",
       "      <td>chemical</td>\n",
       "      <td>AcCoA</td>\n",
       "      <td>Acetyl-CoA</td>\n",
       "      <td>CHEBI:15345</td>\n",
       "      <td>acetoacetyl coenzyme a</td>\n",
       "      <td>0.876</td>\n",
       "      <td>0</td>\n",
       "      <td>ignore</td>\n",
       "    </tr>\n",
       "  </tbody>\n",
       "</table>\n",
       "</div>"
      ],
      "text/plain": [
       "                   file      type     id              display_name  \\\n",
       "0   BIOMD0000000190.xml  chemical    SAM   S-adenosyl-L-methionine   \n",
       "1   BIOMD0000000190.xml  chemical    SAM   S-adenosyl-L-methionine   \n",
       "2   BIOMD0000000190.xml  chemical    SAM   S-adenosyl-L-methionine   \n",
       "3   BIOMD0000000190.xml  chemical    SAM   S-adenosyl-L-methionine   \n",
       "4   BIOMD0000000190.xml  chemical    SAM   S-adenosyl-L-methionine   \n",
       "5   BIOMD0000000190.xml  chemical      A  S-adenosylmethioninamine   \n",
       "6   BIOMD0000000190.xml  chemical      A  S-adenosylmethioninamine   \n",
       "7   BIOMD0000000190.xml  chemical      A  S-adenosylmethioninamine   \n",
       "8   BIOMD0000000190.xml  chemical      A  S-adenosylmethioninamine   \n",
       "9   BIOMD0000000190.xml  chemical      A  S-adenosylmethioninamine   \n",
       "10  BIOMD0000000190.xml  chemical      P                Putrescine   \n",
       "11  BIOMD0000000190.xml  chemical      P                Putrescine   \n",
       "12  BIOMD0000000190.xml  chemical      P                Putrescine   \n",
       "13  BIOMD0000000190.xml  chemical      P                Putrescine   \n",
       "14  BIOMD0000000190.xml  chemical      P                Putrescine   \n",
       "15  BIOMD0000000190.xml  chemical      S                  Spermine   \n",
       "16  BIOMD0000000190.xml  chemical      S                  Spermine   \n",
       "17  BIOMD0000000190.xml  chemical      S                  Spermine   \n",
       "18  BIOMD0000000190.xml  chemical      S                  Spermine   \n",
       "19  BIOMD0000000190.xml  chemical      S                  Spermine   \n",
       "20  BIOMD0000000190.xml  chemical      D                Spermidine   \n",
       "21  BIOMD0000000190.xml  chemical      D                Spermidine   \n",
       "22  BIOMD0000000190.xml  chemical      D                Spermidine   \n",
       "23  BIOMD0000000190.xml  chemical      D                Spermidine   \n",
       "24  BIOMD0000000190.xml  chemical      D                Spermidine   \n",
       "25  BIOMD0000000190.xml  chemical     aS         N1-Acetylspermine   \n",
       "26  BIOMD0000000190.xml  chemical     aS         N1-Acetylspermine   \n",
       "27  BIOMD0000000190.xml  chemical     aS         N1-Acetylspermine   \n",
       "28  BIOMD0000000190.xml  chemical     aS         N1-Acetylspermine   \n",
       "29  BIOMD0000000190.xml  chemical     aS         N1-Acetylspermine   \n",
       "30  BIOMD0000000190.xml  chemical     aD       N1-Acetylspermidine   \n",
       "31  BIOMD0000000190.xml  chemical     aD       N1-Acetylspermidine   \n",
       "32  BIOMD0000000190.xml  chemical     aD       N1-Acetylspermidine   \n",
       "33  BIOMD0000000190.xml  chemical     aD       N1-Acetylspermidine   \n",
       "34  BIOMD0000000190.xml  chemical     aD       N1-Acetylspermidine   \n",
       "35  BIOMD0000000190.xml  chemical    Met                Methionine   \n",
       "36  BIOMD0000000190.xml  chemical    Met                Methionine   \n",
       "37  BIOMD0000000190.xml  chemical    Met                Methionine   \n",
       "38  BIOMD0000000190.xml  chemical    Met                Methionine   \n",
       "39  BIOMD0000000190.xml  chemical    Met                Methionine   \n",
       "40  BIOMD0000000190.xml  chemical    ORN               L-Ornithine   \n",
       "41  BIOMD0000000190.xml  chemical    ORN               L-Ornithine   \n",
       "42  BIOMD0000000190.xml  chemical    ORN               L-Ornithine   \n",
       "43  BIOMD0000000190.xml  chemical    ORN               L-Ornithine   \n",
       "44  BIOMD0000000190.xml  chemical    ORN               L-Ornithine   \n",
       "45  BIOMD0000000190.xml  chemical  AcCoA                Acetyl-CoA   \n",
       "46  BIOMD0000000190.xml  chemical  AcCoA                Acetyl-CoA   \n",
       "47  BIOMD0000000190.xml  chemical  AcCoA                Acetyl-CoA   \n",
       "48  BIOMD0000000190.xml  chemical  AcCoA                Acetyl-CoA   \n",
       "49  BIOMD0000000190.xml  chemical  AcCoA                Acetyl-CoA   \n",
       "\n",
       "      annotation                              annotation_label  match_score  \\\n",
       "0    CHEBI:15414                          s-adenosylmethionine        1.000   \n",
       "1    CHEBI:67040                          s-adenosylmethionine        1.000   \n",
       "2    CHEBI:33442                          s-adenosylmethionine        1.000   \n",
       "3    CHEBI:15625                      s-adenosylmethioninamine        0.926   \n",
       "4    CHEBI:57443                    s-adenosylmethioninaminium        0.807   \n",
       "5    CHEBI:15625           decarboxylated s-adenosylmethionine        1.000   \n",
       "6    CHEBI:67040       decarboxylated s-adenosylmethionine(2+)        0.926   \n",
       "7    CHEBI:33442  s-adenosylmethionine decarboxylase inhibitor        0.926   \n",
       "8    CHEBI:15414                          s-adenosylmethionine        0.926   \n",
       "9    CHEBI:57443                          s-adenosylmethionine        0.907   \n",
       "10   CHEBI:17148                                    putrescine        1.000   \n",
       "11  CHEBI:326268                                    putrescine        1.000   \n",
       "12   CHEBI:26406                                   putrescines        0.912   \n",
       "13  CHEBI:201718             1,4-diaminobutane dihydrochloride        0.780   \n",
       "14   CHEBI:44736                         1,4-diaminobutan-2-ol        0.712   \n",
       "15   CHEBI:15746                                      spermine        1.000   \n",
       "16   CHEBI:45725                                      spermine        1.000   \n",
       "17   CHEBI:59564                                    spermidine        0.983   \n",
       "18   CHEBI:39476                                    spermidine        0.864   \n",
       "19   CHEBI:30348                               spermatheridine        0.762   \n",
       "20   CHEBI:16610                                    spermidine        1.000   \n",
       "21   CHEBI:57834                                    spermidine        1.000   \n",
       "22   CHEBI:39476                                      spermine        0.769   \n",
       "23   CHEBI:64860        n,n'-bis(3-aminopropyl)ethylenediamine        0.741   \n",
       "24   CHEBI:16841          n-(3-aminopropyl)-1,5-pentanediamine        0.718   \n",
       "25   CHEBI:17312                             n1-acetylspermine        1.000   \n",
       "26   CHEBI:58101                           n(1)-acetylspermine        0.726   \n",
       "27   CHEBI:28101                       n1,n12-diacetylspermine        0.660   \n",
       "28  CHEBI:125358                            n-acetyloctopamine        0.635   \n",
       "29   CHEBI:17927                           n1-acetylspermidine        0.307   \n",
       "30   CHEBI:17927                           n1-acetylspermidine        1.000   \n",
       "31  CHEBI:195636               n1-acetyl,n8-succinylspermidine        0.830   \n",
       "32   CHEBI:58324                         n(1)-acetylspermidine        0.818   \n",
       "33  CHEBI:180913                  n-(2-carboxyethyl)spermidine        0.627   \n",
       "34   CHEBI:17842            n1,n8-bis-(glutathionyl)spermidine        0.596   \n",
       "35   CHEBI:16643                                    methionine        1.000   \n",
       "36   CHEBI:16811                                    methionine        1.000   \n",
       "37   CHEBI:64558                                    methionine        1.000   \n",
       "38   CHEBI:16044                          methionyl-methionine        1.000   \n",
       "39   CHEBI:57844                                  l-methionine        1.000   \n",
       "40   CHEBI:18257                                     ornithine        1.000   \n",
       "41   CHEBI:44667                                     ornithine        1.000   \n",
       "42   CHEBI:15729                                   l-ornithine        1.000   \n",
       "43   CHEBI:46911                                   l-ornithine        1.000   \n",
       "44   CHEBI:28300                               ornithine anion        0.872   \n",
       "45   CHEBI:15351                                    acetyl-coa        1.000   \n",
       "46   CHEBI:57288                                    acetyl-coa        1.000   \n",
       "47   CHEBI:15346                               acetoacetyl-coa        1.000   \n",
       "48  CHEBI:180918                acetyl coenzyme a (acetyl-coa)        0.877   \n",
       "49   CHEBI:15345                        acetoacetyl coenzyme a        0.876   \n",
       "\n",
       "    existing update_annotation  \n",
       "0          1              keep  \n",
       "1          0            ignore  \n",
       "2          0            ignore  \n",
       "3          0            ignore  \n",
       "4          0            ignore  \n",
       "5          1              keep  \n",
       "6          0            ignore  \n",
       "7          0            ignore  \n",
       "8          0            ignore  \n",
       "9          0            ignore  \n",
       "10         1              keep  \n",
       "11         0            ignore  \n",
       "12         0            ignore  \n",
       "13         0            ignore  \n",
       "14         0            ignore  \n",
       "15         1              keep  \n",
       "16         0            ignore  \n",
       "17         0            ignore  \n",
       "18         0            ignore  \n",
       "19         0            ignore  \n",
       "20         1              keep  \n",
       "21         0            ignore  \n",
       "22         0            ignore  \n",
       "23         0            ignore  \n",
       "24         0            ignore  \n",
       "25         1              keep  \n",
       "26         0            ignore  \n",
       "27         0            ignore  \n",
       "28         0            ignore  \n",
       "29         0            ignore  \n",
       "30         0            ignore  \n",
       "31         0            ignore  \n",
       "32         0            ignore  \n",
       "33         0            ignore  \n",
       "34         0            ignore  \n",
       "35         1              keep  \n",
       "36         0            ignore  \n",
       "37         0            ignore  \n",
       "38         0            ignore  \n",
       "39         0            ignore  \n",
       "40         0            ignore  \n",
       "41         0            ignore  \n",
       "42         1              keep  \n",
       "43         0            ignore  \n",
       "44         0            ignore  \n",
       "45         1              keep  \n",
       "46         0            ignore  \n",
       "47         0            ignore  \n",
       "48         0            ignore  \n",
       "49         0            ignore  "
      ]
     },
     "execution_count": 5,
     "metadata": {},
     "output_type": "execute_result"
    }
   ],
   "source": [
    "recommendations_df"
   ]
  },
  {
   "cell_type": "markdown",
   "metadata": {},
   "source": [
    "## Test 1: Single Model Evaluation\n",
    "\n",
    "Evaluation of a single model with existing annotations."
   ]
  },
  {
   "cell_type": "code",
   "execution_count": 6,
   "metadata": {},
   "outputs": [
    {
     "name": "stdout",
     "output_type": "stream",
     "text": [
      "INFO Evaluating model: BIOMD0000000013.xml\n"
     ]
    },
    {
     "name": "stdout",
     "output_type": "stream",
     "text": [
      "INFO Evaluating 10 entities in BIOMD0000000013.xml\n",
      "INFO HTTP Request: POST https://api.llama.com/compat/v1/chat/completions \"HTTP/1.1 200 OK\"\n"
     ]
    },
    {
     "data": {
      "application/vnd.jupyter.widget-view+json": {
       "model_id": "3657ba88ab914ef69b131beb72188eee",
       "version_major": 2,
       "version_minor": 0
      },
      "text/plain": [
       "Batches:   0%|          | 0/1 [00:00<?, ?it/s]"
      ]
     },
     "metadata": {},
     "output_type": "display_data"
    },
    {
     "data": {
      "application/vnd.jupyter.widget-view+json": {
       "model_id": "023d79fd2a5642e9823db3959216df96",
       "version_major": 2,
       "version_minor": 0
      },
      "text/plain": [
       "Batches:   0%|          | 0/1 [00:00<?, ?it/s]"
      ]
     },
     "metadata": {},
     "output_type": "display_data"
    },
    {
     "data": {
      "application/vnd.jupyter.widget-view+json": {
       "model_id": "d1f293b6868d4fefb9ee36f822824131",
       "version_major": 2,
       "version_minor": 0
      },
      "text/plain": [
       "Batches:   0%|          | 0/1 [00:00<?, ?it/s]"
      ]
     },
     "metadata": {},
     "output_type": "display_data"
    },
    {
     "data": {
      "application/vnd.jupyter.widget-view+json": {
       "model_id": "76cb5965c3644883b8d9a41446999531",
       "version_major": 2,
       "version_minor": 0
      },
      "text/plain": [
       "Batches:   0%|          | 0/1 [00:00<?, ?it/s]"
      ]
     },
     "metadata": {},
     "output_type": "display_data"
    },
    {
     "data": {
      "application/vnd.jupyter.widget-view+json": {
       "model_id": "99166b358b1e45d5baef6162427bff15",
       "version_major": 2,
       "version_minor": 0
      },
      "text/plain": [
       "Batches:   0%|          | 0/1 [00:00<?, ?it/s]"
      ]
     },
     "metadata": {},
     "output_type": "display_data"
    },
    {
     "data": {
      "application/vnd.jupyter.widget-view+json": {
       "model_id": "294bc54720c54e2dad8cf67f606973df",
       "version_major": 2,
       "version_minor": 0
      },
      "text/plain": [
       "Batches:   0%|          | 0/1 [00:00<?, ?it/s]"
      ]
     },
     "metadata": {},
     "output_type": "display_data"
    },
    {
     "data": {
      "application/vnd.jupyter.widget-view+json": {
       "model_id": "4ffafc357ed047eb8a1323d662a53f93",
       "version_major": 2,
       "version_minor": 0
      },
      "text/plain": [
       "Batches:   0%|          | 0/1 [00:00<?, ?it/s]"
      ]
     },
     "metadata": {},
     "output_type": "display_data"
    },
    {
     "data": {
      "application/vnd.jupyter.widget-view+json": {
       "model_id": "6367e0d54d4647c292b3c6e1716690f0",
       "version_major": 2,
       "version_minor": 0
      },
      "text/plain": [
       "Batches:   0%|          | 0/1 [00:00<?, ?it/s]"
      ]
     },
     "metadata": {},
     "output_type": "display_data"
    },
    {
     "data": {
      "application/vnd.jupyter.widget-view+json": {
       "model_id": "27d0a8a5f59441c19537670df2d32b9b",
       "version_major": 2,
       "version_minor": 0
      },
      "text/plain": [
       "Batches:   0%|          | 0/1 [00:00<?, ?it/s]"
      ]
     },
     "metadata": {},
     "output_type": "display_data"
    },
    {
     "data": {
      "application/vnd.jupyter.widget-view+json": {
       "model_id": "b1c74d9873f8460ba16086b5409ac259",
       "version_major": 2,
       "version_minor": 0
      },
      "text/plain": [
       "Batches:   0%|          | 0/1 [00:00<?, ?it/s]"
      ]
     },
     "metadata": {},
     "output_type": "display_data"
    },
    {
     "data": {
      "application/vnd.jupyter.widget-view+json": {
       "model_id": "3876df962fa14237bf29b5b0d9fcd6fe",
       "version_major": 2,
       "version_minor": 0
      },
      "text/plain": [
       "Batches:   0%|          | 0/1 [00:00<?, ?it/s]"
      ]
     },
     "metadata": {},
     "output_type": "display_data"
    },
    {
     "data": {
      "application/vnd.jupyter.widget-view+json": {
       "model_id": "ce48bc2e7a0b4eb2838c4a10803225e7",
       "version_major": 2,
       "version_minor": 0
      },
      "text/plain": [
       "Batches:   0%|          | 0/1 [00:00<?, ?it/s]"
      ]
     },
     "metadata": {},
     "output_type": "display_data"
    },
    {
     "data": {
      "application/vnd.jupyter.widget-view+json": {
       "model_id": "b730d857bfa54689acebf01d92a3b161",
       "version_major": 2,
       "version_minor": 0
      },
      "text/plain": [
       "Batches:   0%|          | 0/1 [00:00<?, ?it/s]"
      ]
     },
     "metadata": {},
     "output_type": "display_data"
    },
    {
     "data": {
      "application/vnd.jupyter.widget-view+json": {
       "model_id": "885cfa6b2bb84b37926224f5688b2ba7",
       "version_major": 2,
       "version_minor": 0
      },
      "text/plain": [
       "Batches:   0%|          | 0/1 [00:00<?, ?it/s]"
      ]
     },
     "metadata": {},
     "output_type": "display_data"
    },
    {
     "data": {
      "application/vnd.jupyter.widget-view+json": {
       "model_id": "695b437c70974917a4d2b5639cbdb692",
       "version_major": 2,
       "version_minor": 0
      },
      "text/plain": [
       "Batches:   0%|          | 0/1 [00:00<?, ?it/s]"
      ]
     },
     "metadata": {},
     "output_type": "display_data"
    },
    {
     "data": {
      "application/vnd.jupyter.widget-view+json": {
       "model_id": "b9f523ec37fa4f5894b4dcd378a5e445",
       "version_major": 2,
       "version_minor": 0
      },
      "text/plain": [
       "Batches:   0%|          | 0/1 [00:00<?, ?it/s]"
      ]
     },
     "metadata": {},
     "output_type": "display_data"
    },
    {
     "data": {
      "application/vnd.jupyter.widget-view+json": {
       "model_id": "a1cf9d70ff09438b94518092459ec8c2",
       "version_major": 2,
       "version_minor": 0
      },
      "text/plain": [
       "Batches:   0%|          | 0/1 [00:00<?, ?it/s]"
      ]
     },
     "metadata": {},
     "output_type": "display_data"
    },
    {
     "data": {
      "application/vnd.jupyter.widget-view+json": {
       "model_id": "bb7c00fa856048959e819fcf23f55844",
       "version_major": 2,
       "version_minor": 0
      },
      "text/plain": [
       "Batches:   0%|          | 0/1 [00:00<?, ?it/s]"
      ]
     },
     "metadata": {},
     "output_type": "display_data"
    },
    {
     "data": {
      "application/vnd.jupyter.widget-view+json": {
       "model_id": "3d18bcd868f7429abd2fcbc8580c995c",
       "version_major": 2,
       "version_minor": 0
      },
      "text/plain": [
       "Batches:   0%|          | 0/1 [00:00<?, ?it/s]"
      ]
     },
     "metadata": {},
     "output_type": "display_data"
    },
    {
     "data": {
      "application/vnd.jupyter.widget-view+json": {
       "model_id": "7e98582b8f334d2085e1fd297c462e75",
       "version_major": 2,
       "version_minor": 0
      },
      "text/plain": [
       "Batches:   0%|          | 0/1 [00:00<?, ?it/s]"
      ]
     },
     "metadata": {},
     "output_type": "display_data"
    },
    {
     "data": {
      "application/vnd.jupyter.widget-view+json": {
       "model_id": "ca8699542011458d8d04eaa20efd5fde",
       "version_major": 2,
       "version_minor": 0
      },
      "text/plain": [
       "Batches:   0%|          | 0/1 [00:00<?, ?it/s]"
      ]
     },
     "metadata": {},
     "output_type": "display_data"
    },
    {
     "data": {
      "application/vnd.jupyter.widget-view+json": {
       "model_id": "1fcfd4d193bc4857a82dcd25b9e52ebf",
       "version_major": 2,
       "version_minor": 0
      },
      "text/plain": [
       "Batches:   0%|          | 0/1 [00:00<?, ?it/s]"
      ]
     },
     "metadata": {},
     "output_type": "display_data"
    },
    {
     "data": {
      "application/vnd.jupyter.widget-view+json": {
       "model_id": "2997743e13ec4bc4b68fa0af523badc0",
       "version_major": 2,
       "version_minor": 0
      },
      "text/plain": [
       "Batches:   0%|          | 0/1 [00:00<?, ?it/s]"
      ]
     },
     "metadata": {},
     "output_type": "display_data"
    },
    {
     "data": {
      "application/vnd.jupyter.widget-view+json": {
       "model_id": "03992aa82caa401597f98ad6f8448b13",
       "version_major": 2,
       "version_minor": 0
      },
      "text/plain": [
       "Batches:   0%|          | 0/1 [00:00<?, ?it/s]"
      ]
     },
     "metadata": {},
     "output_type": "display_data"
    },
    {
     "data": {
      "application/vnd.jupyter.widget-view+json": {
       "model_id": "6d291282588d4c2db28c3199c95918ff",
       "version_major": 2,
       "version_minor": 0
      },
      "text/plain": [
       "Batches:   0%|          | 0/1 [00:00<?, ?it/s]"
      ]
     },
     "metadata": {},
     "output_type": "display_data"
    },
    {
     "data": {
      "application/vnd.jupyter.widget-view+json": {
       "model_id": "5e28a5532c274ceb84dc76883b585a84",
       "version_major": 2,
       "version_minor": 0
      },
      "text/plain": [
       "Batches:   0%|          | 0/1 [00:00<?, ?it/s]"
      ]
     },
     "metadata": {},
     "output_type": "display_data"
    },
    {
     "data": {
      "application/vnd.jupyter.widget-view+json": {
       "model_id": "bbb5db6674fd4b3281dd401d4e7ebddc",
       "version_major": 2,
       "version_minor": 0
      },
      "text/plain": [
       "Batches:   0%|          | 0/1 [00:00<?, ?it/s]"
      ]
     },
     "metadata": {},
     "output_type": "display_data"
    },
    {
     "data": {
      "application/vnd.jupyter.widget-view+json": {
       "model_id": "e9f7df2ed96d45f18c25f7c090cb307e",
       "version_major": 2,
       "version_minor": 0
      },
      "text/plain": [
       "Batches:   0%|          | 0/1 [00:00<?, ?it/s]"
      ]
     },
     "metadata": {},
     "output_type": "display_data"
    },
    {
     "data": {
      "application/vnd.jupyter.widget-view+json": {
       "model_id": "97142b177d33489aa419e9bdca3d5c6a",
       "version_major": 2,
       "version_minor": 0
      },
      "text/plain": [
       "Batches:   0%|          | 0/1 [00:00<?, ?it/s]"
      ]
     },
     "metadata": {},
     "output_type": "display_data"
    },
    {
     "data": {
      "application/vnd.jupyter.widget-view+json": {
       "model_id": "e913104a7847462290545d61b1ad432c",
       "version_major": 2,
       "version_minor": 0
      },
      "text/plain": [
       "Batches:   0%|          | 0/1 [00:00<?, ?it/s]"
      ]
     },
     "metadata": {},
     "output_type": "display_data"
    }
   ],
   "source": [
    "# Test using utils evaluation function\n",
    "test_model_file = \"/Users/luna/Desktop/CRBM/AMAS_proj/Models/BioModels/BIOMD0000000013.xml\"\n",
    "result_df = evaluate_single_model(\n",
    "    model_file=test_model_file,\n",
    "    llm_model=llm_model,\n",
    "    method = 'rag',\n",
    "    max_entities=max_entities_per_model,\n",
    "    entity_type=entity_type,\n",
    "    database=database,\n",
    "    save_llm_results=False,\n",
    "    verbose=True\n",
    ")"
   ]
  },
  {
   "cell_type": "code",
   "execution_count": 7,
   "metadata": {},
   "outputs": [
    {
     "data": {
      "text/html": [
       "<div>\n",
       "<style scoped>\n",
       "    .dataframe tbody tr th:only-of-type {\n",
       "        vertical-align: middle;\n",
       "    }\n",
       "\n",
       "    .dataframe tbody tr th {\n",
       "        vertical-align: top;\n",
       "    }\n",
       "\n",
       "    .dataframe thead th {\n",
       "        text-align: right;\n",
       "    }\n",
       "</style>\n",
       "<table border=\"1\" class=\"dataframe\">\n",
       "  <thead>\n",
       "    <tr style=\"text-align: right;\">\n",
       "      <th></th>\n",
       "      <th>model</th>\n",
       "      <th>species_id</th>\n",
       "      <th>display_name</th>\n",
       "      <th>synonyms_LLM</th>\n",
       "      <th>reason</th>\n",
       "      <th>exist_annotation_id</th>\n",
       "      <th>exist_annotation_name</th>\n",
       "      <th>predictions</th>\n",
       "      <th>predictions_names</th>\n",
       "      <th>match_score</th>\n",
       "      <th>recall_formula</th>\n",
       "      <th>precision_formula</th>\n",
       "      <th>recall_exact</th>\n",
       "      <th>precision_exact</th>\n",
       "      <th>accuracy</th>\n",
       "      <th>total_time</th>\n",
       "      <th>llm_time</th>\n",
       "      <th>query_time</th>\n",
       "      <th>tax_id</th>\n",
       "      <th>tax_name</th>\n",
       "    </tr>\n",
       "  </thead>\n",
       "  <tbody>\n",
       "    <tr>\n",
       "      <th>0</th>\n",
       "      <td>BIOMD0000000013.xml</td>\n",
       "      <td>x_CO2</td>\n",
       "      <td>carbon dioxide</td>\n",
       "      <td>[carbon dioxide, CO2, carbonic acid]</td>\n",
       "      <td>The species names were matched to their corres...</td>\n",
       "      <td>[16526]</td>\n",
       "      <td>carbon dioxide</td>\n",
       "      <td>[16526, 28976, 29325, 48828, 36964]</td>\n",
       "      <td>[carbon dioxide, carbonic acid, oxidooxomethyl...</td>\n",
       "      <td>[1.0, 1.0, 0.81, 0.803, 0.738]</td>\n",
       "      <td>1.0</td>\n",
       "      <td>0.250</td>\n",
       "      <td>1.0</td>\n",
       "      <td>0.2</td>\n",
       "      <td>1</td>\n",
       "      <td>3.620765</td>\n",
       "      <td>2.951901</td>\n",
       "      <td>0.668864</td>\n",
       "      <td>None</td>\n",
       "      <td>None</td>\n",
       "    </tr>\n",
       "    <tr>\n",
       "      <th>1</th>\n",
       "      <td>BIOMD0000000013.xml</td>\n",
       "      <td>ATP_ch</td>\n",
       "      <td>adenosine triphosphate</td>\n",
       "      <td>[adenosine triphosphate, ATP, adenosine 5'-tri...</td>\n",
       "      <td>The species names were matched to their corres...</td>\n",
       "      <td>[15422]</td>\n",
       "      <td>ATP</td>\n",
       "      <td>[15422, 30616, 62910, 27775, 57299]</td>\n",
       "      <td>[ATP, ATP(4-), ethyl-ATP, P(1),P(3)-bis(5'-ade...</td>\n",
       "      <td>[1.0, 1.0, 0.865, 0.923, 0.737]</td>\n",
       "      <td>1.0</td>\n",
       "      <td>0.333</td>\n",
       "      <td>1.0</td>\n",
       "      <td>0.2</td>\n",
       "      <td>1</td>\n",
       "      <td>3.620765</td>\n",
       "      <td>2.951901</td>\n",
       "      <td>0.668864</td>\n",
       "      <td>None</td>\n",
       "      <td>None</td>\n",
       "    </tr>\n",
       "    <tr>\n",
       "      <th>2</th>\n",
       "      <td>BIOMD0000000013.xml</td>\n",
       "      <td>x_NADPH_ch</td>\n",
       "      <td>nicotinamide adenine dinucleotide phosphate</td>\n",
       "      <td>[nicotinamide adenine dinucleotide phosphate, ...</td>\n",
       "      <td>The species names were matched to their corres...</td>\n",
       "      <td>[16474]</td>\n",
       "      <td>NADPH</td>\n",
       "      <td>[18009, 16474, 57783, 25523, 16908]</td>\n",
       "      <td>[NADP(+), NADPH, NADPH(4-), NADP, NADH]</td>\n",
       "      <td>[1.0, 1.0, 1.0, 0.988, 0.899]</td>\n",
       "      <td>1.0</td>\n",
       "      <td>0.500</td>\n",
       "      <td>1.0</td>\n",
       "      <td>0.2</td>\n",
       "      <td>1</td>\n",
       "      <td>3.620765</td>\n",
       "      <td>2.951901</td>\n",
       "      <td>0.668864</td>\n",
       "      <td>None</td>\n",
       "      <td>None</td>\n",
       "    </tr>\n",
       "    <tr>\n",
       "      <th>3</th>\n",
       "      <td>BIOMD0000000013.xml</td>\n",
       "      <td>GAP_ch</td>\n",
       "      <td>glyceraldehyde 3-phosphate</td>\n",
       "      <td>[glyceraldehyde 3-phosphate, G3P, glyceraldehy...</td>\n",
       "      <td>The species names were matched to their corres...</td>\n",
       "      <td>[17138]</td>\n",
       "      <td>glyceraldehyde 3-phosphate</td>\n",
       "      <td>[29052, 17138, 58027, 89636, 28424]</td>\n",
       "      <td>[D-glyceraldehyde 3-phosphate, glyceraldehyde ...</td>\n",
       "      <td>[1.0, 1.0, 1.0, 0.564, 0.564]</td>\n",
       "      <td>1.0</td>\n",
       "      <td>0.333</td>\n",
       "      <td>1.0</td>\n",
       "      <td>0.2</td>\n",
       "      <td>1</td>\n",
       "      <td>3.620765</td>\n",
       "      <td>2.951901</td>\n",
       "      <td>0.668864</td>\n",
       "      <td>None</td>\n",
       "      <td>None</td>\n",
       "    </tr>\n",
       "    <tr>\n",
       "      <th>4</th>\n",
       "      <td>BIOMD0000000013.xml</td>\n",
       "      <td>Pi_ch</td>\n",
       "      <td>phosphate</td>\n",
       "      <td>[phosphate, inorganic phosphate, orthophosphate]</td>\n",
       "      <td>The species names were matched to their corres...</td>\n",
       "      <td>[18367]</td>\n",
       "      <td>phosphate(3-)</td>\n",
       "      <td>[18367, 26020, 26078, 35780, 43474]</td>\n",
       "      <td>[phosphate(3-), phosphate, phosphoric acid, ph...</td>\n",
       "      <td>[1.0, 1.0, 1.0, 1.0, 1.0]</td>\n",
       "      <td>1.0</td>\n",
       "      <td>1.000</td>\n",
       "      <td>1.0</td>\n",
       "      <td>0.2</td>\n",
       "      <td>1</td>\n",
       "      <td>3.620765</td>\n",
       "      <td>2.951901</td>\n",
       "      <td>0.668864</td>\n",
       "      <td>None</td>\n",
       "      <td>None</td>\n",
       "    </tr>\n",
       "    <tr>\n",
       "      <th>5</th>\n",
       "      <td>BIOMD0000000013.xml</td>\n",
       "      <td>DHAP_ch</td>\n",
       "      <td>dihydroxyacetone phosphate</td>\n",
       "      <td>[dihydroxyacetone phosphate, DHAP, glycerone p...</td>\n",
       "      <td>The species names were matched to their corres...</td>\n",
       "      <td>[16108]</td>\n",
       "      <td>dihydroxyacetone phosphate</td>\n",
       "      <td>[16108, 57642, 24356, 26707, 173905]</td>\n",
       "      <td>[dihydroxyacetone phosphate, glycerone phospha...</td>\n",
       "      <td>[1.0, 1.0, 0.926, 0.914, 0.891]</td>\n",
       "      <td>1.0</td>\n",
       "      <td>0.500</td>\n",
       "      <td>1.0</td>\n",
       "      <td>0.2</td>\n",
       "      <td>1</td>\n",
       "      <td>3.620765</td>\n",
       "      <td>2.951901</td>\n",
       "      <td>0.668864</td>\n",
       "      <td>None</td>\n",
       "      <td>None</td>\n",
       "    </tr>\n",
       "    <tr>\n",
       "      <th>6</th>\n",
       "      <td>BIOMD0000000013.xml</td>\n",
       "      <td>FBP_ch</td>\n",
       "      <td>fructose 1,6-bisphosphate</td>\n",
       "      <td>[fructose 1,6-bisphosphate, FBP, fructose-1,6-...</td>\n",
       "      <td>The species names were matched to their corres...</td>\n",
       "      <td>[28013]</td>\n",
       "      <td>beta-D-fructofuranose 1,6-bisphosphate</td>\n",
       "      <td>[16905, 78682, 49299, 28602, 189411]</td>\n",
       "      <td>[keto-D-fructose 1,6-bisphosphate, D-fructose ...</td>\n",
       "      <td>[0.883, 0.883, 0.883, 0.84, 0.564]</td>\n",
       "      <td>1.0</td>\n",
       "      <td>0.500</td>\n",
       "      <td>0.0</td>\n",
       "      <td>0.0</td>\n",
       "      <td>1</td>\n",
       "      <td>3.620765</td>\n",
       "      <td>2.951901</td>\n",
       "      <td>0.668864</td>\n",
       "      <td>None</td>\n",
       "      <td>None</td>\n",
       "    </tr>\n",
       "    <tr>\n",
       "      <th>7</th>\n",
       "      <td>BIOMD0000000013.xml</td>\n",
       "      <td>F6P_ch</td>\n",
       "      <td>fructose 6-phosphate</td>\n",
       "      <td>[fructose 6-phosphate, F6P, fructose-6-phosphate]</td>\n",
       "      <td>The species names were matched to their corres...</td>\n",
       "      <td>[57634]</td>\n",
       "      <td>beta-D-fructofuranose 6-phosphate(2-)</td>\n",
       "      <td>[88003, 16084, 15946, 61437, 61527]</td>\n",
       "      <td>[fructose 6-phosphate, beta-D-fructofuranose 6...</td>\n",
       "      <td>[1.0, 1.0, 1.0, 0.899, 0.84]</td>\n",
       "      <td>1.0</td>\n",
       "      <td>0.500</td>\n",
       "      <td>0.0</td>\n",
       "      <td>0.0</td>\n",
       "      <td>1</td>\n",
       "      <td>3.620765</td>\n",
       "      <td>2.951901</td>\n",
       "      <td>0.668864</td>\n",
       "      <td>None</td>\n",
       "      <td>None</td>\n",
       "    </tr>\n",
       "    <tr>\n",
       "      <th>8</th>\n",
       "      <td>BIOMD0000000013.xml</td>\n",
       "      <td>E4P_ch</td>\n",
       "      <td>erythrose 4-phosphate</td>\n",
       "      <td>[erythrose 4-phosphate, E4P, erythrose-4-phosp...</td>\n",
       "      <td>The species names were matched to their corres...</td>\n",
       "      <td>[48153]</td>\n",
       "      <td>D-erythrose 4-phosphate</td>\n",
       "      <td>[4116, 23956, 16897, 48153, 193565]</td>\n",
       "      <td>[D-erythrulose 4-phosphate, erythrose phosphat...</td>\n",
       "      <td>[0.846, 0.829, 0.784, 0.784, 0.442]</td>\n",
       "      <td>1.0</td>\n",
       "      <td>0.500</td>\n",
       "      <td>1.0</td>\n",
       "      <td>0.2</td>\n",
       "      <td>1</td>\n",
       "      <td>3.620765</td>\n",
       "      <td>2.951901</td>\n",
       "      <td>0.668864</td>\n",
       "      <td>None</td>\n",
       "      <td>None</td>\n",
       "    </tr>\n",
       "    <tr>\n",
       "      <th>9</th>\n",
       "      <td>BIOMD0000000013.xml</td>\n",
       "      <td>X5P_ch</td>\n",
       "      <td>xylulose 5-phosphate</td>\n",
       "      <td>[xylulose 5-phosphate, X5P, xylulose-5-phosphate]</td>\n",
       "      <td>The species names were matched to their corres...</td>\n",
       "      <td>[16332]</td>\n",
       "      <td>D-xylulose 5-phosphate</td>\n",
       "      <td>[27354, 16593, 57829, 16332, 57737]</td>\n",
       "      <td>[xylulose 5-phosphate, L-xylulose 5-phosphate,...</td>\n",
       "      <td>[1.0, 0.866, 0.866, 0.824, 0.808]</td>\n",
       "      <td>1.0</td>\n",
       "      <td>1.000</td>\n",
       "      <td>1.0</td>\n",
       "      <td>0.2</td>\n",
       "      <td>1</td>\n",
       "      <td>3.620765</td>\n",
       "      <td>2.951901</td>\n",
       "      <td>0.668864</td>\n",
       "      <td>None</td>\n",
       "      <td>None</td>\n",
       "    </tr>\n",
       "  </tbody>\n",
       "</table>\n",
       "</div>"
      ],
      "text/plain": [
       "                 model  species_id  \\\n",
       "0  BIOMD0000000013.xml       x_CO2   \n",
       "1  BIOMD0000000013.xml      ATP_ch   \n",
       "2  BIOMD0000000013.xml  x_NADPH_ch   \n",
       "3  BIOMD0000000013.xml      GAP_ch   \n",
       "4  BIOMD0000000013.xml       Pi_ch   \n",
       "5  BIOMD0000000013.xml     DHAP_ch   \n",
       "6  BIOMD0000000013.xml      FBP_ch   \n",
       "7  BIOMD0000000013.xml      F6P_ch   \n",
       "8  BIOMD0000000013.xml      E4P_ch   \n",
       "9  BIOMD0000000013.xml      X5P_ch   \n",
       "\n",
       "                                  display_name  \\\n",
       "0                               carbon dioxide   \n",
       "1                       adenosine triphosphate   \n",
       "2  nicotinamide adenine dinucleotide phosphate   \n",
       "3                   glyceraldehyde 3-phosphate   \n",
       "4                                    phosphate   \n",
       "5                   dihydroxyacetone phosphate   \n",
       "6                    fructose 1,6-bisphosphate   \n",
       "7                         fructose 6-phosphate   \n",
       "8                        erythrose 4-phosphate   \n",
       "9                         xylulose 5-phosphate   \n",
       "\n",
       "                                        synonyms_LLM  \\\n",
       "0               [carbon dioxide, CO2, carbonic acid]   \n",
       "1  [adenosine triphosphate, ATP, adenosine 5'-tri...   \n",
       "2  [nicotinamide adenine dinucleotide phosphate, ...   \n",
       "3  [glyceraldehyde 3-phosphate, G3P, glyceraldehy...   \n",
       "4   [phosphate, inorganic phosphate, orthophosphate]   \n",
       "5  [dihydroxyacetone phosphate, DHAP, glycerone p...   \n",
       "6  [fructose 1,6-bisphosphate, FBP, fructose-1,6-...   \n",
       "7  [fructose 6-phosphate, F6P, fructose-6-phosphate]   \n",
       "8  [erythrose 4-phosphate, E4P, erythrose-4-phosp...   \n",
       "9  [xylulose 5-phosphate, X5P, xylulose-5-phosphate]   \n",
       "\n",
       "                                              reason exist_annotation_id  \\\n",
       "0  The species names were matched to their corres...             [16526]   \n",
       "1  The species names were matched to their corres...             [15422]   \n",
       "2  The species names were matched to their corres...             [16474]   \n",
       "3  The species names were matched to their corres...             [17138]   \n",
       "4  The species names were matched to their corres...             [18367]   \n",
       "5  The species names were matched to their corres...             [16108]   \n",
       "6  The species names were matched to their corres...             [28013]   \n",
       "7  The species names were matched to their corres...             [57634]   \n",
       "8  The species names were matched to their corres...             [48153]   \n",
       "9  The species names were matched to their corres...             [16332]   \n",
       "\n",
       "                    exist_annotation_name  \\\n",
       "0                          carbon dioxide   \n",
       "1                                     ATP   \n",
       "2                                   NADPH   \n",
       "3              glyceraldehyde 3-phosphate   \n",
       "4                           phosphate(3-)   \n",
       "5              dihydroxyacetone phosphate   \n",
       "6  beta-D-fructofuranose 1,6-bisphosphate   \n",
       "7   beta-D-fructofuranose 6-phosphate(2-)   \n",
       "8                 D-erythrose 4-phosphate   \n",
       "9                  D-xylulose 5-phosphate   \n",
       "\n",
       "                            predictions  \\\n",
       "0   [16526, 28976, 29325, 48828, 36964]   \n",
       "1   [15422, 30616, 62910, 27775, 57299]   \n",
       "2   [18009, 16474, 57783, 25523, 16908]   \n",
       "3   [29052, 17138, 58027, 89636, 28424]   \n",
       "4   [18367, 26020, 26078, 35780, 43474]   \n",
       "5  [16108, 57642, 24356, 26707, 173905]   \n",
       "6  [16905, 78682, 49299, 28602, 189411]   \n",
       "7   [88003, 16084, 15946, 61437, 61527]   \n",
       "8   [4116, 23956, 16897, 48153, 193565]   \n",
       "9   [27354, 16593, 57829, 16332, 57737]   \n",
       "\n",
       "                                   predictions_names  \\\n",
       "0  [carbon dioxide, carbonic acid, oxidooxomethyl...   \n",
       "1  [ATP, ATP(4-), ethyl-ATP, P(1),P(3)-bis(5'-ade...   \n",
       "2            [NADP(+), NADPH, NADPH(4-), NADP, NADH]   \n",
       "3  [D-glyceraldehyde 3-phosphate, glyceraldehyde ...   \n",
       "4  [phosphate(3-), phosphate, phosphoric acid, ph...   \n",
       "5  [dihydroxyacetone phosphate, glycerone phospha...   \n",
       "6  [keto-D-fructose 1,6-bisphosphate, D-fructose ...   \n",
       "7  [fructose 6-phosphate, beta-D-fructofuranose 6...   \n",
       "8  [D-erythrulose 4-phosphate, erythrose phosphat...   \n",
       "9  [xylulose 5-phosphate, L-xylulose 5-phosphate,...   \n",
       "\n",
       "                           match_score  recall_formula  precision_formula  \\\n",
       "0       [1.0, 1.0, 0.81, 0.803, 0.738]             1.0              0.250   \n",
       "1      [1.0, 1.0, 0.865, 0.923, 0.737]             1.0              0.333   \n",
       "2        [1.0, 1.0, 1.0, 0.988, 0.899]             1.0              0.500   \n",
       "3        [1.0, 1.0, 1.0, 0.564, 0.564]             1.0              0.333   \n",
       "4            [1.0, 1.0, 1.0, 1.0, 1.0]             1.0              1.000   \n",
       "5      [1.0, 1.0, 0.926, 0.914, 0.891]             1.0              0.500   \n",
       "6   [0.883, 0.883, 0.883, 0.84, 0.564]             1.0              0.500   \n",
       "7         [1.0, 1.0, 1.0, 0.899, 0.84]             1.0              0.500   \n",
       "8  [0.846, 0.829, 0.784, 0.784, 0.442]             1.0              0.500   \n",
       "9    [1.0, 0.866, 0.866, 0.824, 0.808]             1.0              1.000   \n",
       "\n",
       "   recall_exact  precision_exact  accuracy  total_time  llm_time  query_time  \\\n",
       "0           1.0              0.2         1    3.620765  2.951901    0.668864   \n",
       "1           1.0              0.2         1    3.620765  2.951901    0.668864   \n",
       "2           1.0              0.2         1    3.620765  2.951901    0.668864   \n",
       "3           1.0              0.2         1    3.620765  2.951901    0.668864   \n",
       "4           1.0              0.2         1    3.620765  2.951901    0.668864   \n",
       "5           1.0              0.2         1    3.620765  2.951901    0.668864   \n",
       "6           0.0              0.0         1    3.620765  2.951901    0.668864   \n",
       "7           0.0              0.0         1    3.620765  2.951901    0.668864   \n",
       "8           1.0              0.2         1    3.620765  2.951901    0.668864   \n",
       "9           1.0              0.2         1    3.620765  2.951901    0.668864   \n",
       "\n",
       "  tax_id tax_name  \n",
       "0   None     None  \n",
       "1   None     None  \n",
       "2   None     None  \n",
       "3   None     None  \n",
       "4   None     None  \n",
       "5   None     None  \n",
       "6   None     None  \n",
       "7   None     None  \n",
       "8   None     None  \n",
       "9   None     None  "
      ]
     },
     "execution_count": 7,
     "metadata": {},
     "output_type": "execute_result"
    }
   ],
   "source": [
    "result_df"
   ]
  },
  {
   "cell_type": "markdown",
   "metadata": {},
   "source": [
    "## Test 2: Batch Model Evaluation\n",
    "\n",
    "Test the evaluation of multiple models in a directory."
   ]
  },
  {
   "cell_type": "code",
   "execution_count": 3,
   "metadata": {},
   "outputs": [
    {
     "name": "stdout",
     "output_type": "stream",
     "text": [
      "✓ Model directory found: /Users/luna/Desktop/CRBM/AMAS_proj/Models/BioModels\n",
      "  - Found 1063 XML files\n"
     ]
    }
   ],
   "source": [
    "model_dir = \"/Users/luna/Desktop/CRBM/AMAS_proj/Models/BioModels\"\n",
    "# model_dir = \"test_models\"\n",
    "# Check if model directory exists\n",
    "if os.path.exists(model_dir):\n",
    "    model_files = [f for f in os.listdir(model_dir) if f.endswith('.xml')]\n",
    "    print(f\"✓ Model directory found: {model_dir}\")\n",
    "    print(f\"  - Found {len(model_files)} XML files\")\n",
    "    # print(f\"  - Will test first {min(num_models_to_test, len(model_files))} models\")"
   ]
  },
  {
   "cell_type": "code",
   "execution_count": null,
   "metadata": {},
   "outputs": [],
   "source": [
    "# Run batch evaluation \n",
    "batch_results_df = evaluate_models_in_folder(\n",
    "    model_dir=model_dir,\n",
    "    # num_models=min(num_models_to_test, len(model_files)),\n",
    "    llm_model=llm_model,\n",
    "    method=\"rag\",\n",
    "    # max_entities=max_entities_per_model,\n",
    "    entity_type=entity_type,\n",
    "    database=database,\n",
    "    save_llm_results=True,\n",
    "    output_dir=output_dir,\n",
    "    output_file=\"biomd_chebi_rag_meta-llama_default.csv\",\n",
    "    start_at=1,\n",
    "    verbose=False\n",
    ")"
   ]
  },
  {
   "cell_type": "markdown",
   "metadata": {},
   "source": [
    "## Test 3: Evaluating previous LLM sysnonyms"
   ]
  },
  {
   "cell_type": "code",
   "execution_count": 5,
   "metadata": {},
   "outputs": [
    {
     "name": "stdout",
     "output_type": "stream",
     "text": [
      "Processing 1/340: BIOMD0000000291.txt\n",
      "Processing 2/340: BIOMD0000000246.txt\n",
      "Processing 3/340: BIOMD0000000508.txt\n",
      "Processing 4/340: BIOMD0000000087.txt\n",
      "Processing 5/340: BIOMD0000000736.txt\n",
      "Processing 6/340: BIOMD0000000050.txt\n",
      "Processing 7/340: BIOMD0000000044.txt\n",
      "Processing 8/340: BIOMD0000000859.txt\n",
      "Processing 9/340: BIOMD0000000642.txt\n",
      "Processing 10/340: BIOMD0000000124.txt\n",
      "Processing 11/340: BIOMD0000000497.txt\n",
      "Processing 12/340: BIOMD0000000326.txt\n",
      "Processing 13/340: BIOMD0000000468.txt\n",
      "Processing 14/340: BIOMD0000000469.txt\n",
      "Processing 15/340: BIOMD0000001005.txt\n",
      "Processing 16/340: BIOMD0000000327.txt\n",
      "Processing 17/340: BIOMD0000000496.txt\n",
      "Processing 18/340: BIOMD0000000482.txt\n",
      "Processing 19/340: BIOMD0000000119.txt\n",
      "Processing 20/340: BIOMD0000000858.txt\n",
      "Processing 21/340: BIOMD0000000045.txt\n",
      "Processing 22/340: BIOMD0000000737.txt\n",
      "Processing 23/340: BIOMD0000000051.txt\n",
      "Processing 24/340: BIOMD0000000086.txt\n",
      "Processing 25/340: BIOMD0000000509.txt\n",
      "Processing 26/340: BIOMD0000000521.txt\n",
      "Processing 27/340: BIOMD0000000247.txt\n",
      "Processing 28/340: BIOMD0000000253.txt\n",
      "Processing 29/340: BIOMD0000000286.txt\n",
      "Processing 30/340: BIOMD0000000292.txt\n",
      "Processing 31/340: BIOMD0000000245.txt\n",
      "Processing 32/340: BIOMD0000000090.txt\n",
      "Processing 33/340: BIOMD0000000047.txt\n",
      "Processing 34/340: BIOMD0000000053.txt\n",
      "Processing 35/340: BIOMD0000000735.txt\n",
      "Processing 36/340: BIOMD0000000494.txt\n",
      "Processing 37/340: BIOMD0000000457.txt\n",
      "Processing 38/340: BIOMD0000000325.txt\n",
      "Processing 39/340: BIOMD0000000330.txt\n",
      "Processing 40/340: BIOMD0000000481.txt\n",
      "Processing 41/340: BIOMD0000000495.txt\n",
      "Processing 42/340: BIOMD0000000052.txt\n",
      "Processing 43/340: BIOMD0000000734.txt\n",
      "Processing 44/340: BIOMD0000000046.txt\n",
      "Processing 45/340: BIOMD0000000091.txt\n",
      "Processing 46/340: BIOMD0000000085.txt\n",
      "Processing 47/340: BIOMD0000000244.txt\n",
      "Processing 48/340: BIOMD0000000293.txt\n",
      "Processing 49/340: BIOMD0000000283.txt\n",
      "Processing 50/340: BIOMD0000000268.txt\n",
      "Processing 51/340: BIOMD0000000254.txt\n",
      "Processing 52/340: BIOMD0000000081.txt\n",
      "Processing 53/340: BIOMD0000000042.txt\n",
      "Processing 54/340: BIOMD0000000122.txt\n",
      "Processing 55/340: BIOMD0000000491.txt\n",
      "Processing 56/340: BIOMD0000000452.txt\n",
      "Processing 57/340: BIOMD0000000320.txt\n",
      "Processing 58/340: BIOMD0000000321.txt\n",
      "Processing 59/340: BIOMD0000000453.txt\n",
      "Processing 60/340: BIOMD0000000490.txt\n",
      "Processing 61/340: BIOMD0000000123.txt\n",
      "Processing 62/340: BIOMD0000000137.txt\n",
      "Processing 63/340: BIOMD0000000043.txt\n",
      "Processing 64/340: BIOMD0000000080.txt\n",
      "Processing 65/340: BIOMD0000000255.txt\n",
      "Processing 66/340: BIOMD0000000241.txt\n",
      "Processing 67/340: BIOMD0000000269.txt\n",
      "Processing 68/340: BIOMD0000000296.txt\n",
      "Processing 69/340: BIOMD0000000282.txt\n",
      "Processing 70/340: BIOMD0000000082.txt\n",
      "Processing 71/340: BIOMD0000000041.txt\n",
      "Processing 72/340: BIOMD0000000690.txt\n",
      "Processing 73/340: BIOMD0000000479.txt\n",
      "Processing 74/340: BIOMD0000000450.txt\n",
      "Processing 75/340: BIOMD0000000478.txt\n",
      "Processing 76/340: BIOMD0000000108.txt\n",
      "Processing 77/340: BIOMD0000000691.txt\n",
      "Processing 78/340: BIOMD0000000040.txt\n",
      "Processing 79/340: BIOMD0000000054.txt\n",
      "Processing 80/340: BIOMD0000000068.txt\n",
      "Processing 81/340: BIOMD0000000281.txt\n",
      "Processing 82/340: BIOMD0000000231.txt\n",
      "Processing 83/340: BIOMD0000000225.txt\n",
      "Processing 84/340: BIOMD0000000219.txt\n",
      "Processing 85/340: BIOMD0000000966.txt\n",
      "Processing 86/340: BIOMD0000000184.txt\n",
      "Processing 87/340: BIOMD0000000190.txt\n",
      "Processing 88/340: BIOMD0000000621.txt\n",
      "Processing 89/340: BIOMD0000000635.txt\n",
      "Processing 90/340: BIOMD0000000153.txt\n",
      "Processing 91/340: BIOMD0000000609.txt\n",
      "Processing 92/340: BIOMD0000000386.txt\n",
      "Processing 93/340: BIOMD0000000392.txt\n",
      "Processing 94/340: BIOMD0000000379.txt\n",
      "Processing 95/340: BIOMD0000000378.txt\n",
      "Processing 96/340: BIOMD0000000436.txt\n",
      "Processing 97/340: BIOMD0000000422.txt\n",
      "Processing 98/340: BIOMD0000000344.txt\n",
      "Processing 99/340: BIOMD0000000393.txt\n",
      "Processing 100/340: BIOMD0000000387.txt\n",
      "Processing 101/340: BIOMD0000000634.txt\n",
      "Processing 102/340: BIOMD0000000152.txt\n",
      "Processing 103/340: BIOMD0000000146.txt\n",
      "Processing 104/340: BIOMD0000000620.txt\n",
      "Processing 105/340: BIOMD0000000191.txt\n",
      "Processing 106/340: BIOMD0000000218.txt\n",
      "Processing 107/340: BIOMD0000000224.txt\n",
      "Processing 108/340: BIOMD0000000542.txt\n",
      "Processing 109/340: BIOMD0000000540.txt\n",
      "Processing 110/340: BIOMD0000000232.txt\n",
      "Processing 111/340: BIOMD0000000554.txt\n",
      "Processing 112/340: BIOMD0000000018.txt\n",
      "Processing 113/340: BIOMD0000000805.txt\n",
      "Processing 114/340: BIOMD0000000636.txt\n",
      "Processing 115/340: BIOMD0000000391.txt\n",
      "Processing 116/340: BIOMD0000000385.txt\n",
      "Processing 117/340: BIOMD0000000434.txt\n",
      "Processing 118/340: BIOMD0000000408.txt\n",
      "Processing 119/340: BIOMD0000000409.txt\n",
      "Processing 120/340: BIOMD0000000353.txt\n",
      "Processing 121/340: BIOMD0000000384.txt\n",
      "Processing 122/340: BIOMD0000000390.txt\n",
      "Processing 123/340: BIOMD0000000145.txt\n",
      "Processing 124/340: BIOMD0000000637.txt\n",
      "Processing 125/340: BIOMD0000000192.txt\n",
      "Processing 126/340: BIOMD0000000019.txt\n",
      "Processing 127/340: BIOMD0000000569.txt\n",
      "Processing 128/340: BIOMD0000000541.txt\n",
      "Processing 129/340: BIOMD0000000582.txt\n",
      "Processing 130/340: BIOMD0000000579.txt\n",
      "Processing 131/340: BIOMD0000000948.txt\n",
      "Processing 132/340: BIOMD0000000828.txt\n",
      "Processing 133/340: BIOMD0000000182.txt\n",
      "Processing 134/340: BIOMD0000000633.txt\n",
      "Processing 135/340: BIOMD0000000627.txt\n",
      "Processing 136/340: BIOMD0000000394.txt\n",
      "Processing 137/340: BIOMD0000000380.txt\n",
      "Processing 138/340: BIOMD0000001061.txt\n",
      "Processing 139/340: BIOMD0000000424.txt\n",
      "Processing 140/340: BIOMD0000000395.txt\n",
      "Processing 141/340: BIOMD0000000183.txt\n",
      "Processing 142/340: BIOMD0000000829.txt\n",
      "Processing 143/340: BIOMD0000000197.txt\n",
      "Processing 144/340: BIOMD0000000801.txt\n",
      "Processing 145/340: BIOMD0000000961.txt\n",
      "Processing 146/340: BIOMD0000000236.txt\n",
      "Processing 147/340: BIOMD0000000222.txt\n",
      "Processing 148/340: BIOMD0000000552.txt\n",
      "Processing 149/340: BIOMD0000000750.txt\n",
      "Processing 150/340: BIOMD0000000624.txt\n",
      "Processing 151/340: BIOMD0000000383.txt\n",
      "Processing 152/340: BIOMD0000000397.txt\n",
      "Processing 153/340: BIOMD0000001062.txt\n",
      "Processing 154/340: BIOMD0000000340.txt\n",
      "Processing 155/340: BIOMD0000000426.txt\n",
      "Processing 156/340: BIOMD0000000354.txt\n",
      "Processing 157/340: BIOMD0000000355.txt\n",
      "Processing 158/340: BIOMD0000000341.txt\n",
      "Processing 159/340: BIOMD0000001063.txt\n",
      "Failed to parse response:\n",
      "\n",
      "Reason: \n",
      "Error response saved to: error_response_1750281157.txt\n",
      "Processing 160/340: BIOMD0000000396.txt\n",
      "Processing 161/340: BIOMD0000000382.txt\n",
      "Processing 162/340: BIOMD0000000143.txt\n",
      "Processing 163/340: BIOMD0000000023.txt\n",
      "Processing 164/340: BIOMD0000000037.txt\n",
      "Processing 165/340: BIOMD0000000779.txt\n",
      "Processing 166/340: BIOMD0000000547.txt\n",
      "Processing 167/340: BIOMD0000000221.txt\n",
      "Processing 168/340: BIOMD0000000553.txt\n",
      "Processing 169/340: BIOMD0000000590.txt\n",
      "Processing 170/340: BIOMD0000000589.txt\n",
      "Processing 171/340: BIOMD0000000576.txt\n",
      "Processing 172/340: BIOMD0000000947.txt\n",
      "Processing 173/340: BIOMD0000000199.txt\n",
      "Processing 174/340: BIOMD0000000827.txt\n",
      "Processing 175/340: BIOMD0000000166.txt\n",
      "Processing 176/340: BIOMD0000000172.txt\n",
      "Processing 177/340: BIOMD0000000628.txt\n",
      "Processing 178/340: BIOMD0000001046.txt\n",
      "Processing 179/340: BIOMD0000001053.txt\n",
      "Processing 180/340: BIOMD0000000629.txt\n",
      "Processing 181/340: BIOMD0000000601.txt\n",
      "Processing 182/340: BIOMD0000000198.txt\n",
      "Processing 183/340: BIOMD0000000826.txt\n",
      "Processing 184/340: BIOMD0000000013.txt\n",
      "Processing 185/340: BIOMD0000000239.txt\n",
      "Processing 186/340: BIOMD0000000205.txt\n",
      "Processing 187/340: BIOMD0000000211.txt\n",
      "Processing 188/340: BIOMD0000000213.txt\n",
      "Processing 189/340: BIOMD0000000575.txt\n",
      "Processing 190/340: BIOMD0000000039.txt\n",
      "Processing 191/340: BIOMD0000000617.txt\n",
      "Processing 192/340: BIOMD0000000603.txt\n",
      "Processing 193/340: BIOMD0000000165.txt\n",
      "Processing 194/340: BIOMD0000000398.txt\n",
      "Processing 195/340: BIOMD0000000415.txt\n",
      "Processing 196/340: BIOMD0000000373.txt\n",
      "Processing 197/340: BIOMD0000000429.txt\n",
      "Processing 198/340: BIOMD0000000428.txt\n",
      "Processing 199/340: BIOMD0000000400.txt\n",
      "Processing 200/340: BIOMD0000000372.txt\n",
      "Processing 201/340: BIOMD0000000399.txt\n",
      "Processing 202/340: BIOMD0000000602.txt\n",
      "Processing 203/340: BIOMD0000000164.txt\n",
      "Processing 204/340: BIOMD0000000038.txt\n",
      "Processing 205/340: BIOMD0000000986.txt\n",
      "Processing 206/340: BIOMD0000000212.txt\n",
      "Processing 207/340: BIOMD0000000574.txt\n",
      "Processing 208/340: BIOMD0000000206.txt\n",
      "Processing 209/340: BIOMD0000000202.txt\n",
      "Processing 210/340: BIOMD0000000570.txt\n",
      "Processing 211/340: BIOMD0000000174.txt\n",
      "Processing 212/340: BIOMD0000000606.txt\n",
      "Processing 213/340: BIOMD0000000389.txt\n",
      "Processing 214/340: BIOMD0000001054.txt\n",
      "Processing 215/340: BIOMD0000000438.txt\n",
      "Processing 216/340: BIOMD0000000376.txt\n",
      "Processing 217/340: BIOMD0000000404.txt\n",
      "Processing 218/340: BIOMD0000000439.txt\n",
      "Processing 219/340: BIOMD0000001055.txt\n",
      "Processing 220/340: BIOMD0000000388.txt\n",
      "Processing 221/340: BIOMD0000000161.txt\n",
      "Processing 222/340: BIOMD0000000607.txt\n",
      "Processing 223/340: BIOMD0000000613.txt\n",
      "Processing 224/340: BIOMD0000000175.txt\n",
      "Processing 225/340: BIOMD0000000015.txt\n",
      "Processing 226/340: BIOMD0000000571.txt\n",
      "Processing 227/340: BIOMD0000000217.txt\n",
      "Processing 228/340: BIOMD0000000565.txt\n",
      "Processing 229/340: BIOMD0000000559.txt\n",
      "Processing 230/340: BIOMD0000000229.txt\n",
      "Processing 231/340: BIOMD0000000201.txt\n",
      "Processing 232/340: BIOMD0000000017.txt\n",
      "Processing 233/340: BIOMD0000000822.txt\n",
      "Processing 234/340: BIOMD0000000605.txt\n",
      "Processing 235/340: BIOMD0000000177.txt\n",
      "Processing 236/340: BIOMD0000000349.txt\n",
      "Processing 237/340: BIOMD0000000375.txt\n",
      "Processing 238/340: BIOMD0000000374.txt\n",
      "Processing 239/340: BIOMD0000000348.txt\n",
      "Processing 240/340: BIOMD0000000176.txt\n",
      "Processing 241/340: BIOMD0000000610.txt\n",
      "Processing 242/340: BIOMD0000000604.txt\n",
      "Processing 243/340: BIOMD0000000162.txt\n",
      "Processing 244/340: BIOMD0000000638.txt\n",
      "Processing 245/340: BIOMD0000000002.txt\n",
      "Processing 246/340: BIOMD0000000572.txt\n",
      "Processing 247/340: BIOMD0000000515.txt\n",
      "Processing 248/340: BIOMD0000000071.txt\n",
      "Processing 249/340: BIOMD0000000065.txt\n",
      "Processing 250/340: BIOMD0000000059.txt\n",
      "Processing 251/340: BIOMD0000000105.txt\n",
      "Processing 252/340: BIOMD0000000461.txt\n",
      "Processing 253/340: BIOMD0000000474.txt\n",
      "Processing 254/340: BIOMD0000000460.txt\n",
      "Processing 255/340: BIOMD0000000138.txt\n",
      "Processing 256/340: BIOMD0000000676.txt\n",
      "Processing 257/340: BIOMD0000000689.txt\n",
      "Processing 258/340: BIOMD0000000879.txt\n",
      "Processing 259/340: BIOMD0000000058.txt\n",
      "Processing 260/340: BIOMD0000000064.txt\n",
      "Processing 261/340: BIOMD0000000702.txt\n",
      "Processing 262/340: BIOMD0000000070.txt\n",
      "Processing 263/340: BIOMD0000000266.txt\n",
      "Processing 264/340: BIOMD0000000514.txt\n",
      "Processing 265/340: BIOMD0000000264.txt\n",
      "Processing 266/340: BIOMD0000000502.txt\n",
      "Processing 267/340: BIOMD0000000516.txt\n",
      "Processing 268/340: BIOMD0000000927.txt\n",
      "Processing 269/340: BIOMD0000000099.txt\n",
      "Processing 270/340: BIOMD0000000066.txt\n",
      "Processing 271/340: BIOMD0000000072.txt\n",
      "Processing 272/340: BIOMD0000000847.txt\n",
      "Processing 273/340: BIOMD0000000674.txt\n",
      "Processing 274/340: BIOMD0000000112.txt\n",
      "Processing 275/340: BIOMD0000000106.txt\n",
      "Processing 276/340: BIOMD0000000890.txt\n",
      "Processing 277/340: BIOMD0000000304.txt\n",
      "Processing 278/340: BIOMD0000000338.txt\n",
      "Processing 279/340: BIOMD0000000339.txt\n",
      "Processing 280/340: BIOMD0000000305.txt\n",
      "Processing 281/340: BIOMD0000000477.txt\n",
      "Processing 282/340: BIOMD0000000488.txt\n",
      "Processing 283/340: BIOMD0000000113.txt\n",
      "Processing 284/340: BIOMD0000000701.txt\n",
      "Processing 285/340: BIOMD0000000067.txt\n",
      "Processing 286/340: BIOMD0000000932.txt\n",
      "Processing 287/340: BIOMD0000000098.txt\n",
      "Processing 288/340: BIOMD0000000259.txt\n",
      "Processing 289/340: BIOMD0000000503.txt\n",
      "Processing 290/340: BIOMD0000000507.txt\n",
      "Processing 291/340: BIOMD0000000261.txt\n",
      "Processing 292/340: BIOMD0000000275.txt\n",
      "Processing 293/340: BIOMD0000000513.txt\n",
      "Processing 294/340: BIOMD0000000088.txt\n",
      "Processing 295/340: BIOMD0000000063.txt\n",
      "Processing 296/340: BIOMD0000000077.txt\n",
      "Processing 297/340: BIOMD0000000842.txt\n",
      "Processing 298/340: BIOMD0000000659.txt\n",
      "Processing 299/340: BIOMD0000000117.txt\n",
      "Processing 300/340: BIOMD0000000498.txt\n",
      "Processing 301/340: BIOMD0000000329.txt\n",
      "Processing 302/340: BIOMD0000000473.txt\n",
      "Processing 303/340: BIOMD0000000301.txt\n",
      "Processing 304/340: BIOMD0000000467.txt\n",
      "Processing 305/340: BIOMD0000000300.txt\n",
      "Processing 306/340: BIOMD0000000466.txt\n",
      "Processing 307/340: BIOMD0000000472.txt\n",
      "Processing 308/340: BIOMD0000000328.txt\n",
      "Processing 309/340: BIOMD0000000658.txt\n",
      "Processing 310/340: BIOMD0000000857.txt\n",
      "Processing 311/340: BIOMD0000000076.txt\n",
      "Processing 312/340: BIOMD0000000062.txt\n",
      "Processing 313/340: BIOMD0000000738.txt\n",
      "Processing 314/340: BIOMD0000000512.txt\n",
      "Processing 315/340: BIOMD0000000506.txt\n",
      "Processing 316/340: BIOMD0000000260.txt\n",
      "Processing 317/340: BIOMD0000000248.txt\n",
      "Processing 318/340: BIOMD0000000510.txt\n",
      "Processing 319/340: BIOMD0000000276.txt\n",
      "Processing 320/340: BIOMD0000000699.txt\n",
      "Processing 321/340: BIOMD0000000128.txt\n",
      "Processing 322/340: BIOMD0000000100.txt\n",
      "Processing 323/340: BIOMD0000000666.txt\n",
      "Processing 324/340: BIOMD0000000114.txt\n",
      "Processing 325/340: BIOMD0000000458.txt\n",
      "Processing 326/340: BIOMD0000000464.txt\n",
      "Processing 327/340: BIOMD0000000470.txt\n",
      "Processing 328/340: BIOMD0000000471.txt\n",
      "Processing 329/340: BIOMD0000000465.txt\n",
      "Processing 330/340: BIOMD0000000303.txt\n",
      "Processing 331/340: BIOMD0000000459.txt\n",
      "Processing 332/340: BIOMD0000000115.txt\n",
      "Processing 333/340: BIOMD0000000883.txt\n",
      "Processing 334/340: BIOMD0000000698.txt\n",
      "Processing 335/340: BIOMD0000000061.txt\n",
      "Processing 336/340: BIOMD0000000075.txt\n",
      "Processing 337/340: BIOMD0000000049.txt\n",
      "Processing 338/340: BIOMD0000000505.txt\n",
      "Processing 339/340: BIOMD0000000511.txt\n",
      "Processing 340/340: BIOMD0000000277.txt\n",
      "Saved results to results/biomd_chebi_rag_meta-llama_top10.csv\n",
      "Saved 0 parse errors to results/parse_errors.txt\n"
     ]
    }
   ],
   "source": [
    "results_df = process_saved_llm_responses(response_folder = '/Users/luna/Desktop/CRBM/AMAS_proj/AAAIM/tests/results/Llama-3.3-70B-instruct-Meta/chemical', \n",
    "                               model_dir = '/Users/luna/Desktop/CRBM/AMAS_proj/Models/BioModels', \n",
    "                               prev_results_csv = 'results/biomd_chebi_rag_meta-llama_default.csv', \n",
    "                               method = \"rag\",\n",
    "                               output_dir = './results/', \n",
    "                               output_file = 'biomd_chebi_rag_meta-llama_top10.csv',\n",
    "                               top_k = 10,\n",
    "                               verbose = False)"
   ]
  },
  {
   "cell_type": "markdown",
   "metadata": {},
   "source": [
    "## Statistics"
   ]
  },
  {
   "cell_type": "code",
   "execution_count": 2,
   "metadata": {},
   "outputs": [
    {
     "name": "stdout",
     "output_type": "stream",
     "text": [
      "Number of models assessed: 315\n",
      "Number of models with predictions: 309\n",
      "Average accuracy (per model): 0.82\n",
      "Ave. recall (formula): 0.82\n",
      "Ave. precision (formula): 0.74\n",
      "Ave. recall (exact): 0.76\n",
      "Ave. precision (exact): 0.35\n",
      "Average accuracy (per species): 0.28\n",
      "Ave. recall (formula, per species): 0.28\n",
      "Ave. precision (formula, per species): 0.25\n",
      "Ave. recall (exact, per species): 0.24\n",
      "Ave. precision (exact, per species): 0.11\n",
      "Ave. total time (per model): 17.51\n",
      "Ave. total time (per element, per model): 0.57\n",
      "Ave. LLM time (per model): 16.42\n",
      "Ave. LLM time (per element, per model): 0.54\n",
      "Average number of predictions per species: 1.14\n"
     ]
    }
   ],
   "source": [
    "print_evaluation_results('results/biomd_chebi_direct_llama_plain_nosymbols.csv') "
   ]
  },
  {
   "cell_type": "code",
   "execution_count": 3,
   "metadata": {},
   "outputs": [
    {
     "name": "stdout",
     "output_type": "stream",
     "text": [
      "Number of models assessed: 340\n",
      "Number of models with predictions: 338\n",
      "Average accuracy (per model): 0.78\n",
      "Ave. recall (formula): 0.78\n",
      "Ave. precision (formula): 0.45\n",
      "Ave. recall (exact): 0.72\n",
      "Ave. precision (exact): 0.15\n",
      "Average accuracy (per species): 0.46\n",
      "Ave. recall (formula, per species): 0.45\n",
      "Ave. precision (formula, per species): 0.24\n",
      "Ave. recall (exact, per species): 0.35\n",
      "Ave. precision (exact, per species): 0.09\n",
      "Ave. total time (per model): 24.09\n",
      "Ave. total time (per element, per model): 0.76\n",
      "Ave. LLM time (per model): 23.44\n",
      "Ave. LLM time (per element, per model): 0.74\n",
      "Average number of predictions per species: 4.64\n"
     ]
    }
   ],
   "source": [
    "print_evaluation_results('results/biomd_chebi_rag_llama_default.csv')"
   ]
  },
  {
   "cell_type": "code",
   "execution_count": 6,
   "metadata": {},
   "outputs": [
    {
     "name": "stdout",
     "output_type": "stream",
     "text": [
      "Number of models assessed: 340\n",
      "Number of models with predictions: 339\n",
      "Average accuracy (per model): 0.77\n",
      "Ave. recall (formula): 0.77\n",
      "Ave. precision (formula): 0.43\n",
      "Ave. recall (exact): 0.00\n",
      "Ave. precision (exact): 0.00\n",
      "Ave. total time (per model): 4.82\n",
      "Ave. total time (per element, per model): 0.15\n",
      "Ave. LLM time (per model): 4.27\n",
      "Ave. LLM time (per element, per model): 0.13\n",
      "Average number of predictions per species: 4.67\n"
     ]
    }
   ],
   "source": [
    "print_evaluation_results('results/biomd_chebi_rag_meta-llama_default.csv')"
   ]
  },
  {
   "cell_type": "code",
   "execution_count": 3,
   "metadata": {},
   "outputs": [
    {
     "name": "stdout",
     "output_type": "stream",
     "text": [
      "Number of models assessed: 340\n",
      "Number of models with predictions: 340\n",
      "Average accuracy (per model): 0.74\n",
      "Ave. recall (formula): 0.73\n",
      "Ave. precision (formula): 0.54\n",
      "Ave. recall (exact): 0.59\n",
      "Ave. precision (exact): 0.20\n",
      "Ave. total time (per model): 4.75\n",
      "Ave. total time (per element, per model): 0.15\n",
      "Ave. LLM time (per model): 4.27\n",
      "Ave. LLM time (per element, per model): 0.13\n",
      "Average number of predictions per species: 2.91\n"
     ]
    }
   ],
   "source": [
    "print_evaluation_results('results/biomd_chebi_rag_meta-llama_top3.csv')"
   ]
  },
  {
   "cell_type": "code",
   "execution_count": 5,
   "metadata": {},
   "outputs": [
    {
     "name": "stdout",
     "output_type": "stream",
     "text": [
      "Number of models assessed: 340\n",
      "Number of models with predictions: 334\n",
      "Average accuracy (per model): 0.74\n",
      "Ave. recall (formula): 0.74\n",
      "Ave. precision (formula): 0.42\n",
      "Ave. recall (exact): 0.66\n",
      "Ave. precision (exact): 0.14\n",
      "Ave. total time (per model): 6.19\n",
      "Ave. total time (per element, per model): 0.20\n",
      "Ave. LLM time (per model): 5.60\n",
      "Ave. LLM time (per element, per model): 0.18\n",
      "Average number of predictions per species: 4.81\n"
     ]
    }
   ],
   "source": [
    "print_evaluation_results('results/biomd_chebi_rag_gpt-4.1-nano_default.csv')"
   ]
  },
  {
   "cell_type": "code",
   "execution_count": 4,
   "metadata": {},
   "outputs": [
    {
     "name": "stdout",
     "output_type": "stream",
     "text": [
      "======================================================================\n",
      "COMPARISON OF RESULTS (filtered to common models/species)\n",
      "======================================================================\n",
      "\n",
      "============================================================\n",
      "RESULTS FOR: results/biomd_chebi_direct_llama_plain_nosymbols.csv\n",
      "============================================================\n",
      "Number of models assessed: 315\n",
      "Number of models with predictions: 309\n",
      "Number of species tested: 6075\n",
      "Average accuracy (per model): 0.82\n",
      "Average recall (formula) (per model): 0.82\n",
      "Average precision (formula) (per model): 0.74\n",
      "Average recall (exact) (per model): 0.76\n",
      "Average precision (exact) (per model): 0.35\n",
      "Ave. total time (per model): 17.51\n",
      "Ave. total time (per element, per model): 0.57\n",
      "Ave. LLM time (per model): 16.42\n",
      "Ave. LLM time (per element, per model): 0.54\n",
      "Average number of predictions per species: 1.14\n",
      "\n",
      "============================================================\n",
      "RESULTS FOR: results/biomd_chebi_direct_meta-llama_nosymbols.csv\n",
      "============================================================\n",
      "Number of models assessed: 315\n",
      "Number of models with predictions: 309\n",
      "Number of species tested: 6075\n",
      "Average accuracy (per model): 0.82\n",
      "Average recall (formula) (per model): 0.82\n",
      "Average precision (formula) (per model): 0.71\n",
      "Average recall (exact) (per model): 0.00\n",
      "Average precision (exact) (per model): 0.00\n",
      "Ave. total time (per model): 5.88\n",
      "Ave. total time (per element, per model): 0.19\n",
      "Ave. LLM time (per model): 4.47\n",
      "Ave. LLM time (per element, per model): 0.15\n",
      "Average number of predictions per species: 1.36\n",
      "\n",
      "============================================================\n",
      "RESULTS FOR: results/biomd_chebi_rag_meta-llama_default.csv\n",
      "============================================================\n",
      "Number of models assessed: 315\n",
      "Number of models with predictions: 313\n",
      "Number of species tested: 6075\n",
      "Average accuracy (per model): 0.86\n",
      "Average recall (formula) (per model): 0.86\n",
      "Average precision (formula) (per model): 0.48\n",
      "Average recall (exact) (per model): 0.00\n",
      "Average precision (exact) (per model): 0.00\n",
      "Ave. total time (per model): 5.05\n",
      "Ave. total time (per element, per model): 0.16\n",
      "Ave. LLM time (per model): 4.47\n",
      "Ave. LLM time (per element, per model): 0.15\n",
      "Average number of predictions per species: 4.75\n",
      "\n",
      "============================================================\n",
      "RESULTS FOR: results/biomd_chebi_rag_meta-llama_top3.csv\n",
      "============================================================\n",
      "Number of models assessed: 315\n",
      "Number of models with predictions: 315\n",
      "Number of species tested: 6075\n",
      "Average accuracy (per model): 0.83\n",
      "Average recall (formula) (per model): 0.83\n",
      "Average precision (formula) (per model): 0.61\n",
      "Average recall (exact) (per model): 0.67\n",
      "Average precision (exact) (per model): 0.23\n",
      "Ave. total time (per model): 4.98\n",
      "Ave. total time (per element, per model): 0.16\n",
      "Ave. LLM time (per model): 4.47\n",
      "Ave. LLM time (per element, per model): 0.15\n",
      "Average number of predictions per species: 2.90\n",
      "\n",
      "============================================================\n",
      "RESULTS FOR: results/biomd_chebi_rag_gpt-4.1-nano_default.csv\n",
      "============================================================\n",
      "Number of models assessed: 315\n",
      "Number of models with predictions: 309\n",
      "Number of species tested: 6075\n",
      "Average accuracy (per model): 0.82\n",
      "Average recall (formula) (per model): 0.82\n",
      "Average precision (formula) (per model): 0.47\n",
      "Average recall (exact) (per model): 0.74\n",
      "Average precision (exact) (per model): 0.15\n",
      "Ave. total time (per model): 6.43\n",
      "Ave. total time (per element, per model): 0.21\n",
      "Ave. LLM time (per model): 5.82\n",
      "Ave. LLM time (per element, per model): 0.19\n",
      "Average number of predictions per species: 4.80\n",
      "\n",
      "============================================================\n",
      "COMPARISON SUMMARY\n",
      "============================================================\n",
      "                                                      Models Assessed  Average Accuracy  Average Recall (Formula)  Average Precision (Formula)  Average Total Time  Average LLM Time  Avg Predictions per Species\n",
      "CSV                                                                                                                                                                                                              \n",
      "results/biomd_chebi_direct_llama_plain_nosymbols.csv              315              0.82                      0.82                         0.74               17.51             16.42                         1.14\n",
      "results/biomd_chebi_direct_meta-llama_nosymbols.csv               315              0.82                      0.82                         0.71                5.88              4.47                         1.36\n",
      "results/biomd_chebi_rag_meta-llama_default.csv                    315              0.86                      0.86                         0.48                5.05              4.47                         4.75\n",
      "results/biomd_chebi_rag_meta-llama_top3.csv                       315              0.83                      0.83                         0.61                4.98              4.47                         2.90\n",
      "results/biomd_chebi_rag_gpt-4.1-nano_default.csv                  315              0.82                      0.82                         0.47                6.43              5.82                         4.80\n"
     ]
    }
   ],
   "source": [
    "compare_results('results/biomd_chebi_direct_llama_plain_nosymbols.csv','results/biomd_chebi_direct_meta-llama_nosymbols.csv', 'results/biomd_chebi_rag_meta-llama_default.csv','results/biomd_chebi_rag_meta-llama_top3.csv','results/biomd_chebi_rag_gpt-4.1-nano_default.csv')"
   ]
  },
  {
   "cell_type": "code",
   "execution_count": 6,
   "metadata": {},
   "outputs": [
    {
     "name": "stdout",
     "output_type": "stream",
     "text": [
      "======================================================================\n",
      "COMPARISON OF RESULTS (filtered to common models/species)\n",
      "======================================================================\n",
      "\n",
      "============================================================\n",
      "RESULTS FOR: results/biomd_chebi_direct_llama_plain_nosymbols.csv\n",
      "============================================================\n",
      "Number of models assessed: 315\n",
      "Number of models with predictions: 309\n",
      "Number of species tested: 6075\n",
      "Average accuracy (per model): 0.82\n",
      "Average recall (formula) (per model): 0.82\n",
      "Average precision (formula) (per model): 0.74\n",
      "Average recall (exact) (per model): 0.76\n",
      "Average precision (exact) (per model): 0.35\n",
      "Ave. total time (per model): 17.51\n",
      "Ave. total time (per element, per model): 0.57\n",
      "Ave. LLM time (per model): 16.42\n",
      "Ave. LLM time (per element, per model): 0.54\n",
      "Average number of predictions per species: 1.14\n",
      "\n",
      "============================================================\n",
      "RESULTS FOR: results/biomd_chebi_rag_meta-llama_top10.csv\n",
      "============================================================\n",
      "Number of models assessed: 315\n",
      "Number of models with predictions: 315\n",
      "Number of species tested: 6075\n",
      "Average accuracy (per model): 0.86\n",
      "Average recall (formula) (per model): 0.86\n",
      "Average precision (formula) (per model): 0.20\n",
      "Average recall (exact) (per model): 0.79\n",
      "Average precision (exact) (per model): 0.08\n",
      "Ave. total time (per model): 5.00\n",
      "Ave. total time (per element, per model): 0.16\n",
      "Ave. LLM time (per model): 4.47\n",
      "Ave. LLM time (per element, per model): 0.15\n",
      "Average number of predictions per species: 9.46\n",
      "\n",
      "============================================================\n",
      "RESULTS FOR: results/biomd_chebi_rag_meta-llama_default.csv\n",
      "============================================================\n",
      "Number of models assessed: 315\n",
      "Number of models with predictions: 313\n",
      "Number of species tested: 6075\n",
      "Average accuracy (per model): 0.86\n",
      "Average recall (formula) (per model): 0.86\n",
      "Average precision (formula) (per model): 0.48\n",
      "Average recall (exact) (per model): 0.00\n",
      "Average precision (exact) (per model): 0.00\n",
      "Ave. total time (per model): 5.05\n",
      "Ave. total time (per element, per model): 0.16\n",
      "Ave. LLM time (per model): 4.47\n",
      "Ave. LLM time (per element, per model): 0.15\n",
      "Average number of predictions per species: 4.75\n",
      "\n",
      "============================================================\n",
      "RESULTS FOR: results/biomd_chebi_rag_meta-llama_top3.csv\n",
      "============================================================\n",
      "Number of models assessed: 315\n",
      "Number of models with predictions: 315\n",
      "Number of species tested: 6075\n",
      "Average accuracy (per model): 0.83\n",
      "Average recall (formula) (per model): 0.83\n",
      "Average precision (formula) (per model): 0.61\n",
      "Average recall (exact) (per model): 0.67\n",
      "Average precision (exact) (per model): 0.23\n",
      "Ave. total time (per model): 4.98\n",
      "Ave. total time (per element, per model): 0.16\n",
      "Ave. LLM time (per model): 4.47\n",
      "Ave. LLM time (per element, per model): 0.15\n",
      "Average number of predictions per species: 2.90\n",
      "\n",
      "============================================================\n",
      "COMPARISON SUMMARY\n",
      "============================================================\n",
      "                                                      Models Assessed  Average Accuracy  Average Recall (Formula)  Average Precision (Formula)  Average Total Time  Average LLM Time  Avg Predictions per Species\n",
      "CSV                                                                                                                                                                                                              \n",
      "results/biomd_chebi_direct_llama_plain_nosymbols.csv              315              0.82                      0.82                         0.74               17.51             16.42                         1.14\n",
      "results/biomd_chebi_rag_meta-llama_top10.csv                      315              0.86                      0.86                         0.20                5.00              4.47                         9.46\n",
      "results/biomd_chebi_rag_meta-llama_default.csv                    315              0.86                      0.86                         0.48                5.05              4.47                         4.75\n",
      "results/biomd_chebi_rag_meta-llama_top3.csv                       315              0.83                      0.83                         0.61                4.98              4.47                         2.90\n"
     ]
    }
   ],
   "source": [
    "compare_results('results/biomd_chebi_direct_llama_plain_nosymbols.csv','results/biomd_chebi_rag_meta-llama_top10.csv','results/biomd_chebi_rag_meta-llama_default.csv','results/biomd_chebi_rag_meta-llama_top3.csv')"
   ]
  },
  {
   "cell_type": "code",
   "execution_count": 9,
   "metadata": {},
   "outputs": [],
   "source": [
    "gpt_df_filtered.to_csv('results/biomd_chebi_rag_gpt-4.1-nano_default_filtered.csv', index=False)"
   ]
  },
  {
   "cell_type": "code",
   "execution_count": 7,
   "metadata": {},
   "outputs": [
    {
     "data": {
      "text/plain": [
       "{'BIOMD0000000019.xml',\n",
       " 'BIOMD0000000049.xml',\n",
       " 'BIOMD0000000072.xml',\n",
       " 'BIOMD0000000164.xml',\n",
       " 'BIOMD0000000174.xml',\n",
       " 'BIOMD0000000201.xml',\n",
       " 'BIOMD0000000264.xml',\n",
       " 'BIOMD0000000338.xml',\n",
       " 'BIOMD0000000339.xml',\n",
       " 'BIOMD0000000340.xml',\n",
       " 'BIOMD0000000344.xml',\n",
       " 'BIOMD0000000399.xml',\n",
       " 'BIOMD0000000452.xml',\n",
       " 'BIOMD0000000453.xml',\n",
       " 'BIOMD0000000466.xml',\n",
       " 'BIOMD0000000521.xml',\n",
       " 'BIOMD0000000617.xml',\n",
       " 'BIOMD0000000637.xml',\n",
       " 'BIOMD0000000638.xml',\n",
       " 'BIOMD0000000699.xml',\n",
       " 'BIOMD0000000701.xml',\n",
       " 'BIOMD0000000702.xml',\n",
       " 'BIOMD0000000826.xml',\n",
       " 'BIOMD0000000927.xml',\n",
       " 'BIOMD0000000932.xml'}"
      ]
     },
     "execution_count": 7,
     "metadata": {},
     "output_type": "execute_result"
    }
   ],
   "source": [
    "prev_df = pd.read_csv('results/biomd_chebi_rag_llama_default.csv')\n",
    "prev_models = set(prev_df['model'].unique())\n",
    "new_models = set(batch_results_df['model'].unique())\n",
    "new_models = new_models - prev_models\n",
    "new_models"
   ]
  },
  {
   "cell_type": "code",
   "execution_count": 14,
   "metadata": {},
   "outputs": [
    {
     "data": {
      "image/png": "[encoded data removed]",
      "text/plain": [
       "<Figure size 600x500 with 1 Axes>"
      ]
     },
     "metadata": {},
     "output_type": "display_data"
    }
   ],
   "source": [
    "import matplotlib.pyplot as plt\n",
    "import seaborn as sns\n",
    "results_llama = pd.read_csv('results/biomd_chebi_rag_meta-llama_default.csv')\n",
    "# Group models by number of species and calculate accuracy statistics\n",
    "model_species_count = results_llama.groupby('model').size().reset_index(name='species_count')\n",
    "model_accuracy = results_llama.groupby('model')['accuracy'].mean().reset_index()\n",
    "\n",
    "# Merge the two dataframes\n",
    "model_stats = pd.merge(model_species_count, model_accuracy, on='model')\n",
    "\n",
    "# Create bins for species count to make the box plot more readable\n",
    "bins = [0, 5, 10, 20, 50, 100, 1000]\n",
    "labels = ['1-5', '6-10', '11-20', '21-50', '51-100', '100+']\n",
    "model_stats['species_count_bin'] = pd.cut(model_stats['species_count'], bins=bins, labels=labels)\n",
    "\n",
    "# Count number of models in each bin\n",
    "bin_counts = model_stats['species_count_bin'].value_counts().reindex(labels, fill_value=0)\n",
    "\n",
    "# Create the box plot\n",
    "plt.figure(figsize=(6, 5))\n",
    "ax = sns.boxplot(x='species_count_bin', y='accuracy', data=model_stats, medianprops={\"color\": \"yellow\", \"linewidth\": 1})\n",
    "\n",
    "# Add counts above each box\n",
    "for i, label in enumerate(labels):\n",
    "    count = bin_counts[label]\n",
    "    ax.text(i, 1.01, f'n={count}', ha='center', va='bottom', fontsize=10, color='black', fontweight='bold')\n",
    "\n",
    "plt.title('Model accuracy by number of species in a model')\n",
    "plt.xlabel('Number of species in Model')\n",
    "plt.ylabel('Average model accuracy')\n",
    "plt.grid(axis='y', linestyle='--', alpha=0.7)\n",
    "plt.tight_layout()\n",
    "# plt.savefig(os.path.join(output_dir, 'accuracy_by_species_count.png'), dpi=300, bbox_inches='tight')\n",
    "plt.show()"
   ]
  },
  {
   "cell_type": "code",
   "execution_count": 8,
   "metadata": {},
   "outputs": [],
   "source": [
    "# fix display name handling\n",
    "ref_df = pd.read_csv('/Users/luna/Desktop/CRBM/AMAS_proj/Results/biomd_species_accuracy_AMAS.csv')\n",
    "df = pd.read_csv('/Users/luna/Desktop/CRBM/AMAS_proj/AAAIM/tests/results/biomd_chebi_rag_meta-llama_default.csv')\n",
    "\n",
    "# Replace 'display_name' in df with 'species_name' from ref_df using 'model' and 'species_id' as keys\n",
    "df = df.merge(ref_df[['model', 'species_id', 'species_name']], on=['model', 'species_id'], how='left', suffixes=('', '_ref'))\n",
    "df['display_name'] = df['species_name']\n",
    "df = df.drop(columns=['species_name'])\n",
    "df.to_csv('/Users/luna/Desktop/CRBM/AMAS_proj/AAAIM/tests/results/biomd_chebi_rag_meta-llama_default_display_names.csv', index=False)"
   ]
  }
 ],
 "metadata": {
  "kernelspec": {
   "display_name": "amas",
   "language": "python",
   "name": "python3"
  },
  "language_info": {
   "codemirror_mode": {
    "name": "ipython",
    "version": 3
   },
   "file_extension": ".py",
   "mimetype": "text/x-python",
   "name": "python",
   "nbconvert_exporter": "python",
   "pygments_lexer": "ipython3",
   "version": "3.12.10"
  }
 },
 "nbformat": 4,
 "nbformat_minor": 2
}
