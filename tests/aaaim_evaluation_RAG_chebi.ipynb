{
 "cells": [
  {
   "cell_type": "markdown",
   "metadata": {},
   "source": [
    "# AAAIM Evaluation Test\n",
    "\n",
    "This notebook tests both single model evaluation and batch evaluation of multiple models."
   ]
  },
  {
   "cell_type": "code",
   "execution_count": 1,
   "metadata": {},
   "outputs": [
    {
     "data": {
      "text/html": [
       "<script type=\"text/javascript\" id=\"colomoto-setup-1841172\" class=\"to-be-removed\">\n",
       "        if (typeof Jupyter != 'undefined') {\n",
       "            \n",
       "function detect_import(cell, module) {\n",
       "    var code = cell.get_text();\n",
       "    code = code.replace(/\\\\\\n/g, \"\");\n",
       "    var lines = code.split(\"\\n\");\n",
       "    var r_simple = new RegExp(\"^(\"+module+\")$\");\n",
       "    var r_alias = new RegExp(\"^\"+module+\"\\\\s+as\\\\s+(\\\\w+)$\");\n",
       "    for (var i = 0; i < lines.length; ++i) {\n",
       "        if (/^import\\s/.test(lines[i])) {\n",
       "            code = lines[i].substr(7);\n",
       "            var parts = code.split(\",\")\n",
       "            for (var j = 0; j < parts.length; ++j) {\n",
       "                code = parts[j].trim();\n",
       "                var m = code.match(r_simple);\n",
       "                if (!m) {\n",
       "                    m = code.match(r_alias);\n",
       "                }\n",
       "                if (m) {\n",
       "                    return m[1];\n",
       "                }\n",
       "            }\n",
       "        }\n",
       "    }\n",
       "    return module;\n",
       "}\n",
       "\n",
       "function colomoto_replace_call(cell, orig, dest, args, comment=false) {\n",
       "    var call_regexp = new RegExp(\"\\\\.\"+orig.replace(\".\",\"\\\\.\")+\"\\\\(\");\n",
       "    var call_replacer = new RegExp(\"\\\\.\"+orig.replace(\".\",\"\\\\.\")\n",
       "                    + \"\\\\(\\\\s*([^\\\\)]*)?\\\\)\");\n",
       "    var code = cell.get_text();\n",
       "    var lines = code.split(\"\\n\");\n",
       "    if (args) {\n",
       "        var strargs = \", \"+args.join(\", \");\n",
       "    } else {\n",
       "        var strargs = \"\";\n",
       "    }\n",
       "    for (var i = 0; i < lines.length; ++i) {\n",
       "        if (call_regexp.test(lines[i])) {\n",
       "            var code = \"\"\n",
       "            if (comment) {\n",
       "                code += \"#\"+lines[i]+\"\\n\";\n",
       "            }\n",
       "            code += lines[i].replace(call_replacer, \".\"+dest+\"($1\"+strargs+\")\")\n",
       "            lines[i] = code;\n",
       "        }\n",
       "    }\n",
       "    cell.set_text(code)\n",
       "}\n",
       "\n",
       "function colomoto_upload(Jupyter, ssid, input, py_callback_name, orig, dest) {\n",
       "\n",
       "    function callback(out_data) {\n",
       "        var cell_element = $(\"#\"+ssid).parents('.cell');\n",
       "        var cell_idx = Jupyter.notebook.get_cell_elements().index(cell_element);\n",
       "        var cell = Jupyter.notebook.get_cell(cell_idx);\n",
       "\n",
       "        var filename = out_data.content.text;\n",
       "\n",
       "        var code = cell.get_text();\n",
       "        code = code.replace(new RegExp(\"\\\\b\" + orig.replace('.', '\\\\.')\n",
       "                    + \"\\\\(\\\\s*((\\\\w+)=[^\\\\)]*)?\\\\)\"),\n",
       "                dest+\"(\\\"\"+filename+\"\\\",$1)\");\n",
       "        code = code.replace('\",)', '\")')\n",
       "        cell.set_text(code);\n",
       "\n",
       "        Jupyter.notebook.select(cell_idx);\n",
       "        Jupyter.notebook.execute_cell_and_select_below();\n",
       "    }\n",
       "\n",
       "    if (! (window.File && window.FileReader && window.FileList && window.Blob)) {\n",
       "        alert(\"Interactive file upload is not supported by your browser.\");\n",
       "        return;\n",
       "    }\n",
       "\n",
       "    input.disabled = true;\n",
       "    input.style.cursor = \"wait\";\n",
       "    input.parentElement.style.cursor = \"wait\";\n",
       "\n",
       "    var f = input.files[0];\n",
       "    var reader = new FileReader();\n",
       "    reader.onload = (function(f) {\n",
       "        return function (e) {\n",
       "            var obj = {\n",
       "                content: e.target.result,\n",
       "                name: f.name\n",
       "            };\n",
       "\n",
       "            //var pycb = py_callback_name+\"(\"+JSON.stringify(obj)+\")\"\n",
       "            // hack/workaround:\n",
       "            // it seems that Jupyter does not like very long lines\n",
       "            // so we split the data in chunks\n",
       "            var chunk_length = 100;\n",
       "            var pycb = \"__colomoto_upload_name = \" + JSON.stringify(obj.name) + \"\\n\";\n",
       "            pycb += \"__colomoto_upload_content = \\\\\\n\";\n",
       "            for (var i = 0; i < obj.content.length; i += chunk_length) {\n",
       "                pycb += \"\\\"\" + obj.content.substr(i, chunk_length)+\"\\\"\\\\\\n\"\n",
       "            }\n",
       "            pycb += \"\\n\"\n",
       "            pycb += py_callback_name+\"({'name':__colomoto_upload_name, 'content': __colomoto_upload_content})\\n\";\n",
       "            pycb += \"del __colomoto_upload_name, __colomoto_upload_content\"\n",
       "\n",
       "            IPython.notebook.kernel.execute(pycb, {iopub: {output: callback}});\n",
       "        };\n",
       "    })(f);\n",
       "    reader.readAsDataURL(f);\n",
       "}\n",
       "\n",
       "function resolve_function(tool_api, funcname) {\n",
       "    if (tool_api.hasOwnProperty(funcname)) {\n",
       "        return tool_api[funcname];\n",
       "    } else {\n",
       "        return window[funcname];\n",
       "    }\n",
       "}\n",
       "\n",
       "function colomoto_extension(Jupyter, ssid, name, menu, toolbar, tool_api) {\n",
       "\n",
       "    function insert_snippet_code(snippet) {\n",
       "        var cell = Jupyter.notebook.get_selected_cell();\n",
       "        Jupyter.notebook.edit_mode();\n",
       "        cell.code_mirror.replaceSelection(snippet, 'around');\n",
       "        //cell.focus_editor();\n",
       "    }\n",
       "\n",
       "    /**\n",
       "        from https://github.com/moble/jupyter_boilerplate/blob/master/main.js\n",
       "    */\n",
       "    function callback_insert_snippet (evt) {\n",
       "        // this (or event.currentTarget, see below) always refers to the DOM\n",
       "        // element the listener was attached to - see\n",
       "        // http://stackoverflow.com/questions/12077859\n",
       "        insert_snippet_code($(evt.currentTarget).data('snippet-code'));\n",
       "    }\n",
       "    function build_menu_element (menu_item_spec, direction) {\n",
       "        // Create the menu item html element\n",
       "        var element = $('<li/>');\n",
       "\n",
       "        if (typeof menu_item_spec == 'string') {\n",
       "            if (menu_item_spec != '---') {\n",
       "                return element.html(menu_item_spec)\n",
       "                        .addClass('ui-state-disabled')\n",
       "                        .attr({\"style\": \"padding:2px .4em\"})\n",
       "                       ;\n",
       "            }\n",
       "            return element.addClass('divider');\n",
       "        }\n",
       "\n",
       "        var a = $('<a/>')\n",
       "            .attr('href', '#')\n",
       "            .html(menu_item_spec.name)\n",
       "            .appendTo(element);\n",
       "        if (menu_item_spec.hasOwnProperty('snippet')) {\n",
       "            var snippet = menu_item_spec.snippet;\n",
       "            if (typeof snippet == 'string' || snippet instanceof String) {\n",
       "                snippet = [snippet];\n",
       "            }\n",
       "            a.attr({\n",
       "                'title' : \"\", // Do not remove this, even though it's empty!\n",
       "                'data-snippet-code' : snippet.join('\\n'),\n",
       "            })\n",
       "            .on('click', callback_insert_snippet)\n",
       "            .addClass('snippet');\n",
       "        }\n",
       "        else if (menu_item_spec.hasOwnProperty('internal-link')) {\n",
       "            a.attr('href', menu_item_spec['internal-link']);\n",
       "        }\n",
       "        else if (menu_item_spec.hasOwnProperty('external-link')) {\n",
       "            a.empty();\n",
       "            a.attr('href', menu_item_spec['external-link']);\n",
       "            a.attr({\n",
       "                'target' : '_blank',\n",
       "                'title' : 'Opens in a new window',\n",
       "            });\n",
       "            $('<i class=\"fa fa-external-link menu-icon pull-right\"/>').appendTo(a);\n",
       "            $('<span/>').html(menu_item_spec.name).appendTo(a);\n",
       "        }\n",
       "\n",
       "        if (menu_item_spec.hasOwnProperty('sub-menu')) {\n",
       "            element\n",
       "                .addClass('dropdown-submenu')\n",
       "                .toggleClass('dropdown-submenu-left', direction === 'left');\n",
       "            var sub_element = $('<ul class=\"dropdown-menu\"/>')\n",
       "                .toggleClass('dropdown-menu-compact', menu_item_spec.overlay === true) // For space-saving menus\n",
       "                .appendTo(element);\n",
       "\n",
       "            var new_direction = (menu_item_spec['sub-menu-direction'] === 'left') ? 'left' : 'right';\n",
       "            for (var j=0; j<menu_item_spec['sub-menu'].length; ++j) {\n",
       "                var sub_menu_item_spec = build_menu_element(menu_item_spec['sub-menu'][j], new_direction);\n",
       "                if(sub_menu_item_spec !== null) {\n",
       "                    sub_menu_item_spec.appendTo(sub_element);\n",
       "                }\n",
       "            }\n",
       "        }\n",
       "\n",
       "        return element;\n",
       "    }\n",
       "\n",
       "    function menu_setup (menu_item_specs, sibling, insert_before_sibling) {\n",
       "        for (var i=0; i<menu_item_specs.length; ++i) {\n",
       "            var menu_item_spec;\n",
       "            if (insert_before_sibling) {\n",
       "                menu_item_spec = menu_item_specs[i];\n",
       "            } else {\n",
       "                menu_item_spec = menu_item_specs[menu_item_specs.length-1-i];\n",
       "            }\n",
       "            var direction = (menu_item_spec['menu-direction'] == 'left') ? 'left' : 'right';\n",
       "            var menu_element = build_menu_element(menu_item_spec, direction);\n",
       "            // We need special properties if this item is in the navbar\n",
       "            if ($(sibling).parent().is('ul.nav.navbar-nav')) {\n",
       "                menu_element\n",
       "                    .addClass('dropdown')\n",
       "                    .removeClass('dropdown-submenu dropdown-submenu-left');\n",
       "                menu_element.children('a')\n",
       "                    .addClass('dropdown-toggle')\n",
       "                    .attr({\n",
       "                        'id': name+'_menu',\n",
       "                        'data-toggle' : 'dropdown',\n",
       "                        'aria-expanded' : 'false'\n",
       "                    });\n",
       "            }\n",
       "\n",
       "            // Insert the menu element into DOM\n",
       "            menu_element[insert_before_sibling ? 'insertBefore': 'insertAfter'](sibling);\n",
       "        }\n",
       "    }\n",
       "    /** end from */\n",
       "\n",
       "\n",
       "    function self_cleanup() {\n",
       "        var cell_element = $(\"script[class='to-be-removed']\").parents('.cell');\n",
       "        var cell_idx = Jupyter.notebook.get_cell_elements().index(cell_element);\n",
       "        var cell = Jupyter.notebook.get_cell(cell_idx);\n",
       "        var to_remove = -1;\n",
       "        for (var i = 0; i < cell.output_area.outputs.length; ++i) {\n",
       "            var oa = cell.output_area.outputs[i];\n",
       "            if (oa.output_type == \"display_data\"\n",
       "                && typeof oa.data[\"text/html\"] != 'undefined'\n",
       "                && oa.data[\"text/html\"].indexOf(' class=\"to-be-removed\"') >= 0) {\n",
       "                to_remove = i;\n",
       "                break;\n",
       "            }\n",
       "        }\n",
       "        if (to_remove == -1) {\n",
       "            console.log(\"cannot find toberemoved\");\n",
       "        } else {\n",
       "            cell.output_area.outputs.splice(to_remove, 1);\n",
       "        }\n",
       "    }\n",
       "\n",
       "    function toolbar_setup(actions) {\n",
       "        var buttons = [];\n",
       "        for (var i = 0; i < actions.length; ++i) {\n",
       "            var setup = actions[i].setup;\n",
       "            if (typeof setup.handler == 'string') {\n",
       "                setup.handler = resolve_function(tool_api, setup.handler);\n",
       "            }\n",
       "            buttons.push(Jupyter.actions.register(actions[i].setup,\n",
       "                actions[i].name, name));\n",
       "        }\n",
       "        $(\"#\"+name+\"-toolbar\").remove();\n",
       "        Jupyter.toolbar.add_buttons_group(buttons, name+\"-toolbar\");\n",
       "    }\n",
       "\n",
       "    function replace_menu_snippets(menu_spec, orig, dest) {\n",
       "        if (menu_spec.hasOwnProperty(\"snippet\")) {\n",
       "            var snippet = menu_spec.snippet;\n",
       "            if (typeof snippet == \"string\" || snippet instanceof String) {\n",
       "                menu_spec[\"snippet\"] = snippet.replace(orig, dest);\n",
       "            } else {\n",
       "                for (var i = 0; i < snippet.length; ++i) {\n",
       "                    menu_spec[\"snippet\"][i] = snippet[i].replace(orig, dest);\n",
       "                }\n",
       "            }\n",
       "        }\n",
       "        if (menu_spec.hasOwnProperty(\"sub-menu\")) {\n",
       "            for (var i = 0; i < menu_spec[\"sub-menu\"].length; ++i) {\n",
       "                replace_menu_snippets(menu_spec[\"sub-menu\"][i], orig, dest);\n",
       "            }\n",
       "        }\n",
       "    }\n",
       "\n",
       "    function load_ipython_extension() {\n",
       "\n",
       "        var mycellelt = $(\"#\"+ssid).parents('.cell');\n",
       "        var myidx = Jupyter.notebook.get_cell_elements().index(mycellelt);\n",
       "        var import_cell = Jupyter.notebook.get_cell(myidx);\n",
       "\n",
       "        var alias = detect_import(import_cell, name);\n",
       "        tool_api.module_alias = alias;\n",
       "        if (alias && alias != name) {\n",
       "            var orig = new RegExp(\"\\\\b\"+name+\"\\\\b\", \"g\");\n",
       "            replace_menu_snippets(menu, orig, alias);\n",
       "        }\n",
       "\n",
       "        if (toolbar) {\n",
       "            toolbar_setup(toolbar);\n",
       "        }\n",
       "\n",
       "        $(\"#\"+name+\"_menu\").parent().remove();\n",
       "        if (menu) {\n",
       "            menu_setup([menu], $(\"#help_menu\").parent(), true);\n",
       "        }\n",
       "\n",
       "        if (tool_api.hasOwnProperty(\"post_install_callback\")) {\n",
       "            tool_api.post_install_callback();\n",
       "        }\n",
       "\n",
       "        setTimeout(self_cleanup, 5000);\n",
       "    };\n",
       "\n",
       "    load_ipython_extension();\n",
       "}\n",
       "\n",
       "function resolve_toolbar_handlers(tool_api, toolbar_spec) {\n",
       "    for (var i = 0; i < toolbar_spec.length; ++i) {\n",
       "        func = resolve_function(tool_api, toolbar_spec[i][\"setup\"][\"handler\"]);\n",
       "        toolbar_spec[i][\"setup\"][\"handler\"] = func;\n",
       "    }\n",
       "    return toolbar_spec\n",
       "}\n",
       "\n",
       "\n",
       "    var biolqm_jsapi = { action_upload_model: function() {\n",
       "        var cell = Jupyter.notebook.get_selected_cell();\n",
       "        cell.set_text('lqm = '+biolqm_jsapi.module_alias+'.upload()');\n",
       "        cell.focus_editor();\n",
       "    } };\n",
       "    colomoto_extension(Jupyter, \"colomoto-setup-1841172\", \"biolqm\", {\"name\": \"bioLQM\", \"sub-menu\": [{\"name\": \"Upload model\", \"snippet\": [\"lqm = biolqm.upload()\"]}, {\"name\": \"Load model\", \"snippet\": [\"lqm = biolqm.load(\\\"model.sbml\\\")\"]}, \"---\", {\"name\": \"Export to file\", \"sub-menu\": [{\"name\": \"SBML-qual v1.0 (.sbml)\", \"snippet\": [\"biolqm.save(lqm, \\\"mymodel.sbml\\\", \\\"sbml\\\")\"]}, \"Functions formats\", {\"name\": \"BoolNet (.bnet)\", \"snippet\": [\"biolqm.save(lqm, \\\"mymodel.bnet\\\", \\\"bnet\\\")\"]}, {\"name\": \"BooleanNet (.booleannet)\", \"snippet\": [\"biolqm.save(lqm, \\\"mymodel.booleannet\\\", \\\"booleannet\\\")\"]}, {\"name\": \"BoolSim (.boolsim)\", \"snippet\": [\"biolqm.save(lqm, \\\"mymodel.boolsim\\\", \\\"boolsim\\\")\"]}, {\"name\": \"Raw Boolean functions (.boolfunctions)\", \"snippet\": [\"biolqm.save(lqm, \\\"mymodel.boolfunctions\\\", \\\"boolfunctions\\\")\"]}, {\"name\": \"Truth table (.tt)\", \"snippet\": [\"biolqm.save(lqm, \\\"mymodel.tt\\\", \\\"tt\\\")\"]}, \"Petri net formats\", {\"name\": \"APNN (.apnn)\", \"snippet\": [\"biolqm.save(lqm, \\\"mymodel.apnn\\\", \\\"apnn\\\")\"]}, {\"name\": \"INA (.ina)\", \"snippet\": [\"biolqm.save(lqm, \\\"mymodel.ina\\\", \\\"ina\\\")\"]}, {\"name\": \"PNML (.pnml)\", \"snippet\": [\"biolqm.save(lqm, \\\"mymodel.pnml\\\", \\\"pnml\\\")\"]}, \"Dedicated formats\", {\"name\": \"GINML (.ginml)\", \"snippet\": [\"biolqm.save(lqm, \\\"mymodel.ginml\\\", \\\"ginml\\\")\"]}, {\"name\": \"GNA non-xml (.gna)\", \"snippet\": [\"biolqm.save(lqm, \\\"mymodel.gna\\\", \\\"gna\\\")\"]}, {\"name\": \"MaBoSS (.bnd)\", \"snippet\": [\"biolqm.save(lqm, \\\"mymodel.bnd\\\", \\\"bnd\\\")\"]}, {\"name\": \"Pint (.an)\", \"snippet\": [\"biolqm.save(lqm, \\\"mymodel.an\\\", \\\"an\\\")\"]}]}, {\"name\": \"Convert to tool\", \"sub-menu\": [{\"name\": \"GINsim\", \"snippet\": [\"lrg = biolqm.to_ginsim(lqm)\"]}, {\"name\": \"MaBoSS\", \"snippet\": [\"masim = biolqm.to_maboss(lqm)\"]}, {\"name\": \"Pint\", \"snippet\": [\"an = biolqm.to_pint(lqm)\"]}]}, \"---\", {\"name\": \"Compute fixpoints\", \"snippet\": [\"fps = biolqm.fixpoints(lqm)\"]}, {\"name\": \"Compute trap spaces\", \"snippet\": [\"traps = biolqm.trapspace(lqm)\"]}, \"---\", {\"name\": \"Model modifications\", \"sub-menu\": [{\"name\": \"Perturbation\", \"snippet\": [\"lqm_mod = biolqm.perturbation(lqm, \\\"node%0\\\")\"]}, {\"name\": \"Booleanization\", \"snippet\": [\"lqm_bool = biolqm.booleanize(lqm)\"]}, {\"name\": \"Reduction\", \"snippet\": [\"lqm_red = biolqm.reduce(lqm, \\\"fixed,output,duplicate\\\")\"]}, {\"name\": \"Reversal\", \"snippet\": [\"lqm_rev = biolqm.reverse(lqm)\"]}, {\"name\": \"Sanitize\", \"snippet\": [\"lqm_san = biolqm.sanitize(lqm)\"]}]}, \"---\", {\"name\": \"Documentation\", \"external-link\": \"http://ginsim.naldi.info/biolqm/site/doc/index.html\"}]}, [{\"name\": \"upload\", \"setup\": {\"icon\": \"fa-upload\", \"help\": \"Upload model\", \"handler\": \"action_upload_model\"}}], biolqm_jsapi);\n",
       "     }</script><style type=\"text/css\">\n",
       "    #biolqm_menu {\n",
       "        color: #00007f;\n",
       "        background-color: white;\n",
       "    }\n",
       "    \n",
       "    div#biolqm-toolbar:before {\n",
       "        content: \"bioLQM\";\n",
       "        float: left;\n",
       "        margin-left: 1em;\n",
       "        margin-right: 1em;\n",
       "        margin-top: 0.2em;\n",
       "    }\n",
       "    div#biolqm-toolbar,\n",
       "    div#biolqm-toolbar button {\n",
       "        color: #00007f;\n",
       "    }\n",
       "    </style>"
      ],
      "text/plain": [
       "<IPython.core.display.HTML object>"
      ]
     },
     "metadata": {},
     "output_type": "display_data"
    },
    {
     "data": {
      "text/html": [
       "<script type=\"text/javascript\" id=\"colomoto-setup-8584009\" class=\"to-be-removed\">\n",
       "        if (typeof Jupyter != 'undefined') {\n",
       "            \n",
       "    var ginsim_jsapi = { action_upload_model: function() {\n",
       "        var cell = Jupyter.notebook.get_selected_cell();\n",
       "        cell.set_text('lrg = '+ginsim_jsapi.module_alias+'.upload()');\n",
       "        cell.focus_editor();\n",
       "    } };\n",
       "    colomoto_extension(Jupyter, \"colomoto-setup-8584009\", \"ginsim\", {\"name\": \"GINsim\", \"sub-menu\": [{\"name\": \"Upload model\", \"snippet\": [\"lrg = ginsim.upload()\"]}, {\"name\": \"Load model\", \"snippet\": [\"lrg = ginsim.load(\\\"model.zginml\\\")\"]}, \"---\", {\"name\": \"Export to file\", \"sub-menu\": [{\"name\": \"MaBoSS (.bnd, .cfg)\", \"snippet\": [\"ginsim.service(\\\"maboss\\\").export(lrg, \\\"mymodel.bnd\\\")\"]}]}, {\"name\": \"Convert to tool\", \"sub-menu\": [{\"name\": \"bioLQM\", \"snippet\": [\"lqm = ginsim.to_biolqm(lrg)\"]}, {\"name\": \"MaBoSS\", \"snippet\": [\"masim = ginsim.to_maboss(lrg)\"]}, {\"name\": \"NuSMV\", \"snippet\": [\"smv = ginsim.to_nusmv(lrg)\"]}, {\"name\": \"Pint\", \"snippet\": [\"an = ginsim.to_pint(lrg)\"]}]}, \"---\", {\"name\": \" Display regulatory graph\", \"snippet\": [\"ginsim.show(lrg)\"]}]}, [{\"name\": \"upload\", \"setup\": {\"icon\": \"fa-upload\", \"help\": \"Upload model\", \"handler\": \"action_upload_model\"}}], ginsim_jsapi);\n",
       "     }</script><style type=\"text/css\">\n",
       "    #ginsim_menu {\n",
       "        color: blue;\n",
       "        background-color: white;\n",
       "    }\n",
       "    \n",
       "    div#ginsim-toolbar:before {\n",
       "        content: \"GINsim\";\n",
       "        float: left;\n",
       "        margin-left: 1em;\n",
       "        margin-right: 1em;\n",
       "        margin-top: 0.2em;\n",
       "    }\n",
       "    div#ginsim-toolbar,\n",
       "    div#ginsim-toolbar button {\n",
       "        color: blue;\n",
       "    }\n",
       "    </style>"
      ],
      "text/plain": [
       "<IPython.core.display.HTML object>"
      ]
     },
     "metadata": {},
     "output_type": "display_data"
    }
   ],
   "source": [
    "import os\n",
    "import sys\n",
    "import pandas as pd\n",
    "import numpy as np\n",
    "from pathlib import Path\n",
    "import logging\n",
    "\n",
    "# Add the project root to the Python path\n",
    "project_root = Path().absolute().parent\n",
    "sys.path.insert(0, str(project_root))\n",
    "\n",
    "# Import AAAIM functions\n",
    "from core import annotate_model, curate_model\n",
    "from core.database_search import force_clear_chromadb, get_species_recommendations_rag\n",
    "from utils.evaluation import (\n",
    "    evaluate_single_model,\n",
    "    evaluate_models_in_folder,\n",
    "    print_evaluation_results,\n",
    "    compare_results,\n",
    "    process_saved_llm_responses\n",
    ")\n",
    "\n",
    "# Configure logging\n",
    "logging.basicConfig(level=logging.INFO, format='%(asctime)s - %(levelname)s - %(message)s')\n",
    "logger = logging.getLogger(__name__)\n",
    "\n",
    "# LLM configuration\n",
    "llm_model = \"meta-llama/llama-3.3-70b-instruct:free\"\n",
    "# llm_model = \"meta-llama/llama-3.3-70b-instruct\"\n",
    "# llm_model = \"gpt-4.1-nano\"\n",
    "\n",
    "# Evaluation parameters\n",
    "max_entities_per_model = 10  # Limit entities per model for testing\n",
    "num_models_to_test = 5  # Number of models to test in batch evaluation\n",
    "\n",
    "# Entity and database configuration\n",
    "entity_type = \"chemical\"\n",
    "database = \"chebi\"\n",
    "\n",
    "output_dir = \"./results/\"  # Output directory for results"
   ]
  },
  {
   "cell_type": "markdown",
   "metadata": {},
   "source": [
    "### Test function"
   ]
  },
  {
   "cell_type": "code",
   "execution_count": 2,
   "metadata": {},
   "outputs": [
    {
     "name": "stdout",
     "output_type": "stream",
     "text": [
      "Testing RAG-based entity linking...\n",
      "==================================================\n",
      "INFO Anonymized telemetry enabled. See                     https://docs.trychroma.com/telemetry for more information.\n",
      "INFO Using sentence transformer all-MiniLM-L6-v2 model\n",
      "INFO Load pretrained SentenceTransformer: all-MiniLM-L6-v2\n",
      "INFO Using RAG embeddings from collection 'chebi_default_numonly' with default model\n"
     ]
    },
    {
     "data": {
      "application/vnd.jupyter.widget-view+json": {
       "model_id": "6887d34dea314818bfb81202ef9854a2",
       "version_major": 2,
       "version_minor": 0
      },
      "text/plain": [
       "Batches:   0%|          | 0/1 [00:00<?, ?it/s]"
      ]
     },
     "metadata": {},
     "output_type": "display_data"
    },
    {
     "data": {
      "application/vnd.jupyter.widget-view+json": {
       "model_id": "b3f7d0a6ff3043cfa3557eefbd61786e",
       "version_major": 2,
       "version_minor": 0
      },
      "text/plain": [
       "Batches:   0%|          | 0/1 [00:00<?, ?it/s]"
      ]
     },
     "metadata": {},
     "output_type": "display_data"
    },
    {
     "data": {
      "application/vnd.jupyter.widget-view+json": {
       "model_id": "bbd073374f1b4f67ab3eef4d3f188283",
       "version_major": 2,
       "version_minor": 0
      },
      "text/plain": [
       "Batches:   0%|          | 0/1 [00:00<?, ?it/s]"
      ]
     },
     "metadata": {},
     "output_type": "display_data"
    },
    {
     "data": {
      "application/vnd.jupyter.widget-view+json": {
       "model_id": "50ab54ed8f3141cbbff584ff5ba823ed",
       "version_major": 2,
       "version_minor": 0
      },
      "text/plain": [
       "Batches:   0%|          | 0/1 [00:00<?, ?it/s]"
      ]
     },
     "metadata": {},
     "output_type": "display_data"
    },
    {
     "data": {
      "application/vnd.jupyter.widget-view+json": {
       "model_id": "0d3acd088a3d4aa79180295775743064",
       "version_major": 2,
       "version_minor": 0
      },
      "text/plain": [
       "Batches:   0%|          | 0/1 [00:00<?, ?it/s]"
      ]
     },
     "metadata": {},
     "output_type": "display_data"
    },
    {
     "data": {
      "application/vnd.jupyter.widget-view+json": {
       "model_id": "c3d955c713b54c44a29fed6d412052ee",
       "version_major": 2,
       "version_minor": 0
      },
      "text/plain": [
       "Batches:   0%|          | 0/1 [00:00<?, ?it/s]"
      ]
     },
     "metadata": {},
     "output_type": "display_data"
    },
    {
     "data": {
      "application/vnd.jupyter.widget-view+json": {
       "model_id": "bc354e0bc76c4843a81017daf4a7be11",
       "version_major": 2,
       "version_minor": 0
      },
      "text/plain": [
       "Batches:   0%|          | 0/1 [00:00<?, ?it/s]"
      ]
     },
     "metadata": {},
     "output_type": "display_data"
    },
    {
     "data": {
      "application/vnd.jupyter.widget-view+json": {
       "model_id": "74ebe598a4944837b2821f25ddf395d5",
       "version_major": 2,
       "version_minor": 0
      },
      "text/plain": [
       "Batches:   0%|          | 0/1 [00:00<?, ?it/s]"
      ]
     },
     "metadata": {},
     "output_type": "display_data"
    },
    {
     "name": "stdout",
     "output_type": "stream",
     "text": [
      "\n",
      "Species: glucose\n",
      "Synonyms: ['glucose', 'dextrose', 'D-glucose']\n",
      "Candidates: ['4167', '42758', '17234']\n",
      "Names: ['glucose', 'glucose', 'glucose']\n",
      "Match scores (similarity): [1.0, 1.0, 1.0]\n",
      "\n",
      "Species: caffeine\n",
      "Synonyms: ['caffeine', '1,3,7-trimethylxanthine']\n",
      "Candidates: ['27732', '17395', '18123']\n",
      "Names: ['caffeine', 'caffeate', 'caffearine']\n",
      "Match scores (similarity): [1.0, 0.745, 0.687]\n",
      "\n",
      "Species: aspirin\n",
      "Synonyms: ['aspirin', 'acetylsalicylic acid', 'ASA']\n",
      "Candidates: ['15365', '182973', '233566']\n",
      "Names: ['aspirin', 'no-aspirin', 'aspirin softam']\n",
      "Match scores (similarity): [1.0, 0.856, 0.716]\n"
     ]
    }
   ],
   "source": [
    "# Test data - typical chemical species with synonyms\n",
    "species_ids = [\"glucose\", \"caffeine\", \"aspirin\"]\n",
    "synonyms_dict = {\n",
    "    \"glucose\": [\"glucose\", \"dextrose\", \"D-glucose\"],\n",
    "    \"caffeine\": [\"caffeine\", \"1,3,7-trimethylxanthine\"],\n",
    "    \"aspirin\": [\"aspirin\", \"acetylsalicylic acid\", \"ASA\"]\n",
    "}\n",
    "\n",
    "print(\"Testing RAG-based entity linking...\")\n",
    "print(\"=\"*50)\n",
    "\n",
    "try:\n",
    "    # Test RAG approach\n",
    "    rag_recommendations = get_species_recommendations_rag(\n",
    "        species_ids=species_ids,\n",
    "        synonyms_dict=synonyms_dict,\n",
    "        model_type=\"default\",\n",
    "        top_k=3\n",
    "    )\n",
    "    \n",
    "    for rec in rag_recommendations:\n",
    "        print(f\"\\nSpecies: {rec.id}\")\n",
    "        print(f\"Synonyms: {rec.synonyms}\")\n",
    "        print(f\"Candidates: {rec.candidates}\")\n",
    "        print(f\"Names: {rec.candidate_names}\")\n",
    "        print(f\"Match scores (similarity): {rec.match_score}\")\n",
    "        \n",
    "except Exception as e:\n",
    "    print(f\"RAG search failed: {e}\")"
   ]
  },
  {
   "cell_type": "markdown",
   "metadata": {},
   "source": [
    "## Annotating a new model with no or few existing annotations"
   ]
  },
  {
   "cell_type": "code",
   "execution_count": 2,
   "metadata": {},
   "outputs": [
    {
     "name": "stdout",
     "output_type": "stream",
     "text": [
      "✓ Test model found: 190_few_anno.xml\n"
     ]
    }
   ],
   "source": [
    "test_model_file = \"190_few_anno.xml\"\n",
    "# Check if test model exists\n",
    "if os.path.exists(test_model_file):\n",
    "    print(f\"✓ Test model found: {test_model_file}\")\n",
    "else:\n",
    "    print(f\"✗ Test model not found: {test_model_file}\")"
   ]
  },
  {
   "cell_type": "code",
   "execution_count": 3,
   "metadata": {},
   "outputs": [
    {
     "name": "stdout",
     "output_type": "stream",
     "text": [
      "INFO Starting annotation for model: 190_few_anno.xml\n",
      "INFO Using LLM model: meta-llama/llama-3.3-70b-instruct:free\n",
      "INFO Using method: rag for database search\n",
      "INFO Entity type: chemical, Database: chebi\n",
      "INFO Step 1: Getting all species from model...\n",
      "INFO Found 11 species in model\n",
      "INFO Found 2 entities with existing annotations\n",
      "INFO Selected 10 entities for annotation\n",
      "INFO Step 4: Extracting model context...\n",
      "INFO Extracted context for model: Rodriguez-Caso2006_Polyamine_Metabolism\n",
      "INFO Step 5: Formatting LLM prompt...\n",
      "INFO Step 6: Querying LLM (meta-llama/llama-3.3-70b-instruct:free)...\n",
      "INFO HTTP Request: POST https://openrouter.ai/api/v1/chat/completions \"HTTP/1.1 200 OK\"\n",
      "INFO LLM response received in 5.69s\n",
      "INFO Step 7: Parsing LLM response...\n",
      "INFO Parsed synonyms for 11 entities\n",
      "INFO Step 8: Searching chebi database...\n",
      "INFO Anonymized telemetry enabled. See                     https://docs.trychroma.com/telemetry for more information.\n",
      "INFO Using sentence transformer all-MiniLM-L6-v2 model\n",
      "INFO Load pretrained SentenceTransformer: all-MiniLM-L6-v2\n",
      "INFO Using RAG embeddings from collection 'chebi_default_numonly' with default model\n"
     ]
    },
    {
     "data": {
      "application/vnd.jupyter.widget-view+json": {
       "model_id": "f3e11877c6e64bbf80138b17f907eb2e",
       "version_major": 2,
       "version_minor": 0
      },
      "text/plain": [
       "Batches:   0%|          | 0/1 [00:00<?, ?it/s]"
      ]
     },
     "metadata": {},
     "output_type": "display_data"
    },
    {
     "data": {
      "application/vnd.jupyter.widget-view+json": {
       "model_id": "698a37f6a0b342ac9839238bb31d796c",
       "version_major": 2,
       "version_minor": 0
      },
      "text/plain": [
       "Batches:   0%|          | 0/1 [00:00<?, ?it/s]"
      ]
     },
     "metadata": {},
     "output_type": "display_data"
    },
    {
     "data": {
      "application/vnd.jupyter.widget-view+json": {
       "model_id": "905fba2a94cf406c9b46a89ba88aed6a",
       "version_major": 2,
       "version_minor": 0
      },
      "text/plain": [
       "Batches:   0%|          | 0/1 [00:00<?, ?it/s]"
      ]
     },
     "metadata": {},
     "output_type": "display_data"
    },
    {
     "data": {
      "application/vnd.jupyter.widget-view+json": {
       "model_id": "3bd2c6fef5ca4444a6585370ff09bb94",
       "version_major": 2,
       "version_minor": 0
      },
      "text/plain": [
       "Batches:   0%|          | 0/1 [00:00<?, ?it/s]"
      ]
     },
     "metadata": {},
     "output_type": "display_data"
    },
    {
     "data": {
      "application/vnd.jupyter.widget-view+json": {
       "model_id": "78931e20d6024bfb8a08f0567b3ad300",
       "version_major": 2,
       "version_minor": 0
      },
      "text/plain": [
       "Batches:   0%|          | 0/1 [00:00<?, ?it/s]"
      ]
     },
     "metadata": {},
     "output_type": "display_data"
    },
    {
     "data": {
      "application/vnd.jupyter.widget-view+json": {
       "model_id": "84123226d6e84eda8e40c498dd1f36a0",
       "version_major": 2,
       "version_minor": 0
      },
      "text/plain": [
       "Batches:   0%|          | 0/1 [00:00<?, ?it/s]"
      ]
     },
     "metadata": {},
     "output_type": "display_data"
    },
    {
     "data": {
      "application/vnd.jupyter.widget-view+json": {
       "model_id": "1f1365f598a24391bae2443d9eb298c0",
       "version_major": 2,
       "version_minor": 0
      },
      "text/plain": [
       "Batches:   0%|          | 0/1 [00:00<?, ?it/s]"
      ]
     },
     "metadata": {},
     "output_type": "display_data"
    },
    {
     "data": {
      "application/vnd.jupyter.widget-view+json": {
       "model_id": "9cbc914fb3c34ec59a62b52a966c8ee5",
       "version_major": 2,
       "version_minor": 0
      },
      "text/plain": [
       "Batches:   0%|          | 0/1 [00:00<?, ?it/s]"
      ]
     },
     "metadata": {},
     "output_type": "display_data"
    },
    {
     "data": {
      "application/vnd.jupyter.widget-view+json": {
       "model_id": "c333ec4731ed45e38a85504b5a63039a",
       "version_major": 2,
       "version_minor": 0
      },
      "text/plain": [
       "Batches:   0%|          | 0/1 [00:00<?, ?it/s]"
      ]
     },
     "metadata": {},
     "output_type": "display_data"
    },
    {
     "data": {
      "application/vnd.jupyter.widget-view+json": {
       "model_id": "a0edfaac696143e8ac6ca3fa0849f92e",
       "version_major": 2,
       "version_minor": 0
      },
      "text/plain": [
       "Batches:   0%|          | 0/1 [00:00<?, ?it/s]"
      ]
     },
     "metadata": {},
     "output_type": "display_data"
    },
    {
     "data": {
      "application/vnd.jupyter.widget-view+json": {
       "model_id": "b5b192f7aec642ea9f9b9a706eebbfb3",
       "version_major": 2,
       "version_minor": 0
      },
      "text/plain": [
       "Batches:   0%|          | 0/1 [00:00<?, ?it/s]"
      ]
     },
     "metadata": {},
     "output_type": "display_data"
    },
    {
     "data": {
      "application/vnd.jupyter.widget-view+json": {
       "model_id": "762b713b00c24ff48644676b7a245a84",
       "version_major": 2,
       "version_minor": 0
      },
      "text/plain": [
       "Batches:   0%|          | 0/1 [00:00<?, ?it/s]"
      ]
     },
     "metadata": {},
     "output_type": "display_data"
    },
    {
     "data": {
      "application/vnd.jupyter.widget-view+json": {
       "model_id": "9437732e06c14498b721c963970a97d0",
       "version_major": 2,
       "version_minor": 0
      },
      "text/plain": [
       "Batches:   0%|          | 0/1 [00:00<?, ?it/s]"
      ]
     },
     "metadata": {},
     "output_type": "display_data"
    },
    {
     "data": {
      "application/vnd.jupyter.widget-view+json": {
       "model_id": "78f31747057749cba62ddde93f883fe5",
       "version_major": 2,
       "version_minor": 0
      },
      "text/plain": [
       "Batches:   0%|          | 0/1 [00:00<?, ?it/s]"
      ]
     },
     "metadata": {},
     "output_type": "display_data"
    },
    {
     "data": {
      "application/vnd.jupyter.widget-view+json": {
       "model_id": "af98213955a741edac4d740173a8ee0c",
       "version_major": 2,
       "version_minor": 0
      },
      "text/plain": [
       "Batches:   0%|          | 0/1 [00:00<?, ?it/s]"
      ]
     },
     "metadata": {},
     "output_type": "display_data"
    },
    {
     "data": {
      "application/vnd.jupyter.widget-view+json": {
       "model_id": "d7804b7e60cf4603acf724bc6221eed6",
       "version_major": 2,
       "version_minor": 0
      },
      "text/plain": [
       "Batches:   0%|          | 0/1 [00:00<?, ?it/s]"
      ]
     },
     "metadata": {},
     "output_type": "display_data"
    },
    {
     "data": {
      "application/vnd.jupyter.widget-view+json": {
       "model_id": "6d5cb9d59ad1409e99584ad5c5d28cf3",
       "version_major": 2,
       "version_minor": 0
      },
      "text/plain": [
       "Batches:   0%|          | 0/1 [00:00<?, ?it/s]"
      ]
     },
     "metadata": {},
     "output_type": "display_data"
    },
    {
     "data": {
      "application/vnd.jupyter.widget-view+json": {
       "model_id": "332e2a26226e4c7daaedf870b2b25848",
       "version_major": 2,
       "version_minor": 0
      },
      "text/plain": [
       "Batches:   0%|          | 0/1 [00:00<?, ?it/s]"
      ]
     },
     "metadata": {},
     "output_type": "display_data"
    },
    {
     "data": {
      "application/vnd.jupyter.widget-view+json": {
       "model_id": "49ea131081564b4d8de1cd90d4131e10",
       "version_major": 2,
       "version_minor": 0
      },
      "text/plain": [
       "Batches:   0%|          | 0/1 [00:00<?, ?it/s]"
      ]
     },
     "metadata": {},
     "output_type": "display_data"
    },
    {
     "data": {
      "application/vnd.jupyter.widget-view+json": {
       "model_id": "c239dc379c2443fb8813d72fdd1861cd",
       "version_major": 2,
       "version_minor": 0
      },
      "text/plain": [
       "Batches:   0%|          | 0/1 [00:00<?, ?it/s]"
      ]
     },
     "metadata": {},
     "output_type": "display_data"
    },
    {
     "data": {
      "application/vnd.jupyter.widget-view+json": {
       "model_id": "d736fcc2e792414ba6e4a74fddd78ca6",
       "version_major": 2,
       "version_minor": 0
      },
      "text/plain": [
       "Batches:   0%|          | 0/1 [00:00<?, ?it/s]"
      ]
     },
     "metadata": {},
     "output_type": "display_data"
    },
    {
     "data": {
      "application/vnd.jupyter.widget-view+json": {
       "model_id": "14a04eb6736b40429644cb91e434cd16",
       "version_major": 2,
       "version_minor": 0
      },
      "text/plain": [
       "Batches:   0%|          | 0/1 [00:00<?, ?it/s]"
      ]
     },
     "metadata": {},
     "output_type": "display_data"
    },
    {
     "data": {
      "application/vnd.jupyter.widget-view+json": {
       "model_id": "8e5dab2988a74e7394331b4858c129b4",
       "version_major": 2,
       "version_minor": 0
      },
      "text/plain": [
       "Batches:   0%|          | 0/1 [00:00<?, ?it/s]"
      ]
     },
     "metadata": {},
     "output_type": "display_data"
    },
    {
     "data": {
      "application/vnd.jupyter.widget-view+json": {
       "model_id": "1e85f3ad3a024b33908f91d258f9b669",
       "version_major": 2,
       "version_minor": 0
      },
      "text/plain": [
       "Batches:   0%|          | 0/1 [00:00<?, ?it/s]"
      ]
     },
     "metadata": {},
     "output_type": "display_data"
    },
    {
     "data": {
      "application/vnd.jupyter.widget-view+json": {
       "model_id": "c1bf399b028f41b092c674fbe6921124",
       "version_major": 2,
       "version_minor": 0
      },
      "text/plain": [
       "Batches:   0%|          | 0/1 [00:00<?, ?it/s]"
      ]
     },
     "metadata": {},
     "output_type": "display_data"
    },
    {
     "data": {
      "application/vnd.jupyter.widget-view+json": {
       "model_id": "44a374f642ac46c881572a3461768d65",
       "version_major": 2,
       "version_minor": 0
      },
      "text/plain": [
       "Batches:   0%|          | 0/1 [00:00<?, ?it/s]"
      ]
     },
     "metadata": {},
     "output_type": "display_data"
    },
    {
     "data": {
      "application/vnd.jupyter.widget-view+json": {
       "model_id": "33ba5392f93c4280aaa0cfea983d035c",
       "version_major": 2,
       "version_minor": 0
      },
      "text/plain": [
       "Batches:   0%|          | 0/1 [00:00<?, ?it/s]"
      ]
     },
     "metadata": {},
     "output_type": "display_data"
    },
    {
     "data": {
      "application/vnd.jupyter.widget-view+json": {
       "model_id": "3faf18fc6f064b83bb161f91bdbac0df",
       "version_major": 2,
       "version_minor": 0
      },
      "text/plain": [
       "Batches:   0%|          | 0/1 [00:00<?, ?it/s]"
      ]
     },
     "metadata": {},
     "output_type": "display_data"
    },
    {
     "data": {
      "application/vnd.jupyter.widget-view+json": {
       "model_id": "e0bf3b84215b44cda6a17e6d6ea77db7",
       "version_major": 2,
       "version_minor": 0
      },
      "text/plain": [
       "Batches:   0%|          | 0/1 [00:00<?, ?it/s]"
      ]
     },
     "metadata": {},
     "output_type": "display_data"
    },
    {
     "data": {
      "application/vnd.jupyter.widget-view+json": {
       "model_id": "9b1a716b06c34285bba2a53c77061b45",
       "version_major": 2,
       "version_minor": 0
      },
      "text/plain": [
       "Batches:   0%|          | 0/1 [00:00<?, ?it/s]"
      ]
     },
     "metadata": {},
     "output_type": "display_data"
    },
    {
     "name": "stdout",
     "output_type": "stream",
     "text": [
      "INFO Database search completed in 6.39s\n",
      "INFO Step 9: Generating recommendation table...\n",
      "INFO Annotation completed in 12.17s\n",
      "INFO Generated 50 recommendations\n"
     ]
    }
   ],
   "source": [
    "# Test with a single model\n",
    "recommendations_df, metrics = annotate_model(\n",
    "    model_file=test_model_file,\n",
    "    llm_model=llm_model,\n",
    "    method=\"rag\",\n",
    "    max_entities=max_entities_per_model,\n",
    "    entity_type=entity_type,\n",
    "    database=database\n",
    ")"
   ]
  },
  {
   "cell_type": "code",
   "execution_count": 4,
   "metadata": {},
   "outputs": [
    {
     "data": {
      "text/html": [
       "<div>\n",
       "<style scoped>\n",
       "    .dataframe tbody tr th:only-of-type {\n",
       "        vertical-align: middle;\n",
       "    }\n",
       "\n",
       "    .dataframe tbody tr th {\n",
       "        vertical-align: top;\n",
       "    }\n",
       "\n",
       "    .dataframe thead th {\n",
       "        text-align: right;\n",
       "    }\n",
       "</style>\n",
       "<table border=\"1\" class=\"dataframe\">\n",
       "  <thead>\n",
       "    <tr style=\"text-align: right;\">\n",
       "      <th></th>\n",
       "      <th>file</th>\n",
       "      <th>type</th>\n",
       "      <th>id</th>\n",
       "      <th>display_name</th>\n",
       "      <th>annotation</th>\n",
       "      <th>annotation_label</th>\n",
       "      <th>match_score</th>\n",
       "      <th>existing</th>\n",
       "      <th>update_annotation</th>\n",
       "    </tr>\n",
       "  </thead>\n",
       "  <tbody>\n",
       "    <tr>\n",
       "      <th>0</th>\n",
       "      <td>190_few_anno.xml</td>\n",
       "      <td>chemical</td>\n",
       "      <td>SAM</td>\n",
       "      <td>S-adenosyl-L-methionine</td>\n",
       "      <td>15414</td>\n",
       "      <td>s-adenosylmethionine</td>\n",
       "      <td>1.000</td>\n",
       "      <td>1</td>\n",
       "      <td>keep</td>\n",
       "    </tr>\n",
       "    <tr>\n",
       "      <th>1</th>\n",
       "      <td>190_few_anno.xml</td>\n",
       "      <td>chemical</td>\n",
       "      <td>SAM</td>\n",
       "      <td>S-adenosyl-L-methionine</td>\n",
       "      <td>67040</td>\n",
       "      <td>s-adenosylmethionine</td>\n",
       "      <td>1.000</td>\n",
       "      <td>0</td>\n",
       "      <td>ignore</td>\n",
       "    </tr>\n",
       "    <tr>\n",
       "      <th>2</th>\n",
       "      <td>190_few_anno.xml</td>\n",
       "      <td>chemical</td>\n",
       "      <td>SAM</td>\n",
       "      <td>S-adenosyl-L-methionine</td>\n",
       "      <td>33442</td>\n",
       "      <td>s-adenosylmethionine</td>\n",
       "      <td>1.000</td>\n",
       "      <td>0</td>\n",
       "      <td>ignore</td>\n",
       "    </tr>\n",
       "    <tr>\n",
       "      <th>3</th>\n",
       "      <td>190_few_anno.xml</td>\n",
       "      <td>chemical</td>\n",
       "      <td>SAM</td>\n",
       "      <td>S-adenosyl-L-methionine</td>\n",
       "      <td>59789</td>\n",
       "      <td>s-adenosylmethioninamine</td>\n",
       "      <td>1.000</td>\n",
       "      <td>0</td>\n",
       "      <td>ignore</td>\n",
       "    </tr>\n",
       "    <tr>\n",
       "      <th>4</th>\n",
       "      <td>190_few_anno.xml</td>\n",
       "      <td>chemical</td>\n",
       "      <td>SAM</td>\n",
       "      <td>S-adenosyl-L-methionine</td>\n",
       "      <td>142094</td>\n",
       "      <td>s-adenosylmethioninaminium</td>\n",
       "      <td>0.935</td>\n",
       "      <td>0</td>\n",
       "      <td>ignore</td>\n",
       "    </tr>\n",
       "    <tr>\n",
       "      <th>5</th>\n",
       "      <td>190_few_anno.xml</td>\n",
       "      <td>chemical</td>\n",
       "      <td>A</td>\n",
       "      <td>S-adenosylmethioninamine</td>\n",
       "      <td>15625</td>\n",
       "      <td>decarboxylated s-adenosylmethionine</td>\n",
       "      <td>1.000</td>\n",
       "      <td>1</td>\n",
       "      <td>keep</td>\n",
       "    </tr>\n",
       "    <tr>\n",
       "      <th>6</th>\n",
       "      <td>190_few_anno.xml</td>\n",
       "      <td>chemical</td>\n",
       "      <td>A</td>\n",
       "      <td>S-adenosylmethioninamine</td>\n",
       "      <td>67040</td>\n",
       "      <td>decarboxylated s-adenosylmethionine(2+)</td>\n",
       "      <td>0.926</td>\n",
       "      <td>0</td>\n",
       "      <td>ignore</td>\n",
       "    </tr>\n",
       "    <tr>\n",
       "      <th>7</th>\n",
       "      <td>190_few_anno.xml</td>\n",
       "      <td>chemical</td>\n",
       "      <td>A</td>\n",
       "      <td>S-adenosylmethioninamine</td>\n",
       "      <td>33442</td>\n",
       "      <td>s-adenosylmethionine decarboxylase inhibitor</td>\n",
       "      <td>0.926</td>\n",
       "      <td>0</td>\n",
       "      <td>ignore</td>\n",
       "    </tr>\n",
       "    <tr>\n",
       "      <th>8</th>\n",
       "      <td>190_few_anno.xml</td>\n",
       "      <td>chemical</td>\n",
       "      <td>A</td>\n",
       "      <td>S-adenosylmethioninamine</td>\n",
       "      <td>15414</td>\n",
       "      <td>s-adenosylmethionine</td>\n",
       "      <td>0.926</td>\n",
       "      <td>0</td>\n",
       "      <td>ignore</td>\n",
       "    </tr>\n",
       "    <tr>\n",
       "      <th>9</th>\n",
       "      <td>190_few_anno.xml</td>\n",
       "      <td>chemical</td>\n",
       "      <td>A</td>\n",
       "      <td>S-adenosylmethioninamine</td>\n",
       "      <td>57443</td>\n",
       "      <td>s-adenosylmethionine</td>\n",
       "      <td>0.907</td>\n",
       "      <td>0</td>\n",
       "      <td>ignore</td>\n",
       "    </tr>\n",
       "    <tr>\n",
       "      <th>10</th>\n",
       "      <td>190_few_anno.xml</td>\n",
       "      <td>chemical</td>\n",
       "      <td>P</td>\n",
       "      <td>Putrescine</td>\n",
       "      <td>17148</td>\n",
       "      <td>putrescine</td>\n",
       "      <td>1.000</td>\n",
       "      <td>0</td>\n",
       "      <td>add</td>\n",
       "    </tr>\n",
       "    <tr>\n",
       "      <th>11</th>\n",
       "      <td>190_few_anno.xml</td>\n",
       "      <td>chemical</td>\n",
       "      <td>P</td>\n",
       "      <td>Putrescine</td>\n",
       "      <td>326268</td>\n",
       "      <td>putrescine</td>\n",
       "      <td>1.000</td>\n",
       "      <td>0</td>\n",
       "      <td>ignore</td>\n",
       "    </tr>\n",
       "    <tr>\n",
       "      <th>12</th>\n",
       "      <td>190_few_anno.xml</td>\n",
       "      <td>chemical</td>\n",
       "      <td>P</td>\n",
       "      <td>Putrescine</td>\n",
       "      <td>26406</td>\n",
       "      <td>putrescines</td>\n",
       "      <td>0.912</td>\n",
       "      <td>0</td>\n",
       "      <td>ignore</td>\n",
       "    </tr>\n",
       "    <tr>\n",
       "      <th>13</th>\n",
       "      <td>190_few_anno.xml</td>\n",
       "      <td>chemical</td>\n",
       "      <td>P</td>\n",
       "      <td>Putrescine</td>\n",
       "      <td>201718</td>\n",
       "      <td>1,4-diaminobutane dihydrochloride</td>\n",
       "      <td>0.780</td>\n",
       "      <td>0</td>\n",
       "      <td>ignore</td>\n",
       "    </tr>\n",
       "    <tr>\n",
       "      <th>14</th>\n",
       "      <td>190_few_anno.xml</td>\n",
       "      <td>chemical</td>\n",
       "      <td>P</td>\n",
       "      <td>Putrescine</td>\n",
       "      <td>44736</td>\n",
       "      <td>1,4-diaminobutan-2-ol</td>\n",
       "      <td>0.712</td>\n",
       "      <td>0</td>\n",
       "      <td>ignore</td>\n",
       "    </tr>\n",
       "    <tr>\n",
       "      <th>15</th>\n",
       "      <td>190_few_anno.xml</td>\n",
       "      <td>chemical</td>\n",
       "      <td>S</td>\n",
       "      <td>Spermine</td>\n",
       "      <td>15746</td>\n",
       "      <td>spermine</td>\n",
       "      <td>1.000</td>\n",
       "      <td>0</td>\n",
       "      <td>add</td>\n",
       "    </tr>\n",
       "    <tr>\n",
       "      <th>16</th>\n",
       "      <td>190_few_anno.xml</td>\n",
       "      <td>chemical</td>\n",
       "      <td>S</td>\n",
       "      <td>Spermine</td>\n",
       "      <td>45725</td>\n",
       "      <td>spermine</td>\n",
       "      <td>1.000</td>\n",
       "      <td>0</td>\n",
       "      <td>ignore</td>\n",
       "    </tr>\n",
       "    <tr>\n",
       "      <th>17</th>\n",
       "      <td>190_few_anno.xml</td>\n",
       "      <td>chemical</td>\n",
       "      <td>S</td>\n",
       "      <td>Spermine</td>\n",
       "      <td>17148</td>\n",
       "      <td>spermidine</td>\n",
       "      <td>1.000</td>\n",
       "      <td>0</td>\n",
       "      <td>ignore</td>\n",
       "    </tr>\n",
       "    <tr>\n",
       "      <th>18</th>\n",
       "      <td>190_few_anno.xml</td>\n",
       "      <td>chemical</td>\n",
       "      <td>S</td>\n",
       "      <td>Spermine</td>\n",
       "      <td>39501</td>\n",
       "      <td>spermidine</td>\n",
       "      <td>0.865</td>\n",
       "      <td>0</td>\n",
       "      <td>ignore</td>\n",
       "    </tr>\n",
       "    <tr>\n",
       "      <th>19</th>\n",
       "      <td>190_few_anno.xml</td>\n",
       "      <td>chemical</td>\n",
       "      <td>S</td>\n",
       "      <td>Spermine</td>\n",
       "      <td>30631</td>\n",
       "      <td>spermatheridine</td>\n",
       "      <td>0.831</td>\n",
       "      <td>0</td>\n",
       "      <td>ignore</td>\n",
       "    </tr>\n",
       "    <tr>\n",
       "      <th>20</th>\n",
       "      <td>190_few_anno.xml</td>\n",
       "      <td>chemical</td>\n",
       "      <td>D</td>\n",
       "      <td>Spermidine</td>\n",
       "      <td>16610</td>\n",
       "      <td>spermidine</td>\n",
       "      <td>1.000</td>\n",
       "      <td>0</td>\n",
       "      <td>add</td>\n",
       "    </tr>\n",
       "    <tr>\n",
       "      <th>21</th>\n",
       "      <td>190_few_anno.xml</td>\n",
       "      <td>chemical</td>\n",
       "      <td>D</td>\n",
       "      <td>Spermidine</td>\n",
       "      <td>57834</td>\n",
       "      <td>spermidine</td>\n",
       "      <td>1.000</td>\n",
       "      <td>0</td>\n",
       "      <td>ignore</td>\n",
       "    </tr>\n",
       "    <tr>\n",
       "      <th>22</th>\n",
       "      <td>190_few_anno.xml</td>\n",
       "      <td>chemical</td>\n",
       "      <td>D</td>\n",
       "      <td>Spermidine</td>\n",
       "      <td>30629</td>\n",
       "      <td>spermine</td>\n",
       "      <td>0.854</td>\n",
       "      <td>0</td>\n",
       "      <td>ignore</td>\n",
       "    </tr>\n",
       "    <tr>\n",
       "      <th>23</th>\n",
       "      <td>190_few_anno.xml</td>\n",
       "      <td>chemical</td>\n",
       "      <td>D</td>\n",
       "      <td>Spermidine</td>\n",
       "      <td>30631</td>\n",
       "      <td>n-(2-aminoethyl)ethane-1,2-diamine</td>\n",
       "      <td>0.777</td>\n",
       "      <td>0</td>\n",
       "      <td>ignore</td>\n",
       "    </tr>\n",
       "    <tr>\n",
       "      <th>24</th>\n",
       "      <td>190_few_anno.xml</td>\n",
       "      <td>chemical</td>\n",
       "      <td>D</td>\n",
       "      <td>Spermidine</td>\n",
       "      <td>39501</td>\n",
       "      <td>n,n-bis(2-aminoethyl)ethane-1,2-diamine</td>\n",
       "      <td>0.772</td>\n",
       "      <td>0</td>\n",
       "      <td>ignore</td>\n",
       "    </tr>\n",
       "    <tr>\n",
       "      <th>25</th>\n",
       "      <td>190_few_anno.xml</td>\n",
       "      <td>chemical</td>\n",
       "      <td>aS</td>\n",
       "      <td>N1-Acetylspermine</td>\n",
       "      <td>17312</td>\n",
       "      <td>n1-acetylspermine</td>\n",
       "      <td>1.000</td>\n",
       "      <td>0</td>\n",
       "      <td>add</td>\n",
       "    </tr>\n",
       "    <tr>\n",
       "      <th>26</th>\n",
       "      <td>190_few_anno.xml</td>\n",
       "      <td>chemical</td>\n",
       "      <td>aS</td>\n",
       "      <td>N1-Acetylspermine</td>\n",
       "      <td>22205</td>\n",
       "      <td>n(1)-acetylspermine</td>\n",
       "      <td>1.000</td>\n",
       "      <td>0</td>\n",
       "      <td>ignore</td>\n",
       "    </tr>\n",
       "    <tr>\n",
       "      <th>27</th>\n",
       "      <td>190_few_anno.xml</td>\n",
       "      <td>chemical</td>\n",
       "      <td>aS</td>\n",
       "      <td>N1-Acetylspermine</td>\n",
       "      <td>125358</td>\n",
       "      <td>n1,n12-diacetylspermine</td>\n",
       "      <td>0.731</td>\n",
       "      <td>0</td>\n",
       "      <td>ignore</td>\n",
       "    </tr>\n",
       "    <tr>\n",
       "      <th>28</th>\n",
       "      <td>190_few_anno.xml</td>\n",
       "      <td>chemical</td>\n",
       "      <td>aS</td>\n",
       "      <td>N1-Acetylspermine</td>\n",
       "      <td>58101</td>\n",
       "      <td>n-acetyloctopamine</td>\n",
       "      <td>0.726</td>\n",
       "      <td>0</td>\n",
       "      <td>ignore</td>\n",
       "    </tr>\n",
       "    <tr>\n",
       "      <th>29</th>\n",
       "      <td>190_few_anno.xml</td>\n",
       "      <td>chemical</td>\n",
       "      <td>aS</td>\n",
       "      <td>N1-Acetylspermine</td>\n",
       "      <td>73685</td>\n",
       "      <td>acetylspermine</td>\n",
       "      <td>0.691</td>\n",
       "      <td>0</td>\n",
       "      <td>ignore</td>\n",
       "    </tr>\n",
       "    <tr>\n",
       "      <th>30</th>\n",
       "      <td>190_few_anno.xml</td>\n",
       "      <td>chemical</td>\n",
       "      <td>aD</td>\n",
       "      <td>N1-Acetylspermidine</td>\n",
       "      <td>17927</td>\n",
       "      <td>n1-acetylspermidine</td>\n",
       "      <td>1.000</td>\n",
       "      <td>0</td>\n",
       "      <td>add</td>\n",
       "    </tr>\n",
       "    <tr>\n",
       "      <th>31</th>\n",
       "      <td>190_few_anno.xml</td>\n",
       "      <td>chemical</td>\n",
       "      <td>aD</td>\n",
       "      <td>N1-Acetylspermidine</td>\n",
       "      <td>22204</td>\n",
       "      <td>n1-acetyl,n8-succinylspermidine</td>\n",
       "      <td>1.000</td>\n",
       "      <td>0</td>\n",
       "      <td>ignore</td>\n",
       "    </tr>\n",
       "    <tr>\n",
       "      <th>32</th>\n",
       "      <td>190_few_anno.xml</td>\n",
       "      <td>chemical</td>\n",
       "      <td>aD</td>\n",
       "      <td>N1-Acetylspermidine</td>\n",
       "      <td>27911</td>\n",
       "      <td>n(1)-acetylspermidine</td>\n",
       "      <td>0.878</td>\n",
       "      <td>0</td>\n",
       "      <td>ignore</td>\n",
       "    </tr>\n",
       "    <tr>\n",
       "      <th>33</th>\n",
       "      <td>190_few_anno.xml</td>\n",
       "      <td>chemical</td>\n",
       "      <td>aD</td>\n",
       "      <td>N1-Acetylspermidine</td>\n",
       "      <td>16437</td>\n",
       "      <td>acetylspermidine</td>\n",
       "      <td>0.838</td>\n",
       "      <td>0</td>\n",
       "      <td>ignore</td>\n",
       "    </tr>\n",
       "    <tr>\n",
       "      <th>34</th>\n",
       "      <td>190_few_anno.xml</td>\n",
       "      <td>chemical</td>\n",
       "      <td>aD</td>\n",
       "      <td>N1-Acetylspermidine</td>\n",
       "      <td>195636</td>\n",
       "      <td>n8-acetylspermidine</td>\n",
       "      <td>0.830</td>\n",
       "      <td>0</td>\n",
       "      <td>ignore</td>\n",
       "    </tr>\n",
       "    <tr>\n",
       "      <th>35</th>\n",
       "      <td>190_few_anno.xml</td>\n",
       "      <td>chemical</td>\n",
       "      <td>Met</td>\n",
       "      <td>Methionine</td>\n",
       "      <td>16643</td>\n",
       "      <td>methionine</td>\n",
       "      <td>1.000</td>\n",
       "      <td>0</td>\n",
       "      <td>add</td>\n",
       "    </tr>\n",
       "    <tr>\n",
       "      <th>36</th>\n",
       "      <td>190_few_anno.xml</td>\n",
       "      <td>chemical</td>\n",
       "      <td>Met</td>\n",
       "      <td>Methionine</td>\n",
       "      <td>16811</td>\n",
       "      <td>methionine</td>\n",
       "      <td>1.000</td>\n",
       "      <td>0</td>\n",
       "      <td>ignore</td>\n",
       "    </tr>\n",
       "    <tr>\n",
       "      <th>37</th>\n",
       "      <td>190_few_anno.xml</td>\n",
       "      <td>chemical</td>\n",
       "      <td>Met</td>\n",
       "      <td>Methionine</td>\n",
       "      <td>64558</td>\n",
       "      <td>methionine</td>\n",
       "      <td>1.000</td>\n",
       "      <td>0</td>\n",
       "      <td>ignore</td>\n",
       "    </tr>\n",
       "    <tr>\n",
       "      <th>38</th>\n",
       "      <td>190_few_anno.xml</td>\n",
       "      <td>chemical</td>\n",
       "      <td>Met</td>\n",
       "      <td>Methionine</td>\n",
       "      <td>16044</td>\n",
       "      <td>methionyl-methionine</td>\n",
       "      <td>1.000</td>\n",
       "      <td>0</td>\n",
       "      <td>ignore</td>\n",
       "    </tr>\n",
       "    <tr>\n",
       "      <th>39</th>\n",
       "      <td>190_few_anno.xml</td>\n",
       "      <td>chemical</td>\n",
       "      <td>Met</td>\n",
       "      <td>Methionine</td>\n",
       "      <td>57844</td>\n",
       "      <td>l-methionine</td>\n",
       "      <td>1.000</td>\n",
       "      <td>0</td>\n",
       "      <td>ignore</td>\n",
       "    </tr>\n",
       "    <tr>\n",
       "      <th>40</th>\n",
       "      <td>190_few_anno.xml</td>\n",
       "      <td>chemical</td>\n",
       "      <td>ORN</td>\n",
       "      <td>L-Ornithine</td>\n",
       "      <td>18257</td>\n",
       "      <td>ornithine</td>\n",
       "      <td>1.000</td>\n",
       "      <td>0</td>\n",
       "      <td>add</td>\n",
       "    </tr>\n",
       "    <tr>\n",
       "      <th>41</th>\n",
       "      <td>190_few_anno.xml</td>\n",
       "      <td>chemical</td>\n",
       "      <td>ORN</td>\n",
       "      <td>L-Ornithine</td>\n",
       "      <td>44667</td>\n",
       "      <td>ornithine</td>\n",
       "      <td>1.000</td>\n",
       "      <td>0</td>\n",
       "      <td>ignore</td>\n",
       "    </tr>\n",
       "    <tr>\n",
       "      <th>42</th>\n",
       "      <td>190_few_anno.xml</td>\n",
       "      <td>chemical</td>\n",
       "      <td>ORN</td>\n",
       "      <td>L-Ornithine</td>\n",
       "      <td>15729</td>\n",
       "      <td>l-ornithine</td>\n",
       "      <td>1.000</td>\n",
       "      <td>0</td>\n",
       "      <td>ignore</td>\n",
       "    </tr>\n",
       "    <tr>\n",
       "      <th>43</th>\n",
       "      <td>190_few_anno.xml</td>\n",
       "      <td>chemical</td>\n",
       "      <td>ORN</td>\n",
       "      <td>L-Ornithine</td>\n",
       "      <td>46911</td>\n",
       "      <td>l-ornithine</td>\n",
       "      <td>1.000</td>\n",
       "      <td>0</td>\n",
       "      <td>ignore</td>\n",
       "    </tr>\n",
       "    <tr>\n",
       "      <th>44</th>\n",
       "      <td>190_few_anno.xml</td>\n",
       "      <td>chemical</td>\n",
       "      <td>ORN</td>\n",
       "      <td>L-Ornithine</td>\n",
       "      <td>28300</td>\n",
       "      <td>ornithine anion</td>\n",
       "      <td>0.872</td>\n",
       "      <td>0</td>\n",
       "      <td>ignore</td>\n",
       "    </tr>\n",
       "    <tr>\n",
       "      <th>45</th>\n",
       "      <td>190_few_anno.xml</td>\n",
       "      <td>chemical</td>\n",
       "      <td>AcCoA</td>\n",
       "      <td>Acetyl-CoA</td>\n",
       "      <td>15351</td>\n",
       "      <td>acetyl-coa</td>\n",
       "      <td>1.000</td>\n",
       "      <td>0</td>\n",
       "      <td>add</td>\n",
       "    </tr>\n",
       "    <tr>\n",
       "      <th>46</th>\n",
       "      <td>190_few_anno.xml</td>\n",
       "      <td>chemical</td>\n",
       "      <td>AcCoA</td>\n",
       "      <td>Acetyl-CoA</td>\n",
       "      <td>57288</td>\n",
       "      <td>acetyl-coa</td>\n",
       "      <td>1.000</td>\n",
       "      <td>0</td>\n",
       "      <td>ignore</td>\n",
       "    </tr>\n",
       "    <tr>\n",
       "      <th>47</th>\n",
       "      <td>190_few_anno.xml</td>\n",
       "      <td>chemical</td>\n",
       "      <td>AcCoA</td>\n",
       "      <td>Acetyl-CoA</td>\n",
       "      <td>57286</td>\n",
       "      <td>acetoacetyl-coa</td>\n",
       "      <td>0.835</td>\n",
       "      <td>0</td>\n",
       "      <td>ignore</td>\n",
       "    </tr>\n",
       "    <tr>\n",
       "      <th>48</th>\n",
       "      <td>190_few_anno.xml</td>\n",
       "      <td>chemical</td>\n",
       "      <td>AcCoA</td>\n",
       "      <td>Acetyl-CoA</td>\n",
       "      <td>180918</td>\n",
       "      <td>acetyl coenzyme a (acetyl-coa)</td>\n",
       "      <td>0.877</td>\n",
       "      <td>0</td>\n",
       "      <td>ignore</td>\n",
       "    </tr>\n",
       "    <tr>\n",
       "      <th>49</th>\n",
       "      <td>190_few_anno.xml</td>\n",
       "      <td>chemical</td>\n",
       "      <td>AcCoA</td>\n",
       "      <td>Acetyl-CoA</td>\n",
       "      <td>15345</td>\n",
       "      <td>acetoacetyl coenzyme a</td>\n",
       "      <td>0.876</td>\n",
       "      <td>0</td>\n",
       "      <td>ignore</td>\n",
       "    </tr>\n",
       "  </tbody>\n",
       "</table>\n",
       "</div>"
      ],
      "text/plain": [
       "                file      type     id              display_name annotation  \\\n",
       "0   190_few_anno.xml  chemical    SAM   S-adenosyl-L-methionine      15414   \n",
       "1   190_few_anno.xml  chemical    SAM   S-adenosyl-L-methionine      67040   \n",
       "2   190_few_anno.xml  chemical    SAM   S-adenosyl-L-methionine      33442   \n",
       "3   190_few_anno.xml  chemical    SAM   S-adenosyl-L-methionine      59789   \n",
       "4   190_few_anno.xml  chemical    SAM   S-adenosyl-L-methionine     142094   \n",
       "5   190_few_anno.xml  chemical      A  S-adenosylmethioninamine      15625   \n",
       "6   190_few_anno.xml  chemical      A  S-adenosylmethioninamine      67040   \n",
       "7   190_few_anno.xml  chemical      A  S-adenosylmethioninamine      33442   \n",
       "8   190_few_anno.xml  chemical      A  S-adenosylmethioninamine      15414   \n",
       "9   190_few_anno.xml  chemical      A  S-adenosylmethioninamine      57443   \n",
       "10  190_few_anno.xml  chemical      P                Putrescine      17148   \n",
       "11  190_few_anno.xml  chemical      P                Putrescine     326268   \n",
       "12  190_few_anno.xml  chemical      P                Putrescine      26406   \n",
       "13  190_few_anno.xml  chemical      P                Putrescine     201718   \n",
       "14  190_few_anno.xml  chemical      P                Putrescine      44736   \n",
       "15  190_few_anno.xml  chemical      S                  Spermine      15746   \n",
       "16  190_few_anno.xml  chemical      S                  Spermine      45725   \n",
       "17  190_few_anno.xml  chemical      S                  Spermine      17148   \n",
       "18  190_few_anno.xml  chemical      S                  Spermine      39501   \n",
       "19  190_few_anno.xml  chemical      S                  Spermine      30631   \n",
       "20  190_few_anno.xml  chemical      D                Spermidine      16610   \n",
       "21  190_few_anno.xml  chemical      D                Spermidine      57834   \n",
       "22  190_few_anno.xml  chemical      D                Spermidine      30629   \n",
       "23  190_few_anno.xml  chemical      D                Spermidine      30631   \n",
       "24  190_few_anno.xml  chemical      D                Spermidine      39501   \n",
       "25  190_few_anno.xml  chemical     aS         N1-Acetylspermine      17312   \n",
       "26  190_few_anno.xml  chemical     aS         N1-Acetylspermine      22205   \n",
       "27  190_few_anno.xml  chemical     aS         N1-Acetylspermine     125358   \n",
       "28  190_few_anno.xml  chemical     aS         N1-Acetylspermine      58101   \n",
       "29  190_few_anno.xml  chemical     aS         N1-Acetylspermine      73685   \n",
       "30  190_few_anno.xml  chemical     aD       N1-Acetylspermidine      17927   \n",
       "31  190_few_anno.xml  chemical     aD       N1-Acetylspermidine      22204   \n",
       "32  190_few_anno.xml  chemical     aD       N1-Acetylspermidine      27911   \n",
       "33  190_few_anno.xml  chemical     aD       N1-Acetylspermidine      16437   \n",
       "34  190_few_anno.xml  chemical     aD       N1-Acetylspermidine     195636   \n",
       "35  190_few_anno.xml  chemical    Met                Methionine      16643   \n",
       "36  190_few_anno.xml  chemical    Met                Methionine      16811   \n",
       "37  190_few_anno.xml  chemical    Met                Methionine      64558   \n",
       "38  190_few_anno.xml  chemical    Met                Methionine      16044   \n",
       "39  190_few_anno.xml  chemical    Met                Methionine      57844   \n",
       "40  190_few_anno.xml  chemical    ORN               L-Ornithine      18257   \n",
       "41  190_few_anno.xml  chemical    ORN               L-Ornithine      44667   \n",
       "42  190_few_anno.xml  chemical    ORN               L-Ornithine      15729   \n",
       "43  190_few_anno.xml  chemical    ORN               L-Ornithine      46911   \n",
       "44  190_few_anno.xml  chemical    ORN               L-Ornithine      28300   \n",
       "45  190_few_anno.xml  chemical  AcCoA                Acetyl-CoA      15351   \n",
       "46  190_few_anno.xml  chemical  AcCoA                Acetyl-CoA      57288   \n",
       "47  190_few_anno.xml  chemical  AcCoA                Acetyl-CoA      57286   \n",
       "48  190_few_anno.xml  chemical  AcCoA                Acetyl-CoA     180918   \n",
       "49  190_few_anno.xml  chemical  AcCoA                Acetyl-CoA      15345   \n",
       "\n",
       "                                annotation_label  match_score  existing  \\\n",
       "0                           s-adenosylmethionine        1.000         1   \n",
       "1                           s-adenosylmethionine        1.000         0   \n",
       "2                           s-adenosylmethionine        1.000         0   \n",
       "3                       s-adenosylmethioninamine        1.000         0   \n",
       "4                     s-adenosylmethioninaminium        0.935         0   \n",
       "5            decarboxylated s-adenosylmethionine        1.000         1   \n",
       "6        decarboxylated s-adenosylmethionine(2+)        0.926         0   \n",
       "7   s-adenosylmethionine decarboxylase inhibitor        0.926         0   \n",
       "8                           s-adenosylmethionine        0.926         0   \n",
       "9                           s-adenosylmethionine        0.907         0   \n",
       "10                                    putrescine        1.000         0   \n",
       "11                                    putrescine        1.000         0   \n",
       "12                                   putrescines        0.912         0   \n",
       "13             1,4-diaminobutane dihydrochloride        0.780         0   \n",
       "14                         1,4-diaminobutan-2-ol        0.712         0   \n",
       "15                                      spermine        1.000         0   \n",
       "16                                      spermine        1.000         0   \n",
       "17                                    spermidine        1.000         0   \n",
       "18                                    spermidine        0.865         0   \n",
       "19                               spermatheridine        0.831         0   \n",
       "20                                    spermidine        1.000         0   \n",
       "21                                    spermidine        1.000         0   \n",
       "22                                      spermine        0.854         0   \n",
       "23            n-(2-aminoethyl)ethane-1,2-diamine        0.777         0   \n",
       "24       n,n-bis(2-aminoethyl)ethane-1,2-diamine        0.772         0   \n",
       "25                             n1-acetylspermine        1.000         0   \n",
       "26                           n(1)-acetylspermine        1.000         0   \n",
       "27                       n1,n12-diacetylspermine        0.731         0   \n",
       "28                            n-acetyloctopamine        0.726         0   \n",
       "29                                acetylspermine        0.691         0   \n",
       "30                           n1-acetylspermidine        1.000         0   \n",
       "31               n1-acetyl,n8-succinylspermidine        1.000         0   \n",
       "32                         n(1)-acetylspermidine        0.878         0   \n",
       "33                              acetylspermidine        0.838         0   \n",
       "34                           n8-acetylspermidine        0.830         0   \n",
       "35                                    methionine        1.000         0   \n",
       "36                                    methionine        1.000         0   \n",
       "37                                    methionine        1.000         0   \n",
       "38                          methionyl-methionine        1.000         0   \n",
       "39                                  l-methionine        1.000         0   \n",
       "40                                     ornithine        1.000         0   \n",
       "41                                     ornithine        1.000         0   \n",
       "42                                   l-ornithine        1.000         0   \n",
       "43                                   l-ornithine        1.000         0   \n",
       "44                               ornithine anion        0.872         0   \n",
       "45                                    acetyl-coa        1.000         0   \n",
       "46                                    acetyl-coa        1.000         0   \n",
       "47                               acetoacetyl-coa        0.835         0   \n",
       "48                acetyl coenzyme a (acetyl-coa)        0.877         0   \n",
       "49                        acetoacetyl coenzyme a        0.876         0   \n",
       "\n",
       "   update_annotation  \n",
       "0               keep  \n",
       "1             ignore  \n",
       "2             ignore  \n",
       "3             ignore  \n",
       "4             ignore  \n",
       "5               keep  \n",
       "6             ignore  \n",
       "7             ignore  \n",
       "8             ignore  \n",
       "9             ignore  \n",
       "10               add  \n",
       "11            ignore  \n",
       "12            ignore  \n",
       "13            ignore  \n",
       "14            ignore  \n",
       "15               add  \n",
       "16            ignore  \n",
       "17            ignore  \n",
       "18            ignore  \n",
       "19            ignore  \n",
       "20               add  \n",
       "21            ignore  \n",
       "22            ignore  \n",
       "23            ignore  \n",
       "24            ignore  \n",
       "25               add  \n",
       "26            ignore  \n",
       "27            ignore  \n",
       "28            ignore  \n",
       "29            ignore  \n",
       "30               add  \n",
       "31            ignore  \n",
       "32            ignore  \n",
       "33            ignore  \n",
       "34            ignore  \n",
       "35               add  \n",
       "36            ignore  \n",
       "37            ignore  \n",
       "38            ignore  \n",
       "39            ignore  \n",
       "40               add  \n",
       "41            ignore  \n",
       "42            ignore  \n",
       "43            ignore  \n",
       "44            ignore  \n",
       "45               add  \n",
       "46            ignore  \n",
       "47            ignore  \n",
       "48            ignore  \n",
       "49            ignore  "
      ]
     },
     "execution_count": 4,
     "metadata": {},
     "output_type": "execute_result"
    }
   ],
   "source": [
    "recommendations_df"
   ]
  },
  {
   "cell_type": "code",
   "execution_count": 8,
   "metadata": {},
   "outputs": [
    {
     "data": {
      "text/plain": [
       "{'total_entities': 11,\n",
       " 'entities_with_predictions': 10,\n",
       " 'annotation_rate': 0.9090909090909091,\n",
       " 'total_predictions': 95,\n",
       " 'matches': 2,\n",
       " 'accuracy': 1.0,\n",
       " 'total_time': 15.505661964416504,\n",
       " 'llm_time': 8.263680934906006,\n",
       " 'search_time': 7.165221929550171}"
      ]
     },
     "execution_count": 8,
     "metadata": {},
     "output_type": "execute_result"
    }
   ],
   "source": [
    "metrics"
   ]
  },
  {
   "cell_type": "markdown",
   "metadata": {},
   "source": [
    "## Curate a model with existing annotations\n",
    "\n",
    "Evaluation of a single model with existing annotations. \n",
    "Will only look at the species with existing annotations."
   ]
  },
  {
   "cell_type": "code",
   "execution_count": 4,
   "metadata": {},
   "outputs": [
    {
     "name": "stdout",
     "output_type": "stream",
     "text": [
      "✓ Test model found: test_models/BIOMD0000000190.xml\n"
     ]
    }
   ],
   "source": [
    "test_model_file = \"test_models/BIOMD0000000190.xml\"\n",
    "# Check if test model exists\n",
    "if os.path.exists(test_model_file):\n",
    "    print(f\"✓ Test model found: {test_model_file}\")\n",
    "else:\n",
    "    print(f\"✗ Test model not found: {test_model_file}\")"
   ]
  },
  {
   "cell_type": "code",
   "execution_count": 8,
   "metadata": {},
   "outputs": [
    {
     "name": "stderr",
     "output_type": "stream",
     "text": [
      "2025-05-30 15:44:24,060 - INFO - Starting curation for model: test_models/BIOMD0000000190.xml\n",
      "2025-05-30 15:44:24,061 - INFO - Using LLM model: meta-llama/llama-3.3-70b-instruct:free\n",
      "2025-05-30 15:44:24,061 - INFO - Using method: rag for database search\n",
      "2025-05-30 15:44:24,062 - INFO - Entity type: chemical, Database: chebi\n",
      "2025-05-30 15:44:24,062 - INFO - Step 1: Finding existing annotations...\n",
      "2025-05-30 15:44:24,078 - INFO - Found 11 entities with existing annotations\n",
      "2025-05-30 15:44:24,078 - INFO - Selected 10 entities for evaluation\n",
      "2025-05-30 15:44:24,078 - INFO - Step 3: Extracting model context...\n",
      "2025-05-30 15:44:24,126 - INFO - Extracted context for model: Model_1\n",
      "2025-05-30 15:44:24,126 - INFO - Step 4: Formatting LLM prompt...\n",
      "2025-05-30 15:44:24,157 - INFO - Step 5: Querying LLM (meta-llama/llama-3.3-70b-instruct:free)...\n",
      "2025-05-30 15:44:26,019 - INFO - HTTP Request: POST https://openrouter.ai/api/v1/chat/completions \"HTTP/1.1 200 OK\"\n",
      "2025-05-30 15:44:30,760 - INFO - LLM response received in 6.60s\n",
      "2025-05-30 15:44:30,760 - INFO - Step 6: Parsing LLM response...\n",
      "2025-05-30 15:44:30,761 - INFO - Parsed synonyms for 10 entities\n",
      "2025-05-30 15:44:30,761 - INFO - Step 7: Searching chebi database...\n",
      "2025-05-30 15:44:30,766 - INFO - Using sentence transformer all-MiniLM-L6-v2 model\n",
      "2025-05-30 15:44:30,766 - INFO - Using RAG embeddings from collection 'chebi_default' with default model\n"
     ]
    },
    {
     "data": {
      "application/vnd.jupyter.widget-view+json": {
       "model_id": "52f740a8ac89480a9fa069ac47403a93",
       "version_major": 2,
       "version_minor": 0
      },
      "text/plain": [
       "Batches:   0%|          | 0/1 [00:00<?, ?it/s]"
      ]
     },
     "metadata": {},
     "output_type": "display_data"
    },
    {
     "data": {
      "application/vnd.jupyter.widget-view+json": {
       "model_id": "66d55803a3254c27ae57086445ca75da",
       "version_major": 2,
       "version_minor": 0
      },
      "text/plain": [
       "Batches:   0%|          | 0/1 [00:00<?, ?it/s]"
      ]
     },
     "metadata": {},
     "output_type": "display_data"
    },
    {
     "data": {
      "application/vnd.jupyter.widget-view+json": {
       "model_id": "e687408e4bf84d39a14edf36af4021f8",
       "version_major": 2,
       "version_minor": 0
      },
      "text/plain": [
       "Batches:   0%|          | 0/1 [00:00<?, ?it/s]"
      ]
     },
     "metadata": {},
     "output_type": "display_data"
    },
    {
     "data": {
      "application/vnd.jupyter.widget-view+json": {
       "model_id": "6768b35afcb245a6a65c1c2b1b02f218",
       "version_major": 2,
       "version_minor": 0
      },
      "text/plain": [
       "Batches:   0%|          | 0/1 [00:00<?, ?it/s]"
      ]
     },
     "metadata": {},
     "output_type": "display_data"
    },
    {
     "data": {
      "application/vnd.jupyter.widget-view+json": {
       "model_id": "cb0797c204434bd1847221aa29d43689",
       "version_major": 2,
       "version_minor": 0
      },
      "text/plain": [
       "Batches:   0%|          | 0/1 [00:00<?, ?it/s]"
      ]
     },
     "metadata": {},
     "output_type": "display_data"
    },
    {
     "data": {
      "application/vnd.jupyter.widget-view+json": {
       "model_id": "7c31bd04f77e429ca2c58f72fc01199d",
       "version_major": 2,
       "version_minor": 0
      },
      "text/plain": [
       "Batches:   0%|          | 0/1 [00:00<?, ?it/s]"
      ]
     },
     "metadata": {},
     "output_type": "display_data"
    },
    {
     "data": {
      "application/vnd.jupyter.widget-view+json": {
       "model_id": "bef1478f7f624c6ab95a258c55c58e21",
       "version_major": 2,
       "version_minor": 0
      },
      "text/plain": [
       "Batches:   0%|          | 0/1 [00:00<?, ?it/s]"
      ]
     },
     "metadata": {},
     "output_type": "display_data"
    },
    {
     "data": {
      "application/vnd.jupyter.widget-view+json": {
       "model_id": "1a9ce4fc21554da68aad55bd4c787f44",
       "version_major": 2,
       "version_minor": 0
      },
      "text/plain": [
       "Batches:   0%|          | 0/1 [00:00<?, ?it/s]"
      ]
     },
     "metadata": {},
     "output_type": "display_data"
    },
    {
     "data": {
      "application/vnd.jupyter.widget-view+json": {
       "model_id": "9ae8c07f3517431c85d6963a2b9b61ae",
       "version_major": 2,
       "version_minor": 0
      },
      "text/plain": [
       "Batches:   0%|          | 0/1 [00:00<?, ?it/s]"
      ]
     },
     "metadata": {},
     "output_type": "display_data"
    },
    {
     "data": {
      "application/vnd.jupyter.widget-view+json": {
       "model_id": "777e2067569b41b090647554dbf9a54b",
       "version_major": 2,
       "version_minor": 0
      },
      "text/plain": [
       "Batches:   0%|          | 0/1 [00:00<?, ?it/s]"
      ]
     },
     "metadata": {},
     "output_type": "display_data"
    },
    {
     "data": {
      "application/vnd.jupyter.widget-view+json": {
       "model_id": "f84a81d5a5234a9c95d4140b30d8d29d",
       "version_major": 2,
       "version_minor": 0
      },
      "text/plain": [
       "Batches:   0%|          | 0/1 [00:00<?, ?it/s]"
      ]
     },
     "metadata": {},
     "output_type": "display_data"
    },
    {
     "data": {
      "application/vnd.jupyter.widget-view+json": {
       "model_id": "9bf3da5acfba4bd78efacb9564b3c7ea",
       "version_major": 2,
       "version_minor": 0
      },
      "text/plain": [
       "Batches:   0%|          | 0/1 [00:00<?, ?it/s]"
      ]
     },
     "metadata": {},
     "output_type": "display_data"
    },
    {
     "data": {
      "application/vnd.jupyter.widget-view+json": {
       "model_id": "50881877b435437c82e595ca341f10ed",
       "version_major": 2,
       "version_minor": 0
      },
      "text/plain": [
       "Batches:   0%|          | 0/1 [00:00<?, ?it/s]"
      ]
     },
     "metadata": {},
     "output_type": "display_data"
    },
    {
     "data": {
      "application/vnd.jupyter.widget-view+json": {
       "model_id": "50201afea9a1499fbb544d0949868100",
       "version_major": 2,
       "version_minor": 0
      },
      "text/plain": [
       "Batches:   0%|          | 0/1 [00:00<?, ?it/s]"
      ]
     },
     "metadata": {},
     "output_type": "display_data"
    },
    {
     "data": {
      "application/vnd.jupyter.widget-view+json": {
       "model_id": "02e84afafdb7490883c5b513b085f409",
       "version_major": 2,
       "version_minor": 0
      },
      "text/plain": [
       "Batches:   0%|          | 0/1 [00:00<?, ?it/s]"
      ]
     },
     "metadata": {},
     "output_type": "display_data"
    },
    {
     "data": {
      "application/vnd.jupyter.widget-view+json": {
       "model_id": "41b196b7c0154e9e934f529618daea57",
       "version_major": 2,
       "version_minor": 0
      },
      "text/plain": [
       "Batches:   0%|          | 0/1 [00:00<?, ?it/s]"
      ]
     },
     "metadata": {},
     "output_type": "display_data"
    },
    {
     "data": {
      "application/vnd.jupyter.widget-view+json": {
       "model_id": "c8e19ba7616e4036b70467588634287b",
       "version_major": 2,
       "version_minor": 0
      },
      "text/plain": [
       "Batches:   0%|          | 0/1 [00:00<?, ?it/s]"
      ]
     },
     "metadata": {},
     "output_type": "display_data"
    },
    {
     "data": {
      "application/vnd.jupyter.widget-view+json": {
       "model_id": "db3343d12cf44ad3852153d651ba42f9",
       "version_major": 2,
       "version_minor": 0
      },
      "text/plain": [
       "Batches:   0%|          | 0/1 [00:00<?, ?it/s]"
      ]
     },
     "metadata": {},
     "output_type": "display_data"
    },
    {
     "data": {
      "application/vnd.jupyter.widget-view+json": {
       "model_id": "abba2a72c6254335a32d07931c3f91d7",
       "version_major": 2,
       "version_minor": 0
      },
      "text/plain": [
       "Batches:   0%|          | 0/1 [00:00<?, ?it/s]"
      ]
     },
     "metadata": {},
     "output_type": "display_data"
    },
    {
     "data": {
      "application/vnd.jupyter.widget-view+json": {
       "model_id": "e457916d712243d8a880731a5b9981bf",
       "version_major": 2,
       "version_minor": 0
      },
      "text/plain": [
       "Batches:   0%|          | 0/1 [00:00<?, ?it/s]"
      ]
     },
     "metadata": {},
     "output_type": "display_data"
    },
    {
     "data": {
      "application/vnd.jupyter.widget-view+json": {
       "model_id": "9eb6513f05bf497089b353384f70327d",
       "version_major": 2,
       "version_minor": 0
      },
      "text/plain": [
       "Batches:   0%|          | 0/1 [00:00<?, ?it/s]"
      ]
     },
     "metadata": {},
     "output_type": "display_data"
    },
    {
     "data": {
      "application/vnd.jupyter.widget-view+json": {
       "model_id": "995cda71afbb40ebaf623ea538c2dab4",
       "version_major": 2,
       "version_minor": 0
      },
      "text/plain": [
       "Batches:   0%|          | 0/1 [00:00<?, ?it/s]"
      ]
     },
     "metadata": {},
     "output_type": "display_data"
    },
    {
     "data": {
      "application/vnd.jupyter.widget-view+json": {
       "model_id": "85f87e6dde8740448e3ed45c13ab8877",
       "version_major": 2,
       "version_minor": 0
      },
      "text/plain": [
       "Batches:   0%|          | 0/1 [00:00<?, ?it/s]"
      ]
     },
     "metadata": {},
     "output_type": "display_data"
    },
    {
     "data": {
      "application/vnd.jupyter.widget-view+json": {
       "model_id": "110e278652fa41e8882c01fae6308354",
       "version_major": 2,
       "version_minor": 0
      },
      "text/plain": [
       "Batches:   0%|          | 0/1 [00:00<?, ?it/s]"
      ]
     },
     "metadata": {},
     "output_type": "display_data"
    },
    {
     "data": {
      "application/vnd.jupyter.widget-view+json": {
       "model_id": "3c1a005487f048c0b0e37689a162de75",
       "version_major": 2,
       "version_minor": 0
      },
      "text/plain": [
       "Batches:   0%|          | 0/1 [00:00<?, ?it/s]"
      ]
     },
     "metadata": {},
     "output_type": "display_data"
    },
    {
     "data": {
      "application/vnd.jupyter.widget-view+json": {
       "model_id": "e4c8221251184be680e934e1792de583",
       "version_major": 2,
       "version_minor": 0
      },
      "text/plain": [
       "Batches:   0%|          | 0/1 [00:00<?, ?it/s]"
      ]
     },
     "metadata": {},
     "output_type": "display_data"
    },
    {
     "data": {
      "application/vnd.jupyter.widget-view+json": {
       "model_id": "728a19db347f4e138cfde608824b4393",
       "version_major": 2,
       "version_minor": 0
      },
      "text/plain": [
       "Batches:   0%|          | 0/1 [00:00<?, ?it/s]"
      ]
     },
     "metadata": {},
     "output_type": "display_data"
    },
    {
     "data": {
      "application/vnd.jupyter.widget-view+json": {
       "model_id": "1e0678910b174c14bc2e9741ffb5dcf0",
       "version_major": 2,
       "version_minor": 0
      },
      "text/plain": [
       "Batches:   0%|          | 0/1 [00:00<?, ?it/s]"
      ]
     },
     "metadata": {},
     "output_type": "display_data"
    },
    {
     "data": {
      "application/vnd.jupyter.widget-view+json": {
       "model_id": "8bc83f89c7a64576820e4b929e7ef6fa",
       "version_major": 2,
       "version_minor": 0
      },
      "text/plain": [
       "Batches:   0%|          | 0/1 [00:00<?, ?it/s]"
      ]
     },
     "metadata": {},
     "output_type": "display_data"
    },
    {
     "data": {
      "application/vnd.jupyter.widget-view+json": {
       "model_id": "b232143a2a564c73aceeaa206ee07013",
       "version_major": 2,
       "version_minor": 0
      },
      "text/plain": [
       "Batches:   0%|          | 0/1 [00:00<?, ?it/s]"
      ]
     },
     "metadata": {},
     "output_type": "display_data"
    },
    {
     "name": "stderr",
     "output_type": "stream",
     "text": [
      "2025-05-30 15:44:31,329 - INFO - Database search completed in 0.57s\n",
      "2025-05-30 15:44:31,330 - INFO - Step 8: Generating recommendation table...\n",
      "2025-05-30 15:44:31,333 - INFO - Curation completed in 7.27s\n",
      "2025-05-30 15:44:31,334 - INFO - Generated 50 recommendations\n"
     ]
    }
   ],
   "source": [
    "# Test with a single model\n",
    "recommendations_df, metrics = curate_model(\n",
    "    model_file=test_model_file,\n",
    "    llm_model=llm_model,\n",
    "    method=\"rag\",\n",
    "    max_entities=max_entities_per_model,\n",
    "    entity_type=entity_type,\n",
    "    database=database\n",
    ")"
   ]
  },
  {
   "cell_type": "code",
   "execution_count": 10,
   "metadata": {},
   "outputs": [
    {
     "data": {
      "text/plain": [
       "{'total_entities': 11,\n",
       " 'entities_with_predictions': 10,\n",
       " 'annotation_rate': 0.9090909090909091,\n",
       " 'total_predictions': 50,\n",
       " 'matches': 10,\n",
       " 'accuracy': 1.0,\n",
       " 'total_time': 7.271723985671997,\n",
       " 'llm_time': 6.602231740951538,\n",
       " 'search_time': 0.5678610801696777}"
      ]
     },
     "execution_count": 10,
     "metadata": {},
     "output_type": "execute_result"
    }
   ],
   "source": [
    "metrics"
   ]
  },
  {
   "cell_type": "code",
   "execution_count": 9,
   "metadata": {},
   "outputs": [
    {
     "data": {
      "text/html": [
       "<div>\n",
       "<style scoped>\n",
       "    .dataframe tbody tr th:only-of-type {\n",
       "        vertical-align: middle;\n",
       "    }\n",
       "\n",
       "    .dataframe tbody tr th {\n",
       "        vertical-align: top;\n",
       "    }\n",
       "\n",
       "    .dataframe thead th {\n",
       "        text-align: right;\n",
       "    }\n",
       "</style>\n",
       "<table border=\"1\" class=\"dataframe\">\n",
       "  <thead>\n",
       "    <tr style=\"text-align: right;\">\n",
       "      <th></th>\n",
       "      <th>file</th>\n",
       "      <th>type</th>\n",
       "      <th>id</th>\n",
       "      <th>display_name</th>\n",
       "      <th>annotation</th>\n",
       "      <th>annotation_label</th>\n",
       "      <th>match_score</th>\n",
       "      <th>existing</th>\n",
       "      <th>update_annotation</th>\n",
       "    </tr>\n",
       "  </thead>\n",
       "  <tbody>\n",
       "    <tr>\n",
       "      <th>0</th>\n",
       "      <td>BIOMD0000000190.xml</td>\n",
       "      <td>chemical</td>\n",
       "      <td>SAM</td>\n",
       "      <td>S-adenosyl-L-methionine</td>\n",
       "      <td>CHEBI:15414</td>\n",
       "      <td>s-adenosylmethionine</td>\n",
       "      <td>1.000000</td>\n",
       "      <td>1</td>\n",
       "      <td>keep</td>\n",
       "    </tr>\n",
       "    <tr>\n",
       "      <th>1</th>\n",
       "      <td>BIOMD0000000190.xml</td>\n",
       "      <td>chemical</td>\n",
       "      <td>SAM</td>\n",
       "      <td>S-adenosyl-L-methionine</td>\n",
       "      <td>CHEBI:67040</td>\n",
       "      <td>s-adenosylmethionine</td>\n",
       "      <td>1.000000</td>\n",
       "      <td>0</td>\n",
       "      <td>ignore</td>\n",
       "    </tr>\n",
       "    <tr>\n",
       "      <th>2</th>\n",
       "      <td>BIOMD0000000190.xml</td>\n",
       "      <td>chemical</td>\n",
       "      <td>SAM</td>\n",
       "      <td>S-adenosyl-L-methionine</td>\n",
       "      <td>CHEBI:33442</td>\n",
       "      <td>s-adenosylmethionine</td>\n",
       "      <td>1.000000</td>\n",
       "      <td>0</td>\n",
       "      <td>ignore</td>\n",
       "    </tr>\n",
       "    <tr>\n",
       "      <th>3</th>\n",
       "      <td>BIOMD0000000190.xml</td>\n",
       "      <td>chemical</td>\n",
       "      <td>SAM</td>\n",
       "      <td>S-adenosyl-L-methionine</td>\n",
       "      <td>CHEBI:15625</td>\n",
       "      <td>s-adenosylmethioninamine</td>\n",
       "      <td>0.926394</td>\n",
       "      <td>0</td>\n",
       "      <td>ignore</td>\n",
       "    </tr>\n",
       "    <tr>\n",
       "      <th>4</th>\n",
       "      <td>BIOMD0000000190.xml</td>\n",
       "      <td>chemical</td>\n",
       "      <td>SAM</td>\n",
       "      <td>S-adenosyl-L-methionine</td>\n",
       "      <td>CHEBI:57443</td>\n",
       "      <td>s-adenosylmethioninaminium</td>\n",
       "      <td>0.806852</td>\n",
       "      <td>0</td>\n",
       "      <td>ignore</td>\n",
       "    </tr>\n",
       "    <tr>\n",
       "      <th>5</th>\n",
       "      <td>BIOMD0000000190.xml</td>\n",
       "      <td>chemical</td>\n",
       "      <td>A</td>\n",
       "      <td>S-adenosylmethioninamine</td>\n",
       "      <td>CHEBI:15625</td>\n",
       "      <td>decarboxylated s-adenosylmethionine</td>\n",
       "      <td>1.000000</td>\n",
       "      <td>1</td>\n",
       "      <td>keep</td>\n",
       "    </tr>\n",
       "    <tr>\n",
       "      <th>6</th>\n",
       "      <td>BIOMD0000000190.xml</td>\n",
       "      <td>chemical</td>\n",
       "      <td>A</td>\n",
       "      <td>S-adenosylmethioninamine</td>\n",
       "      <td>CHEBI:33442</td>\n",
       "      <td>decarboxylated s-adenosylmethionine(2+)</td>\n",
       "      <td>0.926394</td>\n",
       "      <td>0</td>\n",
       "      <td>ignore</td>\n",
       "    </tr>\n",
       "    <tr>\n",
       "      <th>7</th>\n",
       "      <td>BIOMD0000000190.xml</td>\n",
       "      <td>chemical</td>\n",
       "      <td>A</td>\n",
       "      <td>S-adenosylmethioninamine</td>\n",
       "      <td>CHEBI:15414</td>\n",
       "      <td>s-adenosylmethionine decarboxylase inhibitor</td>\n",
       "      <td>0.926394</td>\n",
       "      <td>0</td>\n",
       "      <td>ignore</td>\n",
       "    </tr>\n",
       "    <tr>\n",
       "      <th>8</th>\n",
       "      <td>BIOMD0000000190.xml</td>\n",
       "      <td>chemical</td>\n",
       "      <td>A</td>\n",
       "      <td>S-adenosylmethioninamine</td>\n",
       "      <td>CHEBI:67040</td>\n",
       "      <td>s-adenosylmethionine</td>\n",
       "      <td>0.926394</td>\n",
       "      <td>0</td>\n",
       "      <td>ignore</td>\n",
       "    </tr>\n",
       "    <tr>\n",
       "      <th>9</th>\n",
       "      <td>BIOMD0000000190.xml</td>\n",
       "      <td>chemical</td>\n",
       "      <td>A</td>\n",
       "      <td>S-adenosylmethioninamine</td>\n",
       "      <td>CHEBI:57443</td>\n",
       "      <td>s-adenosylmethionine</td>\n",
       "      <td>0.907145</td>\n",
       "      <td>0</td>\n",
       "      <td>ignore</td>\n",
       "    </tr>\n",
       "    <tr>\n",
       "      <th>10</th>\n",
       "      <td>BIOMD0000000190.xml</td>\n",
       "      <td>chemical</td>\n",
       "      <td>P</td>\n",
       "      <td>Putrescine</td>\n",
       "      <td>CHEBI:17148</td>\n",
       "      <td>putrescine</td>\n",
       "      <td>1.000000</td>\n",
       "      <td>1</td>\n",
       "      <td>keep</td>\n",
       "    </tr>\n",
       "    <tr>\n",
       "      <th>11</th>\n",
       "      <td>BIOMD0000000190.xml</td>\n",
       "      <td>chemical</td>\n",
       "      <td>P</td>\n",
       "      <td>Putrescine</td>\n",
       "      <td>CHEBI:326268</td>\n",
       "      <td>putrescine</td>\n",
       "      <td>1.000000</td>\n",
       "      <td>0</td>\n",
       "      <td>ignore</td>\n",
       "    </tr>\n",
       "    <tr>\n",
       "      <th>12</th>\n",
       "      <td>BIOMD0000000190.xml</td>\n",
       "      <td>chemical</td>\n",
       "      <td>P</td>\n",
       "      <td>Putrescine</td>\n",
       "      <td>CHEBI:26406</td>\n",
       "      <td>putrescines</td>\n",
       "      <td>0.912037</td>\n",
       "      <td>0</td>\n",
       "      <td>ignore</td>\n",
       "    </tr>\n",
       "    <tr>\n",
       "      <th>13</th>\n",
       "      <td>BIOMD0000000190.xml</td>\n",
       "      <td>chemical</td>\n",
       "      <td>P</td>\n",
       "      <td>Putrescine</td>\n",
       "      <td>CHEBI:201718</td>\n",
       "      <td>1,4-diaminobutane dihydrochloride</td>\n",
       "      <td>0.780258</td>\n",
       "      <td>0</td>\n",
       "      <td>ignore</td>\n",
       "    </tr>\n",
       "    <tr>\n",
       "      <th>14</th>\n",
       "      <td>BIOMD0000000190.xml</td>\n",
       "      <td>chemical</td>\n",
       "      <td>P</td>\n",
       "      <td>Putrescine</td>\n",
       "      <td>CHEBI:44736</td>\n",
       "      <td>1,4-diaminobutan-2-ol</td>\n",
       "      <td>0.712187</td>\n",
       "      <td>0</td>\n",
       "      <td>ignore</td>\n",
       "    </tr>\n",
       "    <tr>\n",
       "      <th>15</th>\n",
       "      <td>BIOMD0000000190.xml</td>\n",
       "      <td>chemical</td>\n",
       "      <td>S</td>\n",
       "      <td>Spermine</td>\n",
       "      <td>CHEBI:15746</td>\n",
       "      <td>spermine</td>\n",
       "      <td>1.000000</td>\n",
       "      <td>1</td>\n",
       "      <td>keep</td>\n",
       "    </tr>\n",
       "    <tr>\n",
       "      <th>16</th>\n",
       "      <td>BIOMD0000000190.xml</td>\n",
       "      <td>chemical</td>\n",
       "      <td>S</td>\n",
       "      <td>Spermine</td>\n",
       "      <td>CHEBI:45725</td>\n",
       "      <td>spermine</td>\n",
       "      <td>1.000000</td>\n",
       "      <td>0</td>\n",
       "      <td>ignore</td>\n",
       "    </tr>\n",
       "    <tr>\n",
       "      <th>17</th>\n",
       "      <td>BIOMD0000000190.xml</td>\n",
       "      <td>chemical</td>\n",
       "      <td>S</td>\n",
       "      <td>Spermine</td>\n",
       "      <td>CHEBI:45718</td>\n",
       "      <td>spermidine</td>\n",
       "      <td>1.000000</td>\n",
       "      <td>0</td>\n",
       "      <td>ignore</td>\n",
       "    </tr>\n",
       "    <tr>\n",
       "      <th>18</th>\n",
       "      <td>BIOMD0000000190.xml</td>\n",
       "      <td>chemical</td>\n",
       "      <td>S</td>\n",
       "      <td>Spermine</td>\n",
       "      <td>CHEBI:30348</td>\n",
       "      <td>spermidine</td>\n",
       "      <td>0.937987</td>\n",
       "      <td>0</td>\n",
       "      <td>ignore</td>\n",
       "    </tr>\n",
       "    <tr>\n",
       "      <th>19</th>\n",
       "      <td>BIOMD0000000190.xml</td>\n",
       "      <td>chemical</td>\n",
       "      <td>S</td>\n",
       "      <td>Spermine</td>\n",
       "      <td>CHEBI:16841</td>\n",
       "      <td>n,n'-bis(3-aminopropyl)propane-1,3-diamine</td>\n",
       "      <td>0.919295</td>\n",
       "      <td>0</td>\n",
       "      <td>ignore</td>\n",
       "    </tr>\n",
       "    <tr>\n",
       "      <th>20</th>\n",
       "      <td>BIOMD0000000190.xml</td>\n",
       "      <td>chemical</td>\n",
       "      <td>D</td>\n",
       "      <td>Spermidine</td>\n",
       "      <td>CHEBI:16841</td>\n",
       "      <td>spermidine</td>\n",
       "      <td>1.000000</td>\n",
       "      <td>0</td>\n",
       "      <td>ignore</td>\n",
       "    </tr>\n",
       "    <tr>\n",
       "      <th>21</th>\n",
       "      <td>BIOMD0000000190.xml</td>\n",
       "      <td>chemical</td>\n",
       "      <td>D</td>\n",
       "      <td>Spermidine</td>\n",
       "      <td>CHEBI:57834</td>\n",
       "      <td>spermidine</td>\n",
       "      <td>1.000000</td>\n",
       "      <td>0</td>\n",
       "      <td>ignore</td>\n",
       "    </tr>\n",
       "    <tr>\n",
       "      <th>22</th>\n",
       "      <td>BIOMD0000000190.xml</td>\n",
       "      <td>chemical</td>\n",
       "      <td>D</td>\n",
       "      <td>Spermidine</td>\n",
       "      <td>CHEBI:16610</td>\n",
       "      <td>spermine</td>\n",
       "      <td>1.000000</td>\n",
       "      <td>1</td>\n",
       "      <td>keep</td>\n",
       "    </tr>\n",
       "    <tr>\n",
       "      <th>23</th>\n",
       "      <td>BIOMD0000000190.xml</td>\n",
       "      <td>chemical</td>\n",
       "      <td>D</td>\n",
       "      <td>Spermidine</td>\n",
       "      <td>CHEBI:45718</td>\n",
       "      <td>n-(3-aminopropyl)propane-1,3-diamine</td>\n",
       "      <td>0.919295</td>\n",
       "      <td>0</td>\n",
       "      <td>ignore</td>\n",
       "    </tr>\n",
       "    <tr>\n",
       "      <th>24</th>\n",
       "      <td>BIOMD0000000190.xml</td>\n",
       "      <td>chemical</td>\n",
       "      <td>D</td>\n",
       "      <td>Spermidine</td>\n",
       "      <td>CHEBI:30348</td>\n",
       "      <td>n,n'-bis(3-aminopropyl)propane-1,3-diamine</td>\n",
       "      <td>0.844573</td>\n",
       "      <td>0</td>\n",
       "      <td>ignore</td>\n",
       "    </tr>\n",
       "    <tr>\n",
       "      <th>25</th>\n",
       "      <td>BIOMD0000000190.xml</td>\n",
       "      <td>chemical</td>\n",
       "      <td>aS</td>\n",
       "      <td>N1-Acetylspermine</td>\n",
       "      <td>CHEBI:17312</td>\n",
       "      <td>n1-acetylspermine</td>\n",
       "      <td>1.000000</td>\n",
       "      <td>1</td>\n",
       "      <td>keep</td>\n",
       "    </tr>\n",
       "    <tr>\n",
       "      <th>26</th>\n",
       "      <td>BIOMD0000000190.xml</td>\n",
       "      <td>chemical</td>\n",
       "      <td>aS</td>\n",
       "      <td>N1-Acetylspermine</td>\n",
       "      <td>CHEBI:22205</td>\n",
       "      <td>n(1)-acetylspermine</td>\n",
       "      <td>1.000000</td>\n",
       "      <td>0</td>\n",
       "      <td>ignore</td>\n",
       "    </tr>\n",
       "    <tr>\n",
       "      <th>27</th>\n",
       "      <td>BIOMD0000000190.xml</td>\n",
       "      <td>chemical</td>\n",
       "      <td>aS</td>\n",
       "      <td>N1-Acetylspermine</td>\n",
       "      <td>CHEBI:125358</td>\n",
       "      <td>n1,n12-diacetylspermine</td>\n",
       "      <td>0.731273</td>\n",
       "      <td>0</td>\n",
       "      <td>ignore</td>\n",
       "    </tr>\n",
       "    <tr>\n",
       "      <th>28</th>\n",
       "      <td>BIOMD0000000190.xml</td>\n",
       "      <td>chemical</td>\n",
       "      <td>aS</td>\n",
       "      <td>N1-Acetylspermine</td>\n",
       "      <td>CHEBI:58101</td>\n",
       "      <td>n-acetyloctopamine</td>\n",
       "      <td>0.725638</td>\n",
       "      <td>0</td>\n",
       "      <td>ignore</td>\n",
       "    </tr>\n",
       "    <tr>\n",
       "      <th>29</th>\n",
       "      <td>BIOMD0000000190.xml</td>\n",
       "      <td>chemical</td>\n",
       "      <td>aS</td>\n",
       "      <td>N1-Acetylspermine</td>\n",
       "      <td>CHEBI:73685</td>\n",
       "      <td>acetylspermine</td>\n",
       "      <td>0.690818</td>\n",
       "      <td>0</td>\n",
       "      <td>ignore</td>\n",
       "    </tr>\n",
       "    <tr>\n",
       "      <th>30</th>\n",
       "      <td>BIOMD0000000190.xml</td>\n",
       "      <td>chemical</td>\n",
       "      <td>aD</td>\n",
       "      <td>N1-Acetylspermidine</td>\n",
       "      <td>CHEBI:22204</td>\n",
       "      <td>n1-acetylspermidine</td>\n",
       "      <td>1.000000</td>\n",
       "      <td>1</td>\n",
       "      <td>keep</td>\n",
       "    </tr>\n",
       "    <tr>\n",
       "      <th>31</th>\n",
       "      <td>BIOMD0000000190.xml</td>\n",
       "      <td>chemical</td>\n",
       "      <td>aD</td>\n",
       "      <td>N1-Acetylspermidine</td>\n",
       "      <td>CHEBI:17927</td>\n",
       "      <td>n1-acetyl,n8-succinylspermidine</td>\n",
       "      <td>1.000000</td>\n",
       "      <td>0</td>\n",
       "      <td>ignore</td>\n",
       "    </tr>\n",
       "    <tr>\n",
       "      <th>32</th>\n",
       "      <td>BIOMD0000000190.xml</td>\n",
       "      <td>chemical</td>\n",
       "      <td>aD</td>\n",
       "      <td>N1-Acetylspermidine</td>\n",
       "      <td>CHEBI:27911</td>\n",
       "      <td>n(1)-acetylspermidine</td>\n",
       "      <td>0.878207</td>\n",
       "      <td>0</td>\n",
       "      <td>ignore</td>\n",
       "    </tr>\n",
       "    <tr>\n",
       "      <th>33</th>\n",
       "      <td>BIOMD0000000190.xml</td>\n",
       "      <td>chemical</td>\n",
       "      <td>aD</td>\n",
       "      <td>N1-Acetylspermidine</td>\n",
       "      <td>CHEBI:16437</td>\n",
       "      <td>acetylspermidine</td>\n",
       "      <td>0.837976</td>\n",
       "      <td>0</td>\n",
       "      <td>ignore</td>\n",
       "    </tr>\n",
       "    <tr>\n",
       "      <th>34</th>\n",
       "      <td>BIOMD0000000190.xml</td>\n",
       "      <td>chemical</td>\n",
       "      <td>aD</td>\n",
       "      <td>N1-Acetylspermidine</td>\n",
       "      <td>CHEBI:195636</td>\n",
       "      <td>n8-acetylspermidine</td>\n",
       "      <td>0.829574</td>\n",
       "      <td>0</td>\n",
       "      <td>ignore</td>\n",
       "    </tr>\n",
       "    <tr>\n",
       "      <th>35</th>\n",
       "      <td>BIOMD0000000190.xml</td>\n",
       "      <td>chemical</td>\n",
       "      <td>Met</td>\n",
       "      <td>Methionine</td>\n",
       "      <td>CHEBI:16643</td>\n",
       "      <td>methionine</td>\n",
       "      <td>1.000000</td>\n",
       "      <td>1</td>\n",
       "      <td>keep</td>\n",
       "    </tr>\n",
       "    <tr>\n",
       "      <th>36</th>\n",
       "      <td>BIOMD0000000190.xml</td>\n",
       "      <td>chemical</td>\n",
       "      <td>Met</td>\n",
       "      <td>Methionine</td>\n",
       "      <td>CHEBI:57844</td>\n",
       "      <td>methionine</td>\n",
       "      <td>1.000000</td>\n",
       "      <td>0</td>\n",
       "      <td>ignore</td>\n",
       "    </tr>\n",
       "    <tr>\n",
       "      <th>37</th>\n",
       "      <td>BIOMD0000000190.xml</td>\n",
       "      <td>chemical</td>\n",
       "      <td>Met</td>\n",
       "      <td>Methionine</td>\n",
       "      <td>CHEBI:16044</td>\n",
       "      <td>methionine</td>\n",
       "      <td>1.000000</td>\n",
       "      <td>0</td>\n",
       "      <td>ignore</td>\n",
       "    </tr>\n",
       "    <tr>\n",
       "      <th>38</th>\n",
       "      <td>BIOMD0000000190.xml</td>\n",
       "      <td>chemical</td>\n",
       "      <td>Met</td>\n",
       "      <td>Methionine</td>\n",
       "      <td>CHEBI:16811</td>\n",
       "      <td>methionyl-methionine</td>\n",
       "      <td>1.000000</td>\n",
       "      <td>0</td>\n",
       "      <td>ignore</td>\n",
       "    </tr>\n",
       "    <tr>\n",
       "      <th>39</th>\n",
       "      <td>BIOMD0000000190.xml</td>\n",
       "      <td>chemical</td>\n",
       "      <td>Met</td>\n",
       "      <td>Methionine</td>\n",
       "      <td>CHEBI:64558</td>\n",
       "      <td>l-methionine</td>\n",
       "      <td>1.000000</td>\n",
       "      <td>0</td>\n",
       "      <td>ignore</td>\n",
       "    </tr>\n",
       "    <tr>\n",
       "      <th>40</th>\n",
       "      <td>BIOMD0000000190.xml</td>\n",
       "      <td>chemical</td>\n",
       "      <td>ORN</td>\n",
       "      <td>L-Ornithine</td>\n",
       "      <td>CHEBI:15729</td>\n",
       "      <td>ornithine</td>\n",
       "      <td>1.000000</td>\n",
       "      <td>1</td>\n",
       "      <td>keep</td>\n",
       "    </tr>\n",
       "    <tr>\n",
       "      <th>41</th>\n",
       "      <td>BIOMD0000000190.xml</td>\n",
       "      <td>chemical</td>\n",
       "      <td>ORN</td>\n",
       "      <td>L-Ornithine</td>\n",
       "      <td>CHEBI:46911</td>\n",
       "      <td>ornithine</td>\n",
       "      <td>1.000000</td>\n",
       "      <td>0</td>\n",
       "      <td>ignore</td>\n",
       "    </tr>\n",
       "    <tr>\n",
       "      <th>42</th>\n",
       "      <td>BIOMD0000000190.xml</td>\n",
       "      <td>chemical</td>\n",
       "      <td>ORN</td>\n",
       "      <td>L-Ornithine</td>\n",
       "      <td>CHEBI:18257</td>\n",
       "      <td>l-ornithine</td>\n",
       "      <td>1.000000</td>\n",
       "      <td>0</td>\n",
       "      <td>ignore</td>\n",
       "    </tr>\n",
       "    <tr>\n",
       "      <th>43</th>\n",
       "      <td>BIOMD0000000190.xml</td>\n",
       "      <td>chemical</td>\n",
       "      <td>ORN</td>\n",
       "      <td>L-Ornithine</td>\n",
       "      <td>CHEBI:44667</td>\n",
       "      <td>l-ornithine</td>\n",
       "      <td>1.000000</td>\n",
       "      <td>0</td>\n",
       "      <td>ignore</td>\n",
       "    </tr>\n",
       "    <tr>\n",
       "      <th>44</th>\n",
       "      <td>BIOMD0000000190.xml</td>\n",
       "      <td>chemical</td>\n",
       "      <td>ORN</td>\n",
       "      <td>L-Ornithine</td>\n",
       "      <td>CHEBI:28300</td>\n",
       "      <td>ornithine anion</td>\n",
       "      <td>0.871849</td>\n",
       "      <td>0</td>\n",
       "      <td>ignore</td>\n",
       "    </tr>\n",
       "    <tr>\n",
       "      <th>45</th>\n",
       "      <td>BIOMD0000000190.xml</td>\n",
       "      <td>chemical</td>\n",
       "      <td>AcCoA</td>\n",
       "      <td>Acetyl-CoA</td>\n",
       "      <td>CHEBI:15351</td>\n",
       "      <td>acetyl-coa</td>\n",
       "      <td>1.000000</td>\n",
       "      <td>1</td>\n",
       "      <td>keep</td>\n",
       "    </tr>\n",
       "    <tr>\n",
       "      <th>46</th>\n",
       "      <td>BIOMD0000000190.xml</td>\n",
       "      <td>chemical</td>\n",
       "      <td>AcCoA</td>\n",
       "      <td>Acetyl-CoA</td>\n",
       "      <td>CHEBI:57288</td>\n",
       "      <td>acetyl-coa</td>\n",
       "      <td>1.000000</td>\n",
       "      <td>0</td>\n",
       "      <td>ignore</td>\n",
       "    </tr>\n",
       "    <tr>\n",
       "      <th>47</th>\n",
       "      <td>BIOMD0000000190.xml</td>\n",
       "      <td>chemical</td>\n",
       "      <td>AcCoA</td>\n",
       "      <td>Acetyl-CoA</td>\n",
       "      <td>CHEBI:15346</td>\n",
       "      <td>acetoacetyl-coa</td>\n",
       "      <td>1.000000</td>\n",
       "      <td>0</td>\n",
       "      <td>ignore</td>\n",
       "    </tr>\n",
       "    <tr>\n",
       "      <th>48</th>\n",
       "      <td>BIOMD0000000190.xml</td>\n",
       "      <td>chemical</td>\n",
       "      <td>AcCoA</td>\n",
       "      <td>Acetyl-CoA</td>\n",
       "      <td>CHEBI:180918</td>\n",
       "      <td>acetyl coenzyme a (acetyl-coa)</td>\n",
       "      <td>0.876876</td>\n",
       "      <td>0</td>\n",
       "      <td>ignore</td>\n",
       "    </tr>\n",
       "    <tr>\n",
       "      <th>49</th>\n",
       "      <td>BIOMD0000000190.xml</td>\n",
       "      <td>chemical</td>\n",
       "      <td>AcCoA</td>\n",
       "      <td>Acetyl-CoA</td>\n",
       "      <td>CHEBI:15345</td>\n",
       "      <td>acetoacetyl coenzyme a</td>\n",
       "      <td>0.876456</td>\n",
       "      <td>0</td>\n",
       "      <td>ignore</td>\n",
       "    </tr>\n",
       "  </tbody>\n",
       "</table>\n",
       "</div>"
      ],
      "text/plain": [
       "                   file      type     id              display_name  \\\n",
       "0   BIOMD0000000190.xml  chemical    SAM   S-adenosyl-L-methionine   \n",
       "1   BIOMD0000000190.xml  chemical    SAM   S-adenosyl-L-methionine   \n",
       "2   BIOMD0000000190.xml  chemical    SAM   S-adenosyl-L-methionine   \n",
       "3   BIOMD0000000190.xml  chemical    SAM   S-adenosyl-L-methionine   \n",
       "4   BIOMD0000000190.xml  chemical    SAM   S-adenosyl-L-methionine   \n",
       "5   BIOMD0000000190.xml  chemical      A  S-adenosylmethioninamine   \n",
       "6   BIOMD0000000190.xml  chemical      A  S-adenosylmethioninamine   \n",
       "7   BIOMD0000000190.xml  chemical      A  S-adenosylmethioninamine   \n",
       "8   BIOMD0000000190.xml  chemical      A  S-adenosylmethioninamine   \n",
       "9   BIOMD0000000190.xml  chemical      A  S-adenosylmethioninamine   \n",
       "10  BIOMD0000000190.xml  chemical      P                Putrescine   \n",
       "11  BIOMD0000000190.xml  chemical      P                Putrescine   \n",
       "12  BIOMD0000000190.xml  chemical      P                Putrescine   \n",
       "13  BIOMD0000000190.xml  chemical      P                Putrescine   \n",
       "14  BIOMD0000000190.xml  chemical      P                Putrescine   \n",
       "15  BIOMD0000000190.xml  chemical      S                  Spermine   \n",
       "16  BIOMD0000000190.xml  chemical      S                  Spermine   \n",
       "17  BIOMD0000000190.xml  chemical      S                  Spermine   \n",
       "18  BIOMD0000000190.xml  chemical      S                  Spermine   \n",
       "19  BIOMD0000000190.xml  chemical      S                  Spermine   \n",
       "20  BIOMD0000000190.xml  chemical      D                Spermidine   \n",
       "21  BIOMD0000000190.xml  chemical      D                Spermidine   \n",
       "22  BIOMD0000000190.xml  chemical      D                Spermidine   \n",
       "23  BIOMD0000000190.xml  chemical      D                Spermidine   \n",
       "24  BIOMD0000000190.xml  chemical      D                Spermidine   \n",
       "25  BIOMD0000000190.xml  chemical     aS         N1-Acetylspermine   \n",
       "26  BIOMD0000000190.xml  chemical     aS         N1-Acetylspermine   \n",
       "27  BIOMD0000000190.xml  chemical     aS         N1-Acetylspermine   \n",
       "28  BIOMD0000000190.xml  chemical     aS         N1-Acetylspermine   \n",
       "29  BIOMD0000000190.xml  chemical     aS         N1-Acetylspermine   \n",
       "30  BIOMD0000000190.xml  chemical     aD       N1-Acetylspermidine   \n",
       "31  BIOMD0000000190.xml  chemical     aD       N1-Acetylspermidine   \n",
       "32  BIOMD0000000190.xml  chemical     aD       N1-Acetylspermidine   \n",
       "33  BIOMD0000000190.xml  chemical     aD       N1-Acetylspermidine   \n",
       "34  BIOMD0000000190.xml  chemical     aD       N1-Acetylspermidine   \n",
       "35  BIOMD0000000190.xml  chemical    Met                Methionine   \n",
       "36  BIOMD0000000190.xml  chemical    Met                Methionine   \n",
       "37  BIOMD0000000190.xml  chemical    Met                Methionine   \n",
       "38  BIOMD0000000190.xml  chemical    Met                Methionine   \n",
       "39  BIOMD0000000190.xml  chemical    Met                Methionine   \n",
       "40  BIOMD0000000190.xml  chemical    ORN               L-Ornithine   \n",
       "41  BIOMD0000000190.xml  chemical    ORN               L-Ornithine   \n",
       "42  BIOMD0000000190.xml  chemical    ORN               L-Ornithine   \n",
       "43  BIOMD0000000190.xml  chemical    ORN               L-Ornithine   \n",
       "44  BIOMD0000000190.xml  chemical    ORN               L-Ornithine   \n",
       "45  BIOMD0000000190.xml  chemical  AcCoA                Acetyl-CoA   \n",
       "46  BIOMD0000000190.xml  chemical  AcCoA                Acetyl-CoA   \n",
       "47  BIOMD0000000190.xml  chemical  AcCoA                Acetyl-CoA   \n",
       "48  BIOMD0000000190.xml  chemical  AcCoA                Acetyl-CoA   \n",
       "49  BIOMD0000000190.xml  chemical  AcCoA                Acetyl-CoA   \n",
       "\n",
       "      annotation                              annotation_label  match_score  \\\n",
       "0    CHEBI:15414                          s-adenosylmethionine     1.000000   \n",
       "1    CHEBI:67040                          s-adenosylmethionine     1.000000   \n",
       "2    CHEBI:33442                          s-adenosylmethionine     1.000000   \n",
       "3    CHEBI:15625                      s-adenosylmethioninamine     0.926394   \n",
       "4    CHEBI:57443                    s-adenosylmethioninaminium     0.806852   \n",
       "5    CHEBI:15625           decarboxylated s-adenosylmethionine     1.000000   \n",
       "6    CHEBI:33442       decarboxylated s-adenosylmethionine(2+)     0.926394   \n",
       "7    CHEBI:15414  s-adenosylmethionine decarboxylase inhibitor     0.926394   \n",
       "8    CHEBI:67040                          s-adenosylmethionine     0.926394   \n",
       "9    CHEBI:57443                          s-adenosylmethionine     0.907145   \n",
       "10   CHEBI:17148                                    putrescine     1.000000   \n",
       "11  CHEBI:326268                                    putrescine     1.000000   \n",
       "12   CHEBI:26406                                   putrescines     0.912037   \n",
       "13  CHEBI:201718             1,4-diaminobutane dihydrochloride     0.780258   \n",
       "14   CHEBI:44736                         1,4-diaminobutan-2-ol     0.712187   \n",
       "15   CHEBI:15746                                      spermine     1.000000   \n",
       "16   CHEBI:45725                                      spermine     1.000000   \n",
       "17   CHEBI:45718                                    spermidine     1.000000   \n",
       "18   CHEBI:30348                                    spermidine     0.937987   \n",
       "19   CHEBI:16841    n,n'-bis(3-aminopropyl)propane-1,3-diamine     0.919295   \n",
       "20   CHEBI:16841                                    spermidine     1.000000   \n",
       "21   CHEBI:57834                                    spermidine     1.000000   \n",
       "22   CHEBI:16610                                      spermine     1.000000   \n",
       "23   CHEBI:45718          n-(3-aminopropyl)propane-1,3-diamine     0.919295   \n",
       "24   CHEBI:30348    n,n'-bis(3-aminopropyl)propane-1,3-diamine     0.844573   \n",
       "25   CHEBI:17312                             n1-acetylspermine     1.000000   \n",
       "26   CHEBI:22205                           n(1)-acetylspermine     1.000000   \n",
       "27  CHEBI:125358                       n1,n12-diacetylspermine     0.731273   \n",
       "28   CHEBI:58101                            n-acetyloctopamine     0.725638   \n",
       "29   CHEBI:73685                                acetylspermine     0.690818   \n",
       "30   CHEBI:22204                           n1-acetylspermidine     1.000000   \n",
       "31   CHEBI:17927               n1-acetyl,n8-succinylspermidine     1.000000   \n",
       "32   CHEBI:27911                         n(1)-acetylspermidine     0.878207   \n",
       "33   CHEBI:16437                              acetylspermidine     0.837976   \n",
       "34  CHEBI:195636                           n8-acetylspermidine     0.829574   \n",
       "35   CHEBI:16643                                    methionine     1.000000   \n",
       "36   CHEBI:57844                                    methionine     1.000000   \n",
       "37   CHEBI:16044                                    methionine     1.000000   \n",
       "38   CHEBI:16811                          methionyl-methionine     1.000000   \n",
       "39   CHEBI:64558                                  l-methionine     1.000000   \n",
       "40   CHEBI:15729                                     ornithine     1.000000   \n",
       "41   CHEBI:46911                                     ornithine     1.000000   \n",
       "42   CHEBI:18257                                   l-ornithine     1.000000   \n",
       "43   CHEBI:44667                                   l-ornithine     1.000000   \n",
       "44   CHEBI:28300                               ornithine anion     0.871849   \n",
       "45   CHEBI:15351                                    acetyl-coa     1.000000   \n",
       "46   CHEBI:57288                                    acetyl-coa     1.000000   \n",
       "47   CHEBI:15346                               acetoacetyl-coa     1.000000   \n",
       "48  CHEBI:180918                acetyl coenzyme a (acetyl-coa)     0.876876   \n",
       "49   CHEBI:15345                        acetoacetyl coenzyme a     0.876456   \n",
       "\n",
       "    existing update_annotation  \n",
       "0          1              keep  \n",
       "1          0            ignore  \n",
       "2          0            ignore  \n",
       "3          0            ignore  \n",
       "4          0            ignore  \n",
       "5          1              keep  \n",
       "6          0            ignore  \n",
       "7          0            ignore  \n",
       "8          0            ignore  \n",
       "9          0            ignore  \n",
       "10         1              keep  \n",
       "11         0            ignore  \n",
       "12         0            ignore  \n",
       "13         0            ignore  \n",
       "14         0            ignore  \n",
       "15         1              keep  \n",
       "16         0            ignore  \n",
       "17         0            ignore  \n",
       "18         0            ignore  \n",
       "19         0            ignore  \n",
       "20         0            ignore  \n",
       "21         0            ignore  \n",
       "22         1              keep  \n",
       "23         0            ignore  \n",
       "24         0            ignore  \n",
       "25         1              keep  \n",
       "26         0            ignore  \n",
       "27         0            ignore  \n",
       "28         0            ignore  \n",
       "29         0            ignore  \n",
       "30         1              keep  \n",
       "31         0            ignore  \n",
       "32         0            ignore  \n",
       "33         0            ignore  \n",
       "34         0            ignore  \n",
       "35         1              keep  \n",
       "36         0            ignore  \n",
       "37         0            ignore  \n",
       "38         0            ignore  \n",
       "39         0            ignore  \n",
       "40         1              keep  \n",
       "41         0            ignore  \n",
       "42         0            ignore  \n",
       "43         0            ignore  \n",
       "44         0            ignore  \n",
       "45         1              keep  \n",
       "46         0            ignore  \n",
       "47         0            ignore  \n",
       "48         0            ignore  \n",
       "49         0            ignore  "
      ]
     },
     "execution_count": 9,
     "metadata": {},
     "output_type": "execute_result"
    }
   ],
   "source": [
    "recommendations_df"
   ]
  },
  {
   "cell_type": "markdown",
   "metadata": {},
   "source": [
    "## Test 1: Single Model Evaluation\n",
    "\n",
    "Evaluation of a single model with existing annotations."
   ]
  },
  {
   "cell_type": "code",
   "execution_count": 5,
   "metadata": {},
   "outputs": [
    {
     "name": "stderr",
     "output_type": "stream",
     "text": [
      "2025-06-02 22:47:31,942 - INFO - Evaluating model: BIOMD0000000013.xml\n",
      "2025-06-02 22:47:31,973 - INFO - Evaluating 10 entities in BIOMD0000000013.xml\n",
      "2025-06-02 22:47:36,047 - INFO - HTTP Request: POST https://api.openai.com/v1/chat/completions \"HTTP/1.1 200 OK\"\n",
      "2025-06-02 22:47:36,075 - INFO - Anonymized telemetry enabled. See                     https://docs.trychroma.com/telemetry for more information.\n",
      "2025-06-02 22:47:36,342 - INFO - Using sentence transformer all-MiniLM-L6-v2 model\n",
      "2025-06-02 22:47:37,993 - INFO - Load pretrained SentenceTransformer: all-MiniLM-L6-v2\n",
      "2025-06-02 22:47:39,415 - INFO - Using RAG embeddings from collection 'chebi_default' with default model\n"
     ]
    },
    {
     "data": {
      "application/vnd.jupyter.widget-view+json": {
       "model_id": "b79e49eea67b46a4bbc1d03104460649",
       "version_major": 2,
       "version_minor": 0
      },
      "text/plain": [
       "Batches:   0%|          | 0/1 [00:00<?, ?it/s]"
      ]
     },
     "metadata": {},
     "output_type": "display_data"
    },
    {
     "data": {
      "application/vnd.jupyter.widget-view+json": {
       "model_id": "c58919cecd8d4b26820967968151f069",
       "version_major": 2,
       "version_minor": 0
      },
      "text/plain": [
       "Batches:   0%|          | 0/1 [00:00<?, ?it/s]"
      ]
     },
     "metadata": {},
     "output_type": "display_data"
    },
    {
     "data": {
      "application/vnd.jupyter.widget-view+json": {
       "model_id": "03f045d4ec2f4171b15d808073c8f6b5",
       "version_major": 2,
       "version_minor": 0
      },
      "text/plain": [
       "Batches:   0%|          | 0/1 [00:00<?, ?it/s]"
      ]
     },
     "metadata": {},
     "output_type": "display_data"
    },
    {
     "data": {
      "application/vnd.jupyter.widget-view+json": {
       "model_id": "01b54efc20b24e3d9d9067e078af9123",
       "version_major": 2,
       "version_minor": 0
      },
      "text/plain": [
       "Batches:   0%|          | 0/1 [00:00<?, ?it/s]"
      ]
     },
     "metadata": {},
     "output_type": "display_data"
    },
    {
     "data": {
      "application/vnd.jupyter.widget-view+json": {
       "model_id": "e461bea626624881b4a25fa790ae9c83",
       "version_major": 2,
       "version_minor": 0
      },
      "text/plain": [
       "Batches:   0%|          | 0/1 [00:00<?, ?it/s]"
      ]
     },
     "metadata": {},
     "output_type": "display_data"
    },
    {
     "data": {
      "application/vnd.jupyter.widget-view+json": {
       "model_id": "ade4f813eb7e4da6aa22cb3f0eede86b",
       "version_major": 2,
       "version_minor": 0
      },
      "text/plain": [
       "Batches:   0%|          | 0/1 [00:00<?, ?it/s]"
      ]
     },
     "metadata": {},
     "output_type": "display_data"
    },
    {
     "data": {
      "application/vnd.jupyter.widget-view+json": {
       "model_id": "547d0d524a5e4e4882a2827ff484dca4",
       "version_major": 2,
       "version_minor": 0
      },
      "text/plain": [
       "Batches:   0%|          | 0/1 [00:00<?, ?it/s]"
      ]
     },
     "metadata": {},
     "output_type": "display_data"
    },
    {
     "data": {
      "application/vnd.jupyter.widget-view+json": {
       "model_id": "ddcfc05459b34fa3a94a9cecbd6f602e",
       "version_major": 2,
       "version_minor": 0
      },
      "text/plain": [
       "Batches:   0%|          | 0/1 [00:00<?, ?it/s]"
      ]
     },
     "metadata": {},
     "output_type": "display_data"
    },
    {
     "data": {
      "application/vnd.jupyter.widget-view+json": {
       "model_id": "19ddf814f5ce4c75937a03b8720c8126",
       "version_major": 2,
       "version_minor": 0
      },
      "text/plain": [
       "Batches:   0%|          | 0/1 [00:00<?, ?it/s]"
      ]
     },
     "metadata": {},
     "output_type": "display_data"
    },
    {
     "data": {
      "application/vnd.jupyter.widget-view+json": {
       "model_id": "d00fc32ec5b64815824d6ce415d617a9",
       "version_major": 2,
       "version_minor": 0
      },
      "text/plain": [
       "Batches:   0%|          | 0/1 [00:00<?, ?it/s]"
      ]
     },
     "metadata": {},
     "output_type": "display_data"
    },
    {
     "data": {
      "application/vnd.jupyter.widget-view+json": {
       "model_id": "0fbccf84d6ea4ef9a303aa75b8cb45c5",
       "version_major": 2,
       "version_minor": 0
      },
      "text/plain": [
       "Batches:   0%|          | 0/1 [00:00<?, ?it/s]"
      ]
     },
     "metadata": {},
     "output_type": "display_data"
    },
    {
     "data": {
      "application/vnd.jupyter.widget-view+json": {
       "model_id": "45da6f74d09447d680eb23f41e712bd8",
       "version_major": 2,
       "version_minor": 0
      },
      "text/plain": [
       "Batches:   0%|          | 0/1 [00:00<?, ?it/s]"
      ]
     },
     "metadata": {},
     "output_type": "display_data"
    },
    {
     "data": {
      "application/vnd.jupyter.widget-view+json": {
       "model_id": "cf84aaeb288e451d8d243a8159e4c8b6",
       "version_major": 2,
       "version_minor": 0
      },
      "text/plain": [
       "Batches:   0%|          | 0/1 [00:00<?, ?it/s]"
      ]
     },
     "metadata": {},
     "output_type": "display_data"
    },
    {
     "data": {
      "application/vnd.jupyter.widget-view+json": {
       "model_id": "0fa82d604b444d7b8ca7a7e184f640d9",
       "version_major": 2,
       "version_minor": 0
      },
      "text/plain": [
       "Batches:   0%|          | 0/1 [00:00<?, ?it/s]"
      ]
     },
     "metadata": {},
     "output_type": "display_data"
    },
    {
     "data": {
      "application/vnd.jupyter.widget-view+json": {
       "model_id": "ec8a4988ebf34efaa48515f2f42b5848",
       "version_major": 2,
       "version_minor": 0
      },
      "text/plain": [
       "Batches:   0%|          | 0/1 [00:00<?, ?it/s]"
      ]
     },
     "metadata": {},
     "output_type": "display_data"
    },
    {
     "data": {
      "application/vnd.jupyter.widget-view+json": {
       "model_id": "b96920c9187f4b99a6431d2ae1773c48",
       "version_major": 2,
       "version_minor": 0
      },
      "text/plain": [
       "Batches:   0%|          | 0/1 [00:00<?, ?it/s]"
      ]
     },
     "metadata": {},
     "output_type": "display_data"
    },
    {
     "data": {
      "application/vnd.jupyter.widget-view+json": {
       "model_id": "2deffba71eb642c8b51e493f68c14586",
       "version_major": 2,
       "version_minor": 0
      },
      "text/plain": [
       "Batches:   0%|          | 0/1 [00:00<?, ?it/s]"
      ]
     },
     "metadata": {},
     "output_type": "display_data"
    },
    {
     "data": {
      "application/vnd.jupyter.widget-view+json": {
       "model_id": "e85b00df3b044bebb0360425f82a5c4d",
       "version_major": 2,
       "version_minor": 0
      },
      "text/plain": [
       "Batches:   0%|          | 0/1 [00:00<?, ?it/s]"
      ]
     },
     "metadata": {},
     "output_type": "display_data"
    },
    {
     "data": {
      "application/vnd.jupyter.widget-view+json": {
       "model_id": "af392827f670465ea64ea4229790b595",
       "version_major": 2,
       "version_minor": 0
      },
      "text/plain": [
       "Batches:   0%|          | 0/1 [00:00<?, ?it/s]"
      ]
     },
     "metadata": {},
     "output_type": "display_data"
    },
    {
     "data": {
      "application/vnd.jupyter.widget-view+json": {
       "model_id": "66c8ed6df6c84ed8a658633fdc4e747a",
       "version_major": 2,
       "version_minor": 0
      },
      "text/plain": [
       "Batches:   0%|          | 0/1 [00:00<?, ?it/s]"
      ]
     },
     "metadata": {},
     "output_type": "display_data"
    },
    {
     "data": {
      "application/vnd.jupyter.widget-view+json": {
       "model_id": "8545eb1b4a41431ab90cc8fd0fdf34ed",
       "version_major": 2,
       "version_minor": 0
      },
      "text/plain": [
       "Batches:   0%|          | 0/1 [00:00<?, ?it/s]"
      ]
     },
     "metadata": {},
     "output_type": "display_data"
    },
    {
     "data": {
      "application/vnd.jupyter.widget-view+json": {
       "model_id": "741c37d8a553496385108728f67fda37",
       "version_major": 2,
       "version_minor": 0
      },
      "text/plain": [
       "Batches:   0%|          | 0/1 [00:00<?, ?it/s]"
      ]
     },
     "metadata": {},
     "output_type": "display_data"
    },
    {
     "data": {
      "application/vnd.jupyter.widget-view+json": {
       "model_id": "062e5d20eb9a4d98a8807a21327c774d",
       "version_major": 2,
       "version_minor": 0
      },
      "text/plain": [
       "Batches:   0%|          | 0/1 [00:00<?, ?it/s]"
      ]
     },
     "metadata": {},
     "output_type": "display_data"
    },
    {
     "data": {
      "application/vnd.jupyter.widget-view+json": {
       "model_id": "a104fd248a9a4309b482fbac0bddcd88",
       "version_major": 2,
       "version_minor": 0
      },
      "text/plain": [
       "Batches:   0%|          | 0/1 [00:00<?, ?it/s]"
      ]
     },
     "metadata": {},
     "output_type": "display_data"
    },
    {
     "data": {
      "application/vnd.jupyter.widget-view+json": {
       "model_id": "1c83366c823a4835811ba425616c4d64",
       "version_major": 2,
       "version_minor": 0
      },
      "text/plain": [
       "Batches:   0%|          | 0/1 [00:00<?, ?it/s]"
      ]
     },
     "metadata": {},
     "output_type": "display_data"
    },
    {
     "data": {
      "application/vnd.jupyter.widget-view+json": {
       "model_id": "e1f3d385953f44ed99ea6cb575867bee",
       "version_major": 2,
       "version_minor": 0
      },
      "text/plain": [
       "Batches:   0%|          | 0/1 [00:00<?, ?it/s]"
      ]
     },
     "metadata": {},
     "output_type": "display_data"
    },
    {
     "data": {
      "application/vnd.jupyter.widget-view+json": {
       "model_id": "88795ef37ac74c80b6218031cb762d5f",
       "version_major": 2,
       "version_minor": 0
      },
      "text/plain": [
       "Batches:   0%|          | 0/1 [00:00<?, ?it/s]"
      ]
     },
     "metadata": {},
     "output_type": "display_data"
    },
    {
     "data": {
      "application/vnd.jupyter.widget-view+json": {
       "model_id": "d5a9dbeed14f4a1ea232f2a62664f902",
       "version_major": 2,
       "version_minor": 0
      },
      "text/plain": [
       "Batches:   0%|          | 0/1 [00:00<?, ?it/s]"
      ]
     },
     "metadata": {},
     "output_type": "display_data"
    },
    {
     "data": {
      "application/vnd.jupyter.widget-view+json": {
       "model_id": "95666bbb0a7146b39001e1c5d7d2ee2f",
       "version_major": 2,
       "version_minor": 0
      },
      "text/plain": [
       "Batches:   0%|          | 0/1 [00:00<?, ?it/s]"
      ]
     },
     "metadata": {},
     "output_type": "display_data"
    },
    {
     "data": {
      "application/vnd.jupyter.widget-view+json": {
       "model_id": "84d82457bbeb45eaabca268aaa6751b4",
       "version_major": 2,
       "version_minor": 0
      },
      "text/plain": [
       "Batches:   0%|          | 0/1 [00:00<?, ?it/s]"
      ]
     },
     "metadata": {},
     "output_type": "display_data"
    }
   ],
   "source": [
    "# Test using utils evaluation function\n",
    "test_model_file = \"/Users/luna/Desktop/CRBM/AMAS_proj/Models/BioModels/BIOMD0000000013.xml\"\n",
    "result_df = evaluate_single_model(\n",
    "    model_file=test_model_file,\n",
    "    llm_model=llm_model,\n",
    "    method = 'rag',\n",
    "    max_entities=max_entities_per_model,\n",
    "    entity_type=entity_type,\n",
    "    database=database,\n",
    "    save_llm_results=False,\n",
    "    verbose=True\n",
    ")"
   ]
  },
  {
   "cell_type": "code",
   "execution_count": 6,
   "metadata": {},
   "outputs": [
    {
     "data": {
      "text/html": [
       "<div>\n",
       "<style scoped>\n",
       "    .dataframe tbody tr th:only-of-type {\n",
       "        vertical-align: middle;\n",
       "    }\n",
       "\n",
       "    .dataframe tbody tr th {\n",
       "        vertical-align: top;\n",
       "    }\n",
       "\n",
       "    .dataframe thead th {\n",
       "        text-align: right;\n",
       "    }\n",
       "</style>\n",
       "<table border=\"1\" class=\"dataframe\">\n",
       "  <thead>\n",
       "    <tr style=\"text-align: right;\">\n",
       "      <th></th>\n",
       "      <th>model</th>\n",
       "      <th>species_id</th>\n",
       "      <th>display_name</th>\n",
       "      <th>synonyms_LLM</th>\n",
       "      <th>reason</th>\n",
       "      <th>exist_annotation_chebi</th>\n",
       "      <th>exist_annotation_name</th>\n",
       "      <th>predictions</th>\n",
       "      <th>predictions_names</th>\n",
       "      <th>match_score</th>\n",
       "      <th>recall_formula</th>\n",
       "      <th>precision_formula</th>\n",
       "      <th>recall_chebi</th>\n",
       "      <th>precision_chebi</th>\n",
       "      <th>accuracy</th>\n",
       "      <th>total_time</th>\n",
       "      <th>llm_time</th>\n",
       "      <th>query_time</th>\n",
       "    </tr>\n",
       "  </thead>\n",
       "  <tbody>\n",
       "    <tr>\n",
       "      <th>0</th>\n",
       "      <td>BIOMD0000000013.xml</td>\n",
       "      <td>x_CO2</td>\n",
       "      <td>carbon dioxide</td>\n",
       "      <td>[carbon dioxide, CO2, dioxide]</td>\n",
       "      <td>All are common biochemical metabolites involve...</td>\n",
       "      <td>[CHEBI:16526]</td>\n",
       "      <td>carbon dioxide</td>\n",
       "      <td>[CHEBI:16526, CHEBI:29325, CHEBI:48828, CHEBI:...</td>\n",
       "      <td>[carbon dioxide, oxidooxomethyl, cobalt(2+), p...</td>\n",
       "      <td>[1.0, 0.81, 0.803, 0.777, 0.676]</td>\n",
       "      <td>1.0</td>\n",
       "      <td>0.333</td>\n",
       "      <td>1.0</td>\n",
       "      <td>0.2</td>\n",
       "      <td>1</td>\n",
       "      <td>9.40949</td>\n",
       "      <td>3.988773</td>\n",
       "      <td>5.420717</td>\n",
       "    </tr>\n",
       "    <tr>\n",
       "      <th>1</th>\n",
       "      <td>BIOMD0000000013.xml</td>\n",
       "      <td>ATP_ch</td>\n",
       "      <td>ATP</td>\n",
       "      <td>[ATP, adenosine triphosphate, adenosine tripho...</td>\n",
       "      <td>All are common biochemical metabolites involve...</td>\n",
       "      <td>[CHEBI:15422]</td>\n",
       "      <td>ATP</td>\n",
       "      <td>[CHEBI:15422, CHEBI:30616, CHEBI:62910, CHEBI:...</td>\n",
       "      <td>[ATP, ATP(4-), ethyl-ATP, P(1),P(3)-bis(5'-ade...</td>\n",
       "      <td>[1.0, 1.0, 0.865, 0.848, 0.737]</td>\n",
       "      <td>1.0</td>\n",
       "      <td>0.333</td>\n",
       "      <td>1.0</td>\n",
       "      <td>0.2</td>\n",
       "      <td>1</td>\n",
       "      <td>9.40949</td>\n",
       "      <td>3.988773</td>\n",
       "      <td>5.420717</td>\n",
       "    </tr>\n",
       "    <tr>\n",
       "      <th>2</th>\n",
       "      <td>BIOMD0000000013.xml</td>\n",
       "      <td>x_NADPH_ch</td>\n",
       "      <td>NADPH</td>\n",
       "      <td>[NADPH, nicotinamide adenine dinucleotide phos...</td>\n",
       "      <td>All are common biochemical metabolites involve...</td>\n",
       "      <td>[CHEBI:16474]</td>\n",
       "      <td>NADPH</td>\n",
       "      <td>[CHEBI:57783, CHEBI:16474, CHEBI:16908, CHEBI:...</td>\n",
       "      <td>[NADPH(4-), NADPH, NADH, NADP, NADP(+)]</td>\n",
       "      <td>[1.0, 1.0, 0.909, 0.888, 0.881]</td>\n",
       "      <td>1.0</td>\n",
       "      <td>0.500</td>\n",
       "      <td>1.0</td>\n",
       "      <td>0.2</td>\n",
       "      <td>1</td>\n",
       "      <td>9.40949</td>\n",
       "      <td>3.988773</td>\n",
       "      <td>5.420717</td>\n",
       "    </tr>\n",
       "    <tr>\n",
       "      <th>3</th>\n",
       "      <td>BIOMD0000000013.xml</td>\n",
       "      <td>GAP_ch</td>\n",
       "      <td>glyceraldehyde-3-phosphate</td>\n",
       "      <td>[glyceraldehyde-3-phosphate, G3P, triose phosp...</td>\n",
       "      <td>All are common biochemical metabolites involve...</td>\n",
       "      <td>[CHEBI:17138]</td>\n",
       "      <td>glyceraldehyde 3-phosphate</td>\n",
       "      <td>[CHEBI:17138, CHEBI:29052, CHEBI:58027, CHEBI:...</td>\n",
       "      <td>[glyceraldehyde 3-phosphate, D-glyceraldehyde ...</td>\n",
       "      <td>[1.0, 0.992, 0.992, 0.744, 0.711]</td>\n",
       "      <td>1.0</td>\n",
       "      <td>0.333</td>\n",
       "      <td>1.0</td>\n",
       "      <td>0.2</td>\n",
       "      <td>1</td>\n",
       "      <td>9.40949</td>\n",
       "      <td>3.988773</td>\n",
       "      <td>5.420717</td>\n",
       "    </tr>\n",
       "    <tr>\n",
       "      <th>4</th>\n",
       "      <td>BIOMD0000000013.xml</td>\n",
       "      <td>Pi_ch</td>\n",
       "      <td>inorganic phosphate</td>\n",
       "      <td>[inorganic phosphate, Pi, phosphate]</td>\n",
       "      <td>All are common biochemical metabolites involve...</td>\n",
       "      <td>[CHEBI:18367]</td>\n",
       "      <td>phosphate(3-)</td>\n",
       "      <td>[CHEBI:24838, CHEBI:28874, CHEBI:35780, CHEBI:...</td>\n",
       "      <td>[inorganic phosphate, phosphatidylinositol, ph...</td>\n",
       "      <td>[1.0, 1.0, 1.0, 1.0, 1.0]</td>\n",
       "      <td>0.0</td>\n",
       "      <td>0.000</td>\n",
       "      <td>0.0</td>\n",
       "      <td>0.0</td>\n",
       "      <td>0</td>\n",
       "      <td>9.40949</td>\n",
       "      <td>3.988773</td>\n",
       "      <td>5.420717</td>\n",
       "    </tr>\n",
       "    <tr>\n",
       "      <th>5</th>\n",
       "      <td>BIOMD0000000013.xml</td>\n",
       "      <td>DHAP_ch</td>\n",
       "      <td>dihydroxyacetone phosphate</td>\n",
       "      <td>[dihydroxyacetone phosphate, DHAP, triose phos...</td>\n",
       "      <td>All are common biochemical metabolites involve...</td>\n",
       "      <td>[CHEBI:16108]</td>\n",
       "      <td>dihydroxyacetone phosphate</td>\n",
       "      <td>[CHEBI:16108, CHEBI:57642, CHEBI:15362, CHEBI:...</td>\n",
       "      <td>[dihydroxyacetone phosphate, glycerone phospha...</td>\n",
       "      <td>[1.0, 1.0, 0.801, 0.801, 0.744]</td>\n",
       "      <td>1.0</td>\n",
       "      <td>0.333</td>\n",
       "      <td>1.0</td>\n",
       "      <td>0.2</td>\n",
       "      <td>1</td>\n",
       "      <td>9.40949</td>\n",
       "      <td>3.988773</td>\n",
       "      <td>5.420717</td>\n",
       "    </tr>\n",
       "    <tr>\n",
       "      <th>6</th>\n",
       "      <td>BIOMD0000000013.xml</td>\n",
       "      <td>FBP_ch</td>\n",
       "      <td>fructose-1,6-bisphosphate</td>\n",
       "      <td>[fructose-1,6-bisphosphate, FBP, fructose bisp...</td>\n",
       "      <td>All are common biochemical metabolites involve...</td>\n",
       "      <td>[CHEBI:28013]</td>\n",
       "      <td>beta-D-fructofuranose 1,6-bisphosphate</td>\n",
       "      <td>[CHEBI:16905, CHEBI:78682, CHEBI:49299, CHEBI:...</td>\n",
       "      <td>[keto-D-fructose 1,6-bisphosphate, D-fructose ...</td>\n",
       "      <td>[0.883, 0.883, 0.883, 0.836, 0.679]</td>\n",
       "      <td>1.0</td>\n",
       "      <td>1.000</td>\n",
       "      <td>0.0</td>\n",
       "      <td>0.0</td>\n",
       "      <td>1</td>\n",
       "      <td>9.40949</td>\n",
       "      <td>3.988773</td>\n",
       "      <td>5.420717</td>\n",
       "    </tr>\n",
       "    <tr>\n",
       "      <th>7</th>\n",
       "      <td>BIOMD0000000013.xml</td>\n",
       "      <td>F6P_ch</td>\n",
       "      <td>fructose-6-phosphate</td>\n",
       "      <td>[fructose-6-phosphate, F6P, fructose phosphate]</td>\n",
       "      <td>All are common biochemical metabolites involve...</td>\n",
       "      <td>[CHEBI:57634]</td>\n",
       "      <td>beta-D-fructofuranose 6-phosphate(2-)</td>\n",
       "      <td>[CHEBI:15946, CHEBI:16084, CHEBI:88003, CHEBI:...</td>\n",
       "      <td>[keto-D-fructose 6-phosphate, beta-D-fructofur...</td>\n",
       "      <td>[1.0, 1.0, 0.987, 0.899, 0.877]</td>\n",
       "      <td>1.0</td>\n",
       "      <td>0.500</td>\n",
       "      <td>0.0</td>\n",
       "      <td>0.0</td>\n",
       "      <td>1</td>\n",
       "      <td>9.40949</td>\n",
       "      <td>3.988773</td>\n",
       "      <td>5.420717</td>\n",
       "    </tr>\n",
       "    <tr>\n",
       "      <th>8</th>\n",
       "      <td>BIOMD0000000013.xml</td>\n",
       "      <td>E4P_ch</td>\n",
       "      <td>erythrose-4-phosphate</td>\n",
       "      <td>[erythrose-4-phosphate, E4P, tetrose phosphate]</td>\n",
       "      <td>All are common biochemical metabolites involve...</td>\n",
       "      <td>[CHEBI:48153]</td>\n",
       "      <td>D-erythrose 4-phosphate</td>\n",
       "      <td>[CHEBI:4116, CHEBI:23956, CHEBI:16897, CHEBI:4...</td>\n",
       "      <td>[D-erythrulose 4-phosphate, erythrose phosphat...</td>\n",
       "      <td>[0.837, 0.825, 0.784, 0.784, 0.655]</td>\n",
       "      <td>1.0</td>\n",
       "      <td>1.000</td>\n",
       "      <td>1.0</td>\n",
       "      <td>0.2</td>\n",
       "      <td>1</td>\n",
       "      <td>9.40949</td>\n",
       "      <td>3.988773</td>\n",
       "      <td>5.420717</td>\n",
       "    </tr>\n",
       "    <tr>\n",
       "      <th>9</th>\n",
       "      <td>BIOMD0000000013.xml</td>\n",
       "      <td>X5P_ch</td>\n",
       "      <td>xylulose-5-phosphate</td>\n",
       "      <td>[xylulose-5-phosphate, X5P, pentose phosphate]</td>\n",
       "      <td>All are common biochemical metabolites involve...</td>\n",
       "      <td>[CHEBI:16332]</td>\n",
       "      <td>D-xylulose 5-phosphate</td>\n",
       "      <td>[CHEBI:84055, CHEBI:27354, CHEBI:16593, CHEBI:...</td>\n",
       "      <td>[pentose phosphate, xylulose 5-phosphate, L-xy...</td>\n",
       "      <td>[1.0, 0.988, 0.863, 0.863, 0.824]</td>\n",
       "      <td>1.0</td>\n",
       "      <td>1.000</td>\n",
       "      <td>1.0</td>\n",
       "      <td>0.2</td>\n",
       "      <td>1</td>\n",
       "      <td>9.40949</td>\n",
       "      <td>3.988773</td>\n",
       "      <td>5.420717</td>\n",
       "    </tr>\n",
       "  </tbody>\n",
       "</table>\n",
       "</div>"
      ],
      "text/plain": [
       "                 model  species_id                display_name  \\\n",
       "0  BIOMD0000000013.xml       x_CO2              carbon dioxide   \n",
       "1  BIOMD0000000013.xml      ATP_ch                         ATP   \n",
       "2  BIOMD0000000013.xml  x_NADPH_ch                       NADPH   \n",
       "3  BIOMD0000000013.xml      GAP_ch  glyceraldehyde-3-phosphate   \n",
       "4  BIOMD0000000013.xml       Pi_ch         inorganic phosphate   \n",
       "5  BIOMD0000000013.xml     DHAP_ch  dihydroxyacetone phosphate   \n",
       "6  BIOMD0000000013.xml      FBP_ch   fructose-1,6-bisphosphate   \n",
       "7  BIOMD0000000013.xml      F6P_ch        fructose-6-phosphate   \n",
       "8  BIOMD0000000013.xml      E4P_ch       erythrose-4-phosphate   \n",
       "9  BIOMD0000000013.xml      X5P_ch        xylulose-5-phosphate   \n",
       "\n",
       "                                        synonyms_LLM  \\\n",
       "0                     [carbon dioxide, CO2, dioxide]   \n",
       "1  [ATP, adenosine triphosphate, adenosine tripho...   \n",
       "2  [NADPH, nicotinamide adenine dinucleotide phos...   \n",
       "3  [glyceraldehyde-3-phosphate, G3P, triose phosp...   \n",
       "4               [inorganic phosphate, Pi, phosphate]   \n",
       "5  [dihydroxyacetone phosphate, DHAP, triose phos...   \n",
       "6  [fructose-1,6-bisphosphate, FBP, fructose bisp...   \n",
       "7    [fructose-6-phosphate, F6P, fructose phosphate]   \n",
       "8    [erythrose-4-phosphate, E4P, tetrose phosphate]   \n",
       "9     [xylulose-5-phosphate, X5P, pentose phosphate]   \n",
       "\n",
       "                                              reason exist_annotation_chebi  \\\n",
       "0  All are common biochemical metabolites involve...          [CHEBI:16526]   \n",
       "1  All are common biochemical metabolites involve...          [CHEBI:15422]   \n",
       "2  All are common biochemical metabolites involve...          [CHEBI:16474]   \n",
       "3  All are common biochemical metabolites involve...          [CHEBI:17138]   \n",
       "4  All are common biochemical metabolites involve...          [CHEBI:18367]   \n",
       "5  All are common biochemical metabolites involve...          [CHEBI:16108]   \n",
       "6  All are common biochemical metabolites involve...          [CHEBI:28013]   \n",
       "7  All are common biochemical metabolites involve...          [CHEBI:57634]   \n",
       "8  All are common biochemical metabolites involve...          [CHEBI:48153]   \n",
       "9  All are common biochemical metabolites involve...          [CHEBI:16332]   \n",
       "\n",
       "                    exist_annotation_name  \\\n",
       "0                          carbon dioxide   \n",
       "1                                     ATP   \n",
       "2                                   NADPH   \n",
       "3              glyceraldehyde 3-phosphate   \n",
       "4                           phosphate(3-)   \n",
       "5              dihydroxyacetone phosphate   \n",
       "6  beta-D-fructofuranose 1,6-bisphosphate   \n",
       "7   beta-D-fructofuranose 6-phosphate(2-)   \n",
       "8                 D-erythrose 4-phosphate   \n",
       "9                  D-xylulose 5-phosphate   \n",
       "\n",
       "                                         predictions  \\\n",
       "0  [CHEBI:16526, CHEBI:29325, CHEBI:48828, CHEBI:...   \n",
       "1  [CHEBI:15422, CHEBI:30616, CHEBI:62910, CHEBI:...   \n",
       "2  [CHEBI:57783, CHEBI:16474, CHEBI:16908, CHEBI:...   \n",
       "3  [CHEBI:17138, CHEBI:29052, CHEBI:58027, CHEBI:...   \n",
       "4  [CHEBI:24838, CHEBI:28874, CHEBI:35780, CHEBI:...   \n",
       "5  [CHEBI:16108, CHEBI:57642, CHEBI:15362, CHEBI:...   \n",
       "6  [CHEBI:16905, CHEBI:78682, CHEBI:49299, CHEBI:...   \n",
       "7  [CHEBI:15946, CHEBI:16084, CHEBI:88003, CHEBI:...   \n",
       "8  [CHEBI:4116, CHEBI:23956, CHEBI:16897, CHEBI:4...   \n",
       "9  [CHEBI:84055, CHEBI:27354, CHEBI:16593, CHEBI:...   \n",
       "\n",
       "                                   predictions_names  \\\n",
       "0  [carbon dioxide, oxidooxomethyl, cobalt(2+), p...   \n",
       "1  [ATP, ATP(4-), ethyl-ATP, P(1),P(3)-bis(5'-ade...   \n",
       "2            [NADPH(4-), NADPH, NADH, NADP, NADP(+)]   \n",
       "3  [glyceraldehyde 3-phosphate, D-glyceraldehyde ...   \n",
       "4  [inorganic phosphate, phosphatidylinositol, ph...   \n",
       "5  [dihydroxyacetone phosphate, glycerone phospha...   \n",
       "6  [keto-D-fructose 1,6-bisphosphate, D-fructose ...   \n",
       "7  [keto-D-fructose 6-phosphate, beta-D-fructofur...   \n",
       "8  [D-erythrulose 4-phosphate, erythrose phosphat...   \n",
       "9  [pentose phosphate, xylulose 5-phosphate, L-xy...   \n",
       "\n",
       "                           match_score  recall_formula  precision_formula  \\\n",
       "0     [1.0, 0.81, 0.803, 0.777, 0.676]             1.0              0.333   \n",
       "1      [1.0, 1.0, 0.865, 0.848, 0.737]             1.0              0.333   \n",
       "2      [1.0, 1.0, 0.909, 0.888, 0.881]             1.0              0.500   \n",
       "3    [1.0, 0.992, 0.992, 0.744, 0.711]             1.0              0.333   \n",
       "4            [1.0, 1.0, 1.0, 1.0, 1.0]             0.0              0.000   \n",
       "5      [1.0, 1.0, 0.801, 0.801, 0.744]             1.0              0.333   \n",
       "6  [0.883, 0.883, 0.883, 0.836, 0.679]             1.0              1.000   \n",
       "7      [1.0, 1.0, 0.987, 0.899, 0.877]             1.0              0.500   \n",
       "8  [0.837, 0.825, 0.784, 0.784, 0.655]             1.0              1.000   \n",
       "9    [1.0, 0.988, 0.863, 0.863, 0.824]             1.0              1.000   \n",
       "\n",
       "   recall_chebi  precision_chebi  accuracy  total_time  llm_time  query_time  \n",
       "0           1.0              0.2         1     9.40949  3.988773    5.420717  \n",
       "1           1.0              0.2         1     9.40949  3.988773    5.420717  \n",
       "2           1.0              0.2         1     9.40949  3.988773    5.420717  \n",
       "3           1.0              0.2         1     9.40949  3.988773    5.420717  \n",
       "4           0.0              0.0         0     9.40949  3.988773    5.420717  \n",
       "5           1.0              0.2         1     9.40949  3.988773    5.420717  \n",
       "6           0.0              0.0         1     9.40949  3.988773    5.420717  \n",
       "7           0.0              0.0         1     9.40949  3.988773    5.420717  \n",
       "8           1.0              0.2         1     9.40949  3.988773    5.420717  \n",
       "9           1.0              0.2         1     9.40949  3.988773    5.420717  "
      ]
     },
     "execution_count": 6,
     "metadata": {},
     "output_type": "execute_result"
    }
   ],
   "source": [
    "result_df"
   ]
  },
  {
   "cell_type": "markdown",
   "metadata": {},
   "source": [
    "## Test 2: Batch Model Evaluation\n",
    "\n",
    "Test the evaluation of multiple models in a directory."
   ]
  },
  {
   "cell_type": "code",
   "execution_count": 3,
   "metadata": {},
   "outputs": [
    {
     "name": "stdout",
     "output_type": "stream",
     "text": [
      "✓ Model directory found: /Users/luna/Desktop/CRBM/AMAS_proj/Models/BioModels\n",
      "  - Found 1063 XML files\n"
     ]
    }
   ],
   "source": [
    "model_dir = \"/Users/luna/Desktop/CRBM/AMAS_proj/Models/BioModels\"\n",
    "# model_dir = \"test_models\"\n",
    "# Check if model directory exists\n",
    "if os.path.exists(model_dir):\n",
    "    model_files = [f for f in os.listdir(model_dir) if f.endswith('.xml')]\n",
    "    print(f\"✓ Model directory found: {model_dir}\")\n",
    "    print(f\"  - Found {len(model_files)} XML files\")\n",
    "    # print(f\"  - Will test first {min(num_models_to_test, len(model_files))} models\")"
   ]
  },
  {
   "cell_type": "code",
   "execution_count": null,
   "metadata": {},
   "outputs": [],
   "source": [
    "# Run batch evaluation \n",
    "batch_results_df = evaluate_models_in_folder(\n",
    "    model_dir=model_dir,\n",
    "    # num_models=min(num_models_to_test, len(model_files)),\n",
    "    llm_model=llm_model,\n",
    "    method=\"rag\",\n",
    "    # max_entities=max_entities_per_model,\n",
    "    entity_type=entity_type,\n",
    "    database=database,\n",
    "    save_llm_results=True,\n",
    "    output_dir=output_dir,\n",
    "    output_file=\"biomd_chebi_rag_llama-extended_default.csv\",\n",
    "    start_at=1,\n",
    "    verbose=False\n",
    ")\n",
    "        \n",
    "if not batch_results_df.empty:\n",
    "    print(f\"✓ Batch evaluation successful\")\n",
    "    print(f\"  - Evaluated {batch_results_df['model'].nunique()} models\")\n",
    "    print(f\"  - Generated {len(batch_results_df)} total result rows\")\n",
    "    print(f\"  - Average accuracy: {batch_results_df['accuracy'].mean():.1%}\")\n",
    "    \n",
    "    # Show updated metrics\n",
    "    print(\"\\n  Updated metrics summary:\")\n",
    "    if 'recall_formula' in batch_results_df.columns:\n",
    "        print(f\"  - Average recall (formula): {batch_results_df['recall_formula'].mean():.3f}\")\n",
    "        print(f\"  - Average precision (formula): {batch_results_df['precision_formula'].mean():.3f}\")\n",
    "    print(f\"  - Average recall (ChEBI): {batch_results_df['recall_chebi'].mean():.3f}\")\n",
    "    print(f\"  - Average precision (ChEBI): {batch_results_df['precision_chebi'].mean():.3f}\")\n",
    "    \n",
    "    # Show sample of LLM results\n",
    "    print(\"\\n  Sample LLM results:\")\n",
    "    if 'synonyms_LLM' in batch_results_df.columns:\n",
    "        for idx, row in batch_results_df[['species_id', 'synonyms_LLM']].head(3).iterrows():\n",
    "            print(f\"    {row['species_id']}: {row['synonyms_LLM']}\")\n",
    "    \n",
    "    # Show match scores instead of predictions_hits\n",
    "    print(\"\\n  Sample match scores:\")\n",
    "    if 'match_score' in batch_results_df.columns:\n",
    "        for idx, row in batch_results_df[['species_id', 'match_score']].head(3).iterrows():\n",
    "            print(f\"    {row['species_id']}: {row['match_score']}\")\n",
    "    \n",
    "else:\n",
    "    print(f\"✗ Batch evaluation failed: No results generated\")"
   ]
  },
  {
   "cell_type": "markdown",
   "metadata": {},
   "source": [
    "## Test 3: Evaluating previous LLM sysnonyms"
   ]
  },
  {
   "cell_type": "code",
   "execution_count": 3,
   "metadata": {},
   "outputs": [
    {
     "name": "stdout",
     "output_type": "stream",
     "text": [
      "Processing 1/343: BIOMD0000000291.txt\n",
      "Processing 2/343: BIOMD0000000246.txt\n",
      "Processing 3/343: BIOMD0000000508.txt\n",
      "Processing 4/343: BIOMD0000000087.txt\n",
      "Processing 5/343: BIOMD0000000736.txt\n",
      "Processing 6/343: BIOMD0000000050.txt\n",
      "Processing 7/343: BIOMD0000000044.txt\n",
      "Processing 8/343: BIOMD0000000859.txt\n",
      "Processing 9/343: BIOMD0000000642.txt\n",
      "Processing 10/343: BIOMD0000000124.txt\n",
      "Processing 11/343: BIOMD0000000497.txt\n",
      "Processing 12/343: BIOMD0000000326.txt\n",
      "Processing 13/343: BIOMD0000000468.txt\n",
      "Processing 14/343: BIOMD0000000469.txt\n",
      "Processing 15/343: BIOMD0000001005.txt\n",
      "Processing 16/343: BIOMD0000000327.txt\n",
      "Processing 17/343: BIOMD0000000496.txt\n",
      "Processing 18/343: BIOMD0000000482.txt\n",
      "Processing 19/343: BIOMD0000000119.txt\n",
      "Processing 20/343: BIOMD0000000858.txt\n",
      "Processing 21/343: BIOMD0000000045.txt\n",
      "Processing 22/343: BIOMD0000000737.txt\n",
      "Processing 23/343: BIOMD0000000051.txt\n",
      "Processing 24/343: BIOMD0000000086.txt\n",
      "Processing 25/343: BIOMD0000000509.txt\n",
      "Processing 26/343: BIOMD0000000521.txt\n",
      "Model BIOMD0000000521.xml not found in previous results, skipping\n",
      "Processing 27/343: BIOMD0000000247.txt\n",
      "Processing 28/343: BIOMD0000000253.txt\n",
      "Processing 29/343: BIOMD0000000286.txt\n",
      "Processing 30/343: BIOMD0000000292.txt\n",
      "Processing 31/343: BIOMD0000000245.txt\n",
      "Processing 32/343: BIOMD0000000090.txt\n",
      "Processing 33/343: BIOMD0000000047.txt\n",
      "Processing 34/343: BIOMD0000000053.txt\n",
      "Processing 35/343: BIOMD0000000735.txt\n",
      "Processing 36/343: BIOMD0000000494.txt\n",
      "Processing 37/343: BIOMD0000000457.txt\n",
      "Processing 38/343: BIOMD0000000325.txt\n",
      "Processing 39/343: BIOMD0000000330.txt\n",
      "Processing 40/343: BIOMD0000000481.txt\n",
      "Processing 41/343: BIOMD0000000495.txt\n",
      "Processing 42/343: BIOMD0000000052.txt\n",
      "Processing 43/343: BIOMD0000000734.txt\n",
      "Processing 44/343: BIOMD0000000046.txt\n",
      "Processing 45/343: BIOMD0000000091.txt\n",
      "Processing 46/343: BIOMD0000000085.txt\n",
      "Processing 47/343: BIOMD0000000244.txt\n",
      "Processing 48/343: BIOMD0000000293.txt\n",
      "Processing 49/343: BIOMD0000000283.txt\n",
      "Processing 50/343: BIOMD0000000268.txt\n",
      "Processing 51/343: BIOMD0000000254.txt\n",
      "Processing 52/343: BIOMD0000000081.txt\n",
      "Processing 53/343: BIOMD0000000042.txt\n",
      "Processing 54/343: BIOMD0000000122.txt\n",
      "Processing 55/343: BIOMD0000000491.txt\n",
      "Processing 56/343: BIOMD0000000452.txt\n",
      "Model BIOMD0000000452.xml not found in previous results, skipping\n",
      "Processing 57/343: BIOMD0000000320.txt\n",
      "Processing 58/343: BIOMD0000000321.txt\n",
      "Processing 59/343: BIOMD0000000453.txt\n",
      "Model BIOMD0000000453.xml not found in previous results, skipping\n",
      "Processing 60/343: BIOMD0000000490.txt\n",
      "Processing 61/343: BIOMD0000000123.txt\n",
      "Processing 62/343: BIOMD0000000137.txt\n",
      "Processing 63/343: BIOMD0000000043.txt\n",
      "Processing 64/343: BIOMD0000000080.txt\n",
      "Processing 65/343: BIOMD0000000255.txt\n",
      "Processing 66/343: BIOMD0000000241.txt\n",
      "Processing 67/343: BIOMD0000000269.txt\n",
      "Processing 68/343: BIOMD0000000296.txt\n",
      "Processing 69/343: BIOMD0000000282.txt\n",
      "Processing 70/343: BIOMD0000000082.txt\n",
      "Processing 71/343: BIOMD0000000041.txt\n",
      "Processing 72/343: BIOMD0000000690.txt\n",
      "Processing 73/343: BIOMD0000000479.txt\n",
      "Processing 74/343: BIOMD0000000450.txt\n",
      "Processing 75/343: BIOMD0000000478.txt\n",
      "Processing 76/343: BIOMD0000000108.txt\n",
      "Processing 77/343: BIOMD0000000691.txt\n",
      "Processing 78/343: BIOMD0000000040.txt\n",
      "Processing 79/343: BIOMD0000000054.txt\n",
      "Processing 80/343: BIOMD0000000068.txt\n",
      "Processing 81/343: BIOMD0000000281.txt\n",
      "Processing 82/343: BIOMD0000000231.txt\n",
      "Processing 83/343: BIOMD0000000225.txt\n",
      "Processing 84/343: BIOMD0000000219.txt\n",
      "Processing 85/343: BIOMD0000000966.txt\n",
      "Processing 86/343: BIOMD0000000184.txt\n",
      "Processing 87/343: BIOMD0000000190.txt\n",
      "Processing 88/343: BIOMD0000000621.txt\n",
      "Processing 89/343: BIOMD0000000635.txt\n",
      "Processing 90/343: BIOMD0000000153.txt\n",
      "Processing 91/343: BIOMD0000000609.txt\n",
      "Processing 92/343: BIOMD0000000386.txt\n",
      "Processing 93/343: BIOMD0000000392.txt\n",
      "Processing 94/343: BIOMD0000000379.txt\n",
      "Processing 95/343: BIOMD0000000378.txt\n",
      "Processing 96/343: BIOMD0000000436.txt\n",
      "Processing 97/343: BIOMD0000000422.txt\n",
      "Processing 98/343: BIOMD0000000344.txt\n",
      "Model BIOMD0000000344.xml not found in previous results, skipping\n",
      "Processing 99/343: BIOMD0000000393.txt\n",
      "Processing 100/343: BIOMD0000000387.txt\n",
      "Processing 101/343: BIOMD0000000634.txt\n",
      "Processing 102/343: BIOMD0000000152.txt\n",
      "Processing 103/343: BIOMD0000000146.txt\n",
      "Processing 104/343: BIOMD0000000620.txt\n",
      "Processing 105/343: BIOMD0000000191.txt\n",
      "Processing 106/343: BIOMD0000000218.txt\n",
      "Processing 107/343: BIOMD0000000224.txt\n",
      "Processing 108/343: BIOMD0000000542.txt\n",
      "Processing 109/343: BIOMD0000000540.txt\n",
      "Processing 110/343: BIOMD0000000232.txt\n",
      "Processing 111/343: BIOMD0000000554.txt\n",
      "Processing 112/343: BIOMD0000000018.txt\n",
      "Processing 113/343: BIOMD0000000805.txt\n",
      "Processing 114/343: BIOMD0000000636.txt\n",
      "Processing 115/343: BIOMD0000000391.txt\n",
      "Processing 116/343: BIOMD0000000385.txt\n",
      "Processing 117/343: BIOMD0000000434.txt\n",
      "Processing 118/343: BIOMD0000000408.txt\n",
      "Processing 119/343: BIOMD0000000409.txt\n",
      "Processing 120/343: BIOMD0000000353.txt\n",
      "Processing 121/343: BIOMD0000000384.txt\n",
      "Processing 122/343: BIOMD0000000390.txt\n",
      "Processing 123/343: BIOMD0000000145.txt\n",
      "Processing 124/343: BIOMD0000000637.txt\n",
      "Model BIOMD0000000637.xml not found in previous results, skipping\n",
      "Processing 125/343: BIOMD0000000192.txt\n",
      "Processing 126/343: BIOMD0000000019.txt\n",
      "Model BIOMD0000000019.xml not found in previous results, skipping\n",
      "Processing 127/343: BIOMD0000000569.txt\n",
      "Processing 128/343: BIOMD0000000541.txt\n",
      "Processing 129/343: BIOMD0000000582.txt\n",
      "Processing 130/343: BIOMD0000000579.txt\n",
      "Processing 131/343: BIOMD0000000948.txt\n",
      "Processing 132/343: BIOMD0000000634_llm_results.txt\n",
      "Model BIOMD0000000634_llm_results.xml not found in previous results, skipping\n",
      "Processing 133/343: BIOMD0000000828.txt\n",
      "Processing 134/343: BIOMD0000000182.txt\n",
      "Processing 135/343: BIOMD0000000633.txt\n",
      "Processing 136/343: BIOMD0000000627.txt\n",
      "Processing 137/343: BIOMD0000000394.txt\n",
      "Processing 138/343: BIOMD0000000380.txt\n",
      "Processing 139/343: BIOMD0000000508_llm_results.txt\n",
      "Model BIOMD0000000508_llm_results.xml not found in previous results, skipping\n",
      "Processing 140/343: BIOMD0000001061.txt\n",
      "Processing 141/343: BIOMD0000000424.txt\n",
      "Processing 142/343: BIOMD0000000395.txt\n",
      "Processing 143/343: BIOMD0000000183.txt\n",
      "Processing 144/343: BIOMD0000000829.txt\n",
      "Processing 145/343: BIOMD0000000197.txt\n",
      "Processing 146/343: BIOMD0000000801.txt\n",
      "Processing 147/343: BIOMD0000000961.txt\n",
      "Processing 148/343: BIOMD0000000236.txt\n",
      "Processing 149/343: BIOMD0000000222.txt\n",
      "Processing 150/343: BIOMD0000000552.txt\n",
      "Processing 151/343: BIOMD0000000750.txt\n",
      "Processing 152/343: BIOMD0000000624.txt\n",
      "Processing 153/343: BIOMD0000000383.txt\n",
      "Processing 154/343: BIOMD0000000397.txt\n",
      "Processing 155/343: BIOMD0000001062.txt\n",
      "Processing 156/343: BIOMD0000000340.txt\n",
      "Model BIOMD0000000340.xml not found in previous results, skipping\n",
      "Processing 157/343: BIOMD0000000426.txt\n",
      "Processing 158/343: BIOMD0000000354.txt\n",
      "Processing 159/343: BIOMD0000000355.txt\n",
      "Processing 160/343: BIOMD0000000341.txt\n",
      "Processing 161/343: BIOMD0000001063.txt\n",
      "Failed to parse response:\n",
      "\n",
      "Reason: \n",
      "Error response saved to: error_response_1748988685.txt\n",
      "Processing 162/343: BIOMD0000000396.txt\n",
      "Processing 163/343: BIOMD0000000382.txt\n",
      "Processing 164/343: BIOMD0000000143.txt\n",
      "Processing 165/343: BIOMD0000000023.txt\n",
      "Processing 166/343: BIOMD0000000037.txt\n",
      "Processing 167/343: BIOMD0000000779.txt\n",
      "Processing 168/343: BIOMD0000000547.txt\n",
      "Processing 169/343: BIOMD0000000221.txt\n",
      "Processing 170/343: BIOMD0000000553.txt\n",
      "Processing 171/343: BIOMD0000000590.txt\n",
      "Processing 172/343: BIOMD0000000589.txt\n",
      "Processing 173/343: BIOMD0000000576.txt\n",
      "Processing 174/343: BIOMD0000000947.txt\n",
      "Processing 175/343: BIOMD0000000199.txt\n",
      "Processing 176/343: BIOMD0000000827.txt\n",
      "Processing 177/343: BIOMD0000000166.txt\n",
      "Processing 178/343: BIOMD0000000172.txt\n",
      "Processing 179/343: BIOMD0000000628.txt\n",
      "Processing 180/343: BIOMD0000001046.txt\n",
      "Processing 181/343: BIOMD0000001053.txt\n",
      "Processing 182/343: BIOMD0000000629.txt\n",
      "Processing 183/343: BIOMD0000000601.txt\n",
      "Processing 184/343: BIOMD0000000198.txt\n",
      "Processing 185/343: BIOMD0000000826.txt\n",
      "Model BIOMD0000000826.xml not found in previous results, skipping\n",
      "Processing 186/343: BIOMD0000000013.txt\n",
      "Processing 187/343: BIOMD0000000239.txt\n",
      "Processing 188/343: BIOMD0000000205.txt\n",
      "Processing 189/343: BIOMD0000000211.txt\n",
      "Processing 190/343: BIOMD0000000213.txt\n",
      "Processing 191/343: BIOMD0000000575.txt\n",
      "Processing 192/343: BIOMD0000000039.txt\n",
      "Processing 193/343: BIOMD0000000617.txt\n",
      "Model BIOMD0000000617.xml not found in previous results, skipping\n",
      "Processing 194/343: BIOMD0000000603.txt\n",
      "Processing 195/343: BIOMD0000000165.txt\n",
      "Processing 196/343: BIOMD0000000398.txt\n",
      "Processing 197/343: BIOMD0000000415.txt\n",
      "Processing 198/343: BIOMD0000000373.txt\n",
      "Processing 199/343: BIOMD0000000429.txt\n",
      "Processing 200/343: BIOMD0000000428.txt\n",
      "Processing 201/343: BIOMD0000000400.txt\n",
      "Processing 202/343: BIOMD0000000372.txt\n",
      "Processing 203/343: BIOMD0000000399.txt\n",
      "Model BIOMD0000000399.xml not found in previous results, skipping\n",
      "Processing 204/343: BIOMD0000000602.txt\n",
      "Processing 205/343: BIOMD0000000164.txt\n",
      "Model BIOMD0000000164.xml not found in previous results, skipping\n",
      "Processing 206/343: BIOMD0000000038.txt\n",
      "Processing 207/343: BIOMD0000000986.txt\n",
      "Processing 208/343: BIOMD0000000212.txt\n",
      "Processing 209/343: BIOMD0000000574.txt\n",
      "Processing 210/343: BIOMD0000000206.txt\n",
      "Processing 211/343: BIOMD0000000202.txt\n",
      "Processing 212/343: BIOMD0000000570.txt\n",
      "Processing 213/343: BIOMD0000000174.txt\n",
      "Model BIOMD0000000174.xml not found in previous results, skipping\n",
      "Processing 214/343: BIOMD0000000606.txt\n",
      "Processing 215/343: BIOMD0000000389.txt\n",
      "Processing 216/343: BIOMD0000001054.txt\n",
      "Processing 217/343: BIOMD0000000438.txt\n",
      "Processing 218/343: BIOMD0000000376.txt\n",
      "Processing 219/343: BIOMD0000000404.txt\n",
      "Processing 220/343: BIOMD0000000439.txt\n",
      "Processing 221/343: BIOMD0000001055.txt\n",
      "Processing 222/343: BIOMD0000000388.txt\n",
      "Processing 223/343: BIOMD0000000161.txt\n",
      "Processing 224/343: BIOMD0000000607.txt\n",
      "Processing 225/343: BIOMD0000000613.txt\n",
      "Processing 226/343: BIOMD0000000175.txt\n",
      "Processing 227/343: BIOMD0000000015.txt\n",
      "Processing 228/343: BIOMD0000000571.txt\n",
      "Processing 229/343: BIOMD0000000217.txt\n",
      "Processing 230/343: BIOMD0000000565.txt\n",
      "Processing 231/343: BIOMD0000000559.txt\n",
      "Processing 232/343: BIOMD0000000229.txt\n",
      "Processing 233/343: BIOMD0000000201.txt\n",
      "Model BIOMD0000000201.xml not found in previous results, skipping\n",
      "Processing 234/343: BIOMD0000000017.txt\n",
      "Processing 235/343: BIOMD0000000822.txt\n",
      "Processing 236/343: BIOMD0000000605.txt\n",
      "Processing 237/343: BIOMD0000000177.txt\n",
      "Processing 238/343: BIOMD0000000349.txt\n",
      "Processing 239/343: BIOMD0000000375.txt\n",
      "Processing 240/343: BIOMD0000000374.txt\n",
      "Processing 241/343: BIOMD0000000348.txt\n",
      "Processing 242/343: BIOMD0000000176.txt\n",
      "Processing 243/343: BIOMD0000000610.txt\n",
      "Processing 244/343: BIOMD0000000604.txt\n",
      "Processing 245/343: BIOMD0000000162.txt\n",
      "Processing 246/343: BIOMD0000000638.txt\n",
      "Model BIOMD0000000638.xml not found in previous results, skipping\n",
      "Processing 247/343: BIOMD0000000002.txt\n",
      "Processing 248/343: BIOMD0000000572.txt\n",
      "Processing 249/343: BIOMD0000000515.txt\n",
      "Processing 250/343: BIOMD0000000071.txt\n",
      "Processing 251/343: BIOMD0000000065.txt\n",
      "Processing 252/343: BIOMD0000000059.txt\n",
      "Processing 253/343: BIOMD0000000105.txt\n",
      "Processing 254/343: BIOMD0000000461.txt\n",
      "Processing 255/343: BIOMD0000000474.txt\n",
      "Processing 256/343: BIOMD0000000460.txt\n",
      "Processing 257/343: BIOMD0000000138.txt\n",
      "Processing 258/343: BIOMD0000000676.txt\n",
      "Processing 259/343: BIOMD0000000689.txt\n",
      "Processing 260/343: BIOMD0000000879.txt\n",
      "Processing 261/343: BIOMD0000000058.txt\n",
      "Processing 262/343: BIOMD0000000064.txt\n",
      "Processing 263/343: BIOMD0000000702.txt\n",
      "Model BIOMD0000000702.xml not found in previous results, skipping\n",
      "Processing 264/343: BIOMD0000000070.txt\n",
      "Processing 265/343: BIOMD0000000266.txt\n",
      "Processing 266/343: BIOMD0000000514.txt\n",
      "Processing 267/343: BIOMD0000000264.txt\n",
      "Model BIOMD0000000264.xml not found in previous results, skipping\n",
      "Processing 268/343: BIOMD0000000502.txt\n",
      "Processing 269/343: BIOMD0000000516.txt\n",
      "Processing 270/343: BIOMD0000000927.txt\n",
      "Model BIOMD0000000927.xml not found in previous results, skipping\n",
      "Processing 271/343: BIOMD0000000099.txt\n",
      "Processing 272/343: BIOMD0000000066.txt\n",
      "Processing 273/343: BIOMD0000000072.txt\n",
      "Model BIOMD0000000072.xml not found in previous results, skipping\n",
      "Processing 274/343: BIOMD0000000847.txt\n",
      "Processing 275/343: BIOMD0000000674.txt\n",
      "Processing 276/343: BIOMD0000000112.txt\n",
      "Processing 277/343: BIOMD0000000106.txt\n",
      "Processing 278/343: BIOMD0000000890.txt\n",
      "Processing 279/343: BIOMD0000000304.txt\n",
      "Processing 280/343: BIOMD0000000338.txt\n",
      "Model BIOMD0000000338.xml not found in previous results, skipping\n",
      "Processing 281/343: BIOMD0000000339.txt\n",
      "Model BIOMD0000000339.xml not found in previous results, skipping\n",
      "Processing 282/343: BIOMD0000000305.txt\n",
      "Processing 283/343: BIOMD0000000477.txt\n",
      "Processing 284/343: BIOMD0000000488.txt\n",
      "Processing 285/343: BIOMD0000000113.txt\n",
      "Processing 286/343: BIOMD0000000701.txt\n",
      "Model BIOMD0000000701.xml not found in previous results, skipping\n",
      "Processing 287/343: BIOMD0000000067.txt\n",
      "Processing 288/343: BIOMD0000000932.txt\n",
      "Model BIOMD0000000932.xml not found in previous results, skipping\n",
      "Processing 289/343: BIOMD0000000098.txt\n",
      "Processing 290/343: BIOMD0000000259.txt\n",
      "Processing 291/343: BIOMD0000000503.txt\n",
      "Processing 292/343: BIOMD0000000507.txt\n",
      "Processing 293/343: BIOMD0000000261.txt\n",
      "Processing 294/343: BIOMD0000000275.txt\n",
      "Processing 295/343: BIOMD0000000513.txt\n",
      "Processing 296/343: BIOMD0000000088.txt\n",
      "Processing 297/343: BIOMD0000000063.txt\n",
      "Processing 298/343: BIOMD0000000077.txt\n",
      "Processing 299/343: BIOMD0000000842.txt\n",
      "Processing 300/343: BIOMD0000000659.txt\n",
      "Processing 301/343: BIOMD0000000117.txt\n",
      "Processing 302/343: BIOMD0000000498.txt\n",
      "Processing 303/343: BIOMD0000000329.txt\n",
      "Processing 304/343: BIOMD0000000473.txt\n",
      "Processing 305/343: BIOMD0000000301.txt\n",
      "Processing 306/343: BIOMD0000000467.txt\n",
      "Processing 307/343: BIOMD0000000300.txt\n",
      "Processing 308/343: BIOMD0000000466.txt\n",
      "Model BIOMD0000000466.xml not found in previous results, skipping\n",
      "Processing 309/343: BIOMD0000000472.txt\n",
      "Processing 310/343: BIOMD0000000328.txt\n",
      "Processing 311/343: BIOMD0000000658.txt\n",
      "Processing 312/343: BIOMD0000000857.txt\n",
      "Processing 313/343: BIOMD0000000076.txt\n",
      "Processing 314/343: BIOMD0000000062.txt\n",
      "Processing 315/343: BIOMD0000000738.txt\n",
      "Processing 316/343: BIOMD0000000512.txt\n",
      "Processing 317/343: BIOMD0000000506.txt\n",
      "Processing 318/343: BIOMD0000000260.txt\n",
      "Processing 319/343: BIOMD0000000248.txt\n",
      "Processing 320/343: BIOMD0000000510.txt\n",
      "Processing 321/343: BIOMD0000000276.txt\n",
      "Processing 322/343: BIOMD0000000699.txt\n",
      "Model BIOMD0000000699.xml not found in previous results, skipping\n",
      "Processing 323/343: BIOMD0000000128.txt\n",
      "Processing 324/343: BIOMD0000000100.txt\n",
      "Processing 325/343: BIOMD0000000666.txt\n",
      "Processing 326/343: BIOMD0000000114.txt\n",
      "Processing 327/343: BIOMD0000000458.txt\n",
      "Processing 328/343: BIOMD0000000464.txt\n",
      "Processing 329/343: BIOMD0000000470.txt\n",
      "Processing 330/343: BIOMD0000000471.txt\n",
      "Processing 331/343: BIOMD0000000465.txt\n",
      "Processing 332/343: BIOMD0000000303.txt\n",
      "Processing 333/343: BIOMD0000000190_llm_results.txt\n",
      "Model BIOMD0000000190_llm_results.xml not found in previous results, skipping\n",
      "Processing 334/343: BIOMD0000000459.txt\n",
      "Processing 335/343: BIOMD0000000115.txt\n",
      "Processing 336/343: BIOMD0000000883.txt\n",
      "Processing 337/343: BIOMD0000000698.txt\n",
      "Processing 338/343: BIOMD0000000061.txt\n",
      "Processing 339/343: BIOMD0000000075.txt\n",
      "Processing 340/343: BIOMD0000000049.txt\n",
      "Model BIOMD0000000049.xml not found in previous results, skipping\n",
      "Processing 341/343: BIOMD0000000505.txt\n",
      "Processing 342/343: BIOMD0000000511.txt\n",
      "Processing 343/343: BIOMD0000000277.txt\n",
      "Saved results to results/biomd_chebi_direct_llama_nosymbols.csv\n",
      "Saved 28 parse errors to results/parse_errors.txt\n"
     ]
    }
   ],
   "source": [
    "results_df = process_saved_llm_responses(response_folder = '/Users/luna/Desktop/CRBM/AMAS_proj/AAAIM/tests/results/llama-3.3-70b-instruct', \n",
    "                               model_dir = '/Users/luna/Desktop/CRBM/AMAS_proj/Models/BioModels', \n",
    "                               prev_results_csv = 'results/biomd_chebi_rag_llama_default.csv', \n",
    "                               method = \"direct\",\n",
    "                               output_dir = './results/', \n",
    "                               output_file = 'biomd_chebi_direct_llama_nosymbols.csv',\n",
    "                               verbose = False)"
   ]
  },
  {
   "cell_type": "markdown",
   "metadata": {},
   "source": [
    "## Statistics"
   ]
  },
  {
   "cell_type": "code",
   "execution_count": 5,
   "metadata": {},
   "outputs": [
    {
     "name": "stdout",
     "output_type": "stream",
     "text": [
      "Number of models assessed: 315\n",
      "Number of models with predictions: 307\n",
      "Average accuracy (per model): 0.82\n",
      "Ave. total time (per model): 17.73\n",
      "Ave. total time (per element, per model): 0.58\n",
      "Ave. LLM time (per model): 16.42\n",
      "Ave. LLM time (per element, per model): 0.54\n",
      "Average number of predictions per species: 1.55\n"
     ]
    }
   ],
   "source": [
    "print_evaluation_results('results/biomd_chebi_direct_llama_nosymbols.csv') "
   ]
  },
  {
   "cell_type": "code",
   "execution_count": 4,
   "metadata": {},
   "outputs": [
    {
     "name": "stdout",
     "output_type": "stream",
     "text": [
      "Number of models assessed: 340\n",
      "Number of models with predictions: 338\n",
      "Average accuracy (per model): 0.78\n",
      "Ave. total time (per model): 24.09\n",
      "Ave. total time (per element, per model): 0.76\n",
      "Ave. LLM time (per model): 23.44\n",
      "Ave. LLM time (per element, per model): 0.74\n",
      "Average number of predictions per species: 4.64\n"
     ]
    }
   ],
   "source": [
    "print_evaluation_results('results/biomd_chebi_rag_llama_default.csv')"
   ]
  },
  {
   "cell_type": "code",
   "execution_count": 6,
   "metadata": {},
   "outputs": [
    {
     "name": "stdout",
     "output_type": "stream",
     "text": [
      "Number of models assessed: 340\n",
      "Number of models with predictions: 334\n",
      "Average accuracy (per model): 0.74\n",
      "Ave. total time (per model): 6.19\n",
      "Ave. total time (per element, per model): 0.20\n",
      "Ave. LLM time (per model): 5.60\n",
      "Ave. LLM time (per element, per model): 0.18\n",
      "Average number of predictions per species: 4.81\n"
     ]
    }
   ],
   "source": [
    "print_evaluation_results('results/biomd_chebi_rag_gpt-4.1-nano_default.csv')"
   ]
  },
  {
   "cell_type": "code",
   "execution_count": 4,
   "metadata": {},
   "outputs": [
    {
     "name": "stdout",
     "output_type": "stream",
     "text": [
      "======================================================================\n",
      "COMPARISON OF RESULTS (filtered to common models/species)\n",
      "======================================================================\n",
      "\n",
      "============================================================\n",
      "RESULTS FOR: results/biomd_chebi_direct_llama_nosymbols.csv\n",
      "============================================================\n",
      "Number of models assessed: 315\n",
      "Number of models with predictions: 307\n",
      "Average accuracy (per model): 0.82\n",
      "Ave. total time (per model): 17.73\n",
      "Ave. total time (per element, per model): 0.58\n",
      "Ave. LLM time (per model): 16.42\n",
      "Ave. LLM time (per element, per model): 0.54\n",
      "Average number of predictions per species: 1.55\n",
      "\n",
      "============================================================\n",
      "RESULTS FOR: results/biomd_chebi_rag_llama_default.csv\n",
      "============================================================\n",
      "Number of models assessed: 315\n",
      "Number of models with predictions: 313\n",
      "Average accuracy (per model): 0.86\n",
      "Ave. total time (per model): 25.20\n",
      "Ave. total time (per element, per model): 0.82\n",
      "Ave. LLM time (per model): 24.52\n",
      "Ave. LLM time (per element, per model): 0.80\n",
      "Average number of predictions per species: 4.71\n",
      "\n",
      "============================================================\n",
      "RESULTS FOR: results/biomd_chebi_rag_gpt-4.1-nano_default.csv\n",
      "============================================================\n",
      "Number of models assessed: 315\n",
      "Number of models with predictions: 309\n",
      "Average accuracy (per model): 0.82\n",
      "Ave. total time (per model): 6.43\n",
      "Ave. total time (per element, per model): 0.21\n",
      "Ave. LLM time (per model): 5.82\n",
      "Ave. LLM time (per element, per model): 0.19\n",
      "Average number of predictions per species: 4.80\n",
      "\n",
      "============================================================\n",
      "COMPARISON SUMMARY\n",
      "============================================================\n",
      "                                                  Models Assessed  Average Accuracy  Average Total Time  Average LLM Time  Avg Predictions per Species\n",
      "CSV                                                                                                                                                   \n",
      "results/biomd_chebi_direct_llama_nosymbols.csv                315              0.82               17.73             16.42                         1.55\n",
      "results/biomd_chebi_rag_llama_default.csv                     315              0.86               25.20             24.52                         4.71\n",
      "results/biomd_chebi_rag_gpt-4.1-nano_default.csv              315              0.82                6.43              5.82                         4.80\n"
     ]
    }
   ],
   "source": [
    "compare_results('results/biomd_chebi_direct_llama_nosymbols.csv','results/biomd_chebi_rag_llama_default.csv','results/biomd_chebi_rag_gpt-4.1-nano_default.csv')"
   ]
  },
  {
   "cell_type": "code",
   "execution_count": 9,
   "metadata": {},
   "outputs": [],
   "source": [
    "gpt_df_filtered.to_csv('results/biomd_chebi_rag_gpt-4.1-nano_default_filtered.csv', index=False)"
   ]
  },
  {
   "cell_type": "code",
   "execution_count": 7,
   "metadata": {},
   "outputs": [
    {
     "data": {
      "text/plain": [
       "{'BIOMD0000000019.xml',\n",
       " 'BIOMD0000000049.xml',\n",
       " 'BIOMD0000000072.xml',\n",
       " 'BIOMD0000000164.xml',\n",
       " 'BIOMD0000000174.xml',\n",
       " 'BIOMD0000000201.xml',\n",
       " 'BIOMD0000000264.xml',\n",
       " 'BIOMD0000000338.xml',\n",
       " 'BIOMD0000000339.xml',\n",
       " 'BIOMD0000000340.xml',\n",
       " 'BIOMD0000000344.xml',\n",
       " 'BIOMD0000000399.xml',\n",
       " 'BIOMD0000000452.xml',\n",
       " 'BIOMD0000000453.xml',\n",
       " 'BIOMD0000000466.xml',\n",
       " 'BIOMD0000000521.xml',\n",
       " 'BIOMD0000000617.xml',\n",
       " 'BIOMD0000000637.xml',\n",
       " 'BIOMD0000000638.xml',\n",
       " 'BIOMD0000000699.xml',\n",
       " 'BIOMD0000000701.xml',\n",
       " 'BIOMD0000000702.xml',\n",
       " 'BIOMD0000000826.xml',\n",
       " 'BIOMD0000000927.xml',\n",
       " 'BIOMD0000000932.xml'}"
      ]
     },
     "execution_count": 7,
     "metadata": {},
     "output_type": "execute_result"
    }
   ],
   "source": [
    "prev_df = pd.read_csv('results/biomd_chebi_rag_llama_default.csv')\n",
    "prev_models = set(prev_df['model'].unique())\n",
    "new_models = set(batch_results_df['model'].unique())\n",
    "new_models = new_models - prev_models\n",
    "new_models"
   ]
  }
 ],
 "metadata": {
  "kernelspec": {
   "display_name": "amas",
   "language": "python",
   "name": "python3"
  },
  "language_info": {
   "codemirror_mode": {
    "name": "ipython",
    "version": 3
   },
   "file_extension": ".py",
   "mimetype": "text/x-python",
   "name": "python",
   "nbconvert_exporter": "python",
   "pygments_lexer": "ipython3",
   "version": "3.12.10"
  }
 },
 "nbformat": 4,
 "nbformat_minor": 2
}
